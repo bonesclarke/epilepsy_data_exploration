{
 "cells": [
  {
   "cell_type": "markdown",
   "id": "65183a8e",
   "metadata": {},
   "source": [
    "# Epilepsy Data Processing Pipeline"
   ]
  },
  {
   "cell_type": "markdown",
   "id": "1043b8dc",
   "metadata": {},
   "source": [
    "## Libraries"
   ]
  },
  {
   "cell_type": "code",
   "execution_count": 1,
   "id": "0e78b7c0",
   "metadata": {},
   "outputs": [],
   "source": [
    "# Epilepsy Data Processing Pipeline\n",
    "import os\n",
    "import re\n",
    "import json\n",
    "import numpy as np\n",
    "import pandas as pd\n",
    "import polars as pl\n",
    "import matplotlib.pyplot as plt\n",
    "import seaborn as sns\n",
    "from datetime import datetime, timedelta\n",
    "from pathlib import Path\n",
    "from tqdm import tqdm\n",
    "import pywt\n",
    "import warnings\n",
    "warnings.filterwarnings('ignore')\n",
    "\n",
    "# MNE Libraries\n",
    "import mne\n",
    "from mne import Epochs, pick_types, events_from_annotations\n",
    "from mne.channels import make_standard_montage\n",
    "from mne.io import concatenate_raws, read_raw_edf\n",
    "from mne.datasets import eegbci\n",
    "from mne.decoding import CSP\n",
    "from mne.preprocessing import ICA, create_eog_epochs, create_ecg_epochs\n",
    "from mne_connectivity import spectral_connectivity_epochs\n",
    "from mne.time_frequency import psd_array_multitaper\n",
    "\n",
    "# Scipy and Scikit-learn\n",
    "from scipy import signal, stats\n",
    "from scipy.spatial.distance import euclidean\n",
    "from scipy.stats import pearsonr\n",
    "from scipy.signal import butter, filtfilt\n",
    "from sklearn.preprocessing import StandardScaler"
   ]
  },
  {
   "cell_type": "markdown",
   "id": "206b0576",
   "metadata": {},
   "source": [
    "## Load Meta Data"
   ]
  },
  {
   "cell_type": "code",
   "execution_count": 2,
   "id": "4c4ad4e1",
   "metadata": {},
   "outputs": [],
   "source": [
    "def load_metadata_from_json(data_dir='data'):\n",
    "    \"\"\"Load patient and seizure metadata from JSON files using Polars\"\"\"\n",
    "    data_dir = Path(data_dir)\n",
    "    all_seizures = []\n",
    "    all_patients = []\n",
    "    \n",
    "    json_files = sorted(list(data_dir.glob('**/*.json')))\n",
    "    print(f\"Found {len(json_files)} JSON files\")\n",
    "    \n",
    "    for json_file in json_files:\n",
    "        try:\n",
    "            with open(json_file, 'r') as f:\n",
    "                data = json.load(f)\n",
    "            \n",
    "            # Extract patient-level information\n",
    "            patient_info = {\n",
    "                'patient_id': data['patient_id'],\n",
    "                'age': data['age'],\n",
    "                'gender': data['gender'],\n",
    "                'sampling_rate_hz': data['sampling_rate_hz'],\n",
    "                'num_channels': len(data['channels']),\n",
    "                'json_file_path': str(json_file),\n",
    "                'eeg_channel': data['eeg_channel'],\n",
    "                'seizure_type': data['seizure_type'],\n",
    "                'localization': data['localization'],\n",
    "                'lateralization': data['lateralization'],\n",
    "            }\n",
    "            \n",
    "            if 'file_name' in data:\n",
    "                patient_info['file_name'] = data['file_name']\n",
    "                patient_info['registration_start_time'] = data.get('registration_start_time')\n",
    "                patient_info['registration_end_time'] = data.get('registration_end_time')\n",
    "            \n",
    "            all_patients.append(patient_info)\n",
    "            \n",
    "            # Process each seizure\n",
    "            for seizure in data['seizures']:\n",
    "                seizure_record = {\n",
    "                    'patient_id': data['patient_id'],\n",
    "                    'sampling_rate_hz': data['sampling_rate_hz'],\n",
    "                    'seizure_number': seizure['seizure_number']\n",
    "                }\n",
    "                \n",
    "                for key, value in seizure.items():\n",
    "                    seizure_record[key] = value\n",
    "                \n",
    "                if 'file_name' in patient_info and 'file_name' not in seizure:\n",
    "                    seizure_record['file_name'] = patient_info['file_name']\n",
    "                    if 'registration_start_time' in patient_info:\n",
    "                        seizure_record['registration_start_time'] = patient_info['registration_start_time']\n",
    "                        seizure_record['registration_end_time'] = patient_info['registration_end_time']\n",
    "                \n",
    "                all_seizures.append(seizure_record)\n",
    "                \n",
    "        except Exception as e:\n",
    "            print(f\"Error loading {json_file}: {e}\")\n",
    "            continue\n",
    "    \n",
    "    # Convert to Polars DataFrames\n",
    "    seizures_df = pl.DataFrame(all_seizures)\n",
    "    patients_df = pl.DataFrame(all_patients)\n",
    "    \n",
    "    return seizures_df, patients_df"
   ]
  },
  {
   "cell_type": "markdown",
   "id": "41e55050",
   "metadata": {},
   "source": [
    "## Processing Functions"
   ]
  },
  {
   "cell_type": "markdown",
   "id": "059a592e",
   "metadata": {},
   "source": [
    "### PSD Features"
   ]
  },
  {
   "cell_type": "code",
   "execution_count": 3,
   "id": "0e890490",
   "metadata": {},
   "outputs": [],
   "source": [
    "def extract_psd_features(raw, fmin=0.5, fmax=50):\n",
    "    \"\"\"Extract PSD features without restrictive conditions\"\"\"\n",
    "    features = {}\n",
    "    \n",
    "    try:\n",
    "        # Get data\n",
    "        data = raw.get_data()\n",
    "        sfreq = raw.info['sfreq']\n",
    "        \n",
    "        # Calculate PSD using multitaper (more robust than welch for non-stationary signals)\n",
    "        psds, freqs = psd_array_multitaper(\n",
    "            data, sfreq, fmin=fmin, fmax=fmax, \n",
    "            adaptive=True, normalization='full', verbose=False\n",
    "        )\n",
    "        \n",
    "        # Extended frequency bands\n",
    "        bands = {\n",
    "            'delta': (0.5, 4),\n",
    "            'theta': (4, 7),\n",
    "            'alpha': (7, 12),\n",
    "            'low_beta': (12, 20),\n",
    "            'high_beta': (20, 30),\n",
    "            'gamma': (30, 50),\n",
    "            'high_gamma': (50, 100)\n",
    "        }\n",
    "        \n",
    "        band_powers = {}\n",
    "        \n",
    "        for band_name, (low_freq, high_freq) in bands.items():\n",
    "            freq_mask = (freqs >= low_freq) & (freqs < high_freq)\n",
    "            if freq_mask.any():\n",
    "                band_power = np.mean(psds[:, freq_mask], axis=1)\n",
    "                band_powers[band_name] = band_power\n",
    "                \n",
    "                # Store band power statistics\n",
    "                features[f'psd_{band_name}_mean'] = float(np.mean(band_power) * 1e+8)\n",
    "                features[f'psd_{band_name}_std'] = float(np.std(band_power) * 1e+8)\n",
    "                features[f'psd_{band_name}_cv'] = float(np.std(band_power) / (np.mean(band_power) + 1e-10))  # Coefficient of variation\n",
    "        \n",
    "        # Calculate band power ratios (important for seizure detection)\n",
    "        if 'theta' in band_powers and 'alpha' in band_powers:\n",
    "            features['psd_theta_alpha_ratio'] = float(np.mean(band_powers['theta']) / (np.mean(band_powers['alpha']) + 1e-8))\n",
    "        \n",
    "        if 'delta' in band_powers and 'alpha' in band_powers:\n",
    "            features['psd_delta_alpha_ratio'] = float(np.mean(band_powers['delta']) / (np.mean(band_powers['alpha']) + 1e-8))\n",
    "        \n",
    "        if 'low_beta' in band_powers and 'high_beta' in band_powers:\n",
    "            features['psd_beta_ratio'] = float(np.mean(band_powers['high_beta']) / (np.mean(band_powers['low_beta']) + 1e-8))\n",
    "        \n",
    "        # Spectral edge frequencies (SEF50, SEF90, SEF95)\n",
    "        mean_psd = np.mean(psds, axis=0)\n",
    "        cumsum_psd = np.cumsum(mean_psd)\n",
    "        cumsum_psd = cumsum_psd / cumsum_psd[-1]\n",
    "        \n",
    "        for percentile in [50, 75, 90, 95]:\n",
    "            edge_idx = np.where(cumsum_psd >= percentile/100)[0]\n",
    "            if len(edge_idx) > 0:\n",
    "                features[f'psd_sef{percentile}'] = float(freqs[edge_idx[0]])\n",
    "            else:\n",
    "                features[f'psd_sef{percentile}'] = float(freqs[-1])\n",
    "        \n",
    "        # Spectral centroid and spread\n",
    "        freq_weights = freqs * mean_psd\n",
    "        spectral_centroid = np.sum(freq_weights) / (np.sum(mean_psd) + 1e-8)\n",
    "        features['psd_spectral_centroid'] = float(spectral_centroid)\n",
    "        \n",
    "        # Spectral spread (standard deviation around centroid)\n",
    "        spectral_spread = np.sqrt(np.sum(((freqs - spectral_centroid) ** 2) * mean_psd) / (np.sum(mean_psd) + 1e-8))\n",
    "        features['psd_spectral_spread'] = float(spectral_spread)\n",
    "        \n",
    "        # Spectral skewness and kurtosis\n",
    "        if spectral_spread > 0:\n",
    "            spectral_skewness = np.sum(((freqs - spectral_centroid) ** 3) * mean_psd) / ((spectral_spread ** 3) * np.sum(mean_psd) + 1e-8)\n",
    "            spectral_kurtosis = np.sum(((freqs - spectral_centroid) ** 4) * mean_psd) / ((spectral_spread ** 4) * np.sum(mean_psd) + 1e-8)\n",
    "            features['psd_spectral_skewness'] = float(spectral_skewness)\n",
    "            features['psd_spectral_kurtosis'] = float(spectral_kurtosis)\n",
    "        else:\n",
    "            features['psd_spectral_skewness'] = 0.0\n",
    "            features['psd_spectral_kurtosis'] = 0.0\n",
    "        \n",
    "    except Exception as e:\n",
    "        print(f\"Error in enhanced PSD calculation: {e}\")\n",
    "    \n",
    "    return features"
   ]
  },
  {
   "cell_type": "code",
   "execution_count": 4,
   "id": "b5c7eace",
   "metadata": {},
   "outputs": [],
   "source": [
    "def extract_psd_features_by_region(raw, fmin=0.5, fmax=50):\n",
    "    # Define channel groups\n",
    "    channel_groups = {\n",
    "        'frontal': ['Fp1', 'Fp2', 'F3', 'F4', 'F7', 'F8', 'Fz'],\n",
    "        'central': ['C3', 'C4', 'Cz'],\n",
    "        'parietal': ['P3', 'P4', 'Pz'],\n",
    "        'occipital': ['O1', 'O2'],\n",
    "        'temporal': ['T3', 'T4', 'T5', 'T6'],\n",
    "        'left': ['Fp1', 'F3', 'F7', 'C3', 'P3', 'O1', 'T3', 'T5'],\n",
    "        'right': ['Fp2', 'F4', 'F8', 'C4', 'P4', 'O2', 'T4', 'T6']\n",
    "    }\n",
    "    \n",
    "    regional_features = {}\n",
    "    available_channels = raw.ch_names\n",
    "    \n",
    "    for region, channel_list in channel_groups.items():\n",
    "        # Find matching channels (handle different naming conventions)\n",
    "        region_channels = []\n",
    "        for ch in available_channels:\n",
    "            ch_clean = ch.upper().replace('EEG', '').replace('-', '').replace(' ', '').strip()\n",
    "            for target_ch in channel_list:\n",
    "                if target_ch.upper() in ch_clean or ch_clean in target_ch.upper():\n",
    "                    region_channels.append(ch)\n",
    "                    break\n",
    "        \n",
    "        try:\n",
    "            # Pick channels for this region\n",
    "            raw_region = raw.copy().pick(region_channels)\n",
    "            \n",
    "            # Extract features for this region\n",
    "            region_psd_features = extract_psd_features(raw_region, fmin, fmax)\n",
    "            \n",
    "            # Add region prefix to feature names\n",
    "            for feature_name, value in region_psd_features.items():\n",
    "                regional_features[f'{region}_{feature_name}'] = value\n",
    "                \n",
    "        except Exception as e:\n",
    "            print(f\"Could not process {region} region: {e}\")   \n",
    "    \n",
    "    return regional_features"
   ]
  },
  {
   "cell_type": "code",
   "execution_count": 5,
   "id": "1a5b817e",
   "metadata": {},
   "outputs": [],
   "source": [
    "def parse_seizure_time(time_str):\n",
    "    if pd.isna(time_str) or time_str == '' or time_str is None:\n",
    "        return None\n",
    "    \n",
    "    try:\n",
    "        time_str = str(time_str).strip()\n",
    "        \n",
    "        # Handle HH:MM:SS or MM:SS format\n",
    "        if '.' in time_str:\n",
    "            parts = time_str.split('.')\n",
    "            if len(parts) == 3:\n",
    "                hours, minutes, seconds = map(float, parts)\n",
    "                return hours * 3600 + minutes * 60 + seconds\n",
    "            elif len(parts) == 2:\n",
    "                minutes, seconds = map(float, parts)\n",
    "                return minutes * 60 + seconds\n",
    "        \n",
    "        # Handle pure seconds\n",
    "        return float(time_str)\n",
    "        \n",
    "    except Exception as e:\n",
    "        print(f\"Could not parse time '{time_str}': {e}\")\n",
    "        return None"
   ]
  },
  {
   "cell_type": "markdown",
   "id": "e58b7b02",
   "metadata": {},
   "source": [
    "### Differential Entropy"
   ]
  },
  {
   "cell_type": "code",
   "execution_count": 6,
   "id": "9574fb55",
   "metadata": {},
   "outputs": [],
   "source": [
    "def calculate_differential_entropy(data, sfreq, bands=None):\n",
    "    if bands is None:\n",
    "        bands = {\n",
    "            'delta': (0.5, 4),\n",
    "            'theta': (4, 7),\n",
    "            'alpha': (7, 12),\n",
    "            'low_beta': (12, 20),\n",
    "            'high_beta': (20, 30),\n",
    "            'gamma': (30, 50),\n",
    "            'high_gamma': (50, 100)\n",
    "        }\n",
    "    \n",
    "    features = {}\n",
    "    n_channels = data.shape[0]\n",
    "    \n",
    "    for band_name, (low_freq, high_freq) in bands.items():\n",
    "        # Bandpass filter for each band\n",
    "        try:\n",
    "            filtered_data = mne.filter.filter_data(\n",
    "                data, sfreq, l_freq=low_freq, h_freq=high_freq, \n",
    "                verbose=False, method='fir', fir_design='firwin'\n",
    "            )\n",
    "            \n",
    "            # Calculate variance for each channel\n",
    "            variances = np.var(filtered_data, axis=1)\n",
    "            \n",
    "            # Calculate DE: 0.5 * log(2 * pi * e * variance)\n",
    "            # Adding small epsilon to avoid log(0)\n",
    "            de_values = 0.5 * np.log(2 * np.pi * np.e * (variances + 1e-10))\n",
    "            \n",
    "            # Store statistics\n",
    "            features[f'de_{band_name}_mean'] = float(np.mean(de_values))\n",
    "            features[f'de_{band_name}_std'] = float(np.std(de_values))\n",
    "            features[f'de_{band_name}_median'] = float(np.median(de_values))\n",
    "            features[f'de_{band_name}_max'] = float(np.max(de_values))\n",
    "            features[f'de_{band_name}_min'] = float(np.min(de_values))\n",
    "            \n",
    "            # Asymmetry features (frontal asymmetry is important for emotion/seizure)\n",
    "            if n_channels >= 2:\n",
    "                # Calculate hemispheric asymmetry\n",
    "                left_channels = de_values[:n_channels//2]\n",
    "                right_channels = de_values[n_channels//2:]\n",
    "                min_len = min(len(left_channels), len(right_channels))\n",
    "                if min_len > 0:\n",
    "                    asymmetry = left_channels[:min_len] - right_channels[:min_len]\n",
    "                    features[f'de_{band_name}_asymmetry_mean'] = float(np.mean(asymmetry))\n",
    "                    features[f'de_{band_name}_asymmetry_std'] = float(np.std(asymmetry))\n",
    "                \n",
    "        except Exception as e:\n",
    "            print(f\"Error calculating DE for {band_name}: {e}\")\n",
    "    \n",
    "    return features"
   ]
  },
  {
   "cell_type": "markdown",
   "id": "f767c41b",
   "metadata": {},
   "source": [
    "### Propagation"
   ]
  },
  {
   "cell_type": "code",
   "execution_count": 7,
   "id": "15fe2c52",
   "metadata": {},
   "outputs": [],
   "source": [
    "def calculate_simple_propagation_features(raw, seizure_start=None, seizure_end=None):\n",
    "    features = {}\n",
    "    \n",
    "    try:\n",
    "        data = raw.get_data()\n",
    "        sfreq = raw.info['sfreq']\n",
    "        n_channels, n_samples = data.shape\n",
    "        \n",
    "        # Apply bandpass filter for seizure activity\n",
    "        data_filtered = mne.filter.filter_data(\n",
    "            data, sfreq, l_freq=3, h_freq=30, verbose=False\n",
    "        )\n",
    "        \n",
    "        # Calculate channel-wise power changes\n",
    "        onset_times = []\n",
    "        \n",
    "        for ch_idx in range(n_channels):\n",
    "            channel_data = data_filtered[ch_idx, :]\n",
    "            \n",
    "            # Calculate envelope\n",
    "            analytic_signal = signal.hilbert(channel_data)\n",
    "            envelope = np.abs(analytic_signal)\n",
    "            \n",
    "            # Simple smoothing\n",
    "            window_samples = max(3, int(0.1 * sfreq))\n",
    "            if window_samples % 2 == 0:\n",
    "                window_samples += 1\n",
    "            envelope_smooth = signal.savgol_filter(\n",
    "                envelope, \n",
    "                window_samples, \n",
    "                min(1, window_samples-1)\n",
    "            )\n",
    "            \n",
    "            # Find the time of maximum activity\n",
    "            if seizure_start is not None and seizure_end is not None:\n",
    "                # Look in seizure window\n",
    "                start_sample = max(0, int(seizure_start * sfreq))\n",
    "                end_sample = min(n_samples, int(seizure_end * sfreq))\n",
    "                if start_sample < end_sample:\n",
    "                    seizure_segment = envelope_smooth[start_sample:end_sample]\n",
    "                    if len(seizure_segment) > 0:\n",
    "                        max_idx = np.argmax(seizure_segment) + start_sample\n",
    "                        onset_times.append(max_idx / sfreq)\n",
    "            else:\n",
    "                # Use entire recording\n",
    "                if len(envelope_smooth) > 0:\n",
    "                    max_idx = np.argmax(envelope_smooth)\n",
    "                    onset_times.append(max_idx / sfreq)\n",
    "        \n",
    "        # Only calculate propagation statistics if we have onset times\n",
    "        if len(onset_times) > 0:\n",
    "            # Calculate delays between channels\n",
    "            onset_times = np.array(onset_times)\n",
    "            sorted_onsets = np.sort(onset_times)\n",
    "            delays = np.diff(sorted_onsets)\n",
    "            \n",
    "            # Simple propagation speed estimate \n",
    "            avg_distance_mm = 10  # 10mm = 1cm\n",
    "            speeds = []\n",
    "            \n",
    "            # Calculate speeds only for positive delays\n",
    "            positive_delays = delays[delays > 0]\n",
    "            if len(positive_delays) > 0:\n",
    "                for delay in positive_delays:\n",
    "                    speed = avg_distance_mm / delay\n",
    "                    speeds.append(speed)\n",
    "            \n",
    "            # Calculate speed statistics only if we have speeds\n",
    "            if len(speeds) > 0:\n",
    "                features['mean_propagation_speed'] = float(np.mean(speeds))\n",
    "                features['median_propagation_speed'] = float(np.median(speeds))\n",
    "                features['std_propagation_speed'] = float(np.std(speeds))\n",
    "                features['max_propagation_speed'] = float(np.max(speeds))\n",
    "                features['min_propagation_speed'] = float(np.min(speeds))\n",
    "                features['num_propagation_events'] = len(speeds)\n",
    "            \n",
    "            # Calculate delay statistics\n",
    "            if len(delays) > 0:\n",
    "                features['mean_onset_delay'] = float(np.mean(delays))\n",
    "                features['max_onset_delay'] = float(np.max(delays))\n",
    "                \n",
    "    except Exception as e:\n",
    "        print(f\"Error in propagation calculation: {e}\")\n",
    "    \n",
    "    return features"
   ]
  },
  {
   "cell_type": "markdown",
   "id": "50b9ff2d",
   "metadata": {},
   "source": [
    "### Wavelet"
   ]
  },
  {
   "cell_type": "code",
   "execution_count": 8,
   "id": "3e090633",
   "metadata": {},
   "outputs": [],
   "source": [
    "def calculate_wavelet_features(data, sfreq, wavelet='db4', levels=5):\n",
    "    features = {}\n",
    "    n_channels = data.shape[0]\n",
    "    \n",
    "    # Store features for each decomposition level\n",
    "    all_channel_features = []\n",
    "    \n",
    "    for ch_idx in range(n_channels):\n",
    "        channel_data = data[ch_idx, :]\n",
    "        \n",
    "        try:\n",
    "            # Perform wavelet decomposition\n",
    "            coeffs = pywt.wavedec(channel_data, wavelet, level=levels)\n",
    "            \n",
    "            # Calculate features for each level\n",
    "            channel_features = []\n",
    "            for level, coeff in enumerate(coeffs):\n",
    "                if len(coeff) > 0:\n",
    "                    # Energy of coefficients\n",
    "                    energy = np.sum(coeff ** 2)\n",
    "                    # Entropy\n",
    "                    entropy = stats.entropy(np.abs(coeff) + 1e-8)\n",
    "                    # Statistical features\n",
    "                    mean_coeff = np.mean(np.abs(coeff))\n",
    "                    std_coeff = np.std(coeff)\n",
    "                    max_coeff = np.max(np.abs(coeff))\n",
    "                    \n",
    "                    channel_features.extend([energy, entropy, mean_coeff, std_coeff, max_coeff])\n",
    "                else:\n",
    "                    channel_features.extend([0.0, 0.0, 0.0, 0.0, 0.0])\n",
    "            \n",
    "            all_channel_features.append(channel_features)\n",
    "            \n",
    "        except Exception as e:\n",
    "            print(f\"Error in wavelet transform for channel {ch_idx}: {e}\")\n",
    "            # Add zeros for failed channel\n",
    "            all_channel_features.append([0.0] * (5 * (levels + 1)))\n",
    "    \n",
    "    # Aggregate across channels\n",
    "    all_channel_features = np.array(all_channel_features)\n",
    "    \n",
    "    # Store aggregated features\n",
    "    feature_names = ['energy', 'entropy', 'mean', 'std', 'max']\n",
    "    for level in range(levels + 1):\n",
    "        for feat_idx, feat_name in enumerate(feature_names):\n",
    "            feat_values = all_channel_features[:, level * 5 + feat_idx]\n",
    "            features[f'wt_level{level}_{feat_name}_mean'] = round(float(np.mean(feat_values)), 12)\n",
    "            features[f'wt_level{level}_{feat_name}_std'] = round(float(np.std(feat_values)), 12)\n",
    "    \n",
    "    # Calculate wavelet packet energy distribution\n",
    "    try:\n",
    "        # Use first channel for packet decomposition (computationally expensive for all)\n",
    "        wp = pywt.WaveletPacket(data[0, :], wavelet, maxlevel=3)\n",
    "        packet_energies = []\n",
    "        for node in wp.get_level(3):\n",
    "            packet_energies.append(np.sum(node.data ** 2))\n",
    "        \n",
    "        if packet_energies:\n",
    "            total_energy = sum(packet_energies)\n",
    "            if total_energy > 0:\n",
    "                normalized_energies = np.array([e/total_energy for e in packet_energies])\n",
    "                features['wt_packet_entropy'] = float(stats.entropy(normalized_energies + 1e-8))\n",
    "            else:\n",
    "                features['wt_packet_entropy'] = 0.0\n",
    "        else:\n",
    "            features['wt_packet_entropy'] = 0.0\n",
    "            \n",
    "    except Exception as e:\n",
    "        print(f\"Error in wavelet packet decomposition: {e}\")\n",
    "    \n",
    "    return features"
   ]
  },
  {
   "cell_type": "markdown",
   "id": "bdc3c8c7",
   "metadata": {},
   "source": [
    "### Time Domain"
   ]
  },
  {
   "cell_type": "code",
   "execution_count": 9,
   "id": "fc39684b",
   "metadata": {},
   "outputs": [],
   "source": [
    "def calculate_time_domain_features(data, sfreq):\n",
    "    features = {}\n",
    "    n_channels, n_samples = data.shape\n",
    "    \n",
    "    try:\n",
    "        # Statistical features for each channel\n",
    "        channel_features = {\n",
    "            'mean': np.mean(data, axis=1),\n",
    "            'std': np.std(data, axis=1),\n",
    "            'var': np.var(data, axis=1),\n",
    "            'skewness': stats.skew(data, axis=1),\n",
    "            'kurtosis': stats.kurtosis(data, axis=1),\n",
    "            'rms': np.sqrt(np.mean(data ** 2, axis=1)),\n",
    "            'peak_to_peak': np.ptp(data, axis=1),\n",
    "            'zero_crossings': np.sum(np.diff(np.sign(data), axis=1) != 0, axis=1) / (n_samples / sfreq),  # Rate per second\n",
    "        }\n",
    "        \n",
    "        # Hjorth parameters\n",
    "        # Activity (variance of signal)\n",
    "        activity = (np.var(data, axis=1) * 1e+8)\n",
    "        \n",
    "        # Mobility (standard deviation of first derivative / standard deviation of signal)\n",
    "        first_deriv = np.diff(data, axis=1)\n",
    "        mobility = np.std(first_deriv, axis=1) / (np.std(data, axis=1) + 1e-8)\n",
    "        \n",
    "        # Complexity (mobility of first derivative / mobility of signal)\n",
    "        second_deriv = np.diff(first_deriv, axis=1)\n",
    "        mobility_deriv = np.std(second_deriv, axis=1) / (np.std(first_deriv, axis=1) + 1e-8)\n",
    "        complexity = mobility_deriv / (mobility + 1e-8)\n",
    "        \n",
    "        channel_features['hjorth_activity'] = activity\n",
    "        channel_features['hjorth_mobility'] = mobility\n",
    "        channel_features['hjorth_complexity'] = complexity\n",
    "        \n",
    "        # Line length (sum of absolute differences)\n",
    "        line_length = np.sum(np.abs(np.diff(data, axis=1)), axis=1) / n_samples\n",
    "        channel_features['line_length'] = line_length\n",
    "        \n",
    "        # Non-linear energy\n",
    "        nonlinear_energy = []\n",
    "        for ch in range(n_channels):\n",
    "            if n_samples >= 3:\n",
    "                nle = np.mean(data[ch, 1:-1]**2 - data[ch, :-2] * data[ch, 2:])\n",
    "                nonlinear_energy.append(nle)\n",
    "            else:\n",
    "                nonlinear_energy.append(0.0)\n",
    "        channel_features['nonlinear_energy'] = np.array(nonlinear_energy)\n",
    "        \n",
    "        # Aggregate features across channels\n",
    "        for feat_name, feat_values in channel_features.items():\n",
    "            features[f'time_{feat_name}_mean'] = round(float(np.mean(feat_values)), 12)\n",
    "            features[f'time_{feat_name}_std'] = round(float(np.std(feat_values)), 12)\n",
    "            features[f'time_{feat_name}_max'] = round(float(np.max(feat_values)), 12)\n",
    "            features[f'time_{feat_name}_min'] = round(float(np.min(feat_values)), 12)\n",
    "        \n",
    "    except Exception as e:\n",
    "        print(f\"Error in time-domain feature calculation: {e}\")\n",
    "    \n",
    "    return features"
   ]
  },
  {
   "cell_type": "markdown",
   "id": "ce9f5dd3",
   "metadata": {},
   "source": [
    "### Connectivity"
   ]
  },
  {
   "cell_type": "code",
   "execution_count": 10,
   "id": "1c8dca95",
   "metadata": {},
   "outputs": [],
   "source": [
    "def calculate_connectivity_features(raw, fmin=1, fmax=50):\n",
    "    features = {}\n",
    "    \n",
    "    try:\n",
    "        data = raw.get_data()\n",
    "        n_channels, n_samples = data.shape\n",
    "        sfreq = raw.info['sfreq']\n",
    "        \n",
    "        # Only calculate if we have multiple channels\n",
    "        if n_channels < 2:\n",
    "            raise ValueError(\"Need at least 2 channels for connectivity\")\n",
    "        \n",
    "        # Reshape data for connectivity calculation (n_epochs, n_channels, n_times)\n",
    "        # Create pseudo-epochs by segmenting the data\n",
    "        epoch_length = int(2 * sfreq)  # 2-second epochs\n",
    "        n_epochs = n_samples // epoch_length\n",
    "        \n",
    "        if n_epochs > 0:\n",
    "            epochs_data = []\n",
    "            for i in range(n_epochs):\n",
    "                start = i * epoch_length\n",
    "                end = start + epoch_length\n",
    "                epochs_data.append(data[:, start:end])\n",
    "            epochs_data = np.array(epochs_data)\n",
    "            \n",
    "            # Calculate spectral connectivity\n",
    "            # Using coherence as the connectivity measure\n",
    "            con = spectral_connectivity_epochs(\n",
    "                epochs_data, method='coh', mode='multitaper',\n",
    "                sfreq=sfreq, fmin=fmin, fmax=fmax,\n",
    "                verbose=False\n",
    "            )\n",
    "            \n",
    "            # Get connectivity matrix (n_channels x n_channels x n_freqs)\n",
    "            con_matrix = con.get_data(output='dense')\n",
    "            \n",
    "            # Average across frequencies\n",
    "            mean_connectivity = np.mean(con_matrix, axis=2)\n",
    "            print(\"Mean connectivity shape:\", mean_connectivity.shape)\n",
    "            print(\"Number of epochs: \", n_epochs)\n",
    "            \n",
    "            # Extract upper triangle (excluding diagonal)\n",
    "            upper_tri = np.triu_indices_from(mean_connectivity, k=1)\n",
    "            connectivity_values = mean_connectivity[upper_tri]\n",
    "            \n",
    "            # Store connectivity statistics\n",
    "            features['connectivity_mean'] = np.mean(connectivity_values)\n",
    "            features['connectivity_std'] = np.std(connectivity_values)\n",
    "            features['connectivity_max'] = np.max(connectivity_values)\n",
    "            features['connectivity_min'] = np.min(connectivity_values)\n",
    "            \n",
    "            # Global efficiency (mean of connectivity)\n",
    "            features['global_efficiency'] = np.mean(connectivity_values)\n",
    "            \n",
    "            # Node strength (sum of connections for each node)\n",
    "            node_strengths = np.sum(mean_connectivity, axis=0) - 1  # Subtract diagonal\n",
    "            features['node_strength_mean'] = float(np.mean(node_strengths))\n",
    "            features['node_strength_std'] = float(np.std(node_strengths))\n",
    "            features['node_strength_max'] = float(np.max(node_strengths))\n",
    "            \n",
    "            # Clustering coefficient (simplified version)\n",
    "            clustering_coeffs = []\n",
    "            for i in range(n_channels):\n",
    "                neighbors = mean_connectivity[i, :] > 0.3  # Threshold for connection\n",
    "                n_neighbors = np.sum(neighbors) - 1  # Exclude self\n",
    "                if n_neighbors > 1:\n",
    "                    # Count connections between neighbors\n",
    "                    neighbor_indices = np.where(neighbors)[0]\n",
    "                    neighbor_connections = 0\n",
    "                    for j in range(len(neighbor_indices)):\n",
    "                        for k in range(j+1, len(neighbor_indices)):\n",
    "                            if mean_connectivity[neighbor_indices[j], neighbor_indices[k]] > 0.3:\n",
    "                                neighbor_connections += 1\n",
    "                    max_connections = n_neighbors * (n_neighbors - 1) / 2\n",
    "                    if max_connections > 0:\n",
    "                        clustering = neighbor_connections / max_connections\n",
    "                        clustering_coeffs.append(clustering)\n",
    "            \n",
    "            features['clustering_coefficient'] = float(np.mean(clustering_coeffs))\n",
    "  \n",
    "        else:\n",
    "            raise ValueError(\"Not enough data for connectivity analysis\")\n",
    "            \n",
    "    except Exception as e:\n",
    "        print(f\"Error in connectivity calculation: {e}\")\n",
    "    \n",
    "    return features"
   ]
  },
  {
   "cell_type": "markdown",
   "id": "14f5c200",
   "metadata": {},
   "source": [
    "### PAC"
   ]
  },
  {
   "cell_type": "code",
   "execution_count": 11,
   "id": "0491ad9f",
   "metadata": {},
   "outputs": [],
   "source": [
    "def calculate_pac_features(data, sfreq):\n",
    "    features = {}\n",
    "    \n",
    "    try:\n",
    "        n_channels = data.shape[0]\n",
    "        \n",
    "        # Define phase and amplitude frequency bands\n",
    "        phase_bands = {\n",
    "            'theta': (4, 7),\n",
    "            'alpha': (7, 12)\n",
    "        }\n",
    "        \n",
    "        amplitude_bands = {\n",
    "            'gamma': (30, 50),\n",
    "            'high_gamma': (50, 100)\n",
    "        }\n",
    "        \n",
    "        pac_values = []\n",
    "        \n",
    "        for phase_name, (phase_low, phase_high) in phase_bands.items():\n",
    "            for amp_name, (amp_low, amp_high) in amplitude_bands.items():\n",
    "                \n",
    "                channel_pac = []\n",
    "                for ch in range(min(n_channels, 10)):  # Limit to first 10 channels for speed\n",
    "                    # Extract phase\n",
    "                    phase_filtered = mne.filter.filter_data(\n",
    "                        data[ch:ch+1, :], sfreq, \n",
    "                        l_freq=phase_low, h_freq=phase_high,\n",
    "                        verbose=False\n",
    "                    )\n",
    "                    phase = np.angle(signal.hilbert(phase_filtered[0]))\n",
    "                    \n",
    "                    # Extract amplitude\n",
    "                    amp_filtered = mne.filter.filter_data(\n",
    "                        data[ch:ch+1, :], sfreq,\n",
    "                        l_freq=amp_low, h_freq=amp_high,\n",
    "                        verbose=False\n",
    "                    )\n",
    "                    amplitude = np.abs(signal.hilbert(amp_filtered[0]))\n",
    "                    \n",
    "                    # Calculate PAC using Modulation Index\n",
    "                    n_bins = 18\n",
    "                    phase_bins = np.linspace(-np.pi, np.pi, n_bins + 1)\n",
    "                    amp_by_phase = []\n",
    "                    \n",
    "                    for i in range(n_bins):\n",
    "                        mask = (phase >= phase_bins[i]) & (phase < phase_bins[i+1])\n",
    "                        if np.sum(mask) > 0:\n",
    "                            amp_by_phase.append(np.mean(amplitude[mask]))\n",
    "                        else:\n",
    "                            amp_by_phase.append(0)\n",
    "                    \n",
    "                    # Normalize and calculate entropy\n",
    "                    amp_by_phase = np.array(amp_by_phase)\n",
    "                    if np.sum(amp_by_phase) > 0:\n",
    "                        amp_by_phase = amp_by_phase / np.sum(amp_by_phase)\n",
    "                        # Kullback-Leibler divergence from uniform distribution\n",
    "                        uniform = np.ones(n_bins) / n_bins\n",
    "                        kl_div = np.sum(amp_by_phase * np.log((amp_by_phase + 1e-10) / uniform))\n",
    "                        mi = kl_div / np.log(n_bins)  # Normalized MI\n",
    "                        channel_pac.append(mi)\n",
    "                    else:\n",
    "                        channel_pac.append(0.0)\n",
    "                \n",
    "                if channel_pac:\n",
    "                    pac_value = np.mean(channel_pac)\n",
    "                    features[f'pac_{phase_name}_{amp_name}'] = float(pac_value)\n",
    "                    pac_values.append(pac_value)\n",
    "                else:\n",
    "                    features[f'pac_{phase_name}_{amp_name}'] = 0.0\n",
    "        \n",
    "        # Overall PAC statistics\n",
    "        features['pac_mean'] = float(np.mean(pac_values))\n",
    "        features['pac_max'] = float(np.max(pac_values))\n",
    "            \n",
    "    except Exception as e:\n",
    "        print(f\"Error in PAC calculation: {e}\")\n",
    "    \n",
    "    return features"
   ]
  },
  {
   "cell_type": "markdown",
   "id": "c63c95e6",
   "metadata": {},
   "source": [
    "### Sample, Permutation, and Approximate Entropy"
   ]
  },
  {
   "cell_type": "code",
   "execution_count": 12,
   "id": "7ec13c63",
   "metadata": {},
   "outputs": [],
   "source": [
    "def calculate_entropy_features(data, sfreq):\n",
    "    features = {}\n",
    "    \n",
    "    try:\n",
    "        n_channels = data.shape[0]\n",
    "        \n",
    "        # Sample Entropy\n",
    "        sample_entropies = []\n",
    "        for ch in range(min(n_channels, 10)):  # Limit channels for speed\n",
    "            # Downsample for faster computation\n",
    "            downsampled = signal.resample(data[ch, :], min(1000, len(data[ch, :])))\n",
    "            # Simple sample entropy approximation\n",
    "            se = calculate_sample_entropy(downsampled, m=2, r=0.2*np.std(downsampled))\n",
    "            sample_entropies.append(se)\n",
    "        \n",
    "        features['sample_entropy_mean'] = float(np.mean(sample_entropies))\n",
    "        features['sample_entropy_std'] = float(np.std(sample_entropies))\n",
    "        \n",
    "        # Permutation Entropy\n",
    "        perm_entropies = []\n",
    "        for ch in range(min(n_channels, 10)):\n",
    "            pe = calculate_permutation_entropy(data[ch, :], order=3, delay=1)\n",
    "            perm_entropies.append(pe)\n",
    "        \n",
    "        features['permutation_entropy_mean'] = float(np.mean(perm_entropies))\n",
    "        features['permutation_entropy_std'] = float(np.std(perm_entropies))\n",
    "        \n",
    "        # Approximate Entropy (simplified)\n",
    "        approx_entropies = []\n",
    "        for ch in range(min(n_channels, 10)):\n",
    "            downsampled = signal.resample(data[ch, :], min(1000, len(data[ch, :])))\n",
    "            ae = calculate_approx_entropy(downsampled, m=2, r=0.2*np.std(downsampled))\n",
    "            approx_entropies.append(ae)\n",
    "        \n",
    "        features['approx_entropy_mean'] = float(np.mean(approx_entropies))\n",
    "        features['approx_entropy_std'] = float(np.std(approx_entropies))\n",
    "        \n",
    "    except Exception as e:\n",
    "        print(f\"Error in entropy calculation: {e}\")\n",
    "    \n",
    "    return features\n",
    "\n",
    "def calculate_sample_entropy(signal_data, m=2, r=0.2):\n",
    "    \"\"\"Calculate sample entropy\"\"\"\n",
    "    N = len(signal_data)\n",
    "    \n",
    "    def _maxdist(x_i, x_j, m):\n",
    "        return max([abs(ua - va) for ua, va in zip(x_i, x_j)])\n",
    "    \n",
    "    def _phi(m):\n",
    "        patterns = np.array([signal_data[i:i+m] for i in range(N - m + 1)])\n",
    "        C = 0\n",
    "        for i in range(len(patterns)):\n",
    "            for j in range(i+1, len(patterns)):\n",
    "                if _maxdist(patterns[i], patterns[j], m) <= r:\n",
    "                    C += 1\n",
    "        return C\n",
    "    \n",
    "    try:\n",
    "        phi_m = _phi(m)\n",
    "        phi_m1 = _phi(m + 1)\n",
    "        \n",
    "        if phi_m == 0:\n",
    "            return 0\n",
    "        return -np.log(phi_m1 / phi_m) if phi_m1 > 0 else 0\n",
    "    except:\n",
    "        return 0\n",
    "\n",
    "def calculate_permutation_entropy(signal_data, order=3, delay=1):\n",
    "    \"\"\"Calculate permutation entropy\"\"\"\n",
    "    try:\n",
    "        n = len(signal_data)\n",
    "        permutations = []\n",
    "        \n",
    "        for i in range(n - delay * (order - 1)):\n",
    "            indices = [i + j * delay for j in range(order)]\n",
    "            sorted_indices = np.argsort(signal_data[indices])\n",
    "            permutations.append(tuple(sorted_indices))\n",
    "        \n",
    "        # Count occurrences\n",
    "        unique, counts = np.unique(permutations, axis=0, return_counts=True)\n",
    "        probs = counts / len(permutations)\n",
    "        \n",
    "        # Calculate entropy\n",
    "        return -np.sum(probs * np.log(probs + 1e-8))\n",
    "    except:\n",
    "        return 0\n",
    "\n",
    "def calculate_approx_entropy(signal_data, m=2, r=0.2):\n",
    "    \"\"\"Calculate approximate entropy\"\"\"\n",
    "    try:\n",
    "        N = len(signal_data)\n",
    "        \n",
    "        def _maxdist(x_i, x_j, m):\n",
    "            return max([abs(ua - va) for ua, va in zip(x_i, x_j)])\n",
    "        \n",
    "        def _phi(m):\n",
    "            patterns = np.array([signal_data[i:i+m] for i in range(N - m + 1)])\n",
    "            C = np.zeros(N - m + 1)\n",
    "            \n",
    "            for i in range(N - m + 1):\n",
    "                matches = 0\n",
    "                for j in range(N - m + 1):\n",
    "                    if _maxdist(patterns[i], patterns[j], m) <= r:\n",
    "                        matches += 1\n",
    "                C[i] = matches / (N - m + 1)\n",
    "            \n",
    "            return np.mean(np.log(C + 1e-8))\n",
    "        \n",
    "        return _phi(m) - _phi(m + 1)\n",
    "    except:\n",
    "        return 0"
   ]
  },
  {
   "cell_type": "markdown",
   "id": "8a4b881b",
   "metadata": {},
   "source": [
    "### Rhythmic Features"
   ]
  },
  {
   "cell_type": "code",
   "execution_count": 13,
   "id": "49105267",
   "metadata": {},
   "outputs": [],
   "source": [
    "def calculate_rhythmic_features(data, sfreq):\n",
    "    \"\"\"Extract rhythmic features for seizure patterns\"\"\"\n",
    "    features = {}\n",
    "    \n",
    "    def bandpass_filter(channel_data, lowcut, highcut, fs):\n",
    "        \"\"\"Apply bandpass filter\"\"\"\n",
    "        nyquist = fs / 2\n",
    "        low = lowcut / nyquist\n",
    "        high = highcut / nyquist\n",
    "        b, a = butter(4, [low, high], btype='band')\n",
    "        return filtfilt(b, a, channel_data)\n",
    "    \n",
    "    n_channels = data.shape[0]\n",
    "    \n",
    "    # Initialize arrays for each feature\n",
    "    theta_powers = []\n",
    "    delta_slow_powers = []\n",
    "    fast_powers = []\n",
    "    spike_rates = []\n",
    "    \n",
    "    for channel_idx in range(n_channels):\n",
    "        channel = data[channel_idx, :]\n",
    "        \n",
    "        # Theta rhythm (5-7 Hz)\n",
    "        theta_filtered = bandpass_filter(channel, 5, 7, sfreq)\n",
    "        theta_power = np.mean(theta_filtered**2)\n",
    "        theta_powers.append(theta_power)\n",
    "        \n",
    "        # Delta slow rhythm (2-5 Hz)\n",
    "        delta_slow_filtered = bandpass_filter(channel, 2, 5, sfreq)\n",
    "        delta_slow_power = np.mean(delta_slow_filtered**2)\n",
    "        delta_slow_powers.append(delta_slow_power)\n",
    "        \n",
    "        # Fast activity (15-25 Hz)\n",
    "        fast_filtered = bandpass_filter(channel, 15, 25, sfreq)\n",
    "        fast_power = np.mean(fast_filtered**2)\n",
    "        fast_powers.append(fast_power)\n",
    "        \n",
    "        # Spike detection\n",
    "        threshold = 3 * np.std(channel)\n",
    "        spikes = np.where(np.abs(channel) > threshold)[0]\n",
    "        spike_rate = len(spikes) / (len(channel) / sfreq)\n",
    "        spike_rates.append(spike_rate)\n",
    "    \n",
    "    print('Storing features...')\n",
    "    # Store features\n",
    "    features['rhythmic_theta_power_mean'] = float(np.mean(theta_powers) * 1e+8)\n",
    "    features['rhythmic_theta_power_std'] = float(np.std(theta_powers) * 1e+8)\n",
    "    features['rhythmic_delta_slow_power_mean'] = float(np.mean(delta_slow_powers) * 1e+8)\n",
    "    features['rhythmic_delta_slow_power_std'] = float(np.std(delta_slow_powers) * 1e+8)\n",
    "    features['rhythmic_fast_power_mean'] = float(np.mean(fast_powers) * 1e+8)\n",
    "    features['rhythmic_fast_power_std'] = float(np.std(fast_powers) * 1e+8)\n",
    "    features['rhythmic_spike_rate_mean'] = float(np.mean(spike_rates))\n",
    "    features['rhythmic_spike_rate_std'] = float(np.std(spike_rates))\n",
    "    \n",
    "    # Ratios\n",
    "    features['rhythmic_theta_delta_ratio'] = float(np.mean(theta_powers) / (np.mean(delta_slow_powers) + 1e-8))\n",
    "    features['rhythmic_fast_theta_ratio'] = float(np.mean(fast_powers) / (np.mean(theta_powers) + 1e-8))\n",
    "    \n",
    "    return features"
   ]
  },
  {
   "cell_type": "markdown",
   "id": "16f58a41",
   "metadata": {},
   "source": [
    "## Feature Extraction Function"
   ]
  },
  {
   "cell_type": "code",
   "execution_count": 14,
   "id": "f9049746",
   "metadata": {},
   "outputs": [],
   "source": [
    "def extract_comprehensive_features(raw, seizure_start=None, seizure_end=None):\n",
    "    all_features = {}\n",
    "    \n",
    "    # Get data\n",
    "    data = raw.get_data()\n",
    "    sfreq = raw.info['sfreq']\n",
    "    \n",
    "    de_features = calculate_differential_entropy(data, sfreq)\n",
    "    all_features.update(de_features)\n",
    "    \n",
    "    psd_features = extract_psd_features(raw)\n",
    "    all_features.update(psd_features)\n",
    "    \n",
    "    wt_features = calculate_wavelet_features(data, sfreq)\n",
    "    all_features.update(wt_features)\n",
    "    \n",
    "    time_features = calculate_time_domain_features(data, sfreq)\n",
    "    all_features.update(time_features)\n",
    "    \n",
    "    connectivity_features = calculate_connectivity_features(raw)\n",
    "    all_features.update(connectivity_features)\n",
    "    \n",
    "    pac_features = calculate_pac_features(data, sfreq)\n",
    "    all_features.update(pac_features)\n",
    "    \n",
    "    entropy_features = calculate_entropy_features(data, sfreq)\n",
    "    all_features.update(entropy_features)\n",
    "    \n",
    "    print('Calculating rhythmic features...')\n",
    "    rhythmic_features = calculate_rhythmic_features(data, sfreq)\n",
    "    all_features.update(rhythmic_features)\n",
    "    \n",
    "    print(f'Seizure start: {seizure_start}')\n",
    "    print(f'Seizure end: {seizure_end}')\n",
    "    print(f'Frequency: {sfreq}')\n",
    "    \n",
    "    # Add seizure-specific features if seizure times are provided\n",
    "    if seizure_start is not None and seizure_end is not None:\n",
    "        # Extract pre-ictal, ictal, and post-ictal features\n",
    "        pre_ictal_start = int(max(1, seizure_start - 10)) \n",
    "        pre_ictal_end = int(seizure_start)\n",
    "        \n",
    "        all_features['pre_ictal_start'] = pre_ictal_start\n",
    "        all_features['pre_ictal_end'] = pre_ictal_end\n",
    "        \n",
    "        print(f'Pre-ictal start: {pre_ictal_start}')\n",
    "        print(f'Pre-ictal end: {pre_ictal_end}')\n",
    "        \n",
    "        ictal_start = int(seizure_start)\n",
    "        ictal_end = int(seizure_end)\n",
    "        \n",
    "        print(f'Ictal start: {ictal_start}')\n",
    "        print(f'Ictal end: {ictal_end}')\n",
    "        \n",
    "        post_ictal_start = int(seizure_end)\n",
    "        post_ictal_end = int(min(seizure_end + 10, seizure_end + 20))\n",
    "        \n",
    "        all_features['post_ictal_start'] = post_ictal_start\n",
    "        all_features['post_ictal_end'] = post_ictal_end\n",
    "        \n",
    "        print(f'Post-ictal start: {post_ictal_start}')\n",
    "        print(f'Post-ictal end: {post_ictal_end}')\n",
    "        \n",
    "        # Extract features for different periods\n",
    "        try:\n",
    "            # Pre-ictal \n",
    "            pre_data = data[:, pre_ictal_start:pre_ictal_end]\n",
    "            pre_de = calculate_differential_entropy(pre_data, sfreq)\n",
    "            for key, value in pre_de.items():\n",
    "                all_features[f'preictal_{key}'] = value\n",
    "                \n",
    "            pre_wave = calculate_wavelet_features(pre_data, sfreq)\n",
    "            for key, value in pre_wave.items():\n",
    "                all_features[f'preictal_{key}'] = value\n",
    "                \n",
    "            pre_time = calculate_time_domain_features(pre_data, sfreq)\n",
    "            for key, value in pre_time.items():\n",
    "                all_features[f'preictal_{key}'] = value\n",
    "            \n",
    "            # Ictal\n",
    "            ictal_data = data[:, ictal_start:ictal_end]\n",
    "            ictal_de = calculate_differential_entropy(ictal_data, sfreq)\n",
    "            for key, value in ictal_de.items():\n",
    "                all_features[f'ictal_{key}'] = value\n",
    "                \n",
    "            ictal_wave = calculate_wavelet_features(ictal_data, sfreq)\n",
    "            for key, value in ictal_wave.items():\n",
    "                all_features[f'ictal_{key}'] = value\n",
    "                \n",
    "            ictal_time = calculate_time_domain_features(ictal_data, sfreq)\n",
    "            for key, value in ictal_time.items():\n",
    "                all_features[f'ictal_{key}'] = value\n",
    "            \n",
    "            # Post-ictal\n",
    "            post_data = data[:, post_ictal_start:post_ictal_end]\n",
    "            post_de = calculate_differential_entropy(post_data, sfreq)\n",
    "            for key, value in post_de.items():\n",
    "                all_features[f'postictal_{key}'] = value\n",
    "                \n",
    "            post_wave = calculate_wavelet_features(post_data, sfreq)\n",
    "            for key, value in post_wave.items():\n",
    "                all_features[f'postictal_{key}'] = value\n",
    "                \n",
    "            post_time = calculate_time_domain_features(post_data, sfreq)\n",
    "            for key, value in post_time.items():\n",
    "                all_features[f'postictal_{key}'] = value\n",
    "                    \n",
    "        except Exception as e:\n",
    "            print(f\"Error extracting seizure period features: {e}\")\n",
    "    \n",
    "    return all_features"
   ]
  },
  {
   "cell_type": "markdown",
   "id": "b0097497",
   "metadata": {},
   "source": [
    "## Process Single EDF File Function"
   ]
  },
  {
   "cell_type": "code",
   "execution_count": 15,
   "id": "6c6a972b",
   "metadata": {},
   "outputs": [],
   "source": [
    "def process_single_edf(edf_path, seizure_info):\n",
    "    features = {}\n",
    "    \n",
    "    try:\n",
    "        # Load EDF file\n",
    "        raw = mne.io.read_raw_edf(str(edf_path), preload=True, verbose=False)\n",
    "        \n",
    "        # Basic file info\n",
    "        features['file_path'] = str(edf_path)\n",
    "        features['num_channels'] = len(raw.ch_names)\n",
    "        features['sampling_rate'] = raw.info['sfreq']\n",
    "        features['duration_seconds'] = raw.n_times / raw.info['sfreq']\n",
    "        \n",
    "        # Apply bandpass filter\n",
    "        raw.filter(0.5, 100, fir_design='firwin', verbose=False)\n",
    "        \n",
    "        # Parse seizure times\n",
    "        seizure_start = None\n",
    "        seizure_end = None\n",
    "        \n",
    "        if isinstance(seizure_info, (dict, pd.Series)):\n",
    "            if 'seizure_start_time' in seizure_info:\n",
    "                time_str = str(seizure_info.get('seizure_start_time')).strip()\n",
    "                if ':' in time_str or '.' in time_str:\n",
    "                    time_str = time_str.replace('.', ':')\n",
    "                    parts = time_str.split(':')\n",
    "                    if len(parts) == 3:\n",
    "                        hours, minutes, seconds = map(float, parts)\n",
    "                        seizure_start = hours * 3600 + minutes * 60 + seconds\n",
    "                    elif len(parts) == 2:\n",
    "                        minutes, seconds = map(float, parts)\n",
    "                        seizure_start = minutes * 60 + seconds\n",
    "                else:\n",
    "                    try:\n",
    "                        seizure_start = float(time_str)\n",
    "                    except:\n",
    "                        seizure_start = None\n",
    "            \n",
    "            if 'seizure_end_time' in seizure_info:\n",
    "                time_str = str(seizure_info.get('seizure_end_time')).strip()\n",
    "                if ':' in time_str or '.' in time_str:\n",
    "                    time_str = time_str.replace('.', ':')\n",
    "                    parts = time_str.split(':')\n",
    "                    if len(parts) == 3:\n",
    "                        hours, minutes, seconds = map(float, parts)\n",
    "                        seizure_end = hours * 3600 + minutes * 60 + seconds\n",
    "                    elif len(parts) == 2:\n",
    "                        minutes, seconds = map(float, parts)\n",
    "                        seizure_end = minutes * 60 + seconds\n",
    "                else:\n",
    "                    try:\n",
    "                        seizure_end = float(time_str)\n",
    "                    except:\n",
    "                        seizure_end = None\n",
    "        \n",
    "        # Extract comprehensive features\n",
    "        comprehensive_features = extract_comprehensive_features(raw, seizure_start, seizure_end)\n",
    "        features.update(comprehensive_features)\n",
    "        \n",
    "        # Propagation features\n",
    "        propagation_features = calculate_simple_propagation_features(raw, seizure_start, seizure_end)\n",
    "        features.update(propagation_features)\n",
    "        \n",
    "        # Add seizure timing info\n",
    "        features['seizure_start_seconds'] = seizure_start if seizure_start is not None else 0.0\n",
    "        features['seizure_end_seconds'] = seizure_end if seizure_end is not None else 0.0\n",
    "        if seizure_end and seizure_start:\n",
    "            features['seizure_duration'] = seizure_end - seizure_start\n",
    "        else:\n",
    "            features['seizure_duration'] = 0.0\n",
    "        \n",
    "        features['processing_success'] = True\n",
    "        features['error_message'] = ''\n",
    "        \n",
    "    except Exception as e:\n",
    "        print(f\"Error processing {edf_path}: {e}\")\n",
    "        features['processing_success'] = False\n",
    "        features['error_message'] = str(e)\n",
    "    \n",
    "    return features"
   ]
  },
  {
   "cell_type": "markdown",
   "id": "5645b995",
   "metadata": {},
   "source": [
    "## Build Comprehensive Dataset"
   ]
  },
  {
   "cell_type": "code",
   "execution_count": 16,
   "id": "c14cc12e",
   "metadata": {},
   "outputs": [],
   "source": [
    "def build_comprehensive_dataset(seizures_df, patients_df, \n",
    "                              data_root_paths=['data/siena_scalp', 'data/chb-mit']):\n",
    "    all_records = []\n",
    "    \n",
    "    # Convert Polars to pandas for iteration (if needed)\n",
    "    if isinstance(seizures_df, pl.DataFrame):\n",
    "        seizures_pd = seizures_df.to_pandas()\n",
    "        patients_pd = patients_df.to_pandas()\n",
    "    else:\n",
    "        seizures_pd = seizures_df\n",
    "        patients_pd = patients_df\n",
    "    \n",
    "    print(f\"Processing {len(seizures_pd)} seizure records...\")\n",
    "    print(\"=\"*60)\n",
    "    \n",
    "    # options for testing\n",
    "    # for idx, seizure_row in tqdm(seizures_pd.iloc[:5].iterrows(), total=5):\n",
    "    # for idx, seizure_row in tqdm(seizures_pd.iterrows(), total=len(seizures_pd)): \n",
    "    \n",
    "    for idx, seizure_row in tqdm(seizures_pd.iterrows(), total=len(seizures_pd)): \n",
    "        record = {}\n",
    "        \n",
    "        # Add all seizure metadata\n",
    "        for col in seizure_row.index:\n",
    "            record[f'{col}'] = seizure_row[col]\n",
    "        \n",
    "        # Find corresponding patient info\n",
    "        patient_id = seizure_row['patient_id']\n",
    "        patient_info = patients_pd[patients_pd['patient_id'] == patient_id]\n",
    "        \n",
    "        if not patient_info.empty:\n",
    "            for col in patient_info.columns:\n",
    "                if col != 'patient_id':  # Avoid duplication\n",
    "                    record[f'{col}'] = patient_info.iloc[0][col]\n",
    "        \n",
    "        # Find EDF file\n",
    "        file_name = seizure_row['file_name']\n",
    "        edf_path = None\n",
    "        \n",
    "        for root_path in data_root_paths:\n",
    "            possible_paths = [\n",
    "                os.path.join(root_path, patient_id, file_name),\n",
    "                os.path.join(root_path, patient_id.lower(), file_name),\n",
    "                os.path.join(root_path, patient_id.upper(), file_name),\n",
    "            ]\n",
    "            \n",
    "            for path in possible_paths:\n",
    "                if os.path.exists(path):\n",
    "                    edf_path = path\n",
    "                    break\n",
    "            \n",
    "            if edf_path:\n",
    "                break\n",
    "        \n",
    "        if edf_path:\n",
    "            # Process EDF and extract features - pass the entire row as dict\n",
    "            edf_features = process_single_edf(edf_path, seizure_row.to_dict())\n",
    "            record.update(edf_features)\n",
    "        else:\n",
    "            record['processing_success'] = False\n",
    "            record['error_message'] = 'EDF file not found'\n",
    "        \n",
    "        all_records.append(record)\n",
    "    \n",
    "    # Create comprehensive dataframe using Polars\n",
    "    comprehensive_df = pl.DataFrame(all_records)\n",
    "    \n",
    "    # Print summary\n",
    "    print(\"\\n\" + \"=\"*60)\n",
    "    print(\"PROCESSING COMPLETE\")\n",
    "    print(\"=\"*60)\n",
    "    print(f\"Total records: {len(comprehensive_df)}\")\n",
    "    \n",
    "    if 'processing_success' in comprehensive_df.columns:\n",
    "        success_count = comprehensive_df.filter(pl.col('processing_success')).height\n",
    "        print(f\"Successfully processed: {success_count}\")\n",
    "        print(f\"Failed: {len(comprehensive_df) - success_count}\")\n",
    "    \n",
    "    return comprehensive_df"
   ]
  },
  {
   "cell_type": "markdown",
   "id": "91625555",
   "metadata": {},
   "source": [
    "## Fill in Missing Values"
   ]
  },
  {
   "cell_type": "code",
   "execution_count": 17,
   "id": "9472fa9d",
   "metadata": {},
   "outputs": [],
   "source": [
    "def fill_missing_values_polars(df):\n",
    "    # Get column types\n",
    "    str_cols = [col for col in df.columns if df[col].dtype == pl.Utf8]\n",
    "    num_cols = [col for col in df.columns if df[col].dtype in [pl.Float32, pl.Float64, pl.Int8, pl.Int16, pl.Int32, pl.Int64]]\n",
    "    \n",
    "    # Fill string columns with \"N/A\"\n",
    "    for col in str_cols:\n",
    "        df = df.with_columns(pl.col(col).fill_null(\"N/A\"))\n",
    "    \n",
    "    # Fill numeric columns with 0\n",
    "    for col in num_cols:\n",
    "        df = df.with_columns(\n",
    "            pl.col(col).fill_null(0).fill_nan(0)\n",
    "        )\n",
    "    \n",
    "    return df"
   ]
  },
  {
   "cell_type": "code",
   "execution_count": 18,
   "id": "dd397b94",
   "metadata": {},
   "outputs": [],
   "source": [
    "def save_to_csv(df, output_path='comprehensive_df.csv'):\n",
    "    if isinstance(df, pl.DataFrame):\n",
    "        df_pd = df.to_pandas()\n",
    "    else:\n",
    "        df_pd = df\n",
    "    \n",
    "    df_pd.to_csv(output_path, index=False)\n",
    "    print(f\"Dataset saved to: {output_path}\")\n",
    "    print(f\"File size: {os.path.getsize(output_path) / 1024 / 1024:.2f} MB\")\n",
    "\n",
    "def save_to_parquet(df, output_path='comprehensive_eeg_features.parquet'):\n",
    "    if isinstance(df, pl.DataFrame):\n",
    "        df.write_parquet(output_path)\n",
    "    else:\n",
    "        df.to_parquet(output_path, index=False, engine='pyarrow')\n",
    "    \n",
    "    print(f\"Dataset saved to: {output_path}\")\n",
    "    print(f\"File size: {os.path.getsize(output_path) / 1024 / 1024:.2f} MB\")"
   ]
  },
  {
   "cell_type": "code",
   "execution_count": 19,
   "id": "21eb5731",
   "metadata": {},
   "outputs": [
    {
     "name": "stdout",
     "output_type": "stream",
     "text": [
      "Loading metadata from JSON files...\n",
      "Found 38 JSON files\n",
      "Loaded 38 patients and 245 seizures\n"
     ]
    }
   ],
   "source": [
    "# Load metadata\n",
    "print(\"Loading metadata from JSON files...\")\n",
    "\n",
    "# change to other folder for full set\n",
    "seizures_df, patients_df = load_metadata_from_json(\n",
    "    'data'\n",
    "    )\n",
    "print(f\"Loaded {len(patients_df)} patients and {len(seizures_df)} seizures\")"
   ]
  },
  {
   "cell_type": "markdown",
   "id": "0a783dd6",
   "metadata": {},
   "source": [
    "## Main Usage Function"
   ]
  },
  {
   "cell_type": "code",
   "execution_count": 20,
   "id": "5f7ba49f",
   "metadata": {},
   "outputs": [
    {
     "name": "stdout",
     "output_type": "stream",
     "text": [
      "Processing 245 seizure records...\n",
      "============================================================\n"
     ]
    },
    {
     "name": "stderr",
     "output_type": "stream",
     "text": [
      "  0%|          | 0/245 [00:00<?, ?it/s]"
     ]
    },
    {
     "name": "stdout",
     "output_type": "stream",
     "text": [
      "Mean connectivity shape: (23, 23)\n",
      "Number of epochs:  1800\n",
      "Calculating rhythmic features...\n",
      "Storing features...\n",
      "Seizure start: 52380.0\n",
      "Seizure end: 52420.0\n",
      "Frequency: 256.0\n",
      "Pre-ictal start: 52370\n",
      "Pre-ictal end: 52380\n",
      "Ictal start: 52380\n",
      "Ictal end: 52420\n",
      "Post-ictal start: 52420\n",
      "Post-ictal end: 52430\n"
     ]
    },
    {
     "name": "stderr",
     "output_type": "stream",
     "text": [
      "  0%|          | 1/245 [01:27<5:56:43, 87.72s/it]"
     ]
    },
    {
     "name": "stdout",
     "output_type": "stream",
     "text": [
      "Mean connectivity shape: (23, 23)\n",
      "Number of epochs:  1800\n",
      "Calculating rhythmic features...\n",
      "Storing features...\n",
      "Seizure start: 54459.0\n",
      "Seizure end: 54486.0\n",
      "Frequency: 256.0\n",
      "Pre-ictal start: 54449\n",
      "Pre-ictal end: 54459\n",
      "Ictal start: 54459\n",
      "Ictal end: 54486\n",
      "Post-ictal start: 54486\n",
      "Post-ictal end: 54496\n"
     ]
    },
    {
     "name": "stderr",
     "output_type": "stream",
     "text": [
      "  1%|          | 2/245 [02:55<5:55:42, 87.83s/it]"
     ]
    },
    {
     "name": "stdout",
     "output_type": "stream",
     "text": [
      "Mean connectivity shape: (23, 23)\n",
      "Number of epochs:  1800\n",
      "Calculating rhythmic features...\n",
      "Storing features...\n",
      "Seizure start: 8016.0\n",
      "Seizure end: 8056.0\n",
      "Frequency: 256.0\n",
      "Pre-ictal start: 8006\n",
      "Pre-ictal end: 8016\n",
      "Ictal start: 8016\n",
      "Ictal end: 8056\n",
      "Post-ictal start: 8056\n",
      "Post-ictal end: 8066\n"
     ]
    },
    {
     "name": "stderr",
     "output_type": "stream",
     "text": [
      "  1%|          | 3/245 [04:25<5:58:31, 88.89s/it]"
     ]
    },
    {
     "name": "stdout",
     "output_type": "stream",
     "text": [
      "Mean connectivity shape: (23, 23)\n",
      "Number of epochs:  1800\n",
      "Calculating rhythmic features...\n",
      "Storing features...\n",
      "Seizure start: 10906.0\n",
      "Seizure end: 10957.0\n",
      "Frequency: 256.0\n",
      "Pre-ictal start: 10896\n",
      "Pre-ictal end: 10906\n",
      "Ictal start: 10906\n",
      "Ictal end: 10957\n",
      "Post-ictal start: 10957\n",
      "Post-ictal end: 10967\n"
     ]
    },
    {
     "name": "stderr",
     "output_type": "stream",
     "text": [
      "  2%|▏         | 4/245 [05:59<6:04:28, 90.74s/it]"
     ]
    },
    {
     "name": "stdout",
     "output_type": "stream",
     "text": [
      "Mean connectivity shape: (23, 23)\n",
      "Number of epochs:  1800\n",
      "Calculating rhythmic features...\n",
      "Storing features...\n",
      "Seizure start: 18826.0\n",
      "Seizure end: 18916.0\n",
      "Frequency: 256.0\n",
      "Pre-ictal start: 18816\n",
      "Pre-ictal end: 18826\n",
      "Ictal start: 18826\n",
      "Ictal end: 18916\n",
      "Post-ictal start: 18916\n",
      "Post-ictal end: 18926\n"
     ]
    },
    {
     "name": "stderr",
     "output_type": "stream",
     "text": [
      "  2%|▏         | 5/245 [07:25<5:56:35, 89.15s/it]"
     ]
    },
    {
     "name": "stdout",
     "output_type": "stream",
     "text": [
      "Mean connectivity shape: (23, 23)\n",
      "Number of epochs:  1800\n",
      "Calculating rhythmic features...\n",
      "Storing features...\n",
      "Seizure start: 27553.0\n",
      "Seizure end: 27646.0\n",
      "Frequency: 256.0\n",
      "Pre-ictal start: 27543\n",
      "Pre-ictal end: 27553\n",
      "Ictal start: 27553\n",
      "Ictal end: 27646\n",
      "Post-ictal start: 27646\n",
      "Post-ictal end: 27656\n"
     ]
    },
    {
     "name": "stderr",
     "output_type": "stream",
     "text": [
      "  2%|▏         | 6/245 [08:56<5:56:53, 89.60s/it]"
     ]
    },
    {
     "name": "stdout",
     "output_type": "stream",
     "text": [
      "Mean connectivity shape: (23, 23)\n",
      "Number of epochs:  1162\n",
      "Calculating rhythmic features...\n",
      "Storing features...\n",
      "Seizure start: 47124.0\n",
      "Seizure end: 47225.0\n",
      "Frequency: 256.0\n",
      "Pre-ictal start: 47114\n",
      "Pre-ictal end: 47124\n",
      "Ictal start: 47124\n",
      "Ictal end: 47225\n",
      "Post-ictal start: 47225\n",
      "Post-ictal end: 47235\n"
     ]
    },
    {
     "name": "stderr",
     "output_type": "stream",
     "text": [
      "  3%|▎         | 7/245 [10:01<5:23:51, 81.65s/it]"
     ]
    },
    {
     "name": "stdout",
     "output_type": "stream",
     "text": [
      "Mean connectivity shape: (23, 23)\n",
      "Number of epochs:  479\n",
      "Calculating rhythmic features...\n",
      "Storing features...\n",
      "Seizure start: 34436.0\n",
      "Seizure end: 34518.0\n",
      "Frequency: 256.0\n",
      "Pre-ictal start: 34426\n",
      "Pre-ictal end: 34436\n",
      "Ictal start: 34436\n",
      "Ictal end: 34518\n",
      "Post-ictal start: 34518\n",
      "Post-ictal end: 34528\n"
     ]
    },
    {
     "name": "stderr",
     "output_type": "stream",
     "text": [
      "  3%|▎         | 8/245 [10:42<4:31:32, 68.74s/it]"
     ]
    },
    {
     "name": "stdout",
     "output_type": "stream",
     "text": [
      "Mean connectivity shape: (23, 23)\n",
      "Number of epochs:  1800\n",
      "Calculating rhythmic features...\n",
      "Storing features...\n",
      "Seizure start: 53214.0\n",
      "Seizure end: 53223.0\n",
      "Frequency: 256.0\n",
      "Pre-ictal start: 53204\n",
      "Pre-ictal end: 53214\n",
      "Ictal start: 53214\n",
      "Ictal end: 53223\n",
      "Post-ictal start: 53223\n",
      "Post-ictal end: 53233\n"
     ]
    },
    {
     "name": "stderr",
     "output_type": "stream",
     "text": [
      "  4%|▍         | 10/245 [12:08<3:40:49, 56.38s/it]"
     ]
    },
    {
     "name": "stdout",
     "output_type": "stream",
     "text": [
      "Mean connectivity shape: (23, 23)\n",
      "Number of epochs:  1800\n",
      "Calculating rhythmic features...\n",
      "Storing features...\n",
      "Seizure start: 48578.0\n",
      "Seizure end: 48630.0\n",
      "Frequency: 256.0\n",
      "Pre-ictal start: 48568\n",
      "Pre-ictal end: 48578\n",
      "Ictal start: 48578\n",
      "Ictal end: 48630\n",
      "Post-ictal start: 48630\n",
      "Post-ictal end: 48640\n"
     ]
    },
    {
     "name": "stderr",
     "output_type": "stream",
     "text": [
      "  4%|▍         | 11/245 [13:31<4:07:05, 63.36s/it]"
     ]
    },
    {
     "name": "stdout",
     "output_type": "stream",
     "text": [
      "Mean connectivity shape: (23, 23)\n",
      "Number of epochs:  1800\n",
      "Calculating rhythmic features...\n",
      "Storing features...\n",
      "Seizure start: 52550.0\n",
      "Seizure end: 52615.0\n",
      "Frequency: 256.0\n",
      "Pre-ictal start: 52540\n",
      "Pre-ictal end: 52550\n",
      "Ictal start: 52550\n",
      "Ictal end: 52615\n",
      "Post-ictal start: 52615\n",
      "Post-ictal end: 52625\n"
     ]
    },
    {
     "name": "stderr",
     "output_type": "stream",
     "text": [
      "  5%|▍         | 12/245 [14:56<4:27:36, 68.91s/it]"
     ]
    },
    {
     "name": "stdout",
     "output_type": "stream",
     "text": [
      "Mean connectivity shape: (23, 23)\n",
      "Number of epochs:  1800\n",
      "Calculating rhythmic features...\n",
      "Storing features...\n",
      "Seizure start: 55859.0\n",
      "Seizure end: 55928.0\n",
      "Frequency: 256.0\n",
      "Pre-ictal start: 55849\n",
      "Pre-ictal end: 55859\n",
      "Ictal start: 55859\n",
      "Ictal end: 55928\n",
      "Post-ictal start: 55928\n",
      "Post-ictal end: 55938\n"
     ]
    },
    {
     "name": "stderr",
     "output_type": "stream",
     "text": [
      "  5%|▌         | 13/245 [16:19<4:41:38, 72.84s/it]"
     ]
    },
    {
     "name": "stdout",
     "output_type": "stream",
     "text": [
      "Mean connectivity shape: (23, 23)\n",
      "Number of epochs:  1800\n",
      "Calculating rhythmic features...\n",
      "Storing features...\n",
      "Seizure start: 61216.0\n",
      "Seizure end: 61268.0\n",
      "Frequency: 256.0\n",
      "Pre-ictal start: 61206\n",
      "Pre-ictal end: 61216\n",
      "Ictal start: 61216\n",
      "Ictal end: 61268\n",
      "Post-ictal start: 61268\n",
      "Post-ictal end: 61278\n"
     ]
    },
    {
     "name": "stderr",
     "output_type": "stream",
     "text": [
      "  6%|▌         | 14/245 [17:43<4:52:16, 75.92s/it]"
     ]
    },
    {
     "name": "stdout",
     "output_type": "stream",
     "text": [
      "Mean connectivity shape: (23, 23)\n",
      "Number of epochs:  1800\n",
      "Calculating rhythmic features...\n",
      "Storing features...\n",
      "Seizure start: 8665.0\n",
      "Seizure end: 8712.0\n",
      "Frequency: 256.0\n",
      "Pre-ictal start: 8655\n",
      "Pre-ictal end: 8665\n",
      "Ictal start: 8665\n",
      "Ictal end: 8712\n",
      "Post-ictal start: 8712\n",
      "Post-ictal end: 8722\n"
     ]
    },
    {
     "name": "stderr",
     "output_type": "stream",
     "text": [
      "  6%|▌         | 15/245 [19:05<4:58:21, 77.83s/it]"
     ]
    },
    {
     "name": "stdout",
     "output_type": "stream",
     "text": [
      "Mean connectivity shape: (23, 23)\n",
      "Number of epochs:  1800\n",
      "Calculating rhythmic features...\n",
      "Storing features...\n",
      "Seizure start: 12882.0\n",
      "Seizure end: 12946.0\n",
      "Frequency: 256.0\n",
      "Pre-ictal start: 12872\n",
      "Pre-ictal end: 12882\n",
      "Ictal start: 12882\n",
      "Ictal end: 12946\n",
      "Post-ictal start: 12946\n",
      "Post-ictal end: 12956\n"
     ]
    },
    {
     "name": "stderr",
     "output_type": "stream",
     "text": [
      "  7%|▋         | 16/245 [20:28<5:03:00, 79.39s/it]"
     ]
    },
    {
     "name": "stdout",
     "output_type": "stream",
     "text": [
      "Mean connectivity shape: (23, 23)\n",
      "Number of epochs:  1800\n",
      "Calculating rhythmic features...\n",
      "Storing features...\n",
      "Seizure start: 19230.0\n",
      "Seizure end: 19283.0\n",
      "Frequency: 256.0\n",
      "Pre-ictal start: 19220\n",
      "Pre-ictal end: 19230\n",
      "Ictal start: 19230\n",
      "Ictal end: 19283\n",
      "Post-ictal start: 19283\n",
      "Post-ictal end: 19293\n"
     ]
    },
    {
     "name": "stderr",
     "output_type": "stream",
     "text": [
      "  7%|▋         | 17/245 [21:52<5:06:04, 80.55s/it]"
     ]
    },
    {
     "name": "stdout",
     "output_type": "stream",
     "text": [
      "Mean connectivity shape: (23, 23)\n",
      "Number of epochs:  4768\n",
      "Calculating rhythmic features...\n",
      "Storing features...\n",
      "Seizure start: 43961.0\n",
      "Seizure end: 44010.0\n",
      "Frequency: 256.0\n",
      "Pre-ictal start: 43951\n",
      "Pre-ictal end: 43961\n",
      "Ictal start: 43961\n",
      "Ictal end: 44010\n",
      "Post-ictal start: 44010\n",
      "Post-ictal end: 44020\n"
     ]
    },
    {
     "name": "stderr",
     "output_type": "stream",
     "text": [
      "  7%|▋         | 18/245 [25:43<7:52:57, 125.01s/it]"
     ]
    },
    {
     "name": "stdout",
     "output_type": "stream",
     "text": [
      "Mean connectivity shape: (24, 24)\n",
      "Number of epochs:  7200\n",
      "Calculating rhythmic features...\n",
      "Storing features...\n",
      "Seizure start: 74456.0\n",
      "Seizure end: 74567.0\n",
      "Frequency: 256.0\n",
      "Pre-ictal start: 74446\n",
      "Pre-ictal end: 74456\n",
      "Ictal start: 74456\n",
      "Ictal end: 74567\n",
      "Post-ictal start: 74567\n",
      "Post-ictal end: 74577\n"
     ]
    },
    {
     "name": "stderr",
     "output_type": "stream",
     "text": [
      "  8%|▊         | 19/245 [30:34<10:56:21, 174.25s/it]"
     ]
    },
    {
     "name": "stdout",
     "output_type": "stream",
     "text": [
      "Mean connectivity shape: (24, 24)\n",
      "Number of epochs:  7211\n",
      "Calculating rhythmic features...\n",
      "Storing features...\n",
      "Seizure start: 1966.0\n",
      "Seizure end: 2068.0\n",
      "Frequency: 256.0\n",
      "Pre-ictal start: 1956\n",
      "Pre-ictal end: 1966\n",
      "Ictal start: 1966\n",
      "Ictal end: 2068\n",
      "Post-ictal start: 2068\n",
      "Post-ictal end: 2078\n"
     ]
    },
    {
     "name": "stderr",
     "output_type": "stream",
     "text": [
      "  8%|▊         | 20/245 [36:58<14:47:40, 236.71s/it]"
     ]
    },
    {
     "name": "stdout",
     "output_type": "stream",
     "text": [
      "Mean connectivity shape: (24, 24)\n",
      "Number of epochs:  7211\n",
      "Calculating rhythmic features...\n",
      "Storing features...\n",
      "Seizure start: 4069.0\n",
      "Seizure end: 4185.0\n",
      "Frequency: 256.0\n",
      "Pre-ictal start: 4059\n",
      "Pre-ictal end: 4069\n",
      "Ictal start: 4069\n",
      "Ictal end: 4185\n",
      "Post-ictal start: 4185\n",
      "Post-ictal end: 4195\n"
     ]
    },
    {
     "name": "stderr",
     "output_type": "stream",
     "text": [
      "  9%|▊         | 21/245 [43:26<17:32:25, 281.90s/it]"
     ]
    },
    {
     "name": "stdout",
     "output_type": "stream",
     "text": [
      "Mean connectivity shape: (23, 23)\n",
      "Number of epochs:  1800\n",
      "Calculating rhythmic features...\n",
      "Storing features...\n",
      "Seizure start: 80902.0\n",
      "Seizure end: 81017.0\n",
      "Frequency: 256.0\n",
      "Pre-ictal start: 80892\n",
      "Pre-ictal end: 80902\n",
      "Ictal start: 80902\n",
      "Ictal end: 81017\n",
      "Post-ictal start: 81017\n",
      "Post-ictal end: 81027\n"
     ]
    },
    {
     "name": "stderr",
     "output_type": "stream",
     "text": [
      "  9%|▉         | 22/245 [44:55<13:53:50, 224.35s/it]"
     ]
    },
    {
     "name": "stdout",
     "output_type": "stream",
     "text": [
      "Mean connectivity shape: (23, 23)\n",
      "Number of epochs:  1800\n",
      "Calculating rhythmic features...\n",
      "Storing features...\n",
      "Seizure start: 20421.0\n",
      "Seizure end: 20531.0\n",
      "Frequency: 256.0\n",
      "Pre-ictal start: 20411\n",
      "Pre-ictal end: 20421\n",
      "Ictal start: 20421\n",
      "Ictal end: 20531\n",
      "Post-ictal start: 20531\n",
      "Post-ictal end: 20541\n"
     ]
    },
    {
     "name": "stderr",
     "output_type": "stream",
     "text": [
      "  9%|▉         | 23/245 [46:21<11:17:10, 183.02s/it]"
     ]
    },
    {
     "name": "stdout",
     "output_type": "stream",
     "text": [
      "Mean connectivity shape: (23, 23)\n",
      "Number of epochs:  1800\n",
      "Calculating rhythmic features...\n",
      "Storing features...\n",
      "Seizure start: 32472.0\n",
      "Seizure end: 32568.0\n",
      "Frequency: 256.0\n",
      "Pre-ictal start: 32462\n",
      "Pre-ictal end: 32472\n",
      "Ictal start: 32472\n",
      "Ictal end: 32568\n",
      "Post-ictal start: 32568\n",
      "Post-ictal end: 32578\n"
     ]
    },
    {
     "name": "stderr",
     "output_type": "stream",
     "text": [
      " 10%|▉         | 24/245 [47:46<9:25:11, 153.45s/it] "
     ]
    },
    {
     "name": "stdout",
     "output_type": "stream",
     "text": [
      "Mean connectivity shape: (23, 23)\n",
      "Number of epochs:  1800\n",
      "Calculating rhythmic features...\n",
      "Storing features...\n",
      "Seizure start: 36213.0\n",
      "Seizure end: 36333.0\n",
      "Frequency: 256.0\n",
      "Pre-ictal start: 36203\n",
      "Pre-ictal end: 36213\n",
      "Ictal start: 36213\n",
      "Ictal end: 36333\n",
      "Post-ictal start: 36333\n",
      "Post-ictal end: 36343\n"
     ]
    },
    {
     "name": "stderr",
     "output_type": "stream",
     "text": [
      " 10%|█         | 25/245 [49:11<8:07:49, 133.04s/it]"
     ]
    },
    {
     "name": "stdout",
     "output_type": "stream",
     "text": [
      "Mean connectivity shape: (23, 23)\n",
      "Number of epochs:  1800\n",
      "Calculating rhythmic features...\n",
      "Storing features...\n",
      "Seizure start: 54145.0\n",
      "Seizure end: 54262.0\n",
      "Frequency: 256.0\n",
      "Pre-ictal start: 54135\n",
      "Pre-ictal end: 54145\n",
      "Ictal start: 54145\n",
      "Ictal end: 54262\n",
      "Post-ictal start: 54262\n",
      "Post-ictal end: 54272\n"
     ]
    },
    {
     "name": "stderr",
     "output_type": "stream",
     "text": [
      " 11%|█         | 26/245 [50:36<7:13:20, 118.72s/it]"
     ]
    },
    {
     "name": "stdout",
     "output_type": "stream",
     "text": [
      "Mean connectivity shape: (23, 23)\n",
      "Number of epochs:  7213\n",
      "Calculating rhythmic features...\n",
      "Storing features...\n",
      "Seizure start: 70636.0\n",
      "Seizure end: 70650.0\n",
      "Frequency: 256.0\n",
      "Pre-ictal start: 70626\n",
      "Pre-ictal end: 70636\n",
      "Ictal start: 70636\n",
      "Ictal end: 70650\n",
      "Post-ictal start: 70650\n",
      "Post-ictal end: 70660\n"
     ]
    },
    {
     "name": "stderr",
     "output_type": "stream",
     "text": [
      " 11%|█         | 27/245 [56:23<11:19:45, 187.09s/it]"
     ]
    },
    {
     "name": "stdout",
     "output_type": "stream",
     "text": [
      "Mean connectivity shape: (23, 23)\n",
      "Number of epochs:  7213\n",
      "Calculating rhythmic features...\n",
      "Storing features...\n",
      "Seizure start: 76373.0\n",
      "Seizure end: 76388.0\n",
      "Frequency: 256.0\n",
      "Pre-ictal start: 76363\n",
      "Pre-ictal end: 76373\n",
      "Ictal start: 76373\n",
      "Ictal end: 76388\n",
      "Post-ictal start: 76388\n",
      "Post-ictal end: 76398\n"
     ]
    },
    {
     "name": "stderr",
     "output_type": "stream",
     "text": [
      " 11%|█▏        | 28/245 [1:02:09<14:08:51, 234.71s/it]"
     ]
    },
    {
     "name": "stdout",
     "output_type": "stream",
     "text": [
      "Mean connectivity shape: (23, 23)\n",
      "Number of epochs:  7213\n",
      "Calculating rhythmic features...\n",
      "Storing features...\n",
      "Seizure start: 82417.0\n",
      "Seizure end: 82432.0\n",
      "Frequency: 256.0\n",
      "Pre-ictal start: 82407\n",
      "Pre-ictal end: 82417\n",
      "Ictal start: 82417\n",
      "Ictal end: 82432\n",
      "Post-ictal start: 82432\n",
      "Post-ictal end: 82442\n"
     ]
    },
    {
     "name": "stderr",
     "output_type": "stream",
     "text": [
      " 12%|█▏        | 29/245 [1:07:54<16:04:38, 267.96s/it]"
     ]
    },
    {
     "name": "stdout",
     "output_type": "stream",
     "text": [
      "Mean connectivity shape: (23, 23)\n",
      "Number of epochs:  6630\n",
      "Calculating rhythmic features...\n",
      "Storing features...\n",
      "Seizure start: 26118.0\n",
      "Seizure end: 26138.0\n",
      "Frequency: 256.0\n",
      "Pre-ictal start: 26108\n",
      "Pre-ictal end: 26118\n",
      "Ictal start: 26118\n",
      "Ictal end: 26138\n",
      "Post-ictal start: 26138\n",
      "Post-ictal end: 26148\n"
     ]
    },
    {
     "name": "stderr",
     "output_type": "stream",
     "text": [
      " 12%|█▏        | 30/245 [1:13:22<17:04:00, 285.77s/it]"
     ]
    },
    {
     "name": "stdout",
     "output_type": "stream",
     "text": [
      "Mean connectivity shape: (23, 23)\n",
      "Number of epochs:  6630\n",
      "Calculating rhythmic features...\n",
      "Storing features...\n",
      "Seizure start: 32002.0\n",
      "Seizure end: 32022.0\n",
      "Frequency: 256.0\n",
      "Pre-ictal start: 31992\n",
      "Pre-ictal end: 32002\n",
      "Ictal start: 32002\n",
      "Ictal end: 32022\n",
      "Post-ictal start: 32022\n",
      "Post-ictal end: 32032\n"
     ]
    },
    {
     "name": "stderr",
     "output_type": "stream",
     "text": [
      " 13%|█▎        | 31/245 [1:18:49<17:43:26, 298.16s/it]"
     ]
    },
    {
     "name": "stdout",
     "output_type": "stream",
     "text": [
      "Mean connectivity shape: (23, 23)\n",
      "Number of epochs:  7200\n",
      "Calculating rhythmic features...\n",
      "Storing features...\n",
      "Seizure start: 22807.0\n",
      "Seizure end: 22823.0\n",
      "Frequency: 256.0\n",
      "Pre-ictal start: 22797\n",
      "Pre-ictal end: 22807\n",
      "Ictal start: 22807\n",
      "Ictal end: 22823\n",
      "Post-ictal start: 22823\n",
      "Post-ictal end: 22833\n"
     ]
    },
    {
     "name": "stderr",
     "output_type": "stream",
     "text": [
      " 13%|█▎        | 32/245 [1:23:51<17:42:54, 299.41s/it]"
     ]
    },
    {
     "name": "stdout",
     "output_type": "stream",
     "text": [
      "Mean connectivity shape: (23, 23)\n",
      "Number of epochs:  7200\n",
      "Calculating rhythmic features...\n",
      "Storing features...\n",
      "Seizure start: 35547.0\n",
      "Seizure end: 35559.0\n",
      "Frequency: 256.0\n",
      "Pre-ictal start: 35537\n",
      "Pre-ictal end: 35547\n",
      "Ictal start: 35547\n",
      "Ictal end: 35559\n",
      "Post-ictal start: 35559\n",
      "Post-ictal end: 35569\n"
     ]
    },
    {
     "name": "stderr",
     "output_type": "stream",
     "text": [
      " 13%|█▎        | 33/245 [1:29:36<18:26:21, 313.12s/it]"
     ]
    },
    {
     "name": "stdout",
     "output_type": "stream",
     "text": [
      "Mean connectivity shape: (23, 23)\n",
      "Number of epochs:  7200\n",
      "Calculating rhythmic features...\n",
      "Storing features...\n",
      "Seizure start: 68446.0\n",
      "Seizure end: 68459.0\n",
      "Frequency: 256.0\n",
      "Pre-ictal start: 68436\n",
      "Pre-ictal end: 68446\n",
      "Ictal start: 68446\n",
      "Ictal end: 68459\n",
      "Post-ictal start: 68459\n",
      "Post-ictal end: 68469\n"
     ]
    },
    {
     "name": "stderr",
     "output_type": "stream",
     "text": [
      " 14%|█▍        | 34/245 [1:34:29<17:59:52, 307.07s/it]"
     ]
    },
    {
     "name": "stdout",
     "output_type": "stream",
     "text": [
      "Mean connectivity shape: (23, 23)\n",
      "Number of epochs:  3964\n",
      "Calculating rhythmic features...\n",
      "Storing features...\n",
      "Seizure start: 51354.0\n",
      "Seizure end: 51366.0\n",
      "Frequency: 256.0\n",
      "Pre-ictal start: 51344\n",
      "Pre-ictal end: 51354\n",
      "Ictal start: 51354\n",
      "Ictal end: 51366\n",
      "Post-ictal start: 51366\n",
      "Post-ictal end: 51376\n"
     ]
    },
    {
     "name": "stderr",
     "output_type": "stream",
     "text": [
      " 14%|█▍        | 35/245 [1:38:51<17:07:16, 293.50s/it]"
     ]
    },
    {
     "name": "stdout",
     "output_type": "stream",
     "text": [
      "Mean connectivity shape: (23, 23)\n",
      "Number of epochs:  7200\n",
      "Calculating rhythmic features...\n",
      "Storing features...\n",
      "Seizure start: 39611.0\n",
      "Seizure end: 39627.0\n",
      "Frequency: 256.0\n",
      "Pre-ictal start: 39601\n",
      "Pre-ictal end: 39611\n",
      "Ictal start: 39611\n",
      "Ictal end: 39627\n",
      "Post-ictal start: 39627\n",
      "Post-ictal end: 39637\n"
     ]
    },
    {
     "name": "stderr",
     "output_type": "stream",
     "text": [
      " 15%|█▍        | 36/245 [1:43:51<17:09:00, 295.41s/it]"
     ]
    },
    {
     "name": "stdout",
     "output_type": "stream",
     "text": [
      "Mean connectivity shape: (23, 23)\n",
      "Number of epochs:  7200\n",
      "Calculating rhythmic features...\n",
      "Storing features...\n",
      "Seizure start: 32902.0\n",
      "Seizure end: 32988.0\n",
      "Frequency: 256.0\n",
      "Pre-ictal start: 32892\n",
      "Pre-ictal end: 32902\n",
      "Ictal start: 32902\n",
      "Ictal end: 32988\n",
      "Post-ictal start: 32988\n",
      "Post-ictal end: 32998\n"
     ]
    },
    {
     "name": "stderr",
     "output_type": "stream",
     "text": [
      " 15%|█▌        | 37/245 [1:48:36<16:53:12, 292.27s/it]"
     ]
    },
    {
     "name": "stdout",
     "output_type": "stream",
     "text": [
      "Mean connectivity shape: (23, 23)\n",
      "Number of epochs:  1863\n",
      "Calculating rhythmic features...\n",
      "Storing features...\n",
      "Seizure start: 45674.0\n",
      "Seizure end: 45770.0\n",
      "Frequency: 256.0\n",
      "Pre-ictal start: 45664\n",
      "Pre-ictal end: 45674\n",
      "Ictal start: 45674\n",
      "Ictal end: 45770\n",
      "Post-ictal start: 45770\n",
      "Post-ictal end: 45780\n"
     ]
    },
    {
     "name": "stderr",
     "output_type": "stream",
     "text": [
      " 16%|█▌        | 38/245 [1:50:05<13:18:24, 231.42s/it]"
     ]
    },
    {
     "name": "stdout",
     "output_type": "stream",
     "text": [
      "Mean connectivity shape: (23, 23)\n",
      "Number of epochs:  7205\n",
      "Calculating rhythmic features...\n",
      "Storing features...\n",
      "Seizure start: 43220.0\n",
      "Seizure end: 43363.0\n",
      "Frequency: 256.0\n",
      "Pre-ictal start: 43210\n",
      "Pre-ictal end: 43220\n",
      "Ictal start: 43220\n",
      "Ictal end: 43363\n",
      "Post-ictal start: 43363\n",
      "Post-ictal end: 43373\n"
     ]
    },
    {
     "name": "stderr",
     "output_type": "stream",
     "text": [
      " 16%|█▌        | 39/245 [1:56:30<15:52:12, 277.34s/it]"
     ]
    },
    {
     "name": "stdout",
     "output_type": "stream",
     "text": [
      "Mean connectivity shape: (23, 23)\n",
      "Number of epochs:  1800\n",
      "Calculating rhythmic features...\n",
      "Storing features...\n",
      "Seizure start: 47607.0\n",
      "Seizure end: 47778.0\n",
      "Frequency: 256.0\n",
      "Pre-ictal start: 47597\n",
      "Pre-ictal end: 47607\n",
      "Ictal start: 47607\n",
      "Ictal end: 47778\n",
      "Post-ictal start: 47778\n",
      "Post-ictal end: 47788\n"
     ]
    },
    {
     "name": "stderr",
     "output_type": "stream",
     "text": [
      " 16%|█▋        | 40/245 [1:57:54<12:30:09, 219.56s/it]"
     ]
    },
    {
     "name": "stdout",
     "output_type": "stream",
     "text": [
      "Mean connectivity shape: (23, 23)\n",
      "Number of epochs:  1800\n",
      "Calculating rhythmic features...\n",
      "Storing features...\n",
      "Seizure start: 58610.0\n",
      "Seizure end: 58800.0\n",
      "Frequency: 256.0\n",
      "Pre-ictal start: 58600\n",
      "Pre-ictal end: 58610\n",
      "Ictal start: 58610\n",
      "Ictal end: 58800\n",
      "Post-ictal start: 58800\n",
      "Post-ictal end: 58810\n"
     ]
    },
    {
     "name": "stderr",
     "output_type": "stream",
     "text": [
      " 17%|█▋        | 41/245 [1:59:27<10:16:32, 181.34s/it]"
     ]
    },
    {
     "name": "stdout",
     "output_type": "stream",
     "text": [
      "Mean connectivity shape: (23, 23)\n",
      "Number of epochs:  1800\n",
      "Calculating rhythmic features...\n",
      "Storing features...\n",
      "Seizure start: 77209.0\n",
      "Seizure end: 77343.0\n",
      "Frequency: 256.0\n",
      "Pre-ictal start: 77199\n",
      "Pre-ictal end: 77209\n",
      "Ictal start: 77209\n",
      "Ictal end: 77343\n",
      "Post-ictal start: 77343\n",
      "Post-ictal end: 77353\n"
     ]
    },
    {
     "name": "stderr",
     "output_type": "stream",
     "text": [
      " 17%|█▋        | 42/245 [2:00:51<8:35:19, 152.31s/it] "
     ]
    },
    {
     "name": "stdout",
     "output_type": "stream",
     "text": [
      "Mean connectivity shape: (23, 23)\n",
      "Number of epochs:  1800\n",
      "Calculating rhythmic features...\n",
      "Storing features...\n",
      "Seizure start: 83853.0\n",
      "Seizure end: 84012.0\n",
      "Frequency: 256.0\n",
      "Pre-ictal start: 83843\n",
      "Pre-ictal end: 83853\n",
      "Ictal start: 83853\n",
      "Ictal end: 84012\n",
      "Post-ictal start: 84012\n",
      "Post-ictal end: 84022\n"
     ]
    },
    {
     "name": "stderr",
     "output_type": "stream",
     "text": [
      " 18%|█▊        | 43/245 [2:02:16<7:24:47, 132.12s/it]"
     ]
    },
    {
     "name": "stdout",
     "output_type": "stream",
     "text": [
      "Mean connectivity shape: (23, 23)\n",
      "Number of epochs:  1800\n",
      "Calculating rhythmic features...\n",
      "Storing features...\n",
      "Seizure start: 25983.0\n",
      "Seizure end: 26247.0\n",
      "Frequency: 256.0\n",
      "Pre-ictal start: 25973\n",
      "Pre-ictal end: 25983\n",
      "Ictal start: 25983\n",
      "Ictal end: 26247\n",
      "Post-ictal start: 26247\n",
      "Post-ictal end: 26257\n"
     ]
    },
    {
     "name": "stderr",
     "output_type": "stream",
     "text": [
      " 18%|█▊        | 44/245 [2:03:42<6:35:35, 118.09s/it]"
     ]
    },
    {
     "name": "stdout",
     "output_type": "stream",
     "text": [
      "Mean connectivity shape: (24, 24)\n",
      "Number of epochs:  7199\n",
      "Calculating rhythmic features...\n",
      "Storing features...\n",
      "Seizure start: 56733.0\n",
      "Seizure end: 56797.0\n",
      "Frequency: 256.0\n",
      "Pre-ictal start: 56723\n",
      "Pre-ictal end: 56733\n",
      "Ictal start: 56733\n",
      "Ictal end: 56797\n",
      "Post-ictal start: 56797\n",
      "Post-ictal end: 56807\n"
     ]
    },
    {
     "name": "stderr",
     "output_type": "stream",
     "text": [
      " 18%|█▊        | 45/245 [2:08:51<9:44:33, 175.37s/it]"
     ]
    },
    {
     "name": "stdout",
     "output_type": "stream",
     "text": [
      "Mean connectivity shape: (24, 24)\n",
      "Number of epochs:  7200\n",
      "Calculating rhythmic features...\n",
      "Storing features...\n",
      "Seizure start: 76288.0\n",
      "Seizure end: 76367.0\n",
      "Frequency: 256.0\n",
      "Pre-ictal start: 76278\n",
      "Pre-ictal end: 76288\n",
      "Ictal start: 76288\n",
      "Ictal end: 76367\n",
      "Post-ictal start: 76367\n",
      "Post-ictal end: 76377\n"
     ]
    },
    {
     "name": "stderr",
     "output_type": "stream",
     "text": [
      " 19%|█▉        | 46/245 [2:13:53<11:48:13, 213.54s/it]"
     ]
    },
    {
     "name": "stdout",
     "output_type": "stream",
     "text": [
      "Mean connectivity shape: (24, 24)\n",
      "Number of epochs:  7200\n",
      "Calculating rhythmic features...\n",
      "Storing features...\n",
      "Seizure start: 82533.0\n",
      "Seizure end: 82604.0\n",
      "Frequency: 256.0\n",
      "Pre-ictal start: 82523\n",
      "Pre-ictal end: 82533\n",
      "Ictal start: 82533\n",
      "Ictal end: 82604\n",
      "Post-ictal start: 82604\n",
      "Post-ictal end: 82614\n"
     ]
    },
    {
     "name": "stderr",
     "output_type": "stream",
     "text": [
      " 19%|█▉        | 47/245 [2:18:56<13:13:18, 240.40s/it]"
     ]
    },
    {
     "name": "stdout",
     "output_type": "stream",
     "text": [
      "Mean connectivity shape: (24, 24)\n",
      "Number of epochs:  2850\n",
      "Calculating rhythmic features...\n",
      "Storing features...\n",
      "Seizure start: 50585.0\n",
      "Seizure end: 50647.0\n",
      "Frequency: 256.0\n",
      "Pre-ictal start: 50575\n",
      "Pre-ictal end: 50585\n",
      "Ictal start: 50585\n",
      "Ictal end: 50647\n",
      "Post-ictal start: 50647\n",
      "Post-ictal end: 50657\n"
     ]
    },
    {
     "name": "stderr",
     "output_type": "stream",
     "text": [
      " 20%|█▉        | 48/245 [2:21:05<11:19:26, 206.94s/it]"
     ]
    },
    {
     "name": "stdout",
     "output_type": "stream",
     "text": [
      "Mean connectivity shape: (23, 23)\n",
      "Number of epochs:  3600\n",
      "Calculating rhythmic features...\n",
      "Storing features...\n",
      "Seizure start: 63613.0\n",
      "Seizure end: 63648.0\n",
      "Frequency: 256.0\n",
      "Pre-ictal start: 63603\n",
      "Pre-ictal end: 63613\n",
      "Ictal start: 63613\n",
      "Ictal end: 63648\n",
      "Post-ictal start: 63648\n",
      "Post-ictal end: 63658\n"
     ]
    },
    {
     "name": "stderr",
     "output_type": "stream",
     "text": [
      " 20%|██        | 49/245 [2:23:43<10:27:40, 192.14s/it]"
     ]
    },
    {
     "name": "stdout",
     "output_type": "stream",
     "text": [
      "Mean connectivity shape: (23, 23)\n",
      "Number of epochs:  3606\n",
      "Calculating rhythmic features...\n",
      "Storing features...\n",
      "Seizure start: 35448.0\n",
      "Seizure end: 35518.0\n",
      "Frequency: 256.0\n",
      "Pre-ictal start: 35438\n",
      "Pre-ictal end: 35448\n",
      "Ictal start: 35448\n",
      "Ictal end: 35518\n",
      "Post-ictal start: 35518\n",
      "Post-ictal end: 35528\n"
     ]
    },
    {
     "name": "stderr",
     "output_type": "stream",
     "text": [
      " 20%|██        | 50/245 [2:27:06<10:35:20, 195.49s/it]"
     ]
    },
    {
     "name": "stdout",
     "output_type": "stream",
     "text": [
      "Mean connectivity shape: (23, 23)\n",
      "Number of epochs:  3609\n",
      "Calculating rhythmic features...\n",
      "Storing features...\n",
      "Seizure start: 81710.0\n",
      "Seizure end: 81775.0\n",
      "Frequency: 256.0\n",
      "Pre-ictal start: 81700\n",
      "Pre-ictal end: 81710\n",
      "Ictal start: 81710\n",
      "Ictal end: 81775\n",
      "Post-ictal start: 81775\n",
      "Post-ictal end: 81785\n"
     ]
    },
    {
     "name": "stderr",
     "output_type": "stream",
     "text": [
      " 21%|██        | 51/245 [2:30:15<10:26:09, 193.66s/it]"
     ]
    },
    {
     "name": "stdout",
     "output_type": "stream",
     "text": [
      "Mean connectivity shape: (23, 23)\n",
      "Number of epochs:  3606\n",
      "Calculating rhythmic features...\n",
      "Storing features...\n",
      "Seizure start: 17620.0\n",
      "Seizure end: 17678.0\n",
      "Frequency: 256.0\n",
      "Pre-ictal start: 17610\n",
      "Pre-ictal end: 17620\n",
      "Ictal start: 17620\n",
      "Ictal end: 17678\n",
      "Post-ictal start: 17678\n",
      "Post-ictal end: 17688\n"
     ]
    },
    {
     "name": "stderr",
     "output_type": "stream",
     "text": [
      " 21%|██        | 52/245 [2:33:45<10:38:05, 198.37s/it]"
     ]
    },
    {
     "name": "stdout",
     "output_type": "stream",
     "text": [
      "Mean connectivity shape: (23, 23)\n",
      "Number of epochs:  3610\n",
      "Calculating rhythmic features...\n",
      "Storing features...\n",
      "Seizure start: 25641.0\n",
      "Seizure end: 25717.0\n",
      "Frequency: 256.0\n",
      "Pre-ictal start: 25631\n",
      "Pre-ictal end: 25641\n",
      "Ictal start: 25641\n",
      "Ictal end: 25717\n",
      "Post-ictal start: 25717\n",
      "Post-ictal end: 25727\n"
     ]
    },
    {
     "name": "stderr",
     "output_type": "stream",
     "text": [
      " 22%|██▏       | 53/245 [2:36:34<10:06:21, 189.49s/it]"
     ]
    },
    {
     "name": "stdout",
     "output_type": "stream",
     "text": [
      "Mean connectivity shape: (23, 23)\n",
      "Number of epochs:  3600\n",
      "Calculating rhythmic features...\n",
      "Storing features...\n",
      "Seizure start: 57003.0\n",
      "Seizure end: 57092.0\n",
      "Frequency: 256.0\n",
      "Pre-ictal start: 56993\n",
      "Pre-ictal end: 57003\n",
      "Ictal start: 57003\n",
      "Ictal end: 57092\n",
      "Post-ictal start: 57092\n",
      "Post-ictal end: 57102\n"
     ]
    },
    {
     "name": "stderr",
     "output_type": "stream",
     "text": [
      " 22%|██▏       | 54/245 [2:39:05<9:27:07, 178.15s/it] "
     ]
    },
    {
     "name": "stdout",
     "output_type": "stream",
     "text": [
      "Mean connectivity shape: (23, 23)\n",
      "Number of epochs:  3600\n",
      "Calculating rhythmic features...\n",
      "Storing features...\n",
      "Seizure start: 60358.0\n",
      "Seizure end: 60412.0\n",
      "Frequency: 256.0\n",
      "Pre-ictal start: 60348\n",
      "Pre-ictal end: 60358\n",
      "Ictal start: 60358\n",
      "Ictal end: 60412\n",
      "Post-ictal start: 60412\n",
      "Post-ictal end: 60422\n"
     ]
    },
    {
     "name": "stderr",
     "output_type": "stream",
     "text": [
      " 22%|██▏       | 55/245 [2:42:16<9:35:49, 181.84s/it]"
     ]
    },
    {
     "name": "stdout",
     "output_type": "stream",
     "text": [
      "Mean connectivity shape: (28, 28)\n",
      "Number of epochs:  1800\n",
      "Calculating rhythmic features...\n",
      "Storing features...\n",
      "Seizure start: 78742.0\n",
      "Seizure end: 78764.0\n",
      "Frequency: 256.0\n",
      "Pre-ictal start: 78732\n",
      "Pre-ictal end: 78742\n",
      "Ictal start: 78742\n",
      "Ictal end: 78764\n",
      "Post-ictal start: 78764\n",
      "Post-ictal end: 78774\n"
     ]
    },
    {
     "name": "stderr",
     "output_type": "stream",
     "text": [
      " 23%|██▎       | 56/245 [2:44:09<8:27:38, 161.16s/it]"
     ]
    },
    {
     "name": "stdout",
     "output_type": "stream",
     "text": [
      "Mean connectivity shape: (28, 28)\n",
      "Number of epochs:  1800\n",
      "Calculating rhythmic features...\n",
      "Storing features...\n",
      "Seizure start: 30806.0\n",
      "Seizure end: 30838.0\n",
      "Frequency: 256.0\n",
      "Pre-ictal start: 30796\n",
      "Pre-ictal end: 30806\n",
      "Ictal start: 30806\n",
      "Ictal end: 30838\n",
      "Post-ictal start: 30838\n",
      "Post-ictal end: 30848\n"
     ]
    },
    {
     "name": "stderr",
     "output_type": "stream",
     "text": [
      " 23%|██▎       | 57/245 [2:46:00<7:38:07, 146.21s/it]"
     ]
    },
    {
     "name": "stdout",
     "output_type": "stream",
     "text": [
      "Mean connectivity shape: (28, 28)\n",
      "Number of epochs:  1429\n",
      "Calculating rhythmic features...\n",
      "Storing features...\n",
      "Seizure start: 54813.0\n",
      "Seizure end: 55565.0\n",
      "Frequency: 256.0\n",
      "Pre-ictal start: 54803\n",
      "Pre-ictal end: 54813\n",
      "Ictal start: 54813\n",
      "Ictal end: 55565\n",
      "Post-ictal start: 55565\n",
      "Post-ictal end: 55575\n"
     ]
    },
    {
     "name": "stderr",
     "output_type": "stream",
     "text": [
      " 24%|██▎       | 58/245 [2:47:50<7:01:50, 135.35s/it]"
     ]
    },
    {
     "name": "stdout",
     "output_type": "stream",
     "text": [
      "Mean connectivity shape: (28, 28)\n",
      "Number of epochs:  1803\n",
      "Calculating rhythmic features...\n",
      "Storing features...\n",
      "Seizure start: 83539.0\n",
      "Seizure end: 83600.0\n",
      "Frequency: 256.0\n",
      "Pre-ictal start: 83529\n",
      "Pre-ictal end: 83539\n",
      "Ictal start: 83539\n",
      "Ictal end: 83600\n",
      "Post-ictal start: 83600\n",
      "Post-ictal end: 83610\n"
     ]
    },
    {
     "name": "stderr",
     "output_type": "stream",
     "text": [
      " 24%|██▍       | 59/245 [2:50:03<6:57:52, 134.80s/it]"
     ]
    },
    {
     "name": "stdout",
     "output_type": "stream",
     "text": [
      "Mean connectivity shape: (28, 28)\n",
      "Number of epochs:  1803\n",
      "Calculating rhythmic features...\n",
      "Storing features...\n",
      "Seizure start: 85289.0\n",
      "Seizure end: 85321.0\n",
      "Frequency: 256.0\n",
      "Pre-ictal start: 85279\n",
      "Pre-ictal end: 85289\n",
      "Ictal start: 85289\n",
      "Ictal end: 85321\n",
      "Post-ictal start: 85321\n",
      "Post-ictal end: 85331\n"
     ]
    },
    {
     "name": "stderr",
     "output_type": "stream",
     "text": [
      " 24%|██▍       | 60/245 [2:52:17<6:54:18, 134.37s/it]"
     ]
    },
    {
     "name": "stdout",
     "output_type": "stream",
     "text": [
      "Mean connectivity shape: (28, 28)\n",
      "Number of epochs:  1800\n",
      "Calculating rhythmic features...\n",
      "Storing features...\n",
      "Seizure start: 4224.0\n",
      "Seizure end: 4237.0\n",
      "Frequency: 256.0\n",
      "Pre-ictal start: 4214\n",
      "Pre-ictal end: 4224\n",
      "Ictal start: 4224\n",
      "Ictal end: 4237\n",
      "Post-ictal start: 4237\n",
      "Post-ictal end: 4247\n"
     ]
    },
    {
     "name": "stderr",
     "output_type": "stream",
     "text": [
      " 25%|██▍       | 61/245 [2:54:13<6:35:28, 128.96s/it]"
     ]
    },
    {
     "name": "stdout",
     "output_type": "stream",
     "text": [
      "Mean connectivity shape: (28, 28)\n",
      "Number of epochs:  1800\n",
      "Calculating rhythmic features...\n",
      "Storing features...\n",
      "Seizure start: 4389.0\n",
      "Seizure end: 4412.0\n",
      "Frequency: 256.0\n",
      "Pre-ictal start: 4379\n",
      "Pre-ictal end: 4389\n",
      "Ictal start: 4389\n",
      "Ictal end: 4412\n",
      "Post-ictal start: 4412\n",
      "Post-ictal end: 4422\n"
     ]
    },
    {
     "name": "stderr",
     "output_type": "stream",
     "text": [
      " 25%|██▌       | 62/245 [2:56:09<6:21:17, 125.01s/it]"
     ]
    },
    {
     "name": "stdout",
     "output_type": "stream",
     "text": [
      "Mean connectivity shape: (28, 28)\n",
      "Number of epochs:  1800\n",
      "Calculating rhythmic features...\n",
      "Storing features...\n",
      "Seizure start: 4755.0\n",
      "Seizure end: 4775.0\n",
      "Frequency: 256.0\n",
      "Pre-ictal start: 4745\n",
      "Pre-ictal end: 4755\n",
      "Ictal start: 4755\n",
      "Ictal end: 4775\n",
      "Post-ictal start: 4775\n",
      "Post-ictal end: 4785\n"
     ]
    },
    {
     "name": "stderr",
     "output_type": "stream",
     "text": [
      " 26%|██▌       | 63/245 [2:58:05<6:11:06, 122.34s/it]"
     ]
    },
    {
     "name": "stdout",
     "output_type": "stream",
     "text": [
      "Mean connectivity shape: (28, 28)\n",
      "Number of epochs:  1800\n",
      "Calculating rhythmic features...\n",
      "Storing features...\n",
      "Seizure start: 5596.0\n",
      "Seizure end: 5622.0\n",
      "Frequency: 256.0\n",
      "Pre-ictal start: 5586\n",
      "Pre-ictal end: 5596\n",
      "Ictal start: 5596\n",
      "Ictal end: 5622\n",
      "Post-ictal start: 5622\n",
      "Post-ictal end: 5632\n"
     ]
    },
    {
     "name": "stderr",
     "output_type": "stream",
     "text": [
      " 26%|██▌       | 64/245 [3:00:02<6:04:11, 120.73s/it]"
     ]
    },
    {
     "name": "stdout",
     "output_type": "stream",
     "text": [
      "Mean connectivity shape: (28, 28)\n",
      "Number of epochs:  1806\n",
      "Calculating rhythmic features...\n",
      "Storing features...\n",
      "Seizure start: 9487.0\n",
      "Seizure end: 9519.0\n",
      "Frequency: 256.0\n",
      "Pre-ictal start: 9477\n",
      "Pre-ictal end: 9487\n",
      "Ictal start: 9487\n",
      "Ictal end: 9519\n",
      "Post-ictal start: 9519\n",
      "Post-ictal end: 9529\n"
     ]
    },
    {
     "name": "stderr",
     "output_type": "stream",
     "text": [
      " 27%|██▋       | 65/245 [3:02:03<6:02:19, 120.78s/it]"
     ]
    },
    {
     "name": "stdout",
     "output_type": "stream",
     "text": [
      "Mean connectivity shape: (28, 28)\n",
      "Number of epochs:  1806\n",
      "Calculating rhythmic features...\n",
      "Storing features...\n",
      "Seizure start: 9908.0\n",
      "Seizure end: 9940.0\n",
      "Frequency: 256.0\n",
      "Pre-ictal start: 9898\n",
      "Pre-ictal end: 9908\n",
      "Ictal start: 9908\n",
      "Ictal end: 9940\n",
      "Post-ictal start: 9940\n",
      "Post-ictal end: 9950\n"
     ]
    },
    {
     "name": "stderr",
     "output_type": "stream",
     "text": [
      " 27%|██▋       | 66/245 [3:04:03<5:59:37, 120.55s/it]"
     ]
    },
    {
     "name": "stdout",
     "output_type": "stream",
     "text": [
      "Mean connectivity shape: (28, 28)\n",
      "Number of epochs:  1805\n",
      "Calculating rhythmic features...\n",
      "Storing features...\n",
      "Seizure start: 10658.0\n",
      "Seizure end: 10690.0\n",
      "Frequency: 256.0\n",
      "Pre-ictal start: 10648\n",
      "Pre-ictal end: 10658\n",
      "Ictal start: 10658\n",
      "Ictal end: 10690\n",
      "Post-ictal start: 10690\n",
      "Post-ictal end: 10700\n"
     ]
    },
    {
     "name": "stderr",
     "output_type": "stream",
     "text": [
      " 27%|██▋       | 67/245 [3:06:08<6:01:51, 121.97s/it]"
     ]
    },
    {
     "name": "stdout",
     "output_type": "stream",
     "text": [
      "Mean connectivity shape: (28, 28)\n",
      "Number of epochs:  1805\n",
      "Calculating rhythmic features...\n",
      "Storing features...\n",
      "Seizure start: 10876.0\n",
      "Seizure end: 10921.0\n",
      "Frequency: 256.0\n",
      "Pre-ictal start: 10866\n",
      "Pre-ictal end: 10876\n",
      "Ictal start: 10876\n",
      "Ictal end: 10921\n",
      "Post-ictal start: 10921\n",
      "Post-ictal end: 10931\n"
     ]
    },
    {
     "name": "stderr",
     "output_type": "stream",
     "text": [
      " 28%|██▊       | 68/245 [3:08:26<6:13:25, 126.59s/it]"
     ]
    },
    {
     "name": "stdout",
     "output_type": "stream",
     "text": [
      "Mean connectivity shape: (28, 28)\n",
      "Number of epochs:  1215\n",
      "Calculating rhythmic features...\n",
      "Storing features...\n",
      "Seizure start: 14793.0\n",
      "Seizure end: 14830.0\n",
      "Frequency: 256.0\n",
      "Pre-ictal start: 14783\n",
      "Pre-ictal end: 14793\n",
      "Ictal start: 14793\n",
      "Ictal end: 14830\n",
      "Post-ictal start: 14830\n",
      "Post-ictal end: 14840\n"
     ]
    },
    {
     "name": "stderr",
     "output_type": "stream",
     "text": [
      " 28%|██▊       | 69/245 [3:09:59<5:42:29, 116.76s/it]"
     ]
    },
    {
     "name": "stdout",
     "output_type": "stream",
     "text": [
      "Mean connectivity shape: (28, 28)\n",
      "Number of epochs:  1800\n",
      "Calculating rhythmic features...\n",
      "Storing features...\n",
      "Seizure start: 43856.0\n",
      "Seizure end: 43936.0\n",
      "Frequency: 256.0\n",
      "Pre-ictal start: 43846\n",
      "Pre-ictal end: 43856\n",
      "Ictal start: 43856\n",
      "Ictal end: 43936\n",
      "Post-ictal start: 43936\n",
      "Post-ictal end: 43946\n"
     ]
    },
    {
     "name": "stderr",
     "output_type": "stream",
     "text": [
      " 29%|██▊       | 70/245 [3:12:01<5:44:26, 118.10s/it]"
     ]
    },
    {
     "name": "stdout",
     "output_type": "stream",
     "text": [
      "Mean connectivity shape: (28, 28)\n",
      "Number of epochs:  1800\n",
      "Calculating rhythmic features...\n",
      "Storing features...\n",
      "Seizure start: 44028.0\n",
      "Seizure end: 44125.0\n",
      "Frequency: 256.0\n",
      "Pre-ictal start: 44018\n",
      "Pre-ictal end: 44028\n",
      "Ictal start: 44028\n",
      "Ictal end: 44125\n",
      "Post-ictal start: 44125\n",
      "Post-ictal end: 44135\n"
     ]
    },
    {
     "name": "stderr",
     "output_type": "stream",
     "text": [
      " 29%|██▉       | 71/245 [3:14:00<5:43:54, 118.59s/it]"
     ]
    },
    {
     "name": "stdout",
     "output_type": "stream",
     "text": [
      "Mean connectivity shape: (28, 28)\n",
      "Number of epochs:  1800\n",
      "Calculating rhythmic features...\n",
      "Storing features...\n",
      "Seizure start: 44233.0\n",
      "Seizure end: 44273.0\n",
      "Frequency: 256.0\n",
      "Pre-ictal start: 44223\n",
      "Pre-ictal end: 44233\n",
      "Ictal start: 44233\n",
      "Ictal end: 44273\n",
      "Post-ictal start: 44273\n",
      "Post-ictal end: 44283\n"
     ]
    },
    {
     "name": "stderr",
     "output_type": "stream",
     "text": [
      " 29%|██▉       | 72/245 [3:15:59<5:42:19, 118.72s/it]"
     ]
    },
    {
     "name": "stdout",
     "output_type": "stream",
     "text": [
      "Mean connectivity shape: (29, 29)\n",
      "Number of epochs:  1800\n",
      "Calculating rhythmic features...\n",
      "Storing features...\n",
      "Seizure start: 58942.0\n",
      "Seizure end: 58977.0\n",
      "Frequency: 256.0\n",
      "Pre-ictal start: 58932\n",
      "Pre-ictal end: 58942\n",
      "Ictal start: 58942\n",
      "Ictal end: 58977\n",
      "Post-ictal start: 58977\n",
      "Post-ictal end: 58987\n"
     ]
    },
    {
     "name": "stderr",
     "output_type": "stream",
     "text": [
      " 30%|██▉       | 73/245 [3:18:18<5:57:02, 124.55s/it]"
     ]
    },
    {
     "name": "stdout",
     "output_type": "stream",
     "text": [
      "Mean connectivity shape: (29, 29)\n",
      "Number of epochs:  1800\n",
      "Calculating rhythmic features...\n",
      "Storing features...\n",
      "Seizure start: 59123.0\n",
      "Seizure end: 59150.0\n",
      "Frequency: 256.0\n",
      "Pre-ictal start: 59113\n",
      "Pre-ictal end: 59123\n",
      "Ictal start: 59123\n",
      "Ictal end: 59150\n",
      "Post-ictal start: 59150\n",
      "Post-ictal end: 59160\n"
     ]
    },
    {
     "name": "stderr",
     "output_type": "stream",
     "text": [
      " 30%|███       | 74/245 [3:20:39<6:09:19, 129.59s/it]"
     ]
    },
    {
     "name": "stdout",
     "output_type": "stream",
     "text": [
      "Mean connectivity shape: (29, 29)\n",
      "Number of epochs:  1800\n",
      "Calculating rhythmic features...\n",
      "Storing features...\n",
      "Seizure start: 59754.0\n",
      "Seizure end: 59779.0\n",
      "Frequency: 256.0\n",
      "Pre-ictal start: 59744\n",
      "Pre-ictal end: 59754\n",
      "Ictal start: 59754\n",
      "Ictal end: 59779\n",
      "Post-ictal start: 59779\n",
      "Post-ictal end: 59789\n"
     ]
    },
    {
     "name": "stderr",
     "output_type": "stream",
     "text": [
      " 31%|███       | 75/245 [3:23:17<6:31:12, 138.07s/it]"
     ]
    },
    {
     "name": "stdout",
     "output_type": "stream",
     "text": [
      "Mean connectivity shape: (29, 29)\n",
      "Number of epochs:  1800\n",
      "Calculating rhythmic features...\n",
      "Storing features...\n",
      "Seizure start: 59947.0\n",
      "Seizure end: 59989.0\n",
      "Frequency: 256.0\n",
      "Pre-ictal start: 59937\n",
      "Pre-ictal end: 59947\n",
      "Ictal start: 59947\n",
      "Ictal end: 59989\n",
      "Post-ictal start: 59989\n",
      "Post-ictal end: 59999\n"
     ]
    },
    {
     "name": "stderr",
     "output_type": "stream",
     "text": [
      " 31%|███       | 76/245 [3:26:26<7:11:43, 153.27s/it]"
     ]
    },
    {
     "name": "stdout",
     "output_type": "stream",
     "text": [
      "Mean connectivity shape: (29, 29)\n",
      "Number of epochs:  1800\n",
      "Calculating rhythmic features...\n",
      "Storing features...\n",
      "Seizure start: 60414.0\n",
      "Seizure end: 60466.0\n",
      "Frequency: 256.0\n",
      "Pre-ictal start: 60404\n",
      "Pre-ictal end: 60414\n",
      "Ictal start: 60414\n",
      "Ictal end: 60466\n",
      "Post-ictal start: 60466\n",
      "Post-ictal end: 60476\n"
     ]
    },
    {
     "name": "stderr",
     "output_type": "stream",
     "text": [
      " 31%|███▏      | 77/245 [3:29:29<7:34:49, 162.44s/it]"
     ]
    },
    {
     "name": "stdout",
     "output_type": "stream",
     "text": [
      "Mean connectivity shape: (29, 29)\n",
      "Number of epochs:  1800\n",
      "Calculating rhythmic features...\n",
      "Storing features...\n",
      "Seizure start: 60647.0\n",
      "Seizure end: 60695.0\n",
      "Frequency: 256.0\n",
      "Pre-ictal start: 60637\n",
      "Pre-ictal end: 60647\n",
      "Ictal start: 60647\n",
      "Ictal end: 60695\n",
      "Post-ictal start: 60695\n",
      "Post-ictal end: 60705\n"
     ]
    },
    {
     "name": "stderr",
     "output_type": "stream",
     "text": [
      " 32%|███▏      | 78/245 [3:31:49<7:13:04, 155.60s/it]"
     ]
    },
    {
     "name": "stdout",
     "output_type": "stream",
     "text": [
      "Mean connectivity shape: (29, 29)\n",
      "Number of epochs:  1800\n",
      "Calculating rhythmic features...\n",
      "Storing features...\n",
      "Seizure start: 61813.0\n",
      "Seizure end: 61847.0\n",
      "Frequency: 256.0\n",
      "Pre-ictal start: 61803\n",
      "Pre-ictal end: 61813\n",
      "Ictal start: 61813\n",
      "Ictal end: 61847\n",
      "Post-ictal start: 61847\n",
      "Post-ictal end: 61857\n"
     ]
    },
    {
     "name": "stderr",
     "output_type": "stream",
     "text": [
      " 32%|███▏      | 79/245 [3:33:44<6:36:49, 143.43s/it]"
     ]
    },
    {
     "name": "stdout",
     "output_type": "stream",
     "text": [
      "Mean connectivity shape: (29, 29)\n",
      "Number of epochs:  1812\n",
      "Calculating rhythmic features...\n",
      "Storing features...\n",
      "Seizure start: 65346.0\n",
      "Seizure end: 65385.0\n",
      "Frequency: 256.0\n",
      "Pre-ictal start: 65336\n",
      "Pre-ictal end: 65346\n",
      "Ictal start: 65346\n",
      "Ictal end: 65385\n",
      "Post-ictal start: 65385\n",
      "Post-ictal end: 65395\n"
     ]
    },
    {
     "name": "stderr",
     "output_type": "stream",
     "text": [
      " 33%|███▎      | 80/245 [3:35:45<6:15:58, 136.72s/it]"
     ]
    },
    {
     "name": "stdout",
     "output_type": "stream",
     "text": [
      "Mean connectivity shape: (29, 29)\n",
      "Number of epochs:  1812\n",
      "Calculating rhythmic features...\n",
      "Storing features...\n",
      "Seizure start: 65793.0\n",
      "Seizure end: 65831.0\n",
      "Frequency: 256.0\n",
      "Pre-ictal start: 65783\n",
      "Pre-ictal end: 65793\n",
      "Ictal start: 65793\n",
      "Ictal end: 65831\n",
      "Post-ictal start: 65831\n",
      "Post-ictal end: 65841\n"
     ]
    },
    {
     "name": "stderr",
     "output_type": "stream",
     "text": [
      " 33%|███▎      | 81/245 [3:37:45<6:00:12, 131.78s/it]"
     ]
    },
    {
     "name": "stdout",
     "output_type": "stream",
     "text": [
      "Mean connectivity shape: (29, 29)\n",
      "Number of epochs:  1812\n",
      "Calculating rhythmic features...\n",
      "Storing features...\n",
      "Seizure start: 66402.0\n",
      "Seizure end: 66438.0\n",
      "Frequency: 256.0\n",
      "Pre-ictal start: 66392\n",
      "Pre-ictal end: 66402\n",
      "Ictal start: 66402\n",
      "Ictal end: 66438\n",
      "Post-ictal start: 66438\n",
      "Post-ictal end: 66448\n"
     ]
    },
    {
     "name": "stderr",
     "output_type": "stream",
     "text": [
      " 33%|███▎      | 82/245 [3:39:46<5:48:33, 128.30s/it]"
     ]
    },
    {
     "name": "stdout",
     "output_type": "stream",
     "text": [
      "Mean connectivity shape: (29, 29)\n",
      "Number of epochs:  1812\n",
      "Calculating rhythmic features...\n",
      "Storing features...\n",
      "Seizure start: 66644.0\n",
      "Seizure end: 66690.0\n",
      "Frequency: 256.0\n",
      "Pre-ictal start: 66634\n",
      "Pre-ictal end: 66644\n",
      "Ictal start: 66644\n",
      "Ictal end: 66690\n",
      "Post-ictal start: 66690\n",
      "Post-ictal end: 66700\n"
     ]
    },
    {
     "name": "stderr",
     "output_type": "stream",
     "text": [
      " 34%|███▍      | 83/245 [3:41:46<5:39:51, 125.87s/it]"
     ]
    },
    {
     "name": "stdout",
     "output_type": "stream",
     "text": [
      "Mean connectivity shape: (29, 29)\n",
      "Number of epochs:  1812\n",
      "Calculating rhythmic features...\n",
      "Storing features...\n",
      "Seizure start: 67123.0\n",
      "Seizure end: 67160.0\n",
      "Frequency: 256.0\n",
      "Pre-ictal start: 67113\n",
      "Pre-ictal end: 67123\n",
      "Ictal start: 67123\n",
      "Ictal end: 67160\n",
      "Post-ictal start: 67160\n",
      "Post-ictal end: 67170\n"
     ]
    },
    {
     "name": "stderr",
     "output_type": "stream",
     "text": [
      " 34%|███▍      | 84/245 [3:43:46<5:33:21, 124.24s/it]"
     ]
    },
    {
     "name": "stdout",
     "output_type": "stream",
     "text": [
      "Mean connectivity shape: (29, 29)\n",
      "Number of epochs:  1812\n",
      "Calculating rhythmic features...\n",
      "Storing features...\n",
      "Seizure start: 68796.0\n",
      "Seizure end: 68823.0\n",
      "Frequency: 256.0\n",
      "Pre-ictal start: 68786\n",
      "Pre-ictal end: 68796\n",
      "Ictal start: 68796\n",
      "Ictal end: 68823\n",
      "Post-ictal start: 68823\n",
      "Post-ictal end: 68833\n"
     ]
    },
    {
     "name": "stderr",
     "output_type": "stream",
     "text": [
      " 35%|███▍      | 85/245 [3:45:47<5:28:27, 123.17s/it]"
     ]
    },
    {
     "name": "stdout",
     "output_type": "stream",
     "text": [
      "Mean connectivity shape: (29, 29)\n",
      "Number of epochs:  1800\n",
      "Calculating rhythmic features...\n",
      "Storing features...\n",
      "Seizure start: 81976.0\n",
      "Seizure end: 81997.0\n",
      "Frequency: 256.0\n",
      "Pre-ictal start: 81966\n",
      "Pre-ictal end: 81976\n",
      "Ictal start: 81976\n",
      "Ictal end: 81997\n",
      "Post-ictal start: 81997\n",
      "Post-ictal end: 82007\n"
     ]
    },
    {
     "name": "stderr",
     "output_type": "stream",
     "text": [
      " 35%|███▌      | 86/245 [3:47:46<5:22:54, 121.85s/it]"
     ]
    },
    {
     "name": "stdout",
     "output_type": "stream",
     "text": [
      "Mean connectivity shape: (29, 29)\n",
      "Number of epochs:  1800\n",
      "Calculating rhythmic features...\n",
      "Storing features...\n",
      "Seizure start: 82218.0\n",
      "Seizure end: 82241.0\n",
      "Frequency: 256.0\n",
      "Pre-ictal start: 82208\n",
      "Pre-ictal end: 82218\n",
      "Ictal start: 82218\n",
      "Ictal end: 82241\n",
      "Post-ictal start: 82241\n",
      "Post-ictal end: 82251\n"
     ]
    },
    {
     "name": "stderr",
     "output_type": "stream",
     "text": [
      " 36%|███▌      | 87/245 [3:49:44<5:18:08, 120.82s/it]"
     ]
    },
    {
     "name": "stdout",
     "output_type": "stream",
     "text": [
      "Mean connectivity shape: (29, 29)\n",
      "Number of epochs:  1800\n",
      "Calculating rhythmic features...\n",
      "Storing features...\n",
      "Seizure start: 4864.0\n",
      "Seizure end: 4891.0\n",
      "Frequency: 256.0\n",
      "Pre-ictal start: 4854\n",
      "Pre-ictal end: 4864\n",
      "Ictal start: 4864\n",
      "Ictal end: 4891\n",
      "Post-ictal start: 4891\n",
      "Post-ictal end: 4901\n"
     ]
    },
    {
     "name": "stderr",
     "output_type": "stream",
     "text": [
      " 36%|███▌      | 88/245 [3:51:40<5:12:27, 119.41s/it]"
     ]
    },
    {
     "name": "stdout",
     "output_type": "stream",
     "text": [
      "Mean connectivity shape: (29, 29)\n",
      "Number of epochs:  1800\n",
      "Calculating rhythmic features...\n",
      "Storing features...\n",
      "Seizure start: 13012.0\n",
      "Seizure end: 13037.0\n",
      "Frequency: 256.0\n",
      "Pre-ictal start: 13002\n",
      "Pre-ictal end: 13012\n",
      "Ictal start: 13012\n",
      "Ictal end: 13037\n",
      "Post-ictal start: 13037\n",
      "Post-ictal end: 13047\n"
     ]
    },
    {
     "name": "stderr",
     "output_type": "stream",
     "text": [
      " 36%|███▋      | 89/245 [3:53:37<5:08:42, 118.73s/it]"
     ]
    },
    {
     "name": "stdout",
     "output_type": "stream",
     "text": [
      "Mean connectivity shape: (29, 29)\n",
      "Number of epochs:  1800\n",
      "Calculating rhythmic features...\n",
      "Storing features...\n",
      "Seizure start: 14262.0\n",
      "Seizure end: 14285.0\n",
      "Frequency: 256.0\n",
      "Pre-ictal start: 14252\n",
      "Pre-ictal end: 14262\n",
      "Ictal start: 14262\n",
      "Ictal end: 14285\n",
      "Post-ictal start: 14285\n",
      "Post-ictal end: 14295\n"
     ]
    },
    {
     "name": "stderr",
     "output_type": "stream",
     "text": [
      " 37%|███▋      | 90/245 [3:55:33<5:04:47, 117.98s/it]"
     ]
    },
    {
     "name": "stdout",
     "output_type": "stream",
     "text": [
      "Mean connectivity shape: (29, 29)\n",
      "Number of epochs:  1800\n",
      "Calculating rhythmic features...\n",
      "Storing features...\n",
      "Seizure start: 14430.0\n",
      "Seizure end: 14473.0\n",
      "Frequency: 256.0\n",
      "Pre-ictal start: 14420\n",
      "Pre-ictal end: 14430\n",
      "Ictal start: 14430\n",
      "Ictal end: 14473\n",
      "Post-ictal start: 14473\n",
      "Post-ictal end: 14483\n"
     ]
    },
    {
     "name": "stderr",
     "output_type": "stream",
     "text": [
      " 37%|███▋      | 91/245 [3:57:30<5:02:01, 117.67s/it]"
     ]
    },
    {
     "name": "stdout",
     "output_type": "stream",
     "text": [
      "Mean connectivity shape: (29, 29)\n",
      "Number of epochs:  1800\n",
      "Calculating rhythmic features...\n",
      "Storing features...\n",
      "Seizure start: 14610.0\n",
      "Seizure end: 14665.0\n",
      "Frequency: 256.0\n",
      "Pre-ictal start: 14600\n",
      "Pre-ictal end: 14610\n",
      "Ictal start: 14610\n",
      "Ictal end: 14665\n",
      "Post-ictal start: 14665\n",
      "Post-ictal end: 14675\n"
     ]
    },
    {
     "name": "stderr",
     "output_type": "stream",
     "text": [
      " 38%|███▊      | 92/245 [3:59:27<4:59:30, 117.45s/it]"
     ]
    },
    {
     "name": "stdout",
     "output_type": "stream",
     "text": [
      "Mean connectivity shape: (29, 29)\n",
      "Number of epochs:  1800\n",
      "Calculating rhythmic features...\n",
      "Storing features...\n",
      "Seizure start: 14828.0\n",
      "Seizure end: 14874.0\n",
      "Frequency: 256.0\n",
      "Pre-ictal start: 14818\n",
      "Pre-ictal end: 14828\n",
      "Ictal start: 14828\n",
      "Ictal end: 14874\n",
      "Post-ictal start: 14874\n",
      "Post-ictal end: 14884\n"
     ]
    },
    {
     "name": "stderr",
     "output_type": "stream",
     "text": [
      " 38%|███▊      | 93/245 [4:01:24<4:57:12, 117.32s/it]"
     ]
    },
    {
     "name": "stdout",
     "output_type": "stream",
     "text": [
      "Mean connectivity shape: (29, 29)\n",
      "Number of epochs:  1800\n",
      "Calculating rhythmic features...\n",
      "Storing features...\n",
      "Seizure start: 26589.0\n",
      "Seizure end: 26640.0\n",
      "Frequency: 256.0\n",
      "Pre-ictal start: 26579\n",
      "Pre-ictal end: 26589\n",
      "Ictal start: 26589\n",
      "Ictal end: 26640\n",
      "Post-ictal start: 26640\n",
      "Post-ictal end: 26650\n"
     ]
    },
    {
     "name": "stderr",
     "output_type": "stream",
     "text": [
      " 38%|███▊      | 94/245 [4:03:21<4:54:50, 117.16s/it]"
     ]
    },
    {
     "name": "stdout",
     "output_type": "stream",
     "text": [
      "Mean connectivity shape: (29, 29)\n",
      "Number of epochs:  1800\n",
      "Calculating rhythmic features...\n",
      "Storing features...\n",
      "Seizure start: 26835.0\n",
      "Seizure end: 26863.0\n",
      "Frequency: 256.0\n",
      "Pre-ictal start: 26825\n",
      "Pre-ictal end: 26835\n",
      "Ictal start: 26835\n",
      "Ictal end: 26863\n",
      "Post-ictal start: 26863\n",
      "Post-ictal end: 26873\n"
     ]
    },
    {
     "name": "stderr",
     "output_type": "stream",
     "text": [
      " 39%|███▉      | 95/245 [4:05:18<4:52:41, 117.08s/it]"
     ]
    },
    {
     "name": "stdout",
     "output_type": "stream",
     "text": [
      "Mean connectivity shape: (29, 29)\n",
      "Number of epochs:  1800\n",
      "Calculating rhythmic features...\n",
      "Storing features...\n",
      "Seizure start: 27060.0\n",
      "Seizure end: 27089.0\n",
      "Frequency: 256.0\n",
      "Pre-ictal start: 27050\n",
      "Pre-ictal end: 27060\n",
      "Ictal start: 27060\n",
      "Ictal end: 27089\n",
      "Post-ictal start: 27089\n",
      "Post-ictal end: 27099\n"
     ]
    },
    {
     "name": "stderr",
     "output_type": "stream",
     "text": [
      " 39%|███▉      | 96/245 [4:07:15<4:50:52, 117.13s/it]"
     ]
    },
    {
     "name": "stdout",
     "output_type": "stream",
     "text": [
      "Mean connectivity shape: (29, 29)\n",
      "Number of epochs:  1800\n",
      "Calculating rhythmic features...\n",
      "Storing features...\n",
      "Seizure start: 27566.0\n",
      "Seizure end: 27591.0\n",
      "Frequency: 256.0\n",
      "Pre-ictal start: 27556\n",
      "Pre-ictal end: 27566\n",
      "Ictal start: 27566\n",
      "Ictal end: 27591\n",
      "Post-ictal start: 27591\n",
      "Post-ictal end: 27601\n"
     ]
    },
    {
     "name": "stderr",
     "output_type": "stream",
     "text": [
      " 40%|███▉      | 97/245 [4:09:12<4:48:37, 117.01s/it]"
     ]
    },
    {
     "name": "stdout",
     "output_type": "stream",
     "text": [
      "Mean connectivity shape: (29, 29)\n",
      "Number of epochs:  1800\n",
      "Calculating rhythmic features...\n",
      "Storing features...\n",
      "Seizure start: 28103.0\n",
      "Seizure end: 28126.0\n",
      "Frequency: 256.0\n",
      "Pre-ictal start: 28093\n",
      "Pre-ictal end: 28103\n",
      "Ictal start: 28103\n",
      "Ictal end: 28126\n",
      "Post-ictal start: 28126\n",
      "Post-ictal end: 28136\n"
     ]
    },
    {
     "name": "stderr",
     "output_type": "stream",
     "text": [
      " 40%|████      | 98/245 [4:11:09<4:46:34, 116.97s/it]"
     ]
    },
    {
     "name": "stdout",
     "output_type": "stream",
     "text": [
      "Mean connectivity shape: (28, 28)\n",
      "Number of epochs:  1800\n",
      "Calculating rhythmic features...\n",
      "Storing features...\n",
      "Seizure start: 35342.0\n",
      "Seizure end: 35386.0\n",
      "Frequency: 256.0\n",
      "Pre-ictal start: 35332\n",
      "Pre-ictal end: 35342\n",
      "Ictal start: 35342\n",
      "Ictal end: 35386\n",
      "Post-ictal start: 35386\n",
      "Post-ictal end: 35396\n"
     ]
    },
    {
     "name": "stderr",
     "output_type": "stream",
     "text": [
      " 40%|████      | 99/245 [4:13:00<4:40:16, 115.18s/it]"
     ]
    },
    {
     "name": "stdout",
     "output_type": "stream",
     "text": [
      "Mean connectivity shape: (28, 28)\n",
      "Number of epochs:  1800\n",
      "Calculating rhythmic features...\n",
      "Storing features...\n",
      "Seizure start: 41433.0\n",
      "Seizure end: 41503.0\n",
      "Frequency: 256.0\n",
      "Pre-ictal start: 41423\n",
      "Pre-ictal end: 41433\n",
      "Ictal start: 41433\n",
      "Ictal end: 41503\n",
      "Post-ictal start: 41503\n",
      "Post-ictal end: 41513\n"
     ]
    },
    {
     "name": "stderr",
     "output_type": "stream",
     "text": [
      " 41%|████      | 100/245 [4:14:50<4:34:27, 113.57s/it]"
     ]
    },
    {
     "name": "stdout",
     "output_type": "stream",
     "text": [
      "Mean connectivity shape: (22, 22)\n",
      "Number of epochs:  1800\n",
      "Calculating rhythmic features...\n",
      "Storing features...\n",
      "Seizure start: 22812.0\n",
      "Seizure end: 22843.0\n",
      "Frequency: 256.0\n",
      "Pre-ictal start: 22802\n",
      "Pre-ictal end: 22812\n",
      "Ictal start: 22812\n",
      "Ictal end: 22843\n",
      "Post-ictal start: 22843\n",
      "Post-ictal end: 22853\n"
     ]
    },
    {
     "name": "stderr",
     "output_type": "stream",
     "text": [
      " 41%|████      | 101/245 [4:16:38<4:28:57, 112.06s/it]"
     ]
    },
    {
     "name": "stdout",
     "output_type": "stream",
     "text": [
      "Mean connectivity shape: (22, 22)\n",
      "Number of epochs:  1800\n",
      "Calculating rhythmic features...\n",
      "Storing features...\n",
      "Seizure start: 23180.0\n",
      "Seizure end: 23244.0\n",
      "Frequency: 256.0\n",
      "Pre-ictal start: 23170\n",
      "Pre-ictal end: 23180\n",
      "Ictal start: 23180\n",
      "Ictal end: 23244\n",
      "Post-ictal start: 23244\n",
      "Post-ictal end: 23254\n"
     ]
    },
    {
     "name": "stderr",
     "output_type": "stream",
     "text": [
      " 42%|████▏     | 102/245 [4:18:27<4:24:27, 110.96s/it]"
     ]
    },
    {
     "name": "stdout",
     "output_type": "stream",
     "text": [
      "Mean connectivity shape: (28, 28)\n",
      "Number of epochs:  1800\n",
      "Calculating rhythmic features...\n",
      "Storing features...\n",
      "Seizure start: 77265.0\n",
      "Seizure end: 77285.0\n",
      "Frequency: 256.0\n",
      "Pre-ictal start: 77255\n",
      "Pre-ictal end: 77265\n",
      "Ictal start: 77265\n",
      "Ictal end: 77285\n",
      "Post-ictal start: 77285\n",
      "Post-ictal end: 77295\n"
     ]
    },
    {
     "name": "stderr",
     "output_type": "stream",
     "text": [
      " 42%|████▏     | 103/245 [4:20:22<4:25:39, 112.25s/it]"
     ]
    },
    {
     "name": "stdout",
     "output_type": "stream",
     "text": [
      "Mean connectivity shape: (28, 28)\n",
      "Number of epochs:  1800\n",
      "Calculating rhythmic features...\n",
      "Storing features...\n",
      "Seizure start: 79243.0\n",
      "Seizure end: 79261.0\n",
      "Frequency: 256.0\n",
      "Pre-ictal start: 79233\n",
      "Pre-ictal end: 79243\n",
      "Ictal start: 79243\n",
      "Ictal end: 79261\n",
      "Post-ictal start: 79261\n",
      "Post-ictal end: 79271\n"
     ]
    },
    {
     "name": "stderr",
     "output_type": "stream",
     "text": [
      " 42%|████▏     | 104/245 [4:22:17<4:25:35, 113.02s/it]"
     ]
    },
    {
     "name": "stdout",
     "output_type": "stream",
     "text": [
      "Mean connectivity shape: (28, 28)\n",
      "Number of epochs:  1800\n",
      "Calculating rhythmic features...\n",
      "Storing features...\n",
      "Seizure start: 3702.0\n",
      "Seizure end: 3719.0\n",
      "Frequency: 256.0\n",
      "Pre-ictal start: 3692\n",
      "Pre-ictal end: 3702\n",
      "Ictal start: 3702\n",
      "Ictal end: 3719\n",
      "Post-ictal start: 3719\n",
      "Post-ictal end: 3729\n"
     ]
    },
    {
     "name": "stderr",
     "output_type": "stream",
     "text": [
      " 43%|████▎     | 105/245 [4:24:08<4:22:36, 112.54s/it]"
     ]
    },
    {
     "name": "stdout",
     "output_type": "stream",
     "text": [
      "Mean connectivity shape: (28, 28)\n",
      "Number of epochs:  1800\n",
      "Calculating rhythmic features...\n",
      "Storing features...\n",
      "Seizure start: 8173.0\n",
      "Seizure end: 8235.0\n",
      "Frequency: 256.0\n",
      "Pre-ictal start: 8163\n",
      "Pre-ictal end: 8173\n",
      "Ictal start: 8173\n",
      "Ictal end: 8235\n",
      "Post-ictal start: 8235\n",
      "Post-ictal end: 8245\n"
     ]
    },
    {
     "name": "stderr",
     "output_type": "stream",
     "text": [
      " 43%|████▎     | 106/245 [4:26:05<4:23:57, 113.94s/it]"
     ]
    },
    {
     "name": "stdout",
     "output_type": "stream",
     "text": [
      "Mean connectivity shape: (28, 28)\n",
      "Number of epochs:  1800\n",
      "Calculating rhythmic features...\n",
      "Storing features...\n",
      "Seizure start: 9079.0\n",
      "Seizure end: 9101.0\n",
      "Frequency: 256.0\n",
      "Pre-ictal start: 9069\n",
      "Pre-ictal end: 9079\n",
      "Ictal start: 9079\n",
      "Ictal end: 9101\n",
      "Post-ictal start: 9101\n",
      "Post-ictal end: 9111\n"
     ]
    },
    {
     "name": "stderr",
     "output_type": "stream",
     "text": [
      " 44%|████▎     | 107/245 [4:28:01<4:23:10, 114.42s/it]"
     ]
    },
    {
     "name": "stdout",
     "output_type": "stream",
     "text": [
      "Mean connectivity shape: (28, 28)\n",
      "Number of epochs:  1800\n",
      "Calculating rhythmic features...\n",
      "Storing features...\n",
      "Seizure start: 16506.0\n",
      "Seizure end: 16571.0\n",
      "Frequency: 256.0\n",
      "Pre-ictal start: 16496\n",
      "Pre-ictal end: 16506\n",
      "Ictal start: 16506\n",
      "Ictal end: 16571\n",
      "Post-ictal start: 16571\n",
      "Post-ictal end: 16581\n"
     ]
    },
    {
     "name": "stderr",
     "output_type": "stream",
     "text": [
      " 44%|████▍     | 108/245 [4:29:52<4:19:14, 113.54s/it]"
     ]
    },
    {
     "name": "stdout",
     "output_type": "stream",
     "text": [
      "Mean connectivity shape: (28, 28)\n",
      "Number of epochs:  1800\n",
      "Calculating rhythmic features...\n",
      "Storing features...\n",
      "Seizure start: 17281.0\n",
      "Seizure end: 17346.0\n",
      "Frequency: 256.0\n",
      "Pre-ictal start: 17271\n",
      "Pre-ictal end: 17281\n",
      "Ictal start: 17281\n",
      "Ictal end: 17346\n",
      "Post-ictal start: 17346\n",
      "Post-ictal end: 17356\n"
     ]
    },
    {
     "name": "stderr",
     "output_type": "stream",
     "text": [
      " 44%|████▍     | 109/245 [4:31:44<4:16:11, 113.03s/it]"
     ]
    },
    {
     "name": "stdout",
     "output_type": "stream",
     "text": [
      "Mean connectivity shape: (28, 28)\n",
      "Number of epochs:  1800\n",
      "Calculating rhythmic features...\n",
      "Storing features...\n",
      "Seizure start: 18319.0\n",
      "Seizure end: 18376.0\n",
      "Frequency: 256.0\n",
      "Pre-ictal start: 18309\n",
      "Pre-ictal end: 18319\n",
      "Ictal start: 18319\n",
      "Ictal end: 18376\n",
      "Post-ictal start: 18376\n",
      "Post-ictal end: 18386\n"
     ]
    },
    {
     "name": "stderr",
     "output_type": "stream",
     "text": [
      " 45%|████▍     | 110/245 [4:33:36<4:13:37, 112.72s/it]"
     ]
    },
    {
     "name": "stdout",
     "output_type": "stream",
     "text": [
      "Mean connectivity shape: (28, 28)\n",
      "Number of epochs:  1800\n",
      "Calculating rhythmic features...\n",
      "Storing features...\n",
      "Seizure start: 61686.0\n",
      "Seizure end: 61700.0\n",
      "Frequency: 256.0\n",
      "Pre-ictal start: 61676\n",
      "Pre-ictal end: 61686\n",
      "Ictal start: 61686\n",
      "Ictal end: 61700\n",
      "Post-ictal start: 61700\n",
      "Post-ictal end: 61710\n"
     ]
    },
    {
     "name": "stderr",
     "output_type": "stream",
     "text": [
      " 45%|████▌     | 111/245 [4:35:30<4:12:38, 113.12s/it]"
     ]
    },
    {
     "name": "stdout",
     "output_type": "stream",
     "text": [
      "Mean connectivity shape: (28, 28)\n",
      "Number of epochs:  1800\n",
      "Calculating rhythmic features...\n",
      "Storing features...\n",
      "Seizure start: 64679.0\n",
      "Seizure end: 64699.0\n",
      "Frequency: 256.0\n",
      "Pre-ictal start: 64669\n",
      "Pre-ictal end: 64679\n",
      "Ictal start: 64679\n",
      "Ictal end: 64699\n",
      "Post-ictal start: 64699\n",
      "Post-ictal end: 64709\n"
     ]
    },
    {
     "name": "stderr",
     "output_type": "stream",
     "text": [
      " 46%|████▌     | 112/245 [4:37:27<4:13:26, 114.34s/it]"
     ]
    },
    {
     "name": "stdout",
     "output_type": "stream",
     "text": [
      "Mean connectivity shape: (28, 28)\n",
      "Number of epochs:  1800\n",
      "Calculating rhythmic features...\n",
      "Storing features...\n",
      "Seizure start: 66124.0\n",
      "Seizure end: 66146.0\n",
      "Frequency: 256.0\n",
      "Pre-ictal start: 66114\n",
      "Pre-ictal end: 66124\n",
      "Ictal start: 66124\n",
      "Ictal end: 66146\n",
      "Post-ictal start: 66146\n",
      "Post-ictal end: 66156\n"
     ]
    },
    {
     "name": "stderr",
     "output_type": "stream",
     "text": [
      " 46%|████▌     | 113/245 [4:39:24<4:13:16, 115.13s/it]"
     ]
    },
    {
     "name": "stdout",
     "output_type": "stream",
     "text": [
      "Mean connectivity shape: (28, 28)\n",
      "Number of epochs:  1800\n",
      "Calculating rhythmic features...\n",
      "Storing features...\n",
      "Seizure start: 72432.0\n",
      "Seizure end: 72446.0\n",
      "Frequency: 256.0\n",
      "Pre-ictal start: 72422\n",
      "Pre-ictal end: 72432\n",
      "Ictal start: 72432\n",
      "Ictal end: 72446\n",
      "Post-ictal start: 72446\n",
      "Post-ictal end: 72456\n"
     ]
    },
    {
     "name": "stderr",
     "output_type": "stream",
     "text": [
      " 47%|████▋     | 114/245 [4:41:17<4:09:22, 114.22s/it]"
     ]
    },
    {
     "name": "stdout",
     "output_type": "stream",
     "text": [
      "Mean connectivity shape: (28, 28)\n",
      "Number of epochs:  1800\n",
      "Calculating rhythmic features...\n",
      "Storing features...\n",
      "Seizure start: 3993.0\n",
      "Seizure end: 4034.0\n",
      "Frequency: 256.0\n",
      "Pre-ictal start: 3983\n",
      "Pre-ictal end: 3993\n",
      "Ictal start: 3993\n",
      "Ictal end: 4034\n",
      "Post-ictal start: 4034\n",
      "Post-ictal end: 4044\n"
     ]
    },
    {
     "name": "stderr",
     "output_type": "stream",
     "text": [
      " 47%|████▋     | 115/245 [4:43:14<4:09:17, 115.06s/it]"
     ]
    },
    {
     "name": "stdout",
     "output_type": "stream",
     "text": [
      "Mean connectivity shape: (28, 28)\n",
      "Number of epochs:  1800\n",
      "Calculating rhythmic features...\n",
      "Storing features...\n",
      "Seizure start: 27035.0\n",
      "Seizure end: 27055.0\n",
      "Frequency: 256.0\n",
      "Pre-ictal start: 27025\n",
      "Pre-ictal end: 27035\n",
      "Ictal start: 27035\n",
      "Ictal end: 27055\n",
      "Post-ictal start: 27055\n",
      "Post-ictal end: 27065\n"
     ]
    },
    {
     "name": "stderr",
     "output_type": "stream",
     "text": [
      " 47%|████▋     | 116/245 [4:45:08<4:06:55, 114.85s/it]"
     ]
    },
    {
     "name": "stdout",
     "output_type": "stream",
     "text": [
      "Mean connectivity shape: (28, 28)\n",
      "Number of epochs:  1800\n",
      "Calculating rhythmic features...\n",
      "Storing features...\n",
      "Seizure start: 28442.0\n",
      "Seizure end: 28464.0\n",
      "Frequency: 256.0\n",
      "Pre-ictal start: 28432\n",
      "Pre-ictal end: 28442\n",
      "Ictal start: 28442\n",
      "Ictal end: 28464\n",
      "Post-ictal start: 28464\n",
      "Post-ictal end: 28474\n"
     ]
    },
    {
     "name": "stderr",
     "output_type": "stream",
     "text": [
      " 48%|████▊     | 117/245 [4:47:00<4:03:23, 114.09s/it]"
     ]
    },
    {
     "name": "stdout",
     "output_type": "stream",
     "text": [
      "Mean connectivity shape: (28, 28)\n",
      "Number of epochs:  1800\n",
      "Calculating rhythmic features...\n",
      "Storing features...\n",
      "Seizure start: 62698.0\n",
      "Seizure end: 62714.0\n",
      "Frequency: 256.0\n",
      "Pre-ictal start: 62688\n",
      "Pre-ictal end: 62698\n",
      "Ictal start: 62698\n",
      "Ictal end: 62714\n",
      "Post-ictal start: 62714\n",
      "Post-ictal end: 62724\n"
     ]
    },
    {
     "name": "stderr",
     "output_type": "stream",
     "text": [
      " 48%|████▊     | 118/245 [4:48:56<4:02:14, 114.45s/it]"
     ]
    },
    {
     "name": "stdout",
     "output_type": "stream",
     "text": [
      "Mean connectivity shape: (38, 38)\n",
      "Number of epochs:  1800\n",
      "Calculating rhythmic features...\n",
      "Storing features...\n",
      "Seizure start: 84522.0\n",
      "Seizure end: 84647.0\n",
      "Frequency: 256.0\n",
      "Pre-ictal start: 84512\n",
      "Pre-ictal end: 84522\n",
      "Ictal start: 84522\n",
      "Ictal end: 84647\n",
      "Post-ictal start: 84647\n",
      "Post-ictal end: 84657\n"
     ]
    },
    {
     "name": "stderr",
     "output_type": "stream",
     "text": [
      " 49%|████▊     | 119/245 [4:51:14<4:15:37, 121.73s/it]"
     ]
    },
    {
     "name": "stdout",
     "output_type": "stream",
     "text": [
      "Mean connectivity shape: (38, 38)\n",
      "Number of epochs:  1800\n",
      "Calculating rhythmic features...\n",
      "Storing features...\n",
      "Seizure start: 13360.0\n",
      "Seizure end: 13391.0\n",
      "Frequency: 256.0\n",
      "Pre-ictal start: 13350\n",
      "Pre-ictal end: 13360\n",
      "Ictal start: 13360\n",
      "Ictal end: 13391\n",
      "Post-ictal start: 13391\n",
      "Post-ictal end: 13401\n"
     ]
    },
    {
     "name": "stderr",
     "output_type": "stream",
     "text": [
      " 49%|████▉     | 120/245 [4:53:29<4:21:36, 125.57s/it]"
     ]
    },
    {
     "name": "stdout",
     "output_type": "stream",
     "text": [
      "Mean connectivity shape: (38, 38)\n",
      "Number of epochs:  1800\n",
      "Calculating rhythmic features...\n",
      "Storing features...\n",
      "Seizure start: 31904.0\n",
      "Seizure end: 32061.0\n",
      "Frequency: 256.0\n",
      "Pre-ictal start: 31894\n",
      "Pre-ictal end: 31904\n",
      "Ictal start: 31904\n",
      "Ictal end: 32061\n",
      "Post-ictal start: 32061\n",
      "Post-ictal end: 32071\n"
     ]
    },
    {
     "name": "stderr",
     "output_type": "stream",
     "text": [
      " 49%|████▉     | 121/245 [4:55:41<4:23:30, 127.50s/it]"
     ]
    },
    {
     "name": "stdout",
     "output_type": "stream",
     "text": [
      "Mean connectivity shape: (38, 38)\n",
      "Number of epochs:  1800\n",
      "Calculating rhythmic features...\n",
      "Storing features...\n",
      "Seizure start: 39452.0\n",
      "Seizure end: 39487.0\n",
      "Frequency: 256.0\n",
      "Pre-ictal start: 39442\n",
      "Pre-ictal end: 39452\n",
      "Ictal start: 39452\n",
      "Ictal end: 39487\n",
      "Post-ictal start: 39487\n",
      "Post-ictal end: 39497\n"
     ]
    },
    {
     "name": "stderr",
     "output_type": "stream",
     "text": [
      " 50%|████▉     | 122/245 [4:57:54<4:24:58, 129.26s/it]"
     ]
    },
    {
     "name": "stdout",
     "output_type": "stream",
     "text": [
      "Mean connectivity shape: (38, 38)\n",
      "Number of epochs:  1800\n",
      "Calculating rhythmic features...\n",
      "Storing features...\n",
      "Seizure start: 48955.0\n",
      "Seizure end: 49010.0\n",
      "Frequency: 256.0\n",
      "Pre-ictal start: 48945\n",
      "Pre-ictal end: 48955\n",
      "Ictal start: 48955\n",
      "Ictal end: 49010\n",
      "Post-ictal start: 49010\n",
      "Post-ictal end: 49020\n"
     ]
    },
    {
     "name": "stderr",
     "output_type": "stream",
     "text": [
      " 50%|█████     | 123/245 [5:00:11<4:27:44, 131.68s/it]"
     ]
    },
    {
     "name": "stdout",
     "output_type": "stream",
     "text": [
      "Mean connectivity shape: (38, 38)\n",
      "Number of epochs:  1800\n",
      "Calculating rhythmic features...\n",
      "Storing features...\n",
      "Seizure start: 56322.0\n",
      "Seizure end: 56527.0\n",
      "Frequency: 256.0\n",
      "Pre-ictal start: 56312\n",
      "Pre-ictal end: 56322\n",
      "Ictal start: 56322\n",
      "Ictal end: 56527\n",
      "Post-ictal start: 56527\n",
      "Post-ictal end: 56537\n"
     ]
    },
    {
     "name": "stderr",
     "output_type": "stream",
     "text": [
      " 51%|█████     | 124/245 [5:02:24<4:25:49, 131.82s/it]"
     ]
    },
    {
     "name": "stdout",
     "output_type": "stream",
     "text": [
      "Mean connectivity shape: (38, 38)\n",
      "Number of epochs:  1800\n",
      "Calculating rhythmic features...\n",
      "Storing features...\n",
      "Seizure start: 78154.0\n",
      "Seizure end: 78344.0\n",
      "Frequency: 256.0\n",
      "Pre-ictal start: 78144\n",
      "Pre-ictal end: 78154\n",
      "Ictal start: 78154\n",
      "Ictal end: 78344\n",
      "Post-ictal start: 78344\n",
      "Post-ictal end: 78354\n"
     ]
    },
    {
     "name": "stderr",
     "output_type": "stream",
     "text": [
      " 51%|█████     | 125/245 [5:04:39<4:25:56, 132.97s/it]"
     ]
    },
    {
     "name": "stdout",
     "output_type": "stream",
     "text": [
      "Mean connectivity shape: (38, 38)\n",
      "Number of epochs:  1800\n",
      "Calculating rhythmic features...\n",
      "Storing features...\n",
      "Seizure start: 3449.0\n",
      "Seizure end: 3569.0\n",
      "Frequency: 256.0\n",
      "Pre-ictal start: 3439\n",
      "Pre-ictal end: 3449\n",
      "Ictal start: 3449\n",
      "Ictal end: 3569\n",
      "Post-ictal start: 3569\n",
      "Post-ictal end: 3579\n"
     ]
    },
    {
     "name": "stderr",
     "output_type": "stream",
     "text": [
      " 51%|█████▏    | 126/245 [5:06:53<4:24:13, 133.22s/it]"
     ]
    },
    {
     "name": "stdout",
     "output_type": "stream",
     "text": [
      "Mean connectivity shape: (38, 38)\n",
      "Number of epochs:  1800\n",
      "Calculating rhythmic features...\n",
      "Storing features...\n",
      "Seizure start: 34995.0\n",
      "Seizure end: 35055.0\n",
      "Frequency: 256.0\n",
      "Pre-ictal start: 34985\n",
      "Pre-ictal end: 34995\n",
      "Ictal start: 34995\n",
      "Ictal end: 35055\n",
      "Post-ictal start: 35055\n",
      "Post-ictal end: 35065\n"
     ]
    },
    {
     "name": "stderr",
     "output_type": "stream",
     "text": [
      " 52%|█████▏    | 127/245 [5:09:07<4:22:38, 133.54s/it]"
     ]
    },
    {
     "name": "stdout",
     "output_type": "stream",
     "text": [
      "Mean connectivity shape: (38, 38)\n",
      "Number of epochs:  1800\n",
      "Calculating rhythmic features...\n",
      "Storing features...\n",
      "Seizure start: 36539.0\n",
      "Seizure end: 36658.0\n",
      "Frequency: 256.0\n",
      "Pre-ictal start: 36529\n",
      "Pre-ictal end: 36539\n",
      "Ictal start: 36539\n",
      "Ictal end: 36658\n",
      "Post-ictal start: 36658\n",
      "Post-ictal end: 36668\n"
     ]
    },
    {
     "name": "stderr",
     "output_type": "stream",
     "text": [
      " 52%|█████▏    | 128/245 [5:11:22<4:21:11, 133.94s/it]"
     ]
    },
    {
     "name": "stdout",
     "output_type": "stream",
     "text": [
      "Mean connectivity shape: (38, 38)\n",
      "Number of epochs:  1800\n",
      "Calculating rhythmic features...\n",
      "Storing features...\n",
      "Seizure start: 37523.0\n",
      "Seizure end: 37586.0\n",
      "Frequency: 256.0\n",
      "Pre-ictal start: 37513\n",
      "Pre-ictal end: 37523\n",
      "Ictal start: 37523\n",
      "Ictal end: 37586\n",
      "Post-ictal start: 37586\n",
      "Post-ictal end: 37596\n"
     ]
    },
    {
     "name": "stderr",
     "output_type": "stream",
     "text": [
      " 53%|█████▎    | 129/245 [5:13:37<4:19:38, 134.30s/it]"
     ]
    },
    {
     "name": "stdout",
     "output_type": "stream",
     "text": [
      "Mean connectivity shape: (38, 38)\n",
      "Number of epochs:  1800\n",
      "Calculating rhythmic features...\n",
      "Storing features...\n",
      "Seizure start: 59129.0\n",
      "Seizure end: 59236.0\n",
      "Frequency: 256.0\n",
      "Pre-ictal start: 59119\n",
      "Pre-ictal end: 59129\n",
      "Ictal start: 59129\n",
      "Ictal end: 59236\n",
      "Post-ictal start: 59236\n",
      "Post-ictal end: 59246\n"
     ]
    },
    {
     "name": "stderr",
     "output_type": "stream",
     "text": [
      " 53%|█████▎    | 130/245 [5:15:52<4:17:31, 134.36s/it]"
     ]
    },
    {
     "name": "stdout",
     "output_type": "stream",
     "text": [
      "Mean connectivity shape: (38, 38)\n",
      "Number of epochs:  1812\n",
      "Calculating rhythmic features...\n",
      "Storing features...\n",
      "Seizure start: 68193.0\n",
      "Seizure end: 68333.0\n",
      "Frequency: 256.0\n",
      "Pre-ictal start: 68183\n",
      "Pre-ictal end: 68193\n",
      "Ictal start: 68193\n",
      "Ictal end: 68333\n",
      "Post-ictal start: 68333\n",
      "Post-ictal end: 68343\n"
     ]
    },
    {
     "name": "stderr",
     "output_type": "stream",
     "text": [
      " 53%|█████▎    | 131/245 [5:18:12<4:18:23, 136.00s/it]"
     ]
    },
    {
     "name": "stdout",
     "output_type": "stream",
     "text": [
      "Mean connectivity shape: (38, 38)\n",
      "Number of epochs:  1804\n",
      "Calculating rhythmic features...\n",
      "Storing features...\n",
      "Seizure start: 78728.0\n",
      "Seizure end: 78799.0\n",
      "Frequency: 256.0\n",
      "Pre-ictal start: 78718\n",
      "Pre-ictal end: 78728\n",
      "Ictal start: 78728\n",
      "Ictal end: 78799\n",
      "Post-ictal start: 78799\n",
      "Post-ictal end: 78809\n"
     ]
    },
    {
     "name": "stderr",
     "output_type": "stream",
     "text": [
      " 54%|█████▍    | 132/245 [5:20:41<4:23:41, 140.02s/it]"
     ]
    },
    {
     "name": "stdout",
     "output_type": "stream",
     "text": [
      "Mean connectivity shape: (38, 38)\n",
      "Number of epochs:  1800\n",
      "Calculating rhythmic features...\n",
      "Storing features...\n",
      "Seizure start: 85457.0\n",
      "Seizure end: 85512.0\n",
      "Frequency: 256.0\n",
      "Pre-ictal start: 85447\n",
      "Pre-ictal end: 85457\n",
      "Ictal start: 85457\n",
      "Ictal end: 85512\n",
      "Post-ictal start: 85512\n",
      "Post-ictal end: 85522\n"
     ]
    },
    {
     "name": "stderr",
     "output_type": "stream",
     "text": [
      " 54%|█████▍    | 133/245 [5:22:56<4:18:43, 138.60s/it]"
     ]
    },
    {
     "name": "stdout",
     "output_type": "stream",
     "text": [
      "Mean connectivity shape: (38, 38)\n",
      "Number of epochs:  1800\n",
      "Calculating rhythmic features...\n",
      "Storing features...\n",
      "Seizure start: 86037.0\n",
      "Seizure end: 86214.0\n",
      "Frequency: 256.0\n",
      "Pre-ictal start: 86027\n",
      "Pre-ictal end: 86037\n",
      "Ictal start: 86037\n",
      "Ictal end: 86214\n",
      "Post-ictal start: 86214\n",
      "Post-ictal end: 86224\n"
     ]
    },
    {
     "name": "stderr",
     "output_type": "stream",
     "text": [
      " 55%|█████▍    | 134/245 [5:25:11<4:14:19, 137.47s/it]"
     ]
    },
    {
     "name": "stdout",
     "output_type": "stream",
     "text": [
      "Mean connectivity shape: (38, 38)\n",
      "Number of epochs:  1800\n",
      "Calculating rhythmic features...\n",
      "Storing features...\n",
      "Seizure start: 86718.0\n",
      "Seizure end: 86789.0\n",
      "Frequency: 256.0\n",
      "Pre-ictal start: 86708\n",
      "Pre-ictal end: 86718\n",
      "Ictal start: 86718\n",
      "Ictal end: 86789\n",
      "Post-ictal start: 86789\n",
      "Post-ictal end: 86799\n"
     ]
    },
    {
     "name": "stderr",
     "output_type": "stream",
     "text": [
      " 55%|█████▌    | 135/245 [5:27:27<4:10:52, 136.84s/it]"
     ]
    },
    {
     "name": "stdout",
     "output_type": "stream",
     "text": [
      "Mean connectivity shape: (38, 38)\n",
      "Number of epochs:  1800\n",
      "Calculating rhythmic features...\n",
      "Storing features...\n",
      "Seizure start: 87373.0\n",
      "Seizure end: 87444.0\n",
      "Frequency: 256.0\n",
      "Pre-ictal start: 87363\n",
      "Pre-ictal end: 87373\n",
      "Ictal start: 87373\n",
      "Ictal end: 87444\n",
      "Post-ictal start: 87444\n",
      "Post-ictal end: 87454\n"
     ]
    },
    {
     "name": "stderr",
     "output_type": "stream",
     "text": [
      " 56%|█████▌    | 136/245 [5:29:42<4:07:49, 136.42s/it]"
     ]
    },
    {
     "name": "stdout",
     "output_type": "stream",
     "text": [
      "Mean connectivity shape: (38, 38)\n",
      "Number of epochs:  1800\n",
      "Calculating rhythmic features...\n",
      "Storing features...\n",
      "Seizure start: 2228.0\n",
      "Seizure end: 2260.0\n",
      "Frequency: 256.0\n",
      "Pre-ictal start: 2218\n",
      "Pre-ictal end: 2228\n",
      "Ictal start: 2228\n",
      "Ictal end: 2260\n",
      "Post-ictal start: 2260\n",
      "Post-ictal end: 2270\n"
     ]
    },
    {
     "name": "stderr",
     "output_type": "stream",
     "text": [
      " 56%|█████▌    | 137/245 [5:31:57<4:04:40, 135.93s/it]"
     ]
    },
    {
     "name": "stdout",
     "output_type": "stream",
     "text": [
      "Mean connectivity shape: (38, 38)\n",
      "Number of epochs:  1800\n",
      "Calculating rhythmic features...\n",
      "Storing features...\n",
      "Seizure start: 28421.0\n",
      "Seizure end: 28529.0\n",
      "Frequency: 256.0\n",
      "Pre-ictal start: 28411\n",
      "Pre-ictal end: 28421\n",
      "Ictal start: 28421\n",
      "Ictal end: 28529\n",
      "Post-ictal start: 28529\n",
      "Post-ictal end: 28539\n"
     ]
    },
    {
     "name": "stderr",
     "output_type": "stream",
     "text": [
      " 56%|█████▋    | 138/245 [5:34:14<4:03:04, 136.31s/it]"
     ]
    },
    {
     "name": "stdout",
     "output_type": "stream",
     "text": [
      "Mean connectivity shape: (28, 28)\n",
      "Number of epochs:  1800\n",
      "Calculating rhythmic features...\n",
      "Storing features...\n",
      "Seizure start: 8330.0\n",
      "Seizure end: 8339.0\n",
      "Frequency: 256.0\n",
      "Pre-ictal start: 8320\n",
      "Pre-ictal end: 8330\n",
      "Ictal start: 8330\n",
      "Ictal end: 8339\n",
      "Post-ictal start: 8339\n",
      "Post-ictal end: 8349\n"
     ]
    },
    {
     "name": "stderr",
     "output_type": "stream",
     "text": [
      " 57%|█████▋    | 139/245 [5:36:05<3:47:23, 128.71s/it]"
     ]
    },
    {
     "name": "stdout",
     "output_type": "stream",
     "text": [
      "Mean connectivity shape: (28, 28)\n",
      "Number of epochs:  1800\n",
      "Calculating rhythmic features...\n",
      "Storing features...\n",
      "Seizure start: 10767.0\n",
      "Seizure end: 10776.0\n",
      "Frequency: 256.0\n",
      "Pre-ictal start: 10757\n",
      "Pre-ictal end: 10767\n",
      "Ictal start: 10767\n",
      "Ictal end: 10776\n",
      "Post-ictal start: 10776\n",
      "Post-ictal end: 10786\n"
     ]
    },
    {
     "name": "stderr",
     "output_type": "stream",
     "text": [
      " 57%|█████▋    | 140/245 [5:37:56<3:35:45, 123.29s/it]"
     ]
    },
    {
     "name": "stdout",
     "output_type": "stream",
     "text": [
      "Mean connectivity shape: (28, 28)\n",
      "Number of epochs:  1800\n",
      "Calculating rhythmic features...\n",
      "Storing features...\n",
      "Seizure start: 22322.0\n",
      "Seizure end: 22336.0\n",
      "Frequency: 256.0\n",
      "Pre-ictal start: 22312\n",
      "Pre-ictal end: 22322\n",
      "Ictal start: 22322\n",
      "Ictal end: 22336\n",
      "Post-ictal start: 22336\n",
      "Post-ictal end: 22346\n"
     ]
    },
    {
     "name": "stderr",
     "output_type": "stream",
     "text": [
      " 58%|█████▊    | 141/245 [5:39:47<3:27:31, 119.72s/it]"
     ]
    },
    {
     "name": "stdout",
     "output_type": "stream",
     "text": [
      "Mean connectivity shape: (28, 28)\n",
      "Number of epochs:  1800\n",
      "Calculating rhythmic features...\n",
      "Storing features...\n",
      "Seizure start: 28896.0\n",
      "Seizure end: 28902.0\n",
      "Frequency: 256.0\n",
      "Pre-ictal start: 28886\n",
      "Pre-ictal end: 28896\n",
      "Ictal start: 28896\n",
      "Ictal end: 28902\n",
      "Post-ictal start: 28902\n",
      "Post-ictal end: 28912\n"
     ]
    },
    {
     "name": "stderr",
     "output_type": "stream",
     "text": [
      " 58%|█████▊    | 142/245 [5:41:38<3:21:03, 117.12s/it]"
     ]
    },
    {
     "name": "stdout",
     "output_type": "stream",
     "text": [
      "Mean connectivity shape: (28, 28)\n",
      "Number of epochs:  1800\n",
      "Calculating rhythmic features...\n",
      "Storing features...\n",
      "Seizure start: 31516.0\n",
      "Seizure end: 31525.0\n",
      "Frequency: 256.0\n",
      "Pre-ictal start: 31506\n",
      "Pre-ictal end: 31516\n",
      "Ictal start: 31516\n",
      "Ictal end: 31525\n",
      "Post-ictal start: 31525\n",
      "Post-ictal end: 31535\n"
     ]
    },
    {
     "name": "stderr",
     "output_type": "stream",
     "text": [
      " 58%|█████▊    | 143/245 [5:43:28<3:15:35, 115.05s/it]"
     ]
    },
    {
     "name": "stdout",
     "output_type": "stream",
     "text": [
      "Mean connectivity shape: (28, 28)\n",
      "Number of epochs:  1800\n",
      "Calculating rhythmic features...\n",
      "Storing features...\n",
      "Seizure start: 32983.0\n",
      "Seizure end: 32989.0\n",
      "Frequency: 256.0\n",
      "Pre-ictal start: 32973\n",
      "Pre-ictal end: 32983\n",
      "Ictal start: 32983\n",
      "Ictal end: 32989\n",
      "Post-ictal start: 32989\n",
      "Post-ictal end: 32999\n"
     ]
    },
    {
     "name": "stderr",
     "output_type": "stream",
     "text": [
      " 59%|█████▉    | 144/245 [5:45:19<3:11:17, 113.64s/it]"
     ]
    },
    {
     "name": "stdout",
     "output_type": "stream",
     "text": [
      "Mean connectivity shape: (28, 28)\n",
      "Number of epochs:  1800\n",
      "Calculating rhythmic features...\n",
      "Storing features...\n",
      "Seizure start: 33451.0\n",
      "Seizure end: 33459.0\n",
      "Frequency: 256.0\n",
      "Pre-ictal start: 33441\n",
      "Pre-ictal end: 33451\n",
      "Ictal start: 33451\n",
      "Ictal end: 33459\n",
      "Post-ictal start: 33459\n",
      "Post-ictal end: 33469\n"
     ]
    },
    {
     "name": "stderr",
     "output_type": "stream",
     "text": [
      " 59%|█████▉    | 145/245 [5:47:09<3:07:51, 112.71s/it]"
     ]
    },
    {
     "name": "stdout",
     "output_type": "stream",
     "text": [
      "Mean connectivity shape: (28, 28)\n",
      "Number of epochs:  1800\n",
      "Calculating rhythmic features...\n",
      "Storing features...\n",
      "Seizure start: 38179.0\n",
      "Seizure end: 38187.0\n",
      "Frequency: 256.0\n",
      "Pre-ictal start: 38169\n",
      "Pre-ictal end: 38179\n",
      "Ictal start: 38179\n",
      "Ictal end: 38187\n",
      "Post-ictal start: 38187\n",
      "Post-ictal end: 38197\n"
     ]
    },
    {
     "name": "stderr",
     "output_type": "stream",
     "text": [
      " 60%|█████▉    | 146/245 [5:49:00<3:04:55, 112.08s/it]"
     ]
    },
    {
     "name": "stdout",
     "output_type": "stream",
     "text": [
      "Mean connectivity shape: (22, 22)\n",
      "Number of epochs:  1800\n",
      "Calculating rhythmic features...\n",
      "Storing features...\n",
      "Seizure start: 35523.0\n",
      "Seizure end: 35531.0\n",
      "Frequency: 256.0\n",
      "Pre-ictal start: 35513\n",
      "Pre-ictal end: 35523\n",
      "Ictal start: 35523\n",
      "Ictal end: 35531\n",
      "Post-ictal start: 35531\n",
      "Post-ictal end: 35541\n"
     ]
    },
    {
     "name": "stderr",
     "output_type": "stream",
     "text": [
      " 60%|██████    | 147/245 [5:50:37<2:55:58, 107.74s/it]"
     ]
    },
    {
     "name": "stdout",
     "output_type": "stream",
     "text": [
      "Mean connectivity shape: (22, 22)\n",
      "Number of epochs:  1800\n",
      "Calculating rhythmic features...\n",
      "Storing features...\n",
      "Seizure start: 36805.0\n",
      "Seizure end: 36812.0\n",
      "Frequency: 256.0\n",
      "Pre-ictal start: 36795\n",
      "Pre-ictal end: 36805\n",
      "Ictal start: 36805\n",
      "Ictal end: 36812\n",
      "Post-ictal start: 36812\n",
      "Post-ictal end: 36822\n"
     ]
    },
    {
     "name": "stderr",
     "output_type": "stream",
     "text": [
      " 60%|██████    | 148/245 [5:52:15<2:49:00, 104.54s/it]"
     ]
    },
    {
     "name": "stdout",
     "output_type": "stream",
     "text": [
      "Mean connectivity shape: (28, 28)\n",
      "Number of epochs:  1800\n",
      "Calculating rhythmic features...\n",
      "Storing features...\n",
      "Seizure start: 73540.0\n",
      "Seizure end: 73630.0\n",
      "Frequency: 256.0\n",
      "Pre-ictal start: 73530\n",
      "Pre-ictal end: 73540\n",
      "Ictal start: 73540\n",
      "Ictal end: 73630\n",
      "Post-ictal start: 73630\n",
      "Post-ictal end: 73640\n"
     ]
    },
    {
     "name": "stderr",
     "output_type": "stream",
     "text": [
      " 61%|██████    | 149/245 [5:54:04<2:49:46, 106.11s/it]"
     ]
    },
    {
     "name": "stdout",
     "output_type": "stream",
     "text": [
      "Mean connectivity shape: (28, 28)\n",
      "Number of epochs:  1800\n",
      "Calculating rhythmic features...\n",
      "Storing features...\n",
      "Seizure start: 77890.0\n",
      "Seizure end: 78005.0\n",
      "Frequency: 256.0\n",
      "Pre-ictal start: 77880\n",
      "Pre-ictal end: 77890\n",
      "Ictal start: 77890\n",
      "Ictal end: 78005\n",
      "Post-ictal start: 78005\n",
      "Post-ictal end: 78015\n"
     ]
    },
    {
     "name": "stderr",
     "output_type": "stream",
     "text": [
      " 61%|██████    | 150/245 [5:55:55<2:50:06, 107.44s/it]"
     ]
    },
    {
     "name": "stdout",
     "output_type": "stream",
     "text": [
      "Mean connectivity shape: (28, 28)\n",
      "Number of epochs:  1812\n",
      "Calculating rhythmic features...\n",
      "Storing features...\n",
      "Seizure start: 31938.0\n",
      "Seizure end: 32026.0\n",
      "Frequency: 256.0\n",
      "Pre-ictal start: 31928\n",
      "Pre-ictal end: 31938\n",
      "Ictal start: 31938\n",
      "Ictal end: 32026\n",
      "Post-ictal start: 32026\n",
      "Post-ictal end: 32036\n"
     ]
    },
    {
     "name": "stderr",
     "output_type": "stream",
     "text": [
      " 62%|██████▏   | 151/245 [5:57:53<2:53:30, 110.75s/it]"
     ]
    },
    {
     "name": "stdout",
     "output_type": "stream",
     "text": [
      "Mean connectivity shape: (28, 28)\n",
      "Number of epochs:  1800\n",
      "Calculating rhythmic features...\n",
      "Storing features...\n",
      "Seizure start: 25016.0\n",
      "Seizure end: 25066.0\n",
      "Frequency: 256.0\n",
      "Pre-ictal start: 25006\n",
      "Pre-ictal end: 25016\n",
      "Ictal start: 25016\n",
      "Ictal end: 25066\n",
      "Post-ictal start: 25066\n",
      "Post-ictal end: 25076\n"
     ]
    },
    {
     "name": "stderr",
     "output_type": "stream",
     "text": [
      " 62%|██████▏   | 152/245 [5:59:54<2:56:10, 113.66s/it]"
     ]
    },
    {
     "name": "stdout",
     "output_type": "stream",
     "text": [
      "Mean connectivity shape: (28, 28)\n",
      "Number of epochs:  1800\n",
      "Calculating rhythmic features...\n",
      "Storing features...\n",
      "Seizure start: 25687.0\n",
      "Seizure end: 25717.0\n",
      "Frequency: 256.0\n",
      "Pre-ictal start: 25677\n",
      "Pre-ictal end: 25687\n",
      "Ictal start: 25687\n",
      "Ictal end: 25717\n",
      "Post-ictal start: 25717\n",
      "Post-ictal end: 25727\n"
     ]
    },
    {
     "name": "stderr",
     "output_type": "stream",
     "text": [
      " 62%|██████▏   | 153/245 [6:01:46<2:53:41, 113.28s/it]"
     ]
    },
    {
     "name": "stdout",
     "output_type": "stream",
     "text": [
      "Mean connectivity shape: (28, 28)\n",
      "Number of epochs:  1137\n",
      "Calculating rhythmic features...\n",
      "Storing features...\n",
      "Seizure start: 38119.0\n",
      "Seizure end: 38187.0\n",
      "Frequency: 256.0\n",
      "Pre-ictal start: 38109\n",
      "Pre-ictal end: 38119\n",
      "Ictal start: 38119\n",
      "Ictal end: 38187\n",
      "Post-ictal start: 38187\n",
      "Post-ictal end: 38197\n"
     ]
    },
    {
     "name": "stderr",
     "output_type": "stream",
     "text": [
      " 63%|██████▎   | 154/245 [6:03:12<2:39:10, 104.95s/it]"
     ]
    },
    {
     "name": "stdout",
     "output_type": "stream",
     "text": [
      "Mean connectivity shape: (28, 28)\n",
      "Number of epochs:  1800\n",
      "Calculating rhythmic features...\n",
      "Storing features...\n",
      "Seizure start: 43830.0\n",
      "Seizure end: 43885.0\n",
      "Frequency: 256.0\n",
      "Pre-ictal start: 43820\n",
      "Pre-ictal end: 43830\n",
      "Ictal start: 43830\n",
      "Ictal end: 43885\n",
      "Post-ictal start: 43885\n",
      "Post-ictal end: 43895\n"
     ]
    },
    {
     "name": "stderr",
     "output_type": "stream",
     "text": [
      " 63%|██████▎   | 155/245 [6:05:10<2:43:39, 109.10s/it]"
     ]
    },
    {
     "name": "stdout",
     "output_type": "stream",
     "text": [
      "Mean connectivity shape: (28, 28)\n",
      "Number of epochs:  1800\n",
      "Calculating rhythmic features...\n",
      "Storing features...\n",
      "Seizure start: 33522.0\n",
      "Seizure end: 33590.0\n",
      "Frequency: 256.0\n",
      "Pre-ictal start: 33512\n",
      "Pre-ictal end: 33522\n",
      "Ictal start: 33522\n",
      "Ictal end: 33590\n",
      "Post-ictal start: 33590\n",
      "Post-ictal end: 33600\n"
     ]
    },
    {
     "name": "stderr",
     "output_type": "stream",
     "text": [
      " 64%|██████▎   | 156/245 [6:07:02<2:42:51, 109.79s/it]"
     ]
    },
    {
     "name": "stdout",
     "output_type": "stream",
     "text": [
      "Mean connectivity shape: (28, 28)\n",
      "Number of epochs:  1800\n",
      "Calculating rhythmic features...\n",
      "Storing features...\n",
      "Seizure start: 32020.0\n",
      "Seizure end: 32066.0\n",
      "Frequency: 256.0\n",
      "Pre-ictal start: 32010\n",
      "Pre-ictal end: 32020\n",
      "Ictal start: 32020\n",
      "Ictal end: 32066\n",
      "Post-ictal start: 32066\n",
      "Post-ictal end: 32076\n"
     ]
    },
    {
     "name": "stderr",
     "output_type": "stream",
     "text": [
      " 64%|██████▍   | 157/245 [6:08:54<2:41:54, 110.39s/it]"
     ]
    },
    {
     "name": "stdout",
     "output_type": "stream",
     "text": [
      "Mean connectivity shape: (28, 28)\n",
      "Number of epochs:  1806\n",
      "Calculating rhythmic features...\n",
      "Storing features...\n",
      "Seizure start: 4474.0\n",
      "Seizure end: 4552.0\n",
      "Frequency: 256.0\n",
      "Pre-ictal start: 4464\n",
      "Pre-ictal end: 4474\n",
      "Ictal start: 4474\n",
      "Ictal end: 4552\n",
      "Post-ictal start: 4552\n",
      "Post-ictal end: 4562\n"
     ]
    },
    {
     "name": "stderr",
     "output_type": "stream",
     "text": [
      " 64%|██████▍   | 158/245 [6:10:47<2:41:29, 111.37s/it]"
     ]
    },
    {
     "name": "stdout",
     "output_type": "stream",
     "text": [
      "Mean connectivity shape: (28, 28)\n",
      "Number of epochs:  1800\n",
      "Calculating rhythmic features...\n",
      "Storing features...\n",
      "Seizure start: 28836.0\n",
      "Seizure end: 28913.0\n",
      "Frequency: 256.0\n",
      "Pre-ictal start: 28826\n",
      "Pre-ictal end: 28836\n",
      "Ictal start: 28836\n",
      "Ictal end: 28913\n",
      "Post-ictal start: 28913\n",
      "Post-ictal end: 28923\n"
     ]
    },
    {
     "name": "stderr",
     "output_type": "stream",
     "text": [
      " 65%|██████▍   | 159/245 [6:12:39<2:39:46, 111.47s/it]"
     ]
    },
    {
     "name": "stdout",
     "output_type": "stream",
     "text": [
      "Mean connectivity shape: (28, 28)\n",
      "Number of epochs:  1667\n",
      "Calculating rhythmic features...\n",
      "Storing features...\n",
      "Seizure start: 43530.0\n",
      "Seizure end: 43611.0\n",
      "Frequency: 256.0\n",
      "Pre-ictal start: 43520\n",
      "Pre-ictal end: 43530\n",
      "Ictal start: 43530\n",
      "Ictal end: 43611\n",
      "Post-ictal start: 43611\n",
      "Post-ictal end: 43621\n"
     ]
    },
    {
     "name": "stderr",
     "output_type": "stream",
     "text": [
      " 65%|██████▌   | 160/245 [6:14:51<2:46:42, 117.68s/it]"
     ]
    },
    {
     "name": "stdout",
     "output_type": "stream",
     "text": [
      "Mean connectivity shape: (28, 28)\n",
      "Number of epochs:  1800\n",
      "Calculating rhythmic features...\n",
      "Storing features...\n",
      "Seizure start: 14307.0\n",
      "Seizure end: 14336.0\n",
      "Frequency: 256.0\n",
      "Pre-ictal start: 14297\n",
      "Pre-ictal end: 14307\n",
      "Ictal start: 14307\n",
      "Ictal end: 14336\n",
      "Post-ictal start: 14336\n",
      "Post-ictal end: 14346\n"
     ]
    },
    {
     "name": "stderr",
     "output_type": "stream",
     "text": [
      " 66%|██████▌   | 161/245 [6:16:49<2:44:48, 117.72s/it]"
     ]
    },
    {
     "name": "stdout",
     "output_type": "stream",
     "text": [
      "Mean connectivity shape: (28, 28)\n",
      "Number of epochs:  1800\n",
      "Calculating rhythmic features...\n",
      "Storing features...\n",
      "Seizure start: 19260.0\n",
      "Seizure end: 19290.0\n",
      "Frequency: 256.0\n",
      "Pre-ictal start: 19250\n",
      "Pre-ictal end: 19260\n",
      "Ictal start: 19260\n",
      "Ictal end: 19290\n",
      "Post-ictal start: 19290\n",
      "Post-ictal end: 19300\n"
     ]
    },
    {
     "name": "stderr",
     "output_type": "stream",
     "text": [
      " 66%|██████▌   | 162/245 [6:18:40<2:40:12, 115.81s/it]"
     ]
    },
    {
     "name": "stdout",
     "output_type": "stream",
     "text": [
      "Mean connectivity shape: (28, 28)\n",
      "Number of epochs:  1800\n",
      "Calculating rhythmic features...\n",
      "Storing features...\n",
      "Seizure start: 20318.0\n",
      "Seizure end: 20357.0\n",
      "Frequency: 256.0\n",
      "Pre-ictal start: 20308\n",
      "Pre-ictal end: 20318\n",
      "Ictal start: 20318\n",
      "Ictal end: 20357\n",
      "Post-ictal start: 20357\n",
      "Post-ictal end: 20367\n"
     ]
    },
    {
     "name": "stderr",
     "output_type": "stream",
     "text": [
      " 67%|██████▋   | 163/245 [6:20:32<2:36:28, 114.50s/it]"
     ]
    },
    {
     "name": "stdout",
     "output_type": "stream",
     "text": [
      "Mean connectivity shape: (28, 28)\n",
      "Number of epochs:  1800\n",
      "Calculating rhythmic features...\n",
      "Storing features...\n",
      "Seizure start: 23398.0\n",
      "Seizure end: 23436.0\n",
      "Frequency: 256.0\n",
      "Pre-ictal start: 23388\n",
      "Pre-ictal end: 23398\n",
      "Ictal start: 23398\n",
      "Ictal end: 23436\n",
      "Post-ictal start: 23436\n",
      "Post-ictal end: 23446\n"
     ]
    },
    {
     "name": "stderr",
     "output_type": "stream",
     "text": [
      " 67%|██████▋   | 164/245 [6:22:26<2:34:20, 114.33s/it]"
     ]
    },
    {
     "name": "stdout",
     "output_type": "stream",
     "text": [
      "Mean connectivity shape: (28, 28)\n",
      "Number of epochs:  1800\n",
      "Calculating rhythmic features...\n",
      "Storing features...\n",
      "Seizure start: 25424.0\n",
      "Seizure end: 25459.0\n",
      "Frequency: 256.0\n",
      "Pre-ictal start: 25414\n",
      "Pre-ictal end: 25424\n",
      "Ictal start: 25424\n",
      "Ictal end: 25459\n",
      "Post-ictal start: 25459\n",
      "Post-ictal end: 25469\n"
     ]
    },
    {
     "name": "stderr",
     "output_type": "stream",
     "text": [
      " 67%|██████▋   | 165/245 [6:24:18<2:31:32, 113.65s/it]"
     ]
    },
    {
     "name": "stdout",
     "output_type": "stream",
     "text": [
      "Mean connectivity shape: (28, 28)\n",
      "Number of epochs:  1800\n",
      "Calculating rhythmic features...\n",
      "Storing features...\n",
      "Seizure start: 26723.0\n",
      "Seizure end: 26772.0\n",
      "Frequency: 256.0\n",
      "Pre-ictal start: 26713\n",
      "Pre-ictal end: 26723\n",
      "Ictal start: 26723\n",
      "Ictal end: 26772\n",
      "Post-ictal start: 26772\n",
      "Post-ictal end: 26782\n"
     ]
    },
    {
     "name": "stderr",
     "output_type": "stream",
     "text": [
      " 68%|██████▊   | 166/245 [6:26:09<2:28:52, 113.06s/it]"
     ]
    },
    {
     "name": "stdout",
     "output_type": "stream",
     "text": [
      "Mean connectivity shape: (28, 28)\n",
      "Number of epochs:  1734\n",
      "Calculating rhythmic features...\n",
      "Storing features...\n",
      "Seizure start: 30866.0\n",
      "Seizure end: 30901.0\n",
      "Frequency: 256.0\n",
      "Pre-ictal start: 30856\n",
      "Pre-ictal end: 30866\n",
      "Ictal start: 30866\n",
      "Ictal end: 30901\n",
      "Post-ictal start: 30901\n",
      "Post-ictal end: 30911\n"
     ]
    },
    {
     "name": "stderr",
     "output_type": "stream",
     "text": [
      " 68%|██████▊   | 167/245 [6:28:24<2:35:30, 119.62s/it]"
     ]
    },
    {
     "name": "stdout",
     "output_type": "stream",
     "text": [
      "Mean connectivity shape: (28, 28)\n",
      "Number of epochs:  1083\n",
      "Calculating rhythmic features...\n",
      "Storing features...\n",
      "Seizure start: 36500.0\n",
      "Seizure end: 36539.0\n",
      "Frequency: 256.0\n",
      "Pre-ictal start: 36490\n",
      "Pre-ictal end: 36500\n",
      "Ictal start: 36500\n",
      "Ictal end: 36539\n",
      "Post-ictal start: 36539\n",
      "Post-ictal end: 36549\n"
     ]
    },
    {
     "name": "stderr",
     "output_type": "stream",
     "text": [
      " 69%|██████▊   | 168/245 [6:29:43<2:17:54, 107.47s/it]"
     ]
    },
    {
     "name": "stdout",
     "output_type": "stream",
     "text": [
      "Mean connectivity shape: (28, 28)\n",
      "Number of epochs:  1800\n",
      "Calculating rhythmic features...\n",
      "Storing features...\n",
      "Seizure start: 44441.0\n",
      "Seizure end: 44497.0\n",
      "Frequency: 256.0\n",
      "Pre-ictal start: 44431\n",
      "Pre-ictal end: 44441\n",
      "Ictal start: 44441\n",
      "Ictal end: 44497\n",
      "Post-ictal start: 44497\n",
      "Post-ictal end: 44507\n"
     ]
    },
    {
     "name": "stderr",
     "output_type": "stream",
     "text": [
      " 69%|██████▉   | 169/245 [6:31:34<2:17:08, 108.27s/it]"
     ]
    },
    {
     "name": "stdout",
     "output_type": "stream",
     "text": [
      "Mean connectivity shape: (28, 28)\n",
      "Number of epochs:  1495\n",
      "Calculating rhythmic features...\n",
      "Storing features...\n",
      "Seizure start: 49387.0\n",
      "Seizure end: 49437.0\n",
      "Frequency: 256.0\n",
      "Pre-ictal start: 49377\n",
      "Pre-ictal end: 49387\n",
      "Ictal start: 49387\n",
      "Ictal end: 49437\n",
      "Post-ictal start: 49437\n",
      "Post-ictal end: 49447\n"
     ]
    },
    {
     "name": "stderr",
     "output_type": "stream",
     "text": [
      " 69%|██████▉   | 170/245 [6:33:10<2:10:45, 104.61s/it]"
     ]
    },
    {
     "name": "stdout",
     "output_type": "stream",
     "text": [
      "Mean connectivity shape: (28, 28)\n",
      "Number of epochs:  1800\n",
      "Calculating rhythmic features...\n",
      "Storing features...\n",
      "Seizure start: 58978.0\n",
      "Seizure end: 59059.0\n",
      "Frequency: 256.0\n",
      "Pre-ictal start: 58968\n",
      "Pre-ictal end: 58978\n",
      "Ictal start: 58978\n",
      "Ictal end: 59059\n",
      "Post-ictal start: 59059\n",
      "Post-ictal end: 59069\n"
     ]
    },
    {
     "name": "stderr",
     "output_type": "stream",
     "text": [
      " 70%|██████▉   | 171/245 [6:35:00<2:11:12, 106.39s/it]"
     ]
    },
    {
     "name": "stdout",
     "output_type": "stream",
     "text": [
      "Mean connectivity shape: (28, 28)\n",
      "Number of epochs:  1800\n",
      "Calculating rhythmic features...\n",
      "Storing features...\n",
      "Seizure start: 63135.0\n",
      "Seizure end: 63147.0\n",
      "Frequency: 256.0\n",
      "Pre-ictal start: 63125\n",
      "Pre-ictal end: 63135\n",
      "Ictal start: 63135\n",
      "Ictal end: 63147\n",
      "Post-ictal start: 63147\n",
      "Post-ictal end: 63157\n"
     ]
    },
    {
     "name": "stderr",
     "output_type": "stream",
     "text": [
      " 70%|███████   | 172/245 [6:36:52<2:11:19, 107.94s/it]"
     ]
    },
    {
     "name": "stdout",
     "output_type": "stream",
     "text": [
      "Mean connectivity shape: (28, 28)\n",
      "Number of epochs:  1800\n",
      "Calculating rhythmic features...\n",
      "Storing features...\n",
      "Seizure start: 67270.0\n",
      "Seizure end: 67328.0\n",
      "Frequency: 256.0\n",
      "Pre-ictal start: 67260\n",
      "Pre-ictal end: 67270\n",
      "Ictal start: 67270\n",
      "Ictal end: 67328\n",
      "Post-ictal start: 67328\n",
      "Post-ictal end: 67338\n"
     ]
    },
    {
     "name": "stderr",
     "output_type": "stream",
     "text": [
      " 71%|███████   | 173/245 [6:38:43<2:10:35, 108.83s/it]"
     ]
    },
    {
     "name": "stdout",
     "output_type": "stream",
     "text": [
      "Mean connectivity shape: (28, 28)\n",
      "Number of epochs:  1800\n",
      "Calculating rhythmic features...\n",
      "Storing features...\n",
      "Seizure start: 85076.0\n",
      "Seizure end: 85150.0\n",
      "Frequency: 256.0\n",
      "Pre-ictal start: 85066\n",
      "Pre-ictal end: 85076\n",
      "Ictal start: 85076\n",
      "Ictal end: 85150\n",
      "Post-ictal start: 85150\n",
      "Post-ictal end: 85160\n"
     ]
    },
    {
     "name": "stderr",
     "output_type": "stream",
     "text": [
      " 71%|███████   | 174/245 [6:40:38<2:11:10, 110.85s/it]"
     ]
    },
    {
     "name": "stdout",
     "output_type": "stream",
     "text": [
      "Mean connectivity shape: (28, 28)\n",
      "Number of epochs:  1800\n",
      "Calculating rhythmic features...\n",
      "Storing features...\n",
      "Seizure start: 43692.0\n",
      "Seizure end: 43764.0\n",
      "Frequency: 256.0\n",
      "Pre-ictal start: 43682\n",
      "Pre-ictal end: 43692\n",
      "Ictal start: 43692\n",
      "Ictal end: 43764\n",
      "Post-ictal start: 43764\n",
      "Post-ictal end: 43774\n"
     ]
    },
    {
     "name": "stderr",
     "output_type": "stream",
     "text": [
      " 71%|███████▏  | 175/245 [6:43:18<2:26:36, 125.67s/it]"
     ]
    },
    {
     "name": "stdout",
     "output_type": "stream",
     "text": [
      "Mean connectivity shape: (23, 23)\n",
      "Number of epochs:  3743\n",
      "Calculating rhythmic features...\n",
      "Storing features...\n",
      "Seizure start: 36259.0\n",
      "Seizure end: 36372.0\n",
      "Frequency: 256.0\n",
      "Pre-ictal start: 36249\n",
      "Pre-ictal end: 36259\n",
      "Ictal start: 36259\n",
      "Ictal end: 36372\n",
      "Post-ictal start: 36372\n",
      "Post-ictal end: 36382\n"
     ]
    },
    {
     "name": "stderr",
     "output_type": "stream",
     "text": [
      " 72%|███████▏  | 176/245 [6:47:53<3:15:50, 170.30s/it]"
     ]
    },
    {
     "name": "stdout",
     "output_type": "stream",
     "text": [
      "Mean connectivity shape: (23, 23)\n",
      "Number of epochs:  5171\n",
      "Calculating rhythmic features...\n",
      "Storing features...\n",
      "Seizure start: 42810.0\n",
      "Seizure end: 42830.0\n",
      "Frequency: 256.0\n",
      "Pre-ictal start: 42800\n",
      "Pre-ictal end: 42810\n",
      "Ictal start: 42810\n",
      "Ictal end: 42830\n",
      "Post-ictal start: 42830\n",
      "Post-ictal end: 42840\n"
     ]
    },
    {
     "name": "stderr",
     "output_type": "stream",
     "text": [
      " 72%|███████▏  | 177/245 [6:53:04<4:00:49, 212.50s/it]"
     ]
    },
    {
     "name": "stdout",
     "output_type": "stream",
     "text": [
      "Mean connectivity shape: (23, 23)\n",
      "Number of epochs:  5171\n",
      "Calculating rhythmic features...\n",
      "Storing features...\n",
      "Seizure start: 47589.0\n",
      "Seizure end: 47636.0\n",
      "Frequency: 256.0\n",
      "Pre-ictal start: 47579\n",
      "Pre-ictal end: 47589\n",
      "Ictal start: 47589\n",
      "Ictal end: 47636\n",
      "Post-ictal start: 47636\n",
      "Post-ictal end: 47646\n"
     ]
    },
    {
     "name": "stderr",
     "output_type": "stream",
     "text": [
      " 73%|███████▎  | 178/245 [6:58:13<4:29:47, 241.60s/it]"
     ]
    },
    {
     "name": "stdout",
     "output_type": "stream",
     "text": [
      "Mean connectivity shape: (23, 23)\n",
      "Number of epochs:  7213\n",
      "Calculating rhythmic features...\n",
      "Storing features...\n",
      "Seizure start: 55446.0\n",
      "Seizure end: 55517.0\n",
      "Frequency: 256.0\n",
      "Pre-ictal start: 55436\n",
      "Pre-ictal end: 55446\n",
      "Ictal start: 55446\n",
      "Ictal end: 55517\n",
      "Post-ictal start: 55517\n",
      "Post-ictal end: 55527\n"
     ]
    },
    {
     "name": "stderr",
     "output_type": "stream",
     "text": [
      " 73%|███████▎  | 179/245 [7:04:33<5:11:25, 283.12s/it]"
     ]
    },
    {
     "name": "stdout",
     "output_type": "stream",
     "text": [
      "Mean connectivity shape: (23, 23)\n",
      "Number of epochs:  7213\n",
      "Calculating rhythmic features...\n",
      "Storing features...\n",
      "Seizure start: 59732.0\n",
      "Seizure end: 59794.0\n",
      "Frequency: 256.0\n",
      "Pre-ictal start: 59722\n",
      "Pre-ictal end: 59732\n",
      "Ictal start: 59732\n",
      "Ictal end: 59794\n",
      "Post-ictal start: 59794\n",
      "Post-ictal end: 59804\n"
     ]
    },
    {
     "name": "stderr",
     "output_type": "stream",
     "text": [
      " 73%|███████▎  | 180/245 [7:10:58<5:39:33, 313.43s/it]"
     ]
    },
    {
     "name": "stdout",
     "output_type": "stream",
     "text": [
      "Mean connectivity shape: (23, 23)\n",
      "Number of epochs:  7213\n",
      "Calculating rhythmic features...\n",
      "Storing features...\n",
      "Seizure start: 61332.0\n",
      "Seizure end: 61359.0\n",
      "Frequency: 256.0\n",
      "Pre-ictal start: 61322\n",
      "Pre-ictal end: 61332\n",
      "Ictal start: 61332\n",
      "Ictal end: 61359\n",
      "Post-ictal start: 61359\n",
      "Post-ictal end: 61369\n"
     ]
    },
    {
     "name": "stderr",
     "output_type": "stream",
     "text": [
      " 74%|███████▍  | 181/245 [7:17:22<5:57:04, 334.75s/it]"
     ]
    },
    {
     "name": "stdout",
     "output_type": "stream",
     "text": [
      "Mean connectivity shape: (23, 23)\n",
      "Number of epochs:  7213\n",
      "Calculating rhythmic features...\n",
      "Storing features...\n",
      "Seizure start: 62427.0\n",
      "Seizure end: 62511.0\n",
      "Frequency: 256.0\n",
      "Pre-ictal start: 62417\n",
      "Pre-ictal end: 62427\n",
      "Ictal start: 62427\n",
      "Ictal end: 62511\n",
      "Post-ictal start: 62511\n",
      "Post-ictal end: 62521\n"
     ]
    },
    {
     "name": "stderr",
     "output_type": "stream",
     "text": [
      " 74%|███████▍  | 182/245 [7:23:45<6:06:41, 349.23s/it]"
     ]
    },
    {
     "name": "stdout",
     "output_type": "stream",
     "text": [
      "Mean connectivity shape: (23, 23)\n",
      "Number of epochs:  1800\n",
      "Calculating rhythmic features...\n",
      "Storing features...\n",
      "Seizure start: 480.0\n",
      "Seizure end: 505.0\n",
      "Frequency: 256.0\n",
      "Pre-ictal start: 470\n",
      "Pre-ictal end: 480\n",
      "Ictal start: 480\n",
      "Ictal end: 505\n",
      "Post-ictal start: 505\n",
      "Post-ictal end: 515\n"
     ]
    },
    {
     "name": "stderr",
     "output_type": "stream",
     "text": [
      " 75%|███████▍  | 183/245 [7:25:12<4:39:30, 270.49s/it]"
     ]
    },
    {
     "name": "stdout",
     "output_type": "stream",
     "text": [
      "Mean connectivity shape: (23, 23)\n",
      "Number of epochs:  1800\n",
      "Calculating rhythmic features...\n",
      "Storing features...\n",
      "Seizure start: 2451.0\n",
      "Seizure end: 2476.0\n",
      "Frequency: 256.0\n",
      "Pre-ictal start: 2441\n",
      "Pre-ictal end: 2451\n",
      "Ictal start: 2451\n",
      "Ictal end: 2476\n",
      "Post-ictal start: 2476\n",
      "Post-ictal end: 2486\n"
     ]
    },
    {
     "name": "stderr",
     "output_type": "stream",
     "text": [
      " 75%|███████▌  | 184/245 [7:26:39<3:38:57, 215.37s/it]"
     ]
    },
    {
     "name": "stdout",
     "output_type": "stream",
     "text": [
      "Mean connectivity shape: (23, 23)\n",
      "Number of epochs:  1800\n",
      "Calculating rhythmic features...\n",
      "Storing features...\n",
      "Seizure start: 231.0\n",
      "Seizure end: 260.0\n",
      "Frequency: 256.0\n",
      "Pre-ictal start: 221\n",
      "Pre-ictal end: 231\n",
      "Ictal start: 231\n",
      "Ictal end: 260\n",
      "Post-ictal start: 260\n",
      "Post-ictal end: 270\n"
     ]
    },
    {
     "name": "stderr",
     "output_type": "stream",
     "text": [
      " 76%|███████▌  | 185/245 [7:28:03<2:56:06, 176.11s/it]"
     ]
    },
    {
     "name": "stdout",
     "output_type": "stream",
     "text": [
      "Mean connectivity shape: (23, 23)\n",
      "Number of epochs:  1800\n",
      "Calculating rhythmic features...\n",
      "Storing features...\n",
      "Seizure start: 2883.0\n",
      "Seizure end: 2908.0\n",
      "Frequency: 256.0\n",
      "Pre-ictal start: 2873\n",
      "Pre-ictal end: 2883\n",
      "Ictal start: 2883\n",
      "Ictal end: 2908\n",
      "Post-ictal start: 2908\n",
      "Post-ictal end: 2918\n"
     ]
    },
    {
     "name": "stderr",
     "output_type": "stream",
     "text": [
      " 76%|███████▌  | 186/245 [7:29:28<2:26:19, 148.80s/it]"
     ]
    },
    {
     "name": "stdout",
     "output_type": "stream",
     "text": [
      "Mean connectivity shape: (23, 23)\n",
      "Number of epochs:  1800\n",
      "Calculating rhythmic features...\n",
      "Storing features...\n",
      "Seizure start: 1088.0\n",
      "Seizure end: 1120.0\n",
      "Frequency: 256.0\n",
      "Pre-ictal start: 1078\n",
      "Pre-ictal end: 1088\n",
      "Ictal start: 1088\n",
      "Ictal end: 1120\n",
      "Post-ictal start: 1120\n",
      "Post-ictal end: 1130\n"
     ]
    },
    {
     "name": "stderr",
     "output_type": "stream",
     "text": [
      " 76%|███████▋  | 187/245 [7:31:02<2:07:48, 132.21s/it]"
     ]
    },
    {
     "name": "stdout",
     "output_type": "stream",
     "text": [
      "Mean connectivity shape: (23, 23)\n",
      "Number of epochs:  1800\n",
      "Calculating rhythmic features...\n",
      "Storing features...\n",
      "Seizure start: 1411.0\n",
      "Seizure end: 1438.0\n",
      "Frequency: 256.0\n",
      "Pre-ictal start: 1401\n",
      "Pre-ictal end: 1411\n",
      "Ictal start: 1411\n",
      "Ictal end: 1438\n",
      "Post-ictal start: 1438\n",
      "Post-ictal end: 1448\n"
     ]
    },
    {
     "name": "stderr",
     "output_type": "stream",
     "text": [
      " 77%|███████▋  | 188/245 [7:32:35<1:54:26, 120.46s/it]"
     ]
    },
    {
     "name": "stdout",
     "output_type": "stream",
     "text": [
      "Mean connectivity shape: (23, 23)\n",
      "Number of epochs:  1800\n",
      "Calculating rhythmic features...\n",
      "Storing features...\n",
      "Seizure start: 1745.0\n",
      "Seizure end: 1764.0\n",
      "Frequency: 256.0\n",
      "Pre-ictal start: 1735\n",
      "Pre-ictal end: 1745\n",
      "Ictal start: 1745\n",
      "Ictal end: 1764\n",
      "Post-ictal start: 1764\n",
      "Post-ictal end: 1774\n"
     ]
    },
    {
     "name": "stderr",
     "output_type": "stream",
     "text": [
      " 77%|███████▋  | 189/245 [7:34:08<1:44:44, 112.23s/it]"
     ]
    },
    {
     "name": "stdout",
     "output_type": "stream",
     "text": [
      "Mean connectivity shape: (23, 23)\n",
      "Number of epochs:  1800\n",
      "Calculating rhythmic features...\n",
      "Storing features...\n",
      "Seizure start: 1229.0\n",
      "Seizure end: 1253.0\n",
      "Frequency: 256.0\n",
      "Pre-ictal start: 1219\n",
      "Pre-ictal end: 1229\n",
      "Ictal start: 1229\n",
      "Ictal end: 1253\n",
      "Post-ictal start: 1253\n",
      "Post-ictal end: 1263\n"
     ]
    },
    {
     "name": "stderr",
     "output_type": "stream",
     "text": [
      " 78%|███████▊  | 190/245 [7:35:33<1:35:31, 104.21s/it]"
     ]
    },
    {
     "name": "stdout",
     "output_type": "stream",
     "text": [
      "Mean connectivity shape: (23, 23)\n",
      "Number of epochs:  1800\n",
      "Calculating rhythmic features...\n",
      "Storing features...\n",
      "Seizure start: 38.0\n",
      "Seizure end: 60.0\n",
      "Frequency: 256.0\n",
      "Pre-ictal start: 28\n",
      "Pre-ictal end: 38\n",
      "Ictal start: 38\n",
      "Ictal end: 60\n",
      "Post-ictal start: 60\n",
      "Post-ictal end: 70\n"
     ]
    },
    {
     "name": "stderr",
     "output_type": "stream",
     "text": [
      " 78%|███████▊  | 191/245 [7:37:05<1:30:21, 100.39s/it]"
     ]
    },
    {
     "name": "stdout",
     "output_type": "stream",
     "text": [
      "Mean connectivity shape: (23, 23)\n",
      "Number of epochs:  1800\n",
      "Calculating rhythmic features...\n",
      "Storing features...\n",
      "Seizure start: 1745.0\n",
      "Seizure end: 1764.0\n",
      "Frequency: 256.0\n",
      "Pre-ictal start: 1735\n",
      "Pre-ictal end: 1745\n",
      "Ictal start: 1745\n",
      "Ictal end: 1764\n",
      "Post-ictal start: 1764\n",
      "Post-ictal end: 1774\n"
     ]
    },
    {
     "name": "stderr",
     "output_type": "stream",
     "text": [
      " 78%|███████▊  | 192/245 [7:38:33<1:25:28, 96.76s/it] "
     ]
    },
    {
     "name": "stdout",
     "output_type": "stream",
     "text": [
      "Mean connectivity shape: (23, 23)\n",
      "Number of epochs:  1800\n",
      "Calculating rhythmic features...\n",
      "Storing features...\n",
      "Seizure start: 3527.0\n",
      "Seizure end: 3597.0\n",
      "Frequency: 256.0\n",
      "Pre-ictal start: 3517\n",
      "Pre-ictal end: 3527\n",
      "Ictal start: 3527\n",
      "Ictal end: 3597\n",
      "Post-ictal start: 3597\n",
      "Post-ictal end: 3607\n"
     ]
    },
    {
     "name": "stderr",
     "output_type": "stream",
     "text": [
      " 79%|███████▉  | 193/245 [7:40:01<1:21:27, 93.99s/it]"
     ]
    },
    {
     "name": "stdout",
     "output_type": "stream",
     "text": [
      "Mean connectivity shape: (23, 23)\n",
      "Number of epochs:  1800\n",
      "Calculating rhythmic features...\n",
      "Storing features...\n",
      "Seizure start: 3288.0\n",
      "Seizure end: 3304.0\n",
      "Frequency: 256.0\n",
      "Pre-ictal start: 3278\n",
      "Pre-ictal end: 3288\n",
      "Ictal start: 3288\n",
      "Ictal end: 3304\n",
      "Post-ictal start: 3304\n",
      "Post-ictal end: 3314\n"
     ]
    },
    {
     "name": "stderr",
     "output_type": "stream",
     "text": [
      " 79%|███████▉  | 194/245 [7:41:32<1:19:10, 93.14s/it]"
     ]
    },
    {
     "name": "stdout",
     "output_type": "stream",
     "text": [
      "Mean connectivity shape: (23, 23)\n",
      "Number of epochs:  1800\n",
      "Calculating rhythmic features...\n",
      "Storing features...\n",
      "Seizure start: 1939.0\n",
      "Seizure end: 1966.0\n",
      "Frequency: 256.0\n",
      "Pre-ictal start: 1929\n",
      "Pre-ictal end: 1939\n",
      "Ictal start: 1939\n",
      "Ictal end: 1966\n",
      "Post-ictal start: 1966\n",
      "Post-ictal end: 1976\n"
     ]
    },
    {
     "name": "stderr",
     "output_type": "stream",
     "text": [
      " 80%|███████▉  | 195/245 [7:43:03<1:17:14, 92.69s/it]"
     ]
    },
    {
     "name": "stdout",
     "output_type": "stream",
     "text": [
      "Mean connectivity shape: (23, 23)\n",
      "Number of epochs:  1800\n",
      "Calculating rhythmic features...\n",
      "Storing features...\n",
      "Seizure start: 3552.0\n",
      "Seizure end: 3569.0\n",
      "Frequency: 256.0\n",
      "Pre-ictal start: 3542\n",
      "Pre-ictal end: 3552\n",
      "Ictal start: 3552\n",
      "Ictal end: 3569\n",
      "Post-ictal start: 3569\n",
      "Post-ictal end: 3579\n"
     ]
    },
    {
     "name": "stderr",
     "output_type": "stream",
     "text": [
      " 80%|████████  | 196/245 [7:44:30<1:14:09, 90.82s/it]"
     ]
    },
    {
     "name": "stdout",
     "output_type": "stream",
     "text": [
      "Mean connectivity shape: (23, 23)\n",
      "Number of epochs:  1800\n",
      "Calculating rhythmic features...\n",
      "Storing features...\n",
      "Seizure start: 3515.0\n",
      "Seizure end: 3581.0\n",
      "Frequency: 256.0\n",
      "Pre-ictal start: 3505\n",
      "Pre-ictal end: 3515\n",
      "Ictal start: 3515\n",
      "Ictal end: 3581\n",
      "Post-ictal start: 3581\n",
      "Post-ictal end: 3591\n"
     ]
    },
    {
     "name": "stderr",
     "output_type": "stream",
     "text": [
      " 80%|████████  | 197/245 [7:45:53<1:10:51, 88.58s/it]"
     ]
    },
    {
     "name": "stdout",
     "output_type": "stream",
     "text": [
      "Mean connectivity shape: (23, 23)\n",
      "Number of epochs:  1800\n",
      "Calculating rhythmic features...\n",
      "Storing features...\n",
      "Seizure start: 2804.0\n",
      "Seizure end: 2872.0\n",
      "Frequency: 256.0\n",
      "Pre-ictal start: 2794\n",
      "Pre-ictal end: 2804\n",
      "Ictal start: 2804\n",
      "Ictal end: 2872\n",
      "Post-ictal start: 2872\n",
      "Post-ictal end: 2882\n"
     ]
    },
    {
     "name": "stderr",
     "output_type": "stream",
     "text": [
      " 81%|████████  | 198/245 [7:47:17<1:08:18, 87.20s/it]"
     ]
    },
    {
     "name": "stdout",
     "output_type": "stream",
     "text": [
      "Mean connectivity shape: (35, 35)\n",
      "Number of epochs:  1312\n",
      "Calculating rhythmic features...\n",
      "Storing features...\n",
      "Seizure start: 71916.0\n",
      "Seizure end: 71986.0\n",
      "Frequency: 512.0\n",
      "Pre-ictal start: 71906\n",
      "Pre-ictal end: 71916\n",
      "Ictal start: 71916\n",
      "Ictal end: 71986\n",
      "Post-ictal start: 71986\n",
      "Post-ictal end: 71996\n"
     ]
    },
    {
     "name": "stderr",
     "output_type": "stream",
     "text": [
      " 81%|████████  | 199/245 [7:49:25<1:16:17, 99.52s/it]"
     ]
    },
    {
     "name": "stdout",
     "output_type": "stream",
     "text": [
      "Mean connectivity shape: (35, 35)\n",
      "Number of epochs:  1151\n",
      "Calculating rhythmic features...\n",
      "Storing features...\n",
      "Seizure start: 9517.0\n",
      "Seizure end: 9571.0\n",
      "Frequency: 512.0\n",
      "Pre-ictal start: 9507\n",
      "Pre-ictal end: 9517\n",
      "Ictal start: 9517\n",
      "Ictal end: 9571\n",
      "Post-ictal start: 9571\n",
      "Post-ictal end: 9581\n"
     ]
    },
    {
     "name": "stderr",
     "output_type": "stream",
     "text": [
      " 82%|████████▏ | 200/245 [7:52:03<1:27:46, 117.04s/it]"
     ]
    },
    {
     "name": "stdout",
     "output_type": "stream",
     "text": [
      "Mean connectivity shape: (35, 35)\n",
      "Number of epochs:  1254\n",
      "Calculating rhythmic features...\n",
      "Storing features...\n",
      "Seizure start: 66509.0\n",
      "Seizure end: 70169.0\n",
      "Frequency: 512.0\n",
      "Pre-ictal start: 66499\n",
      "Pre-ictal end: 66509\n",
      "Ictal start: 66509\n",
      "Ictal end: 70169\n",
      "Post-ictal start: 70169\n",
      "Post-ictal end: 70179\n"
     ]
    },
    {
     "name": "stderr",
     "output_type": "stream",
     "text": [
      " 82%|████████▏ | 201/245 [7:54:17<1:29:24, 121.92s/it]"
     ]
    },
    {
     "name": "stdout",
     "output_type": "stream",
     "text": [
      "Mean connectivity shape: (35, 35)\n",
      "Number of epochs:  1051\n",
      "Calculating rhythmic features...\n",
      "Storing features...\n",
      "Seizure start: 76109.0\n",
      "Seizure end: 76183.0\n",
      "Frequency: 512.0\n",
      "Pre-ictal start: 76099\n",
      "Pre-ictal end: 76109\n",
      "Ictal start: 76109\n",
      "Ictal end: 76183\n",
      "Post-ictal start: 76183\n",
      "Post-ictal end: 76193\n"
     ]
    },
    {
     "name": "stderr",
     "output_type": "stream",
     "text": [
      " 82%|████████▏ | 202/245 [7:56:32<1:30:17, 125.99s/it]"
     ]
    },
    {
     "name": "stdout",
     "output_type": "stream",
     "text": [
      "Mean connectivity shape: (35, 35)\n",
      "Number of epochs:  1071\n",
      "Calculating rhythmic features...\n",
      "Storing features...\n",
      "Seizure start: 81428.0\n",
      "Seizure end: 81495.0\n",
      "Frequency: 512.0\n",
      "Pre-ictal start: 81418\n",
      "Pre-ictal end: 81428\n",
      "Ictal start: 81428\n",
      "Ictal end: 81495\n",
      "Post-ictal start: 81495\n",
      "Post-ictal end: 81505\n"
     ]
    },
    {
     "name": "stderr",
     "output_type": "stream",
     "text": [
      " 83%|████████▎ | 203/245 [7:58:49<1:30:24, 129.16s/it]"
     ]
    },
    {
     "name": "stdout",
     "output_type": "stream",
     "text": [
      "Mean connectivity shape: (35, 35)\n",
      "Number of epochs:  23318\n",
      "Calculating rhythmic features...\n",
      "Storing features...\n",
      "Seizure start: 34150.0\n",
      "Seizure end: 34261.0\n",
      "Frequency: 512.0\n",
      "Pre-ictal start: 34140\n",
      "Pre-ictal end: 34150\n",
      "Ictal start: 34150\n",
      "Ictal end: 34261\n",
      "Post-ictal start: 34261\n",
      "Post-ictal end: 34271\n"
     ]
    },
    {
     "name": "stderr",
     "output_type": "stream",
     "text": [
      " 84%|████████▍ | 206/245 [8:56:00<7:34:59, 699.98s/it]"
     ]
    },
    {
     "name": "stdout",
     "output_type": "stream",
     "text": [
      "Mean connectivity shape: (35, 35)\n",
      "Number of epochs:  20290\n",
      "Calculating rhythmic features...\n",
      "Storing features...\n",
      "Seizure start: 25985.0\n",
      "Seizure end: 26118.0\n",
      "Frequency: 512.0\n",
      "Pre-ictal start: 25975\n",
      "Pre-ictal end: 25985\n",
      "Ictal start: 25985\n",
      "Ictal end: 26118\n",
      "Post-ictal start: 26118\n",
      "Post-ictal end: 26128\n"
     ]
    },
    {
     "name": "stderr",
     "output_type": "stream",
     "text": [
      " 84%|████████▍ | 207/245 [10:51:43<21:18:33, 2018.78s/it]"
     ]
    },
    {
     "name": "stdout",
     "output_type": "stream",
     "text": [
      "Mean connectivity shape: (37, 37)\n",
      "Number of epochs:  4622\n",
      "Calculating rhythmic features...\n",
      "Storing features...\n",
      "Seizure start: 31525.0\n",
      "Seizure end: 31560.0\n",
      "Frequency: 512.0\n",
      "Pre-ictal start: 31515\n",
      "Pre-ictal end: 31525\n",
      "Ictal start: 31525\n",
      "Ictal end: 31560\n",
      "Post-ictal start: 31560\n",
      "Post-ictal end: 31570\n"
     ]
    },
    {
     "name": "stderr",
     "output_type": "stream",
     "text": [
      " 85%|████████▍ | 208/245 [10:59:14<17:00:46, 1655.32s/it]"
     ]
    },
    {
     "name": "stdout",
     "output_type": "stream",
     "text": [
      "Mean connectivity shape: (37, 37)\n",
      "Number of epochs:  3777\n",
      "Calculating rhythmic features...\n",
      "Storing features...\n",
      "Seizure start: 28519.0\n",
      "Seizure end: 28549.0\n",
      "Frequency: 512.0\n",
      "Pre-ictal start: 28509\n",
      "Pre-ictal end: 28519\n",
      "Ictal start: 28519\n",
      "Ictal end: 28549\n",
      "Post-ictal start: 28549\n",
      "Post-ictal end: 28559\n"
     ]
    },
    {
     "name": "stderr",
     "output_type": "stream",
     "text": [
      " 85%|████████▌ | 209/245 [11:10:24<14:06:09, 1410.28s/it]"
     ]
    },
    {
     "name": "stdout",
     "output_type": "stream",
     "text": [
      "Mean connectivity shape: (37, 37)\n",
      "Number of epochs:  2464\n",
      "Calculating rhythmic features...\n",
      "Storing features...\n",
      "Seizure start: 27523.0\n",
      "Seizure end: 27562.0\n",
      "Frequency: 512.0\n",
      "Pre-ictal start: 27513\n",
      "Pre-ictal end: 27523\n",
      "Ictal start: 27523\n",
      "Ictal end: 27562\n",
      "Post-ictal start: 27562\n",
      "Post-ictal end: 27572\n"
     ]
    },
    {
     "name": "stderr",
     "output_type": "stream",
     "text": [
      " 86%|████████▌ | 210/245 [11:14:11<10:41:35, 1099.88s/it]"
     ]
    },
    {
     "name": "stdout",
     "output_type": "stream",
     "text": [
      "Mean connectivity shape: (37, 37)\n",
      "Number of epochs:  4090\n",
      "Calculating rhythmic features...\n",
      "Storing features...\n",
      "Seizure start: 29426.0\n",
      "Seizure end: 29468.0\n",
      "Frequency: 512.0\n",
      "Pre-ictal start: 29416\n",
      "Pre-ictal end: 29426\n",
      "Ictal start: 29426\n",
      "Ictal end: 29468\n",
      "Post-ictal start: 29468\n",
      "Post-ictal end: 29478\n"
     ]
    },
    {
     "name": "stderr",
     "output_type": "stream",
     "text": [
      " 87%|████████▋ | 213/245 [11:22:24<5:22:35, 604.86s/it]  "
     ]
    },
    {
     "name": "stdout",
     "output_type": "stream",
     "text": [
      "Mean connectivity shape: (37, 37)\n",
      "Number of epochs:  3011\n",
      "Calculating rhythmic features...\n",
      "Storing features...\n",
      "Seizure start: 53064.0\n",
      "Seizure end: 53108.0\n",
      "Frequency: 512.0\n",
      "Pre-ictal start: 53054\n",
      "Pre-ictal end: 53064\n",
      "Ictal start: 53064\n",
      "Ictal end: 53108\n",
      "Post-ictal start: 53108\n",
      "Post-ictal end: 53118\n"
     ]
    },
    {
     "name": "stderr",
     "output_type": "stream",
     "text": [
      " 88%|████████▊ | 215/245 [11:28:39<3:52:31, 465.06s/it]"
     ]
    },
    {
     "name": "stdout",
     "output_type": "stream",
     "text": [
      "Mean connectivity shape: (45, 45)\n",
      "Number of epochs:  15724\n",
      "Calculating rhythmic features...\n",
      "Storing features...\n",
      "Seizure start: 19549.0\n",
      "Seizure end: 19611.0\n",
      "Frequency: 512.0\n",
      "Pre-ictal start: 19539\n",
      "Pre-ictal end: 19549\n",
      "Ictal start: 19549\n",
      "Ictal end: 19611\n",
      "Post-ictal start: 19611\n",
      "Post-ictal end: 19621\n"
     ]
    },
    {
     "name": "stderr",
     "output_type": "stream",
     "text": [
      " 88%|████████▊ | 216/245 [13:29:01<14:15:25, 1769.83s/it]"
     ]
    },
    {
     "name": "stdout",
     "output_type": "stream",
     "text": [
      "Mean connectivity shape: (45, 45)\n",
      "Number of epochs:  4116\n",
      "Calculating rhythmic features...\n",
      "Storing features...\n",
      "Seizure start: 58183.0\n",
      "Seizure end: 58263.0\n",
      "Frequency: 512.0\n",
      "Pre-ictal start: 58173\n",
      "Pre-ictal end: 58183\n",
      "Ictal start: 58183\n",
      "Ictal end: 58263\n",
      "Post-ictal start: 58263\n",
      "Post-ictal end: 58273\n"
     ]
    },
    {
     "name": "stderr",
     "output_type": "stream",
     "text": [
      " 89%|████████▊ | 217/245 [13:38:35<11:45:16, 1511.32s/it]"
     ]
    },
    {
     "name": "stdout",
     "output_type": "stream",
     "text": [
      "Mean connectivity shape: (45, 45)\n",
      "Number of epochs:  4176\n",
      "Calculating rhythmic features...\n",
      "Storing features...\n",
      "Seizure start: 61256.0\n",
      "Seizure end: 61315.0\n",
      "Frequency: 512.0\n",
      "Pre-ictal start: 61246\n",
      "Pre-ictal end: 61256\n",
      "Ictal start: 61256\n",
      "Ictal end: 61315\n",
      "Post-ictal start: 61315\n",
      "Post-ictal end: 61325\n"
     ]
    },
    {
     "name": "stderr",
     "output_type": "stream",
     "text": [
      " 89%|████████▉ | 218/245 [13:48:48<9:44:45, 1299.48s/it] "
     ]
    },
    {
     "name": "stdout",
     "output_type": "stream",
     "text": [
      "Mean connectivity shape: (45, 45)\n",
      "Number of epochs:  4032\n",
      "Calculating rhythmic features...\n",
      "Storing features...\n",
      "Seizure start: 58844.0\n",
      "Seizure end: 58908.0\n",
      "Frequency: 512.0\n",
      "Pre-ictal start: 58834\n",
      "Pre-ictal end: 58844\n",
      "Ictal start: 58844\n",
      "Ictal end: 58908\n",
      "Post-ictal start: 58908\n",
      "Post-ictal end: 58918\n"
     ]
    },
    {
     "name": "stderr",
     "output_type": "stream",
     "text": [
      " 89%|████████▉ | 219/245 [14:04:44<8:45:30, 1212.73s/it]"
     ]
    },
    {
     "name": "stdout",
     "output_type": "stream",
     "text": [
      "Mean connectivity shape: (45, 45)\n",
      "Number of epochs:  4991\n",
      "Calculating rhythmic features...\n",
      "Storing features...\n",
      "Seizure start: 27950.0\n",
      "Seizure end: 28019.0\n",
      "Frequency: 512.0\n",
      "Pre-ictal start: 27940\n",
      "Pre-ictal end: 27950\n",
      "Ictal start: 27950\n",
      "Ictal end: 28019\n",
      "Post-ictal start: 28019\n",
      "Post-ictal end: 28029\n"
     ]
    },
    {
     "name": "stderr",
     "output_type": "stream",
     "text": [
      " 90%|████████▉ | 220/245 [14:14:26<7:15:46, 1045.86s/it]"
     ]
    },
    {
     "name": "stdout",
     "output_type": "stream",
     "text": [
      "Mean connectivity shape: (45, 45)\n",
      "Number of epochs:  4277\n",
      "Calculating rhythmic features...\n",
      "Storing features...\n",
      "Seizure start: 42013.0\n",
      "Seizure end: 42064.0\n",
      "Frequency: 512.0\n",
      "Pre-ictal start: 42003\n",
      "Pre-ictal end: 42013\n",
      "Ictal start: 42013\n",
      "Ictal end: 42064\n",
      "Post-ictal start: 42064\n",
      "Post-ictal end: 42074\n"
     ]
    },
    {
     "name": "stderr",
     "output_type": "stream",
     "text": [
      " 90%|█████████ | 221/245 [14:22:27<5:56:17, 890.75s/it] "
     ]
    },
    {
     "name": "stdout",
     "output_type": "stream",
     "text": [
      "Mean connectivity shape: (45, 45)\n",
      "Number of epochs:  4356\n",
      "Calculating rhythmic features...\n",
      "Storing features...\n",
      "Seizure start: 56633.0\n",
      "Seizure end: 56702.0\n",
      "Frequency: 512.0\n",
      "Pre-ictal start: 56623\n",
      "Pre-ictal end: 56633\n",
      "Ictal start: 56633\n",
      "Ictal end: 56702\n",
      "Post-ictal start: 56702\n",
      "Post-ictal end: 56712\n"
     ]
    },
    {
     "name": "stderr",
     "output_type": "stream",
     "text": [
      " 91%|█████████ | 222/245 [14:33:25<5:16:18, 825.16s/it]"
     ]
    },
    {
     "name": "stdout",
     "output_type": "stream",
     "text": [
      "Mean connectivity shape: (45, 45)\n",
      "Number of epochs:  8324\n",
      "Calculating rhythmic features...\n",
      "Storing features...\n",
      "Seizure start: 46190.0\n",
      "Seizure end: 46195.0\n",
      "Frequency: 512.0\n",
      "Pre-ictal start: 46180\n",
      "Pre-ictal end: 46190\n",
      "Ictal start: 46190\n",
      "Ictal end: 46195\n",
      "Post-ictal start: 46195\n",
      "Post-ictal end: 46205\n"
     ]
    },
    {
     "name": "stderr",
     "output_type": "stream",
     "text": [
      " 91%|█████████ | 223/245 [15:14:11<7:53:02, 1290.09s/it]"
     ]
    },
    {
     "name": "stdout",
     "output_type": "stream",
     "text": [
      "Mean connectivity shape: (45, 45)\n",
      "Number of epochs:  8324\n",
      "Calculating rhythmic features...\n",
      "Storing features...\n",
      "Seizure start: 50425.0\n",
      "Seizure end: 50444.0\n",
      "Frequency: 512.0\n",
      "Pre-ictal start: 50415\n",
      "Pre-ictal end: 50425\n",
      "Ictal start: 50425\n",
      "Ictal end: 50444\n",
      "Post-ictal start: 50444\n",
      "Post-ictal end: 50454\n"
     ]
    },
    {
     "name": "stderr",
     "output_type": "stream",
     "text": [
      " 91%|█████████▏| 224/245 [15:55:02<9:29:44, 1627.83s/it]"
     ]
    },
    {
     "name": "stdout",
     "output_type": "stream",
     "text": [
      "Mean connectivity shape: (45, 45)\n",
      "Number of epochs:  8324\n",
      "Calculating rhythmic features...\n",
      "Storing features...\n",
      "Seizure start: 55106.0\n",
      "Seizure end: 55163.0\n",
      "Frequency: 512.0\n",
      "Pre-ictal start: 55096\n",
      "Pre-ictal end: 55106\n",
      "Ictal start: 55106\n",
      "Ictal end: 55163\n",
      "Post-ictal start: 55163\n",
      "Post-ictal end: 55173\n"
     ]
    },
    {
     "name": "stderr",
     "output_type": "stream",
     "text": [
      " 92%|█████████▏| 225/245 [16:35:51<10:22:52, 1868.64s/it]"
     ]
    },
    {
     "name": "stdout",
     "output_type": "stream",
     "text": [
      "Mean connectivity shape: (45, 45)\n",
      "Number of epochs:  7477\n",
      "Calculating rhythmic features...\n",
      "Storing features...\n",
      "Seizure start: 63313.0\n",
      "Seizure end: 63361.0\n",
      "Frequency: 512.0\n",
      "Pre-ictal start: 63303\n",
      "Pre-ictal end: 63313\n",
      "Ictal start: 63313\n",
      "Ictal end: 63361\n",
      "Post-ictal start: 63361\n",
      "Post-ictal end: 63371\n"
     ]
    },
    {
     "name": "stderr",
     "output_type": "stream",
     "text": [
      " 92%|█████████▏| 226/245 [16:59:50<9:11:31, 1741.64s/it] "
     ]
    },
    {
     "name": "stdout",
     "output_type": "stream",
     "text": [
      "Mean connectivity shape: (45, 45)\n",
      "Number of epochs:  7477\n",
      "Calculating rhythmic features...\n",
      "Storing features...\n",
      "Seizure start: 66024.0\n",
      "Seizure end: 66042.0\n",
      "Frequency: 512.0\n",
      "Pre-ictal start: 66014\n",
      "Pre-ictal end: 66024\n",
      "Ictal start: 66024\n",
      "Ictal end: 66042\n",
      "Post-ictal start: 66042\n",
      "Post-ictal end: 66052\n"
     ]
    },
    {
     "name": "stderr",
     "output_type": "stream",
     "text": [
      " 93%|█████████▎| 227/245 [17:23:47<8:15:24, 1651.36s/it]"
     ]
    },
    {
     "name": "stdout",
     "output_type": "stream",
     "text": [
      "Mean connectivity shape: (45, 45)\n",
      "Number of epochs:  7477\n",
      "Calculating rhythmic features...\n",
      "Storing features...\n",
      "Seizure start: 73488.0\n",
      "Seizure end: 73503.0\n",
      "Frequency: 512.0\n",
      "Pre-ictal start: 73478\n",
      "Pre-ictal end: 73488\n",
      "Ictal start: 73488\n",
      "Ictal end: 73503\n",
      "Post-ictal start: 73503\n",
      "Post-ictal end: 73513\n"
     ]
    },
    {
     "name": "stderr",
     "output_type": "stream",
     "text": [
      " 93%|█████████▎| 228/245 [17:47:48<7:30:08, 1588.73s/it]"
     ]
    },
    {
     "name": "stdout",
     "output_type": "stream",
     "text": [
      "Mean connectivity shape: (45, 45)\n",
      "Number of epochs:  4282\n",
      "Calculating rhythmic features...\n",
      "Storing features...\n",
      "Seizure start: 39499.0\n",
      "Seizure end: 39513.0\n",
      "Frequency: 512.0\n",
      "Pre-ictal start: 39489\n",
      "Pre-ictal end: 39499\n",
      "Ictal start: 39499\n",
      "Ictal end: 39513\n",
      "Post-ictal start: 39513\n",
      "Post-ictal end: 39523\n"
     ]
    },
    {
     "name": "stderr",
     "output_type": "stream",
     "text": [
      " 93%|█████████▎| 229/245 [17:58:50<5:49:53, 1312.12s/it]"
     ]
    },
    {
     "name": "stdout",
     "output_type": "stream",
     "text": [
      "Mean connectivity shape: (45, 45)\n",
      "Number of epochs:  4887\n",
      "Calculating rhythmic features...\n",
      "Storing features...\n",
      "Seizure start: 58403.0\n",
      "Seizure end: 58466.0\n",
      "Frequency: 512.0\n",
      "Pre-ictal start: 58393\n",
      "Pre-ictal end: 58403\n",
      "Ictal start: 58403\n",
      "Ictal end: 58466\n",
      "Post-ictal start: 58466\n",
      "Post-ictal end: 58476\n"
     ]
    },
    {
     "name": "stderr",
     "output_type": "stream",
     "text": [
      " 94%|█████████▍| 231/245 [18:08:51<3:17:33, 846.67s/it] "
     ]
    },
    {
     "name": "stdout",
     "output_type": "stream",
     "text": [
      "Mean connectivity shape: (45, 45)\n",
      "Number of epochs:  4887\n",
      "Calculating rhythmic features...\n",
      "Storing features...\n",
      "Seizure start: 66661.0\n",
      "Seizure end: 66729.0\n",
      "Frequency: 512.0\n",
      "Pre-ictal start: 66651\n",
      "Pre-ictal end: 66661\n",
      "Ictal start: 66661\n",
      "Ictal end: 66729\n",
      "Post-ictal start: 66729\n",
      "Post-ictal end: 66739\n"
     ]
    },
    {
     "name": "stderr",
     "output_type": "stream",
     "text": [
      " 95%|█████████▍| 232/245 [18:18:50<2:50:08, 785.29s/it]"
     ]
    },
    {
     "name": "stdout",
     "output_type": "stream",
     "text": [
      "Mean connectivity shape: (45, 45)\n",
      "Number of epochs:  994\n",
      "Calculating rhythmic features...\n",
      "Storing features...\n",
      "Seizure start: 32127.0\n",
      "Seizure end: 32223.0\n",
      "Frequency: 512.0\n",
      "Pre-ictal start: 32117\n",
      "Pre-ictal end: 32127\n",
      "Ictal start: 32127\n",
      "Ictal end: 32223\n",
      "Post-ictal start: 32223\n",
      "Post-ictal end: 32233\n"
     ]
    },
    {
     "name": "stderr",
     "output_type": "stream",
     "text": [
      " 95%|█████████▌| 233/245 [18:20:49<2:02:14, 611.22s/it]"
     ]
    },
    {
     "name": "stdout",
     "output_type": "stream",
     "text": [
      "Mean connectivity shape: (45, 45)\n",
      "Number of epochs:  5097\n",
      "Calculating rhythmic features...\n",
      "Storing features...\n",
      "Seizure start: 67371.0\n",
      "Seizure end: 67434.0\n",
      "Frequency: 512.0\n",
      "Pre-ictal start: 67361\n",
      "Pre-ictal end: 67371\n",
      "Ictal start: 67371\n",
      "Ictal end: 67434\n",
      "Post-ictal start: 67434\n",
      "Post-ictal end: 67444\n"
     ]
    },
    {
     "name": "stderr",
     "output_type": "stream",
     "text": [
      " 96%|█████████▌| 234/245 [18:42:05<2:25:11, 791.94s/it]"
     ]
    },
    {
     "name": "stdout",
     "output_type": "stream",
     "text": [
      "Mean connectivity shape: (45, 45)\n",
      "Number of epochs:  4677\n",
      "Calculating rhythmic features...\n",
      "Storing features...\n",
      "Seizure start: 37330.0\n",
      "Seizure end: 37378.0\n",
      "Frequency: 512.0\n",
      "Pre-ictal start: 37320\n",
      "Pre-ictal end: 37330\n",
      "Ictal start: 37330\n",
      "Ictal end: 37378\n",
      "Post-ictal start: 37378\n",
      "Post-ictal end: 37388\n"
     ]
    },
    {
     "name": "stderr",
     "output_type": "stream",
     "text": [
      " 96%|█████████▌| 235/245 [19:02:45<2:32:52, 917.26s/it]"
     ]
    },
    {
     "name": "stdout",
     "output_type": "stream",
     "text": [
      "Mean connectivity shape: (45, 45)\n",
      "Number of epochs:  4656\n",
      "Calculating rhythmic features...\n",
      "Storing features...\n",
      "Seizure start: 32151.0\n",
      "Seizure end: 32216.0\n",
      "Frequency: 512.0\n",
      "Pre-ictal start: 32141\n",
      "Pre-ictal end: 32151\n",
      "Ictal start: 32151\n",
      "Ictal end: 32216\n",
      "Post-ictal start: 32216\n",
      "Post-ictal end: 32226\n"
     ]
    },
    {
     "name": "stderr",
     "output_type": "stream",
     "text": [
      " 96%|█████████▋| 236/245 [19:11:40<2:01:13, 808.16s/it]"
     ]
    },
    {
     "name": "stdout",
     "output_type": "stream",
     "text": [
      "Mean connectivity shape: (45, 45)\n",
      "Number of epochs:  6263\n",
      "Calculating rhythmic features...\n",
      "Storing features...\n",
      "Seizure start: 50754.0\n",
      "Seizure end: 50905.0\n",
      "Frequency: 512.0\n",
      "Pre-ictal start: 50744\n",
      "Pre-ictal end: 50754\n",
      "Ictal start: 50754\n",
      "Ictal end: 50905\n",
      "Post-ictal start: 50905\n",
      "Post-ictal end: 50915\n"
     ]
    },
    {
     "name": "stderr",
     "output_type": "stream",
     "text": [
      " 97%|█████████▋| 237/245 [19:26:55<1:51:53, 839.18s/it]"
     ]
    },
    {
     "name": "stdout",
     "output_type": "stream",
     "text": [
      "Mean connectivity shape: (49, 49)\n",
      "Number of epochs:  3934\n",
      "Calculating rhythmic features...\n",
      "Storing features...\n",
      "Seizure start: 49560.0\n",
      "Seizure end: 49587.0\n",
      "Frequency: 512.0\n",
      "Pre-ictal start: 49550\n",
      "Pre-ictal end: 49560\n",
      "Ictal start: 49560\n",
      "Ictal end: 49587\n",
      "Post-ictal start: 49587\n",
      "Post-ictal end: 49597\n"
     ]
    },
    {
     "name": "stderr",
     "output_type": "stream",
     "text": [
      " 97%|█████████▋| 238/245 [19:35:52<1:27:34, 750.67s/it]"
     ]
    },
    {
     "name": "stdout",
     "output_type": "stream",
     "text": [
      "Mean connectivity shape: (49, 49)\n",
      "Number of epochs:  4582\n",
      "Calculating rhythmic features...\n",
      "Storing features...\n",
      "Seizure start: 64492.0\n",
      "Seizure end: 64504.0\n",
      "Frequency: 512.0\n",
      "Pre-ictal start: 64482\n",
      "Pre-ictal end: 64492\n",
      "Ictal start: 64492\n",
      "Ictal end: 64504\n",
      "Post-ictal start: 64504\n",
      "Post-ictal end: 64514\n"
     ]
    },
    {
     "name": "stderr",
     "output_type": "stream",
     "text": [
      " 98%|█████████▊| 239/245 [19:45:01<1:09:06, 691.10s/it]"
     ]
    },
    {
     "name": "stdout",
     "output_type": "stream",
     "text": [
      "Mean connectivity shape: (49, 49)\n",
      "Number of epochs:  20997\n",
      "Calculating rhythmic features...\n",
      "Storing features...\n",
      "Seizure start: 76205.0\n",
      "Seizure end: 76246.0\n",
      "Frequency: 512.0\n",
      "Pre-ictal start: 76195\n",
      "Pre-ictal end: 76205\n",
      "Ictal start: 76205\n",
      "Ictal end: 76246\n",
      "Post-ictal start: 76246\n",
      "Post-ictal end: 76256\n"
     ]
    },
    {
     "name": "stderr",
     "output_type": "stream",
     "text": [
      " 98%|█████████▊| 240/245 [20:43:41<2:07:27, 1529.46s/it]"
     ]
    },
    {
     "name": "stdout",
     "output_type": "stream",
     "text": [
      "Mean connectivity shape: (49, 49)\n",
      "Number of epochs:  7321\n",
      "Calculating rhythmic features...\n",
      "Storing features...\n",
      "Seizure start: 56973.0\n",
      "Seizure end: 57056.0\n",
      "Frequency: 512.0\n",
      "Pre-ictal start: 56963\n",
      "Pre-ictal end: 56973\n",
      "Ictal start: 56973\n",
      "Ictal end: 57056\n",
      "Post-ictal start: 57056\n",
      "Post-ictal end: 57066\n"
     ]
    },
    {
     "name": "stderr",
     "output_type": "stream",
     "text": [
      " 98%|█████████▊| 241/245 [21:02:13<1:33:42, 1405.53s/it]"
     ]
    },
    {
     "name": "stdout",
     "output_type": "stream",
     "text": [
      "Mean connectivity shape: (49, 49)\n",
      "Number of epochs:  4135\n",
      "Calculating rhythmic features...\n",
      "Storing features...\n",
      "Seizure start: 81905.0\n",
      "Seizure end: 82028.0\n",
      "Frequency: 512.0\n",
      "Pre-ictal start: 81895\n",
      "Pre-ictal end: 81905\n",
      "Ictal start: 81905\n",
      "Ictal end: 82028\n",
      "Post-ictal start: 82028\n",
      "Post-ictal end: 82038\n"
     ]
    },
    {
     "name": "stderr",
     "output_type": "stream",
     "text": [
      " 99%|█████████▉| 242/245 [21:15:10<1:00:53, 1217.83s/it]"
     ]
    },
    {
     "name": "stdout",
     "output_type": "stream",
     "text": [
      "Mean connectivity shape: (49, 49)\n",
      "Number of epochs:  4648\n",
      "Calculating rhythmic features...\n",
      "Storing features...\n",
      "Seizure start: 11809.0\n",
      "Seizure end: 11916.0\n",
      "Frequency: 512.0\n",
      "Pre-ictal start: 11799\n",
      "Pre-ictal end: 11809\n",
      "Ictal start: 11809\n",
      "Ictal end: 11916\n",
      "Post-ictal start: 11916\n",
      "Post-ictal end: 11926\n"
     ]
    },
    {
     "name": "stderr",
     "output_type": "stream",
     "text": [
      " 99%|█████████▉| 243/245 [21:31:10<38:02, 1141.04s/it]  "
     ]
    },
    {
     "name": "stdout",
     "output_type": "stream",
     "text": [
      "Mean connectivity shape: (49, 49)\n",
      "Number of epochs:  4638\n",
      "Calculating rhythmic features...\n",
      "Storing features...\n",
      "Seizure start: 81288.0\n",
      "Seizure end: 81358.0\n",
      "Frequency: 512.0\n",
      "Pre-ictal start: 81278\n",
      "Pre-ictal end: 81288\n",
      "Ictal start: 81288\n",
      "Ictal end: 81358\n",
      "Post-ictal start: 81358\n",
      "Post-ictal end: 81368\n"
     ]
    },
    {
     "name": "stderr",
     "output_type": "stream",
     "text": [
      "100%|█████████▉| 244/245 [21:43:13<16:55, 1015.85s/it]"
     ]
    },
    {
     "name": "stdout",
     "output_type": "stream",
     "text": [
      "Mean connectivity shape: (49, 49)\n",
      "Number of epochs:  4586\n",
      "Calculating rhythmic features...\n",
      "Storing features...\n",
      "Seizure start: 57669.0\n",
      "Seizure end: 57752.0\n",
      "Frequency: 512.0\n",
      "Pre-ictal start: 57659\n",
      "Pre-ictal end: 57669\n",
      "Ictal start: 57669\n",
      "Ictal end: 57752\n",
      "Post-ictal start: 57752\n",
      "Post-ictal end: 57762\n"
     ]
    },
    {
     "name": "stderr",
     "output_type": "stream",
     "text": [
      "100%|██████████| 245/245 [21:54:39<00:00, 321.96s/it] "
     ]
    },
    {
     "name": "stdout",
     "output_type": "stream",
     "text": [
      "\n",
      "============================================================\n",
      "PROCESSING COMPLETE\n",
      "============================================================\n",
      "Total records: 245\n",
      "Successfully processed: 238\n",
      "Failed: 7\n"
     ]
    },
    {
     "name": "stderr",
     "output_type": "stream",
     "text": [
      "\n"
     ]
    }
   ],
   "source": [
    "# Build comprehensive dataset\n",
    "comprehensive_df = build_comprehensive_dataset(\n",
    "    seizures_df, \n",
    "    patients_df,\n",
    "    data_root_paths=[\n",
    "        'data/siena_scalp', \n",
    "        'data/chb-mit',\n",
    "        ]\n",
    ")"
   ]
  },
  {
   "cell_type": "code",
   "execution_count": 21,
   "id": "7b8c1b8d",
   "metadata": {},
   "outputs": [
    {
     "name": "stdout",
     "output_type": "stream",
     "text": [
      "\n",
      "Filling missing values...\n"
     ]
    }
   ],
   "source": [
    "# Fill missing values\n",
    "print(\"\\nFilling missing values...\")\n",
    "comprehensive_df = fill_missing_values_polars(comprehensive_df)"
   ]
  },
  {
   "cell_type": "markdown",
   "id": "7cc4a3ec",
   "metadata": {},
   "source": [
    "## Export Processed Data"
   ]
  },
  {
   "cell_type": "code",
   "execution_count": 22,
   "id": "b3e1fb15",
   "metadata": {},
   "outputs": [
    {
     "name": "stdout",
     "output_type": "stream",
     "text": [
      "\n",
      "Saving results...\n",
      "Dataset saved to: processed_data/comprehensive_eeg_features.parquet\n",
      "File size: 1.34 MB\n"
     ]
    }
   ],
   "source": [
    "# Save to Parquet\n",
    "print(\"\\nSaving results...\")\n",
    "save_to_parquet(comprehensive_df, 'processed_data/comprehensive_eeg_features.parquet')"
   ]
  },
  {
   "cell_type": "markdown",
   "id": "28605b3d",
   "metadata": {},
   "source": [
    "## Load Processed Data"
   ]
  },
  {
   "cell_type": "code",
   "execution_count": 23,
   "id": "9ab25b09",
   "metadata": {},
   "outputs": [
    {
     "name": "stdout",
     "output_type": "stream",
     "text": [
      "Shape: (245, 747)\n",
      "Columns: ['patient_id', 'sampling_rate_hz', 'seizure_number', 'file_name', 'registration_start_time', 'registration_end_time', 'seizure_start_time', 'seizure_end_time', 'age', 'gender', 'num_channels', 'json_file_path', 'eeg_channel', 'seizure_type', 'localization', 'lateralization', 'file_path', 'sampling_rate', 'duration_seconds', 'de_delta_mean', 'de_delta_std', 'de_delta_median', 'de_delta_max', 'de_delta_min', 'de_delta_asymmetry_mean', 'de_delta_asymmetry_std', 'de_theta_mean', 'de_theta_std', 'de_theta_median', 'de_theta_max', 'de_theta_min', 'de_theta_asymmetry_mean', 'de_theta_asymmetry_std', 'de_alpha_mean', 'de_alpha_std', 'de_alpha_median', 'de_alpha_max', 'de_alpha_min', 'de_alpha_asymmetry_mean', 'de_alpha_asymmetry_std', 'de_low_beta_mean', 'de_low_beta_std', 'de_low_beta_median', 'de_low_beta_max', 'de_low_beta_min', 'de_low_beta_asymmetry_mean', 'de_low_beta_asymmetry_std', 'de_high_beta_mean', 'de_high_beta_std', 'de_high_beta_median', 'de_high_beta_max', 'de_high_beta_min', 'de_high_beta_asymmetry_mean', 'de_high_beta_asymmetry_std', 'de_gamma_mean', 'de_gamma_std', 'de_gamma_median', 'de_gamma_max', 'de_gamma_min', 'de_gamma_asymmetry_mean', 'de_gamma_asymmetry_std', 'de_high_gamma_mean', 'de_high_gamma_std', 'de_high_gamma_median', 'de_high_gamma_max', 'de_high_gamma_min', 'de_high_gamma_asymmetry_mean', 'de_high_gamma_asymmetry_std', 'psd_delta_mean', 'psd_delta_std', 'psd_delta_cv', 'psd_theta_mean', 'psd_theta_std', 'psd_theta_cv', 'psd_alpha_mean', 'psd_alpha_std', 'psd_alpha_cv', 'psd_low_beta_mean', 'psd_low_beta_std', 'psd_low_beta_cv', 'psd_high_beta_mean', 'psd_high_beta_std', 'psd_high_beta_cv', 'psd_gamma_mean', 'psd_gamma_std', 'psd_gamma_cv', 'psd_high_gamma_mean', 'psd_high_gamma_std', 'psd_high_gamma_cv', 'psd_theta_alpha_ratio', 'psd_delta_alpha_ratio', 'psd_beta_ratio', 'psd_sef50', 'psd_sef75', 'psd_sef90', 'psd_sef95', 'psd_spectral_centroid', 'psd_spectral_spread', 'psd_spectral_skewness', 'psd_spectral_kurtosis', 'wt_level0_energy_mean', 'wt_level0_energy_std', 'wt_level0_entropy_mean', 'wt_level0_entropy_std', 'wt_level0_mean_mean', 'wt_level0_mean_std', 'wt_level0_std_mean', 'wt_level0_std_std', 'wt_level0_max_mean', 'wt_level0_max_std', 'wt_level1_energy_mean', 'wt_level1_energy_std', 'wt_level1_entropy_mean', 'wt_level1_entropy_std', 'wt_level1_mean_mean', 'wt_level1_mean_std', 'wt_level1_std_mean', 'wt_level1_std_std', 'wt_level1_max_mean', 'wt_level1_max_std', 'wt_level2_energy_mean', 'wt_level2_energy_std', 'wt_level2_entropy_mean', 'wt_level2_entropy_std', 'wt_level2_mean_mean', 'wt_level2_mean_std', 'wt_level2_std_mean', 'wt_level2_std_std', 'wt_level2_max_mean', 'wt_level2_max_std', 'wt_level3_energy_mean', 'wt_level3_energy_std', 'wt_level3_entropy_mean', 'wt_level3_entropy_std', 'wt_level3_mean_mean', 'wt_level3_mean_std', 'wt_level3_std_mean', 'wt_level3_std_std', 'wt_level3_max_mean', 'wt_level3_max_std', 'wt_level4_energy_mean', 'wt_level4_energy_std', 'wt_level4_entropy_mean', 'wt_level4_entropy_std', 'wt_level4_mean_mean', 'wt_level4_mean_std', 'wt_level4_std_mean', 'wt_level4_std_std', 'wt_level4_max_mean', 'wt_level4_max_std', 'wt_level5_energy_mean', 'wt_level5_energy_std', 'wt_level5_entropy_mean', 'wt_level5_entropy_std', 'wt_level5_mean_mean', 'wt_level5_mean_std', 'wt_level5_std_mean', 'wt_level5_std_std', 'wt_level5_max_mean', 'wt_level5_max_std', 'wt_packet_entropy', 'time_mean_mean', 'time_mean_std', 'time_mean_max', 'time_mean_min', 'time_std_mean', 'time_std_std', 'time_std_max', 'time_std_min', 'time_var_mean', 'time_var_std', 'time_var_max', 'time_var_min', 'time_skewness_mean', 'time_skewness_std', 'time_skewness_max', 'time_skewness_min', 'time_kurtosis_mean', 'time_kurtosis_std', 'time_kurtosis_max', 'time_kurtosis_min', 'time_rms_mean', 'time_rms_std', 'time_rms_max', 'time_rms_min', 'time_peak_to_peak_mean', 'time_peak_to_peak_std', 'time_peak_to_peak_max', 'time_peak_to_peak_min', 'time_zero_crossings_mean', 'time_zero_crossings_std', 'time_zero_crossings_max', 'time_zero_crossings_min', 'time_hjorth_activity_mean', 'time_hjorth_activity_std', 'time_hjorth_activity_max', 'time_hjorth_activity_min', 'time_hjorth_mobility_mean', 'time_hjorth_mobility_std', 'time_hjorth_mobility_max', 'time_hjorth_mobility_min', 'time_hjorth_complexity_mean', 'time_hjorth_complexity_std', 'time_hjorth_complexity_max', 'time_hjorth_complexity_min', 'time_line_length_mean', 'time_line_length_std', 'time_line_length_max', 'time_line_length_min', 'time_nonlinear_energy_mean', 'time_nonlinear_energy_std', 'time_nonlinear_energy_max', 'time_nonlinear_energy_min', 'connectivity_mean', 'connectivity_std', 'connectivity_max', 'connectivity_min', 'global_efficiency', 'node_strength_mean', 'node_strength_std', 'node_strength_max', 'clustering_coefficient', 'pac_theta_gamma', 'pac_theta_high_gamma', 'pac_alpha_gamma', 'pac_alpha_high_gamma', 'pac_mean', 'pac_max', 'sample_entropy_mean', 'sample_entropy_std', 'permutation_entropy_mean', 'permutation_entropy_std', 'approx_entropy_mean', 'approx_entropy_std', 'rhythmic_theta_power_mean', 'rhythmic_theta_power_std', 'rhythmic_delta_slow_power_mean', 'rhythmic_delta_slow_power_std', 'rhythmic_fast_power_mean', 'rhythmic_fast_power_std', 'rhythmic_spike_rate_mean', 'rhythmic_spike_rate_std', 'rhythmic_theta_delta_ratio', 'rhythmic_fast_theta_ratio', 'pre_ictal_start', 'pre_ictal_end', 'post_ictal_start', 'post_ictal_end', 'preictal_de_delta_mean', 'preictal_de_delta_std', 'preictal_de_delta_median', 'preictal_de_delta_max', 'preictal_de_delta_min', 'preictal_de_delta_asymmetry_mean', 'preictal_de_delta_asymmetry_std', 'preictal_de_theta_mean', 'preictal_de_theta_std', 'preictal_de_theta_median', 'preictal_de_theta_max', 'preictal_de_theta_min', 'preictal_de_theta_asymmetry_mean', 'preictal_de_theta_asymmetry_std', 'preictal_de_alpha_mean', 'preictal_de_alpha_std', 'preictal_de_alpha_median', 'preictal_de_alpha_max', 'preictal_de_alpha_min', 'preictal_de_alpha_asymmetry_mean', 'preictal_de_alpha_asymmetry_std', 'preictal_de_low_beta_mean', 'preictal_de_low_beta_std', 'preictal_de_low_beta_median', 'preictal_de_low_beta_max', 'preictal_de_low_beta_min', 'preictal_de_low_beta_asymmetry_mean', 'preictal_de_low_beta_asymmetry_std', 'preictal_de_high_beta_mean', 'preictal_de_high_beta_std', 'preictal_de_high_beta_median', 'preictal_de_high_beta_max', 'preictal_de_high_beta_min', 'preictal_de_high_beta_asymmetry_mean', 'preictal_de_high_beta_asymmetry_std', 'preictal_de_gamma_mean', 'preictal_de_gamma_std', 'preictal_de_gamma_median', 'preictal_de_gamma_max', 'preictal_de_gamma_min', 'preictal_de_gamma_asymmetry_mean', 'preictal_de_gamma_asymmetry_std', 'preictal_de_high_gamma_mean', 'preictal_de_high_gamma_std', 'preictal_de_high_gamma_median', 'preictal_de_high_gamma_max', 'preictal_de_high_gamma_min', 'preictal_de_high_gamma_asymmetry_mean', 'preictal_de_high_gamma_asymmetry_std', 'preictal_wt_level0_energy_mean', 'preictal_wt_level0_energy_std', 'preictal_wt_level0_entropy_mean', 'preictal_wt_level0_entropy_std', 'preictal_wt_level0_mean_mean', 'preictal_wt_level0_mean_std', 'preictal_wt_level0_std_mean', 'preictal_wt_level0_std_std', 'preictal_wt_level0_max_mean', 'preictal_wt_level0_max_std', 'preictal_wt_level1_energy_mean', 'preictal_wt_level1_energy_std', 'preictal_wt_level1_entropy_mean', 'preictal_wt_level1_entropy_std', 'preictal_wt_level1_mean_mean', 'preictal_wt_level1_mean_std', 'preictal_wt_level1_std_mean', 'preictal_wt_level1_std_std', 'preictal_wt_level1_max_mean', 'preictal_wt_level1_max_std', 'preictal_wt_level2_energy_mean', 'preictal_wt_level2_energy_std', 'preictal_wt_level2_entropy_mean', 'preictal_wt_level2_entropy_std', 'preictal_wt_level2_mean_mean', 'preictal_wt_level2_mean_std', 'preictal_wt_level2_std_mean', 'preictal_wt_level2_std_std', 'preictal_wt_level2_max_mean', 'preictal_wt_level2_max_std', 'preictal_wt_level3_energy_mean', 'preictal_wt_level3_energy_std', 'preictal_wt_level3_entropy_mean', 'preictal_wt_level3_entropy_std', 'preictal_wt_level3_mean_mean', 'preictal_wt_level3_mean_std', 'preictal_wt_level3_std_mean', 'preictal_wt_level3_std_std', 'preictal_wt_level3_max_mean', 'preictal_wt_level3_max_std', 'preictal_wt_level4_energy_mean', 'preictal_wt_level4_energy_std', 'preictal_wt_level4_entropy_mean', 'preictal_wt_level4_entropy_std', 'preictal_wt_level4_mean_mean', 'preictal_wt_level4_mean_std', 'preictal_wt_level4_std_mean', 'preictal_wt_level4_std_std', 'preictal_wt_level4_max_mean', 'preictal_wt_level4_max_std', 'preictal_wt_level5_energy_mean', 'preictal_wt_level5_energy_std', 'preictal_wt_level5_entropy_mean', 'preictal_wt_level5_entropy_std', 'preictal_wt_level5_mean_mean', 'preictal_wt_level5_mean_std', 'preictal_wt_level5_std_mean', 'preictal_wt_level5_std_std', 'preictal_wt_level5_max_mean', 'preictal_wt_level5_max_std', 'preictal_wt_packet_entropy', 'preictal_time_mean_mean', 'preictal_time_mean_std', 'preictal_time_mean_max', 'preictal_time_mean_min', 'preictal_time_std_mean', 'preictal_time_std_std', 'preictal_time_std_max', 'preictal_time_std_min', 'preictal_time_var_mean', 'preictal_time_var_std', 'preictal_time_var_max', 'preictal_time_var_min', 'preictal_time_skewness_mean', 'preictal_time_skewness_std', 'preictal_time_skewness_max', 'preictal_time_skewness_min', 'preictal_time_kurtosis_mean', 'preictal_time_kurtosis_std', 'preictal_time_kurtosis_max', 'preictal_time_kurtosis_min', 'preictal_time_rms_mean', 'preictal_time_rms_std', 'preictal_time_rms_max', 'preictal_time_rms_min', 'preictal_time_peak_to_peak_mean', 'preictal_time_peak_to_peak_std', 'preictal_time_peak_to_peak_max', 'preictal_time_peak_to_peak_min', 'preictal_time_zero_crossings_mean', 'preictal_time_zero_crossings_std', 'preictal_time_zero_crossings_max', 'preictal_time_zero_crossings_min', 'preictal_time_hjorth_activity_mean', 'preictal_time_hjorth_activity_std', 'preictal_time_hjorth_activity_max', 'preictal_time_hjorth_activity_min', 'preictal_time_hjorth_mobility_mean', 'preictal_time_hjorth_mobility_std', 'preictal_time_hjorth_mobility_max', 'preictal_time_hjorth_mobility_min', 'preictal_time_hjorth_complexity_mean', 'preictal_time_hjorth_complexity_std', 'preictal_time_hjorth_complexity_max', 'preictal_time_hjorth_complexity_min', 'preictal_time_line_length_mean', 'preictal_time_line_length_std', 'preictal_time_line_length_max', 'preictal_time_line_length_min', 'preictal_time_nonlinear_energy_mean', 'preictal_time_nonlinear_energy_std', 'preictal_time_nonlinear_energy_max', 'preictal_time_nonlinear_energy_min', 'ictal_de_delta_mean', 'ictal_de_delta_std', 'ictal_de_delta_median', 'ictal_de_delta_max', 'ictal_de_delta_min', 'ictal_de_delta_asymmetry_mean', 'ictal_de_delta_asymmetry_std', 'ictal_de_theta_mean', 'ictal_de_theta_std', 'ictal_de_theta_median', 'ictal_de_theta_max', 'ictal_de_theta_min', 'ictal_de_theta_asymmetry_mean', 'ictal_de_theta_asymmetry_std', 'ictal_de_alpha_mean', 'ictal_de_alpha_std', 'ictal_de_alpha_median', 'ictal_de_alpha_max', 'ictal_de_alpha_min', 'ictal_de_alpha_asymmetry_mean', 'ictal_de_alpha_asymmetry_std', 'ictal_de_low_beta_mean', 'ictal_de_low_beta_std', 'ictal_de_low_beta_median', 'ictal_de_low_beta_max', 'ictal_de_low_beta_min', 'ictal_de_low_beta_asymmetry_mean', 'ictal_de_low_beta_asymmetry_std', 'ictal_de_high_beta_mean', 'ictal_de_high_beta_std', 'ictal_de_high_beta_median', 'ictal_de_high_beta_max', 'ictal_de_high_beta_min', 'ictal_de_high_beta_asymmetry_mean', 'ictal_de_high_beta_asymmetry_std', 'ictal_de_gamma_mean', 'ictal_de_gamma_std', 'ictal_de_gamma_median', 'ictal_de_gamma_max', 'ictal_de_gamma_min', 'ictal_de_gamma_asymmetry_mean', 'ictal_de_gamma_asymmetry_std', 'ictal_de_high_gamma_mean', 'ictal_de_high_gamma_std', 'ictal_de_high_gamma_median', 'ictal_de_high_gamma_max', 'ictal_de_high_gamma_min', 'ictal_de_high_gamma_asymmetry_mean', 'ictal_de_high_gamma_asymmetry_std', 'ictal_wt_level0_energy_mean', 'ictal_wt_level0_energy_std', 'ictal_wt_level0_entropy_mean', 'ictal_wt_level0_entropy_std', 'ictal_wt_level0_mean_mean', 'ictal_wt_level0_mean_std', 'ictal_wt_level0_std_mean', 'ictal_wt_level0_std_std', 'ictal_wt_level0_max_mean', 'ictal_wt_level0_max_std', 'ictal_wt_level1_energy_mean', 'ictal_wt_level1_energy_std', 'ictal_wt_level1_entropy_mean', 'ictal_wt_level1_entropy_std', 'ictal_wt_level1_mean_mean', 'ictal_wt_level1_mean_std', 'ictal_wt_level1_std_mean', 'ictal_wt_level1_std_std', 'ictal_wt_level1_max_mean', 'ictal_wt_level1_max_std', 'ictal_wt_level2_energy_mean', 'ictal_wt_level2_energy_std', 'ictal_wt_level2_entropy_mean', 'ictal_wt_level2_entropy_std', 'ictal_wt_level2_mean_mean', 'ictal_wt_level2_mean_std', 'ictal_wt_level2_std_mean', 'ictal_wt_level2_std_std', 'ictal_wt_level2_max_mean', 'ictal_wt_level2_max_std', 'ictal_wt_level3_energy_mean', 'ictal_wt_level3_energy_std', 'ictal_wt_level3_entropy_mean', 'ictal_wt_level3_entropy_std', 'ictal_wt_level3_mean_mean', 'ictal_wt_level3_mean_std', 'ictal_wt_level3_std_mean', 'ictal_wt_level3_std_std', 'ictal_wt_level3_max_mean', 'ictal_wt_level3_max_std', 'ictal_wt_level4_energy_mean', 'ictal_wt_level4_energy_std', 'ictal_wt_level4_entropy_mean', 'ictal_wt_level4_entropy_std', 'ictal_wt_level4_mean_mean', 'ictal_wt_level4_mean_std', 'ictal_wt_level4_std_mean', 'ictal_wt_level4_std_std', 'ictal_wt_level4_max_mean', 'ictal_wt_level4_max_std', 'ictal_wt_level5_energy_mean', 'ictal_wt_level5_energy_std', 'ictal_wt_level5_entropy_mean', 'ictal_wt_level5_entropy_std', 'ictal_wt_level5_mean_mean', 'ictal_wt_level5_mean_std', 'ictal_wt_level5_std_mean', 'ictal_wt_level5_std_std', 'ictal_wt_level5_max_mean', 'ictal_wt_level5_max_std', 'ictal_wt_packet_entropy', 'ictal_time_mean_mean', 'ictal_time_mean_std', 'ictal_time_mean_max', 'ictal_time_mean_min', 'ictal_time_std_mean', 'ictal_time_std_std', 'ictal_time_std_max', 'ictal_time_std_min', 'ictal_time_var_mean', 'ictal_time_var_std', 'ictal_time_var_max', 'ictal_time_var_min', 'ictal_time_skewness_mean', 'ictal_time_skewness_std', 'ictal_time_skewness_max', 'ictal_time_skewness_min', 'ictal_time_kurtosis_mean', 'ictal_time_kurtosis_std', 'ictal_time_kurtosis_max', 'ictal_time_kurtosis_min', 'ictal_time_rms_mean', 'ictal_time_rms_std', 'ictal_time_rms_max', 'ictal_time_rms_min', 'ictal_time_peak_to_peak_mean', 'ictal_time_peak_to_peak_std', 'ictal_time_peak_to_peak_max', 'ictal_time_peak_to_peak_min', 'ictal_time_zero_crossings_mean', 'ictal_time_zero_crossings_std', 'ictal_time_zero_crossings_max', 'ictal_time_zero_crossings_min', 'ictal_time_hjorth_activity_mean', 'ictal_time_hjorth_activity_std', 'ictal_time_hjorth_activity_max', 'ictal_time_hjorth_activity_min', 'ictal_time_hjorth_mobility_mean', 'ictal_time_hjorth_mobility_std', 'ictal_time_hjorth_mobility_max', 'ictal_time_hjorth_mobility_min', 'ictal_time_hjorth_complexity_mean', 'ictal_time_hjorth_complexity_std', 'ictal_time_hjorth_complexity_max', 'ictal_time_hjorth_complexity_min', 'ictal_time_line_length_mean', 'ictal_time_line_length_std', 'ictal_time_line_length_max', 'ictal_time_line_length_min', 'ictal_time_nonlinear_energy_mean', 'ictal_time_nonlinear_energy_std', 'ictal_time_nonlinear_energy_max', 'ictal_time_nonlinear_energy_min', 'postictal_de_delta_mean', 'postictal_de_delta_std', 'postictal_de_delta_median', 'postictal_de_delta_max', 'postictal_de_delta_min', 'postictal_de_delta_asymmetry_mean', 'postictal_de_delta_asymmetry_std', 'postictal_de_theta_mean', 'postictal_de_theta_std', 'postictal_de_theta_median', 'postictal_de_theta_max', 'postictal_de_theta_min', 'postictal_de_theta_asymmetry_mean', 'postictal_de_theta_asymmetry_std', 'postictal_de_alpha_mean', 'postictal_de_alpha_std', 'postictal_de_alpha_median', 'postictal_de_alpha_max', 'postictal_de_alpha_min', 'postictal_de_alpha_asymmetry_mean', 'postictal_de_alpha_asymmetry_std', 'postictal_de_low_beta_mean', 'postictal_de_low_beta_std', 'postictal_de_low_beta_median', 'postictal_de_low_beta_max', 'postictal_de_low_beta_min', 'postictal_de_low_beta_asymmetry_mean', 'postictal_de_low_beta_asymmetry_std', 'postictal_de_high_beta_mean', 'postictal_de_high_beta_std', 'postictal_de_high_beta_median', 'postictal_de_high_beta_max', 'postictal_de_high_beta_min', 'postictal_de_high_beta_asymmetry_mean', 'postictal_de_high_beta_asymmetry_std', 'postictal_de_gamma_mean', 'postictal_de_gamma_std', 'postictal_de_gamma_median', 'postictal_de_gamma_max', 'postictal_de_gamma_min', 'postictal_de_gamma_asymmetry_mean', 'postictal_de_gamma_asymmetry_std', 'postictal_de_high_gamma_mean', 'postictal_de_high_gamma_std', 'postictal_de_high_gamma_median', 'postictal_de_high_gamma_max', 'postictal_de_high_gamma_min', 'postictal_de_high_gamma_asymmetry_mean', 'postictal_de_high_gamma_asymmetry_std', 'postictal_wt_level0_energy_mean', 'postictal_wt_level0_energy_std', 'postictal_wt_level0_entropy_mean', 'postictal_wt_level0_entropy_std', 'postictal_wt_level0_mean_mean', 'postictal_wt_level0_mean_std', 'postictal_wt_level0_std_mean', 'postictal_wt_level0_std_std', 'postictal_wt_level0_max_mean', 'postictal_wt_level0_max_std', 'postictal_wt_level1_energy_mean', 'postictal_wt_level1_energy_std', 'postictal_wt_level1_entropy_mean', 'postictal_wt_level1_entropy_std', 'postictal_wt_level1_mean_mean', 'postictal_wt_level1_mean_std', 'postictal_wt_level1_std_mean', 'postictal_wt_level1_std_std', 'postictal_wt_level1_max_mean', 'postictal_wt_level1_max_std', 'postictal_wt_level2_energy_mean', 'postictal_wt_level2_energy_std', 'postictal_wt_level2_entropy_mean', 'postictal_wt_level2_entropy_std', 'postictal_wt_level2_mean_mean', 'postictal_wt_level2_mean_std', 'postictal_wt_level2_std_mean', 'postictal_wt_level2_std_std', 'postictal_wt_level2_max_mean', 'postictal_wt_level2_max_std', 'postictal_wt_level3_energy_mean', 'postictal_wt_level3_energy_std', 'postictal_wt_level3_entropy_mean', 'postictal_wt_level3_entropy_std', 'postictal_wt_level3_mean_mean', 'postictal_wt_level3_mean_std', 'postictal_wt_level3_std_mean', 'postictal_wt_level3_std_std', 'postictal_wt_level3_max_mean', 'postictal_wt_level3_max_std', 'postictal_wt_level4_energy_mean', 'postictal_wt_level4_energy_std', 'postictal_wt_level4_entropy_mean', 'postictal_wt_level4_entropy_std', 'postictal_wt_level4_mean_mean', 'postictal_wt_level4_mean_std', 'postictal_wt_level4_std_mean', 'postictal_wt_level4_std_std', 'postictal_wt_level4_max_mean', 'postictal_wt_level4_max_std', 'postictal_wt_level5_energy_mean', 'postictal_wt_level5_energy_std', 'postictal_wt_level5_entropy_mean', 'postictal_wt_level5_entropy_std', 'postictal_wt_level5_mean_mean', 'postictal_wt_level5_mean_std', 'postictal_wt_level5_std_mean', 'postictal_wt_level5_std_std', 'postictal_wt_level5_max_mean', 'postictal_wt_level5_max_std', 'postictal_wt_packet_entropy', 'postictal_time_mean_mean', 'postictal_time_mean_std', 'postictal_time_mean_max', 'postictal_time_mean_min', 'postictal_time_std_mean', 'postictal_time_std_std', 'postictal_time_std_max', 'postictal_time_std_min', 'postictal_time_var_mean', 'postictal_time_var_std', 'postictal_time_var_max', 'postictal_time_var_min', 'postictal_time_skewness_mean', 'postictal_time_skewness_std', 'postictal_time_skewness_max', 'postictal_time_skewness_min', 'postictal_time_kurtosis_mean', 'postictal_time_kurtosis_std', 'postictal_time_kurtosis_max', 'postictal_time_kurtosis_min', 'postictal_time_rms_mean', 'postictal_time_rms_std', 'postictal_time_rms_max', 'postictal_time_rms_min', 'postictal_time_peak_to_peak_mean', 'postictal_time_peak_to_peak_std', 'postictal_time_peak_to_peak_max', 'postictal_time_peak_to_peak_min', 'postictal_time_zero_crossings_mean', 'postictal_time_zero_crossings_std', 'postictal_time_zero_crossings_max', 'postictal_time_zero_crossings_min', 'postictal_time_hjorth_activity_mean', 'postictal_time_hjorth_activity_std', 'postictal_time_hjorth_activity_max', 'postictal_time_hjorth_activity_min', 'postictal_time_hjorth_mobility_mean', 'postictal_time_hjorth_mobility_std', 'postictal_time_hjorth_mobility_max', 'postictal_time_hjorth_mobility_min', 'postictal_time_hjorth_complexity_mean', 'postictal_time_hjorth_complexity_std', 'postictal_time_hjorth_complexity_max', 'postictal_time_hjorth_complexity_min', 'postictal_time_line_length_mean', 'postictal_time_line_length_std', 'postictal_time_line_length_max', 'postictal_time_line_length_min', 'postictal_time_nonlinear_energy_mean', 'postictal_time_nonlinear_energy_std', 'postictal_time_nonlinear_energy_max', 'postictal_time_nonlinear_energy_min', 'seizure_start_seconds', 'seizure_end_seconds', 'seizure_duration', 'processing_success', 'error_message', 'mean_propagation_speed', 'median_propagation_speed', 'std_propagation_speed', 'max_propagation_speed', 'min_propagation_speed', 'num_propagation_events', 'mean_onset_delay', 'max_onset_delay']\n"
     ]
    }
   ],
   "source": [
    "# Load processed data set\n",
    "processed_df = pl.read_parquet(\"processed_data/comprehensive_eeg_features.parquet\")\n",
    "\n",
    "print(f\"Shape: {processed_df.shape}\")\n",
    "print(f\"Columns: {processed_df.columns}\")\n"
   ]
  },
  {
   "cell_type": "markdown",
   "id": "d7bf2acf",
   "metadata": {},
   "source": [
    "# Analysis"
   ]
  },
  {
   "cell_type": "markdown",
   "id": "e76d5a35",
   "metadata": {},
   "source": [
    "## Plot Numerical Columns"
   ]
  },
  {
   "cell_type": "code",
   "execution_count": 24,
   "id": "881ea82c",
   "metadata": {},
   "outputs": [],
   "source": [
    "def plot_numerical_distributions(df, output_path=\"plot_outputs\"):\n",
    "    # Create output directory if it doesn't exist\n",
    "    Path(output_path).mkdir(parents=True, exist_ok=True)\n",
    "    \n",
    "    # Get numerical columns\n",
    "    numerical_cols = [col for col in df.columns \n",
    "                     if df[col].dtype in [pl.Int8, pl.Int16, pl.Int32, pl.Int64,\n",
    "                                          pl.UInt8, pl.UInt16, pl.UInt32, pl.UInt64,\n",
    "                                          pl.Float32, pl.Float64]]\n",
    "    \n",
    "    print(f\"Found {len(numerical_cols)} numerical columns to plot\")\n",
    "    \n",
    "    # Plot each numerical column\n",
    "    for i, col in enumerate(numerical_cols):\n",
    "        fig, ax = plt.subplots(figsize=(10, 6))\n",
    "        \n",
    "        # Get the data for this column (remove nulls)\n",
    "        data = df[col].drop_nulls().to_numpy()\n",
    "        \n",
    "        if len(data) > 0:\n",
    "            # Create histogram\n",
    "            ax.hist(data, bins='auto', alpha=0.7, color='steelblue', edgecolor='black')\n",
    "            \n",
    "            # Add labels and title\n",
    "            ax.set_xlabel(col, fontsize=12)\n",
    "            ax.set_ylabel('Frequency', fontsize=12)\n",
    "            ax.set_title(f'Distribution of {col}', fontsize=14, fontweight='bold')\n",
    "            \n",
    "            # Add grid\n",
    "            ax.grid(True, alpha=0.3)\n",
    "            \n",
    "            # Add statistics text box\n",
    "            stats_text = (f'Mean: {np.mean(data):.2e}\\n'\n",
    "                         f'Std: {np.std(data):.2e}\\n'\n",
    "                         f'Min: {np.min(data):.2e}\\n'\n",
    "                         f'Max: {np.max(data):.2e}')\n",
    "            ax.text(0.02, 0.98, stats_text, transform=ax.transAxes, \n",
    "                    verticalalignment='top', \n",
    "                    bbox=dict(boxstyle='round', facecolor='wheat', alpha=0.5))\n",
    "            \n",
    "            # Save the figure\n",
    "            plt.tight_layout()\n",
    "            save_path = Path(output_path) / f'{col}_distribution.png'\n",
    "            plt.savefig(save_path, dpi=300, bbox_inches='tight')\n",
    "            plt.close()\n",
    "            \n",
    "            # Progress indicator\n",
    "            if (i + 1) % 10 == 0:\n",
    "                print(f\"Plotted {i + 1}/{len(numerical_cols)} columns\")\n",
    "        else:\n",
    "            print(f\"Skipped {col} - no non-null values\")\n",
    "            plt.close()\n",
    "    \n",
    "    print(f\"Completed! All {len(numerical_cols)} plots saved to '{output_path}' folder\")"
   ]
  },
  {
   "cell_type": "code",
   "execution_count": 25,
   "id": "27a245ad",
   "metadata": {},
   "outputs": [
    {
     "name": "stdout",
     "output_type": "stream",
     "text": [
      "Found 733 numerical columns to plot\n",
      "Plotted 10/733 columns\n",
      "Plotted 20/733 columns\n",
      "Plotted 30/733 columns\n",
      "Plotted 40/733 columns\n",
      "Plotted 50/733 columns\n",
      "Plotted 60/733 columns\n",
      "Plotted 70/733 columns\n",
      "Plotted 80/733 columns\n",
      "Plotted 90/733 columns\n",
      "Plotted 100/733 columns\n",
      "Plotted 110/733 columns\n",
      "Plotted 120/733 columns\n",
      "Plotted 130/733 columns\n",
      "Plotted 140/733 columns\n",
      "Plotted 150/733 columns\n",
      "Plotted 160/733 columns\n",
      "Plotted 170/733 columns\n",
      "Plotted 180/733 columns\n",
      "Plotted 190/733 columns\n",
      "Plotted 200/733 columns\n",
      "Plotted 210/733 columns\n",
      "Plotted 220/733 columns\n",
      "Plotted 230/733 columns\n",
      "Plotted 240/733 columns\n",
      "Plotted 250/733 columns\n",
      "Plotted 260/733 columns\n",
      "Plotted 270/733 columns\n",
      "Plotted 280/733 columns\n",
      "Plotted 290/733 columns\n",
      "Plotted 300/733 columns\n",
      "Plotted 310/733 columns\n",
      "Plotted 320/733 columns\n",
      "Plotted 330/733 columns\n",
      "Plotted 340/733 columns\n",
      "Plotted 350/733 columns\n",
      "Plotted 360/733 columns\n",
      "Plotted 370/733 columns\n",
      "Plotted 380/733 columns\n",
      "Plotted 390/733 columns\n",
      "Plotted 400/733 columns\n",
      "Plotted 410/733 columns\n",
      "Plotted 420/733 columns\n",
      "Plotted 430/733 columns\n",
      "Plotted 440/733 columns\n",
      "Plotted 450/733 columns\n",
      "Plotted 460/733 columns\n",
      "Plotted 470/733 columns\n",
      "Plotted 480/733 columns\n",
      "Plotted 490/733 columns\n",
      "Plotted 500/733 columns\n",
      "Plotted 510/733 columns\n",
      "Plotted 520/733 columns\n",
      "Plotted 530/733 columns\n",
      "Plotted 540/733 columns\n",
      "Plotted 550/733 columns\n",
      "Plotted 560/733 columns\n",
      "Plotted 570/733 columns\n",
      "Plotted 580/733 columns\n",
      "Plotted 590/733 columns\n",
      "Plotted 600/733 columns\n",
      "Plotted 610/733 columns\n",
      "Plotted 620/733 columns\n",
      "Plotted 630/733 columns\n",
      "Plotted 640/733 columns\n",
      "Plotted 650/733 columns\n",
      "Plotted 660/733 columns\n",
      "Plotted 670/733 columns\n",
      "Plotted 680/733 columns\n",
      "Plotted 690/733 columns\n",
      "Plotted 700/733 columns\n",
      "Plotted 710/733 columns\n",
      "Plotted 720/733 columns\n",
      "Plotted 730/733 columns\n",
      "Completed! All 733 plots saved to 'plot_outputs/processed_data_distributions' folder\n"
     ]
    }
   ],
   "source": [
    "plot_numerical_distributions(processed_df, \"plot_outputs/processed_data_distributions\")"
   ]
  },
  {
   "cell_type": "markdown",
   "id": "e9a42e7d",
   "metadata": {},
   "source": [
    "## Plot Categorical Columns"
   ]
  },
  {
   "cell_type": "code",
   "execution_count": 26,
   "id": "4517cfc3",
   "metadata": {},
   "outputs": [],
   "source": [
    "def plot_categorical_distributions(df, output_path=\"plot_outputs\", max_categories=50):\n",
    "    # Create output directory if it doesn't exist\n",
    "    Path(output_path).mkdir(parents=True, exist_ok=True)\n",
    "    \n",
    "    # Get categorical, boolean, and string columns\n",
    "    categorical_cols = [col for col in df.columns \n",
    "                       if df[col].dtype in [pl.Utf8, pl.Boolean, pl.Categorical]]\n",
    "    \n",
    "    print(f\"Found {len(categorical_cols)} categorical/boolean/object columns to plot\")\n",
    "    \n",
    "    # Plot each categorical column\n",
    "    for i, col in enumerate(categorical_cols):\n",
    "        fig, ax = plt.subplots(figsize=(12, 6))\n",
    "        \n",
    "        # Calculate value counts\n",
    "        value_counts = df[col].value_counts().sort(by='count', descending=True)\n",
    "        \n",
    "        # Handle null counts\n",
    "        null_count = df[col].null_count()\n",
    "        total_count = len(df)\n",
    "        \n",
    "        # Limit to max_categories if necessary\n",
    "        if len(value_counts) > max_categories:\n",
    "            value_counts = value_counts.head(max_categories)\n",
    "            truncated = True\n",
    "        else:\n",
    "            truncated = False\n",
    "        \n",
    "        if len(value_counts) > 0:\n",
    "            # Extract categories and counts\n",
    "            categories = value_counts[col].to_list()\n",
    "            counts = value_counts['count'].to_list()\n",
    "            \n",
    "            # Convert None to 'NULL' for display\n",
    "            categories = ['NULL' if cat is None else str(cat) for cat in categories]\n",
    "            \n",
    "            # Create bar plot\n",
    "            bars = ax.bar(range(len(categories)), counts, color='steelblue', \n",
    "                          alpha=0.7, edgecolor='black')\n",
    "            \n",
    "            # Customize x-axis\n",
    "            ax.set_xticks(range(len(categories)))\n",
    "            ax.set_xticklabels(categories)\n",
    "            \n",
    "            # Rotate labels if there are many categories\n",
    "            if len(categories) > 10:\n",
    "                plt.xticks(rotation=45, ha='right')\n",
    "            elif len(categories) > 5:\n",
    "                plt.xticks(rotation=30, ha='right')\n",
    "            \n",
    "            # Truncate long labels\n",
    "            current_labels = ax.get_xticklabels()\n",
    "            new_labels = []\n",
    "            for label in current_labels:\n",
    "                text = label.get_text()\n",
    "                if len(text) > 30:\n",
    "                    text = text[:27] + '...'\n",
    "                new_labels.append(text)\n",
    "            ax.set_xticklabels(new_labels)\n",
    "            \n",
    "            # Add value labels on top of bars\n",
    "            for bar, count in zip(bars, counts):\n",
    "                height = bar.get_height()\n",
    "                percentage = (count / total_count) * 100\n",
    "                ax.text(bar.get_x() + bar.get_width()/2., height,\n",
    "                       f'{count}\\n({percentage:.1f}%)',\n",
    "                       ha='center', va='bottom', fontsize=8)\n",
    "            \n",
    "            # Add labels and title\n",
    "            ax.set_xlabel(col, fontsize=12)\n",
    "            ax.set_ylabel('Frequency', fontsize=12)\n",
    "            title = f'Distribution of {col}'\n",
    "            if truncated:\n",
    "                title += f' (Top {max_categories} categories)'\n",
    "            ax.set_title(title, fontsize=14, fontweight='bold')\n",
    "            \n",
    "            # Add grid\n",
    "            ax.grid(True, alpha=0.3, axis='y')\n",
    "            \n",
    "            # Add statistics text box\n",
    "            unique_count = df[col].n_unique()\n",
    "            stats_text = (f'Unique values: {unique_count}\\n'\n",
    "                         f'Total records: {total_count}\\n'\n",
    "                         f'Null values: {null_count} ({(null_count/total_count)*100:.1f}%)')\n",
    "            if truncated:\n",
    "                stats_text += f'\\n(Showing top {max_categories} only)'\n",
    "            \n",
    "            ax.text(0.98, 0.98, stats_text, transform=ax.transAxes, \n",
    "                    verticalalignment='top', horizontalalignment='right',\n",
    "                    bbox=dict(boxstyle='round', facecolor='wheat', alpha=0.5))\n",
    "            \n",
    "            # Adjust layout to prevent label cutoff\n",
    "            plt.tight_layout()\n",
    "            \n",
    "            # Save the figure\n",
    "            save_path = Path(output_path) / f'{col}_distribution.png'\n",
    "            plt.savefig(save_path, dpi=300, bbox_inches='tight')\n",
    "            plt.close()\n",
    "            \n",
    "            # Progress indicator\n",
    "            if (i + 1) % 5 == 0:\n",
    "                print(f\"Plotted {i + 1}/{len(categorical_cols)} columns\")\n",
    "        else:\n",
    "            print(f\"Skipped {col} - no data to plot\")\n",
    "            plt.close()\n",
    "    \n",
    "    print(f\"Completed! All {len(categorical_cols)} plots saved to '{output_path}' folder\")"
   ]
  },
  {
   "cell_type": "code",
   "execution_count": 27,
   "id": "0e68a815",
   "metadata": {},
   "outputs": [
    {
     "name": "stdout",
     "output_type": "stream",
     "text": [
      "Found 14 categorical/boolean/object columns to plot\n",
      "Plotted 5/14 columns\n",
      "Plotted 10/14 columns\n",
      "Completed! All 14 plots saved to 'plot_outputs/processed_data_distributions' folder\n"
     ]
    }
   ],
   "source": [
    "plot_categorical_distributions(processed_df, \"plot_outputs/processed_data_distributions\")"
   ]
  }
 ],
 "metadata": {
  "kernelspec": {
   "display_name": ".venv",
   "language": "python",
   "name": "python3"
  },
  "language_info": {
   "codemirror_mode": {
    "name": "ipython",
    "version": 3
   },
   "file_extension": ".py",
   "mimetype": "text/x-python",
   "name": "python",
   "nbconvert_exporter": "python",
   "pygments_lexer": "ipython3",
   "version": "3.10.11"
  }
 },
 "nbformat": 4,
 "nbformat_minor": 5
}
