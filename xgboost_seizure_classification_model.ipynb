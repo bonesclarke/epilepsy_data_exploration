{
 "cells": [
  {
   "cell_type": "code",
   "execution_count": null,
   "id": "c9256d53",
   "metadata": {},
   "outputs": [],
   "source": [
    "import polars as pl\n",
    "import numpy as np\n",
    "from sklearn.model_selection import train_test_split, cross_val_score\n",
    "from sklearn.preprocessing import LabelEncoder\n",
    "from sklearn.metrics import classification_report, confusion_matrix\n",
    "import xgboost as xgb\n",
    "import joblib\n",
    "import json\n",
    "from pathlib import Path"
   ]
  },
  {
   "cell_type": "code",
   "execution_count": null,
   "id": "88bc331a",
   "metadata": {},
   "outputs": [],
   "source": [
    "# Load processed data set\n",
    "processed_df = pl.read_parquet(\"processed_data/comprehensive_eeg_features.parquet\")\n",
    "\n",
    "print(f\"Shape: {processed_df.shape}\")\n",
    "print(f\"Columns: {processed_df.columns}\")"
   ]
  },
  {
   "cell_type": "code",
   "execution_count": null,
   "id": "fe1e2007",
   "metadata": {},
   "outputs": [],
   "source": [
    "# Data preparation functions\n",
    "def prepare_classification_data(df, target_column, feature_columns=None):\n",
    "    \"\"\"\n",
    "    Prepare data for classification by separating labeled and unlabeled data\n",
    "    \"\"\"\n",
    "    # Get labeled data (where target is not null)\n",
    "    labeled_df = df.filter(pl.col(target_column).is_not_null())\n",
    "    unlabeled_df = df.filter(pl.col(target_column).is_null())\n",
    "    \n",
    "    # If feature columns not specified, use all except target columns\n",
    "    if feature_columns is None:\n",
    "        exclude_cols = ['seizure_type', 'localization', 'lateralization', 'patient_id', 'seizure_id']\n",
    "        feature_columns = [col for col in df.columns if col not in exclude_cols]\n",
    "    \n",
    "    X_labeled = labeled_df.select(feature_columns).to_numpy()\n",
    "    y_labeled = labeled_df.select(target_column).to_numpy().ravel()\n",
    "    \n",
    "    X_unlabeled = unlabeled_df.select(feature_columns).to_numpy()\n",
    "    \n",
    "    return X_labeled, y_labeled, X_unlabeled, feature_columns"
   ]
  },
  {
   "cell_type": "code",
   "execution_count": null,
   "id": "4274bb16",
   "metadata": {},
   "outputs": [],
   "source": [
    "def encode_labels(y_train, y_test=None):\n",
    "    \"\"\"\n",
    "    Encode string labels to integers\n",
    "    \"\"\"\n",
    "    le = LabelEncoder()\n",
    "    y_train_encoded = le.fit_transform(y_train)\n",
    "    \n",
    "    if y_test is not None:\n",
    "        y_test_encoded = le.transform(y_test)\n",
    "        return y_train_encoded, y_test_encoded, le\n",
    "    \n",
    "    return y_train_encoded, le"
   ]
  },
  {
   "cell_type": "code",
   "execution_count": null,
   "id": "d1e5a531",
   "metadata": {},
   "outputs": [],
   "source": [
    "# Model training functions\n",
    "def train_xgboost_classifier(X_train, y_train, X_test, y_test):\n",
    "    \"\"\"\n",
    "    Train XGBoost classifier with basic parameters\n",
    "    \"\"\"\n",
    "    # Encode labels if they're strings\n",
    "    if isinstance(y_train[0], str):\n",
    "        y_train, y_test, label_encoder = encode_labels(y_train, y_test)\n",
    "    else:\n",
    "        label_encoder = None\n",
    "    \n",
    "    # Initialize and train model\n",
    "    model = xgb.XGBClassifier(\n",
    "        n_estimators=100,\n",
    "        max_depth=6,\n",
    "        learning_rate=0.1,\n",
    "        objective='multi:softprob',\n",
    "        random_state=42\n",
    "    )\n",
    "    \n",
    "    model.fit(X_train, y_train)\n",
    "    \n",
    "    # Evaluate\n",
    "    y_pred = model.predict(X_test)\n",
    "    \n",
    "    return model, y_pred, label_encoder"
   ]
  },
  {
   "cell_type": "code",
   "execution_count": null,
   "id": "059a91d2",
   "metadata": {},
   "outputs": [],
   "source": [
    "def evaluate_model(y_true, y_pred, label_encoder=None):\n",
    "    \"\"\"\n",
    "    Print evaluation metrics\n",
    "    \"\"\"\n",
    "    if label_encoder:\n",
    "        y_true_labels = label_encoder.inverse_transform(y_true)\n",
    "        y_pred_labels = label_encoder.inverse_transform(y_pred)\n",
    "        print(\"Classification Report:\")\n",
    "        print(classification_report(y_true_labels, y_pred_labels))\n",
    "        print(\"\\nConfusion Matrix:\")\n",
    "        print(confusion_matrix(y_true_labels, y_pred_labels))\n",
    "    else:\n",
    "        print(\"Classification Report:\")\n",
    "        print(classification_report(y_true, y_pred))\n",
    "        print(\"\\nConfusion Matrix:\")\n",
    "        print(confusion_matrix(y_true, y_pred))"
   ]
  },
  {
   "cell_type": "code",
   "execution_count": null,
   "id": "665d30ad",
   "metadata": {},
   "outputs": [],
   "source": [
    "# Cross-validation function\n",
    "def cross_validate_model(X, y, cv_folds=5):\n",
    "    \"\"\"\n",
    "    Perform cross-validation to assess model stability\n",
    "    \"\"\"\n",
    "    if isinstance(y[0], str):\n",
    "        y_encoded, le = encode_labels(y)\n",
    "    else:\n",
    "        y_encoded = y\n",
    "    \n",
    "    model = xgb.XGBClassifier(\n",
    "        n_estimators=100,\n",
    "        max_depth=6,\n",
    "        learning_rate=0.1,\n",
    "        objective='multi:softprob',\n",
    "        random_state=42\n",
    "    )\n",
    "    \n",
    "    scores = cross_val_score(model, X, y_encoded, cv=cv_folds, scoring='accuracy')\n",
    "    print(f\"Cross-validation scores: {scores}\")\n",
    "    print(f\"Mean accuracy: {scores.mean():.3f} (+/- {scores.std() * 2:.3f})\")\n",
    "    \n",
    "    return scores"
   ]
  },
  {
   "cell_type": "code",
   "execution_count": null,
   "id": "d84bdfa7",
   "metadata": {},
   "outputs": [],
   "source": [
    "# Prediction functions\n",
    "def predict_unlabeled_seizures(model, X_unlabeled, label_encoder=None):\n",
    "    \"\"\"\n",
    "    Predict labels for unlabeled seizures\n",
    "    \"\"\"\n",
    "    predictions = model.predict(X_unlabeled)\n",
    "    probabilities = model.predict_proba(X_unlabeled)\n",
    "    \n",
    "    if label_encoder:\n",
    "        predictions = label_encoder.inverse_transform(predictions)\n",
    "    \n",
    "    return predictions, probabilities"
   ]
  },
  {
   "cell_type": "code",
   "execution_count": null,
   "id": "e4d74912",
   "metadata": {},
   "outputs": [],
   "source": [
    "def get_feature_importance(model, feature_names):\n",
    "    \"\"\"\n",
    "    Get and display feature importance\n",
    "    \"\"\"\n",
    "    importance = model.feature_importances_\n",
    "    feature_importance = list(zip(feature_names, importance))\n",
    "    feature_importance.sort(key=lambda x: x[1], reverse=True)\n",
    "    \n",
    "    print(\"Top 10 Most Important Features:\")\n",
    "    for feat, imp in feature_importance[:10]:\n",
    "        print(f\"{feat}: {imp:.4f}\")\n",
    "    \n",
    "    return feature_importance"
   ]
  },
  {
   "cell_type": "code",
   "execution_count": null,
   "id": "95f69236",
   "metadata": {},
   "outputs": [],
   "source": [
    "# Pipeline function\n",
    "def build_seizure_classifier(df, target_column):\n",
    "    \"\"\"\n",
    "    Complete pipeline to build and evaluate a seizure classifier\n",
    "    \"\"\"\n",
    "    # Prepare data\n",
    "    X_labeled, y_labeled, X_unlabeled, feature_columns = prepare_classification_data(df, target_column)\n",
    "    \n",
    "    # Split labeled data\n",
    "    X_train, X_test, y_train, y_test = train_test_split(\n",
    "        X_labeled, y_labeled, test_size=0.2, random_state=42, stratify=y_labeled\n",
    "    )\n",
    "    \n",
    "    # Train model\n",
    "    model, y_pred, label_encoder = train_xgboost_classifier(X_train, y_train, X_test, y_test)\n",
    "    \n",
    "    # Evaluate\n",
    "    evaluate_model(y_test, y_pred, label_encoder)\n",
    "    \n",
    "    # Get feature importance\n",
    "    feature_importance = get_feature_importance(model, feature_columns)\n",
    "    \n",
    "    # Cross-validate\n",
    "    cv_scores = cross_validate_model(X_labeled, y_labeled)\n",
    "    \n",
    "    # Predict unlabeled\n",
    "    if len(X_unlabeled) > 0:\n",
    "        predictions, probabilities = predict_unlabeled_seizures(model, X_unlabeled, label_encoder)\n",
    "        print(f\"\\nPredicted {len(predictions)} unlabeled seizures\")\n",
    "    else:\n",
    "        predictions, probabilities = None, None\n",
    "    \n",
    "    return model, label_encoder, predictions, probabilities"
   ]
  },
  {
   "cell_type": "code",
   "execution_count": null,
   "id": "c6edbf40",
   "metadata": {},
   "outputs": [],
   "source": [
    "# Save and load functions\n",
    "def save_model(model, label_encoder, filepath_prefix):\n",
    "    \"\"\"\n",
    "    Save model and label encoder\n",
    "    \"\"\"\n",
    "    joblib.dump(model, f\"{filepath_prefix}_model.pkl\")\n",
    "    joblib.dump(label_encoder, f\"{filepath_prefix}_encoder.pkl\")"
   ]
  },
  {
   "cell_type": "code",
   "execution_count": null,
   "id": "081e15bf",
   "metadata": {},
   "outputs": [],
   "source": [
    "def load_model(filepath_prefix):\n",
    "    \"\"\"\n",
    "    Load model and label encoder\n",
    "    \"\"\"\n",
    "    model = joblib.load(f\"{filepath_prefix}_model.pkl\")\n",
    "    label_encoder = joblib.load(f\"{filepath_prefix}_encoder.pkl\")\n",
    "    return model, label_encoder"
   ]
  },
  {
   "cell_type": "code",
   "execution_count": null,
   "id": "84870a7c",
   "metadata": {},
   "outputs": [],
   "source": [
    "def train_all_classifiers(processed_df):\n",
    "    \"\"\"\n",
    "    Train classifiers for all three target variables\n",
    "    \"\"\"\n",
    "    results = {}\n",
    "    \n",
    "    for target in ['seizure_type', 'localization', 'lateralization']:\n",
    "        print(f\"\\n{'='*50}\")\n",
    "        print(f\"Training classifier for: {target}\")\n",
    "        print('='*50)\n",
    "        \n",
    "        model, encoder, predictions, probabilities = build_seizure_classifier(processed_df, target)\n",
    "        \n",
    "        results[target] = {\n",
    "            'model': model,\n",
    "            'encoder': encoder,\n",
    "            'predictions': predictions,\n",
    "            'probabilities': probabilities\n",
    "        }\n",
    "        \n",
    "        # Save model\n",
    "        save_model(model, encoder, f\"{target}_classifier\")\n",
    "    \n",
    "    return results"
   ]
  },
  {
   "cell_type": "markdown",
   "id": "ae4062ca",
   "metadata": {},
   "source": [
    "## Data Encoding"
   ]
  },
  {
   "cell_type": "code",
   "execution_count": null,
   "id": "4c3a7ae4",
   "metadata": {},
   "outputs": [],
   "source": [
    "def encode_categoricals(df):\n",
    "    # Copy dataframe to avoid modifying original\n",
    "    encoded_df = df.clone()\n",
    "    \n",
    "    # Dictionary to store encoding mappings\n",
    "    encoding_mappings = {}\n",
    "    \n",
    "    # Process each column\n",
    "    for col in df.columns:\n",
    "        dtype = df[col].dtype\n",
    "        \n",
    "        # Check if column is string/object type\n",
    "        if dtype == pl.Utf8 or dtype == pl.Object:\n",
    "            # Convert to categorical\n",
    "            encoded_df = encoded_df.with_columns(\n",
    "                pl.col(col).cast(pl.Categorical)\n",
    "            )\n",
    "            \n",
    "            # Get unique values and create mapping\n",
    "            unique_vals = encoded_df[col].unique().sort()\n",
    "            mapping = {str(val): i for i, val in enumerate(unique_vals) if val is not None}\n",
    "            encoding_mappings[col] = mapping\n",
    "            \n",
    "            # Apply numeric encoding\n",
    "            encoded_df = encoded_df.with_columns(\n",
    "                pl.col(col).to_physical().alias(col)\n",
    "            )\n",
    "    \n",
    "    return encoded_df"
   ]
  },
  {
   "cell_type": "code",
   "execution_count": null,
   "id": "85883292",
   "metadata": {},
   "outputs": [],
   "source": [
    "processed_df = encode_categoricals(processed_df)"
   ]
  },
  {
   "cell_type": "code",
   "execution_count": null,
   "id": "5178d100",
   "metadata": {},
   "outputs": [],
   "source": [
    "# Train all classifiers\n",
    "results = train_all_classifiers(processed_df)"
   ]
  },
  {
   "cell_type": "code",
   "execution_count": null,
   "id": "2c5e74f5",
   "metadata": {},
   "outputs": [],
   "source": [
    "# Access individual results\n",
    "seizure_type_model = results['seizure_type']['model']\n",
    "seizure_type_predictions = results['seizure_type']['predictions']"
   ]
  }
 ],
 "metadata": {
  "kernelspec": {
   "display_name": ".venv",
   "language": "python",
   "name": "python3"
  },
  "language_info": {
   "codemirror_mode": {
    "name": "ipython",
    "version": 3
   },
   "file_extension": ".py",
   "mimetype": "text/x-python",
   "name": "python",
   "nbconvert_exporter": "python",
   "pygments_lexer": "ipython3",
   "version": "3.10.11"
  }
 },
 "nbformat": 4,
 "nbformat_minor": 5
}
