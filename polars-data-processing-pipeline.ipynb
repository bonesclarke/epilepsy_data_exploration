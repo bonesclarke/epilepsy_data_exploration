{
 "cells": [
  {
   "cell_type": "markdown",
   "id": "65183a8e",
   "metadata": {},
   "source": [
    "# Epilepsy Data Processing Pipeline"
   ]
  },
  {
   "cell_type": "markdown",
   "id": "1043b8dc",
   "metadata": {},
   "source": [
    "## Libraries"
   ]
  },
  {
   "cell_type": "code",
   "execution_count": 28,
   "id": "0e78b7c0",
   "metadata": {
    "execution": {
     "execution_failed": "2025-09-08T21:57:32.019Z"
    },
    "trusted": true
   },
   "outputs": [],
   "source": [
    "# Epilepsy Data Processing Pipeline\n",
    "import os\n",
    "import re\n",
    "import json\n",
    "import numpy as np\n",
    "import pandas as pd\n",
    "import polars as pl\n",
    "import matplotlib.pyplot as plt\n",
    "import seaborn as sns\n",
    "from datetime import datetime, timedelta\n",
    "from pathlib import Path\n",
    "from tqdm import tqdm\n",
    "import pywt\n",
    "import warnings\n",
    "warnings.filterwarnings('ignore')\n",
    "\n",
    "# MNE Libraries\n",
    "import mne\n",
    "from mne import Epochs, pick_types, events_from_annotations\n",
    "from mne.channels import make_standard_montage\n",
    "from mne.io import concatenate_raws, read_raw_edf\n",
    "from mne.datasets import eegbci\n",
    "from mne.decoding import CSP\n",
    "from mne.preprocessing import ICA, create_eog_epochs, create_ecg_epochs\n",
    "from mne_connectivity import spectral_connectivity_epochs\n",
    "from mne.time_frequency import psd_array_multitaper\n",
    "\n",
    "# Scipy and Scikit-learn\n",
    "from scipy import signal, stats\n",
    "from scipy.spatial.distance import euclidean\n",
    "from scipy.stats import pearsonr\n",
    "from scipy.signal import butter, filtfilt\n",
    "from sklearn.preprocessing import StandardScaler"
   ]
  },
  {
   "cell_type": "markdown",
   "id": "206b0576",
   "metadata": {},
   "source": [
    "## Load Meta Data"
   ]
  },
  {
   "cell_type": "code",
   "execution_count": 29,
   "id": "4c4ad4e1",
   "metadata": {
    "execution": {
     "execution_failed": "2025-09-08T21:57:32.019Z"
    },
    "trusted": true
   },
   "outputs": [],
   "source": [
    "def load_metadata_from_json(data_dir='data'):\n",
    "    \"\"\"Load patient and seizure metadata from JSON files using Polars\"\"\"\n",
    "    data_dir = Path(data_dir)\n",
    "    all_seizures = []\n",
    "    all_patients = []\n",
    "    all_non_seizures = []\n",
    "    \n",
    "    json_files = sorted(list(data_dir.glob('**/*.json')))\n",
    "    print(f\"Found {len(json_files)} JSON files\")\n",
    "    \n",
    "    for json_file in json_files:\n",
    "        try:\n",
    "            with open(json_file, 'r') as f:\n",
    "                data = json.load(f)\n",
    "            \n",
    "            # Extract patient-level information\n",
    "            patient_info = {\n",
    "                'patient_id': data['patient_id'],\n",
    "                'age': data['age'],\n",
    "                'gender': data['gender'],\n",
    "                'sampling_rate_hz': data['sampling_rate_hz'],\n",
    "                'num_channels': len(data['channels']),\n",
    "                'json_file_path': str(json_file),\n",
    "                'eeg_channel': data['eeg_channel'],\n",
    "                'seizure_type': data['seizure_type'],\n",
    "                'localization': data['localization'],\n",
    "                'lateralization': data['lateralization'],\n",
    "            }\n",
    "            \n",
    "            if 'file_name' in data:\n",
    "                patient_info['file_name'] = data['file_name']\n",
    "                patient_info['registration_start_time'] = data.get('registration_start_time')\n",
    "                patient_info['registration_end_time'] = data.get('registration_end_time')\n",
    "            \n",
    "            all_patients.append(patient_info)\n",
    "            \n",
    "            # Process each seizure\n",
    "            for seizure in data['seizures']:\n",
    "                seizure_record = {\n",
    "                    'patient_id': data['patient_id'],\n",
    "                    'seizure_bool': True,\n",
    "                    'sampling_rate_hz': data['sampling_rate_hz'],\n",
    "                    'seizure_number': seizure['seizure_number']\n",
    "                }\n",
    "                \n",
    "                for key, value in seizure.items():\n",
    "                    seizure_record[key] = value\n",
    "                \n",
    "                if 'file_name' in patient_info and 'file_name' not in seizure:\n",
    "                    seizure_record['file_name'] = patient_info['file_name']\n",
    "                    if 'registration_start_time' in patient_info:\n",
    "                        seizure_record['registration_start_time'] = patient_info['registration_start_time']\n",
    "                        seizure_record['registration_end_time'] = patient_info['registration_end_time']\n",
    "                \n",
    "                all_seizures.append(seizure_record)\n",
    "                \n",
    "            # Check if non_seizures exists before processing\n",
    "            if 'non-seizures' in data:\n",
    "                for non_seizure in data['non-seizures']:\n",
    "                    non_seizure_record = {\n",
    "                        'patient_id': data['patient_id'],\n",
    "                        'seizure_bool': False,\n",
    "                        'file_name': non_seizure['file_name'],\n",
    "                        'registration_start_time': non_seizure['registration_start_time'],\n",
    "                        'registration_end_time': non_seizure['registration_end_time']\n",
    "                    }\n",
    "                    \n",
    "                    all_non_seizures.append(non_seizure_record)\n",
    "                \n",
    "        except Exception as e:\n",
    "            print(f\"Error loading {json_file}: {e}\")\n",
    "            continue\n",
    "    \n",
    "    # Convert to Polars DataFrames\n",
    "    seizures_df = pl.DataFrame(all_seizures)\n",
    "    patients_df = pl.DataFrame(all_patients)\n",
    "    non_seizures_df = pl.DataFrame(all_non_seizures)\n",
    "    \n",
    "    return seizures_df, patients_df, non_seizures_df"
   ]
  },
  {
   "cell_type": "code",
   "execution_count": 30,
   "id": "21eb5731",
   "metadata": {
    "execution": {
     "execution_failed": "2025-09-08T21:57:32.019Z"
    },
    "trusted": true
   },
   "outputs": [
    {
     "name": "stdout",
     "output_type": "stream",
     "text": [
      "Loading metadata from JSON files...\n",
      "Found 38 JSON files\n",
      "Loaded 38 patients and 245 seizures\n"
     ]
    }
   ],
   "source": [
    "# Load metadata\n",
    "print(\"Loading metadata from JSON files...\")\n",
    "\n",
    "# change to other folder for full set\n",
    "seizures_df, patients_df, non_seizures_df = load_metadata_from_json(\n",
    "    'data'\n",
    "    )\n",
    "print(f\"Loaded {len(patients_df)} patients and {len(seizures_df)} seizures\")"
   ]
  },
  {
   "cell_type": "code",
   "execution_count": 31,
   "id": "b42ba1b6",
   "metadata": {
    "execution": {
     "execution_failed": "2025-09-08T21:57:32.020Z"
    },
    "trusted": true
   },
   "outputs": [],
   "source": [
    "def fix_time_columns(df, time_cols):\n",
    "    for col in time_cols:\n",
    "        if col in df.columns:\n",
    "            # First replace \"N/A\" with null\n",
    "            df = df.with_columns(\n",
    "                pl.when(pl.col(col) == \"N/A\")\n",
    "                .then(None)\n",
    "                .otherwise(pl.col(col))\n",
    "                .alias(col)\n",
    "            )\n",
    "            \n",
    "            # Replace literal '.' with ':' for non-null values\n",
    "            df = df.with_columns(\n",
    "                pl.when(pl.col(col).is_not_null())\n",
    "                .then(pl.col(col).str.replace_all(\".\", \":\", literal=True))\n",
    "                .otherwise(None)\n",
    "                .alias(col)\n",
    "            )\n",
    "            \n",
    "            # Split time string and wrap hours > 24 for non-null values\n",
    "            df = df.with_columns(\n",
    "                pl.when(pl.col(col).is_not_null())\n",
    "                .then(pl.col(col).str.split(\":\").list.to_struct()\n",
    "                      .struct.rename_fields([\"hour\", \"minute\", \"second\"]))\n",
    "                .otherwise(None)\n",
    "                .alias(col + \"_split\")\n",
    "            )\n",
    "            \n",
    "            # Reconstruct time with wrapped hours for non-null values\n",
    "            df = df.with_columns(\n",
    "                pl.when(pl.col(col + \"_split\").is_not_null())\n",
    "                .then(\n",
    "                    pl.concat_str(\n",
    "                        [\n",
    "                            (pl.col(col + \"_split\").struct.field(\"hour\").cast(pl.Int32) % 24).cast(pl.Utf8).str.zfill(2),\n",
    "                            pl.col(col + \"_split\").struct.field(\"minute\").cast(pl.Utf8).str.zfill(2),\n",
    "                            pl.col(col + \"_split\").struct.field(\"second\").cast(pl.Utf8).str.zfill(2)\n",
    "                        ],\n",
    "                        separator=\":\"\n",
    "                    )\n",
    "                )\n",
    "                .otherwise(None)\n",
    "                .alias(col)\n",
    "            ).drop(col + \"_split\")\n",
    "            \n",
    "            # Convert to time dtype for non-null values\n",
    "            df = df.with_columns(\n",
    "                pl.when(pl.col(col).is_not_null())\n",
    "                .then(pl.col(col).str.to_time(\"%H:%M:%S\"))\n",
    "                .otherwise(None)\n",
    "                .alias(col)\n",
    "            )\n",
    "    \n",
    "    return df"
   ]
  },
  {
   "cell_type": "code",
   "execution_count": 32,
   "id": "cfafa88b",
   "metadata": {
    "execution": {
     "execution_failed": "2025-09-08T21:57:32.020Z"
    },
    "trusted": true
   },
   "outputs": [],
   "source": [
    "time_cols = [\n",
    "    'registration_start_time',\n",
    "    'registration_end_time',\n",
    "    'seizure_start_time',\n",
    "    'seizure_end_time'\n",
    "]"
   ]
  },
  {
   "cell_type": "code",
   "execution_count": 33,
   "id": "a4d5cfb0",
   "metadata": {
    "execution": {
     "execution_failed": "2025-09-08T21:57:32.020Z"
    },
    "trusted": true
   },
   "outputs": [],
   "source": [
    "seizures_df = fix_time_columns(seizures_df, time_cols)"
   ]
  },
  {
   "cell_type": "code",
   "execution_count": 34,
   "id": "efafc6e3-beef-478f-8e9b-ed738e40b92f",
   "metadata": {
    "execution": {
     "execution_failed": "2025-09-08T21:57:32.020Z"
    },
    "trusted": true
   },
   "outputs": [
    {
     "data": {
      "text/plain": [
       "[String, Boolean, Int64, Int64, String, Time, Time, Time, Time]"
      ]
     },
     "execution_count": 34,
     "metadata": {},
     "output_type": "execute_result"
    }
   ],
   "source": [
    "seizures_df.dtypes"
   ]
  },
  {
   "cell_type": "code",
   "execution_count": 35,
   "id": "dd397b94",
   "metadata": {
    "execution": {
     "execution_failed": "2025-09-08T21:57:32.020Z"
    },
    "trusted": true
   },
   "outputs": [],
   "source": [
    "def save_to_csv(df, output_path='comprehensive_df.csv'):\n",
    "    if isinstance(df, pl.DataFrame):\n",
    "        df_pd = df.to_pandas()\n",
    "    else:\n",
    "        df_pd = df\n",
    "    \n",
    "    df_pd.to_csv(output_path, index=False)\n",
    "    print(f\"Dataset saved to: {output_path}\")\n",
    "    print(f\"File size: {os.path.getsize(output_path) / 1024 / 1024:.2f} MB\")\n",
    "\n",
    "def save_to_parquet(df, output_path='comprehensive_eeg_features.parquet'):\n",
    "    if isinstance(df, pl.DataFrame):\n",
    "        df.write_parquet(output_path)\n",
    "    else:\n",
    "        df.to_parquet(output_path, index=False, engine='pyarrow')\n",
    "    \n",
    "    print(f\"Dataset saved to: {output_path}\")\n",
    "    print(f\"File size: {os.path.getsize(output_path) / 1024 / 1024:.2f} MB\")"
   ]
  },
  {
   "cell_type": "markdown",
   "id": "41e55050",
   "metadata": {},
   "source": [
    "## Processing Functions"
   ]
  },
  {
   "cell_type": "markdown",
   "id": "059a592e",
   "metadata": {},
   "source": [
    "### PSD Features"
   ]
  },
  {
   "cell_type": "code",
   "execution_count": 36,
   "id": "0e890490",
   "metadata": {
    "execution": {
     "execution_failed": "2025-09-08T21:57:32.020Z"
    },
    "trusted": true
   },
   "outputs": [],
   "source": [
    "def extract_psd_features(raw, fmin=0.4, fmax=50, prefix=\"seizure\"):\n",
    "    \"\"\"Extract PSD features without restrictive conditions\"\"\"\n",
    "    features = {}\n",
    "    \n",
    "    try:\n",
    "        # Get data\n",
    "        data = raw.get_data()\n",
    "        sfreq = raw.info['sfreq']\n",
    "        \n",
    "        # Calculate PSD using multitaper (more robust than welch for non-stationary signals)\n",
    "        psds, freqs = psd_array_multitaper(\n",
    "            data, sfreq, fmin=fmin, fmax=fmax, \n",
    "            adaptive=True, normalization='full', verbose=False\n",
    "        )\n",
    "        \n",
    "        # Extended frequency bands\n",
    "        bands = {\n",
    "            'delta': (0.4, 4),\n",
    "            'theta': (4, 7),\n",
    "            'alpha': (7, 12),\n",
    "            'low_beta': (12, 20),\n",
    "            'high_beta': (20, 30),\n",
    "            'gamma': (30, 50),\n",
    "            'high_gamma': (50, 60)\n",
    "        }\n",
    "        \n",
    "        band_powers = {}\n",
    "        \n",
    "        for band_name, (low_freq, high_freq) in bands.items():\n",
    "            freq_mask = (freqs >= low_freq) & (freqs < high_freq)\n",
    "            if freq_mask.any():\n",
    "                band_power = np.mean(psds[:, freq_mask], axis=1)\n",
    "                band_powers[band_name] = band_power\n",
    "                \n",
    "                # Store band power statistics\n",
    "                features[f'{prefix}_psd_{band_name}_mean'] = float(np.mean(band_power) * 1e+8)\n",
    "                features[f'{prefix}_psd_{band_name}_std'] = float(np.std(band_power) * 1e+8)\n",
    "                features[f'{prefix}_psd_{band_name}_cv'] = float(np.std(band_power) / (np.mean(band_power) + 1e-10))  # Coefficient of variation\n",
    "        \n",
    "        # Calculate band power ratios (important for seizure detection)\n",
    "        if 'theta' in band_powers and 'alpha' in band_powers:\n",
    "            features[f'{prefix}_psd_theta_alpha_ratio'] = float(np.mean(band_powers['theta']) / (np.mean(band_powers['alpha']) + 1e-8))\n",
    "        \n",
    "        if 'delta' in band_powers and 'alpha' in band_powers:\n",
    "            features[f'{prefix}_psd_delta_alpha_ratio'] = float(np.mean(band_powers['delta']) / (np.mean(band_powers['alpha']) + 1e-8))\n",
    "        \n",
    "        if 'low_beta' in band_powers and 'high_beta' in band_powers:\n",
    "            features[f'{prefix}_psd_beta_ratio'] = float(np.mean(band_powers['high_beta']) / (np.mean(band_powers['low_beta']) + 1e-8))\n",
    "        \n",
    "        # Spectral edge frequencies (SEF50, SEF90, SEF95)\n",
    "        mean_psd = np.mean(psds, axis=0)\n",
    "        cumsum_psd = np.cumsum(mean_psd)\n",
    "        cumsum_psd = cumsum_psd / cumsum_psd[-1]\n",
    "        \n",
    "        for percentile in [50, 75, 90, 95]:\n",
    "            edge_idx = np.where(cumsum_psd >= percentile/100)[0]\n",
    "            if len(edge_idx) > 0:\n",
    "                features[f'{prefix}_psd_sef{percentile}'] = float(freqs[edge_idx[0]])\n",
    "            else:\n",
    "                features[f'{prefix}_psd_sef{percentile}'] = float(freqs[-1])\n",
    "        \n",
    "        # Spectral centroid and spread\n",
    "        freq_weights = freqs * mean_psd\n",
    "        spectral_centroid = np.sum(freq_weights) / (np.sum(mean_psd) + 1e-8)\n",
    "        features[f'{prefix}_psd_spectral_centroid'] = float(spectral_centroid)\n",
    "        \n",
    "        # Spectral spread (standard deviation around centroid)\n",
    "        spectral_spread = np.sqrt(np.sum(((freqs - spectral_centroid) ** 2) * mean_psd) / (np.sum(mean_psd) + 1e-8))\n",
    "        features[f'{prefix}_psd_spectral_spread'] = float(spectral_spread)\n",
    "        \n",
    "        # Spectral skewness and kurtosis\n",
    "        if spectral_spread > 0:\n",
    "            spectral_skewness = np.sum(((freqs - spectral_centroid) ** 3) * mean_psd) / ((spectral_spread ** 3) * np.sum(mean_psd) + 1e-8)\n",
    "            spectral_kurtosis = np.sum(((freqs - spectral_centroid) ** 4) * mean_psd) / ((spectral_spread ** 4) * np.sum(mean_psd) + 1e-8)\n",
    "            features[f'{prefix}_psd_spectral_skewness'] = float(spectral_skewness)\n",
    "            features[f'{prefix}_psd_spectral_kurtosis'] = float(spectral_kurtosis)\n",
    "        else:\n",
    "            features[f'{prefix}_psd_spectral_skewness'] = 0.0\n",
    "            features[f'{prefix}_psd_spectral_kurtosis'] = 0.0\n",
    "        \n",
    "    except Exception as e:\n",
    "        print(f\"Error in enhanced PSD calculation: {e}\")\n",
    "    \n",
    "    return features"
   ]
  },
  {
   "cell_type": "code",
   "execution_count": 37,
   "id": "b5c7eace",
   "metadata": {
    "execution": {
     "execution_failed": "2025-09-08T21:57:32.020Z"
    },
    "trusted": true
   },
   "outputs": [],
   "source": [
    "def extract_psd_features_by_region(raw, fmin=0.4, fmax=60, prefix=\"seizure\"):\n",
    "    # Define channel groups for standard monopolar montage\n",
    "    monopolar_channel_groups = {\n",
    "        'frontal': ['Fp1', 'Fp2', 'F3', 'F4', 'F7', 'F8', 'Fz'],\n",
    "        'central': ['C3', 'C4', 'Cz'],\n",
    "        'parietal': ['P3', 'P4', 'Pz'],\n",
    "        'occipital': ['O1', 'O2'],\n",
    "        'temporal': ['T3', 'T4', 'T5', 'T6'],\n",
    "        'left': ['Fp1', 'F3', 'F7', 'C3', 'P3', 'O1', 'T3', 'T5'],\n",
    "        'right': ['Fp2', 'F4', 'F8', 'C4', 'P4', 'O2', 'T4', 'T6']\n",
    "    }\n",
    "    \n",
    "    # Define channel groups for bipolar montage\n",
    "    bipolar_channel_groups = {\n",
    "        'frontal': ['FP1-F7', 'FP1-F3', 'FP2-F4', 'FP2-F8', 'F7-T7', 'F3-C3', 'F4-C4', 'F8-T8', 'FZ-CZ'],\n",
    "        'temporal': ['F7-T7', 'F8-T8', 'T7-P7', 'T8-P8-0', 'T8-P8-1', 'P7-T7', 'T7-FT9', 'FT10-T8'],\n",
    "        'frontotemporal': ['T7-FT9', 'FT9-FT10', 'FT10-T8'],\n",
    "        'parietal': ['T7-P7', 'C3-P3', 'C4-P4', 'T8-P8-0', 'T8-P8-1', 'P7-O1', 'P3-O1', 'P4-O2', 'P8-O2', 'CZ-PZ', 'P7-T7'],\n",
    "        'occipital': ['P7-O1', 'P3-O1', 'P4-O2', 'P8-O2'],\n",
    "        'central': ['F3-C3', 'C3-P3', 'F4-C4', 'C4-P4', 'FZ-CZ', 'CZ-PZ'],\n",
    "        'left': ['FP1-F7', 'F7-T7', 'T7-P7', 'P7-O1', 'FP1-F3', 'F3-C3', 'C3-P3', 'P3-O1', 'P7-T7', 'T7-FT9'],\n",
    "        'right': ['FP2-F4', 'F4-C4', 'C4-P4', 'P4-O2', 'FP2-F8', 'F8-T8', 'T8-P8-0', 'P8-O2', 'FT10-T8', 'T8-P8-1'],\n",
    "        'midline': ['FZ-CZ', 'CZ-PZ'],\n",
    "        'cross_hemisphere': ['FT9-FT10'],\n",
    "        'left_lateral_chain': ['FP1-F7', 'F7-T7', 'T7-P7', 'P7-O1'],\n",
    "        'left_parasagittal_chain': ['FP1-F3', 'F3-C3', 'C3-P3', 'P3-O1'],\n",
    "        'right_parasagittal_chain': ['FP2-F4', 'F4-C4', 'C4-P4', 'P4-O2'],\n",
    "        'right_lateral_chain': ['FP2-F8', 'F8-T8', 'T8-P8-0', 'P8-O2'],\n",
    "        'midline_chain': ['FZ-CZ', 'CZ-PZ']\n",
    "    }\n",
    "    \n",
    "    available_channels = raw.ch_names\n",
    "    \n",
    "    # Detect channel type based on presence of '-' in channel names\n",
    "    def detect_channel_type(channels):\n",
    "        bipolar_count = sum(1 for ch in channels if '-' in ch and not ch.startswith('EEG'))\n",
    "        monopolar_count = sum(1 for ch in channels if '-' not in ch or ch.startswith('EEG'))\n",
    "        \n",
    "        # If majority of channels contain '-', it's likely bipolar montage\n",
    "        if bipolar_count > monopolar_count * 0.5:\n",
    "            return 'bipolar'\n",
    "        else:\n",
    "            return 'monopolar'\n",
    "    \n",
    "    # Determine which channel groups to use\n",
    "    channel_type = detect_channel_type(available_channels)\n",
    "    \n",
    "    if channel_type == 'bipolar':\n",
    "        print(\"Detected bipolar montage channels\")\n",
    "        channel_groups = bipolar_channel_groups\n",
    "        \n",
    "        # Function to find matching bipolar channels\n",
    "        def find_matching_channels(available_channels, channel_list):\n",
    "            region_channels = []\n",
    "            for ch in available_channels:\n",
    "                ch_clean = ch.upper().replace('EEG', '').replace(' ', '').strip()\n",
    "                for target_ch in channel_list:\n",
    "                    target_clean = target_ch.upper()\n",
    "                    # Check for exact match after normalization\n",
    "                    if ch_clean == target_clean:\n",
    "                        region_channels.append(ch)\n",
    "                        break\n",
    "                    # Check for P8 variations (P8-O2 vs T8-P8-0/T8-P8-1)\n",
    "                    elif 'P8' in target_clean and 'P8' in ch_clean:\n",
    "                        # Handle the special case of P8 channels\n",
    "                        if (target_clean in ch_clean) or (ch_clean in target_clean):\n",
    "                            region_channels.append(ch)\n",
    "                            break\n",
    "            return region_channels\n",
    "            \n",
    "    else:\n",
    "        print(\"Detected monopolar/standard montage channels\")\n",
    "        channel_groups = monopolar_channel_groups\n",
    "        \n",
    "        # Function to find matching monopolar channels (your original logic)\n",
    "        def find_matching_channels(available_channels, channel_list):\n",
    "            region_channels = []\n",
    "            for ch in available_channels:\n",
    "                ch_clean = ch.upper().replace('EEG', '').replace('-', '').replace(' ', '').strip()\n",
    "                for target_ch in channel_list:\n",
    "                    if target_ch.upper() in ch_clean or ch_clean in target_ch.upper():\n",
    "                        region_channels.append(ch)\n",
    "                        break\n",
    "            return region_channels\n",
    "    \n",
    "    # Process each region\n",
    "    regional_features = {}\n",
    "    \n",
    "    for region, channel_list in channel_groups.items():\n",
    "        # Find matching channels for this region\n",
    "        region_channels = find_matching_channels(available_channels, channel_list)\n",
    "        \n",
    "        if region_channels:\n",
    "            try:\n",
    "                # Pick channels for this region\n",
    "                raw_region = raw.copy().pick(region_channels)\n",
    "                \n",
    "                # Extract features for this region\n",
    "                region_psd_features = extract_psd_features(raw_region, fmin, fmax, prefix)\n",
    "                \n",
    "                # Add region prefix to feature names\n",
    "                for feature_name, value in region_psd_features.items():\n",
    "                    regional_features[f'{prefix}_{region}_{feature_name}'] = value\n",
    "                    \n",
    "                #print(f\"Processed {region} region with {len(region_channels)} channels\")\n",
    "                    \n",
    "            except Exception as e:\n",
    "                print(f\"Could not process {region} region: {e}\")\n",
    "        else:\n",
    "            print(f\"No channels found for {region} region\")\n",
    "    \n",
    "    print(f\"Total regional features extracted: {len(regional_features)}\")\n",
    "    return regional_features"
   ]
  },
  {
   "cell_type": "code",
   "execution_count": 38,
   "id": "1a5b817e",
   "metadata": {
    "execution": {
     "execution_failed": "2025-09-08T21:57:32.020Z"
    },
    "trusted": true
   },
   "outputs": [],
   "source": [
    "def parse_seizure_time(time_str):\n",
    "    if pd.isna(time_str) or time_str == '' or time_str is None:\n",
    "        return None\n",
    "    \n",
    "    try:\n",
    "        time_str = str(time_str).strip()\n",
    "        \n",
    "        # Handle HH:MM:SS or MM:SS format\n",
    "        if '.' in time_str:\n",
    "            parts = time_str.split('.')\n",
    "            if len(parts) == 3:\n",
    "                hours, minutes, seconds = map(float, parts)\n",
    "                return hours * 3600 + minutes * 60 + seconds\n",
    "            elif len(parts) == 2:\n",
    "                minutes, seconds = map(float, parts)\n",
    "                return minutes * 60 + seconds\n",
    "        \n",
    "        # Handle pure seconds\n",
    "        return float(time_str)\n",
    "        \n",
    "    except Exception as e:\n",
    "        print(f\"Could not parse time '{time_str}': {e}\")\n",
    "        return None"
   ]
  },
  {
   "cell_type": "markdown",
   "id": "e58b7b02",
   "metadata": {},
   "source": [
    "### Differential Entropy"
   ]
  },
  {
   "cell_type": "code",
   "execution_count": 39,
   "id": "9574fb55",
   "metadata": {
    "execution": {
     "execution_failed": "2025-09-08T21:57:32.020Z"
    },
    "trusted": true
   },
   "outputs": [],
   "source": [
    "def calculate_differential_entropy(data, sfreq, bands=None, prefix=\"seizure\"):\n",
    "    if bands is None:\n",
    "        bands = {\n",
    "            'delta': (0.4, 4),\n",
    "            'theta': (4, 7),\n",
    "            'alpha': (7, 12),\n",
    "            'low_beta': (12, 20),\n",
    "            'high_beta': (20, 30),\n",
    "            'gamma': (30, 50),\n",
    "            'high_gamma': (50, 60)\n",
    "        }\n",
    "    \n",
    "    features = {}\n",
    "    n_channels = data.shape[0]\n",
    "    \n",
    "    for band_name, (low_freq, high_freq) in bands.items():\n",
    "        # Bandpass filter for each band\n",
    "        try:\n",
    "            filtered_data = mne.filter.filter_data(\n",
    "                data, sfreq, l_freq=low_freq, h_freq=high_freq, \n",
    "                verbose=False, method='fir', fir_design='firwin'\n",
    "            )\n",
    "            \n",
    "            # Calculate variance for each channel\n",
    "            variances = np.var(filtered_data, axis=1)\n",
    "            \n",
    "            # Calculate DE: 0.5 * log(2 * pi * e * variance)\n",
    "            # Adding small epsilon to avoid log(0)\n",
    "            de_values = 0.5 * np.log(2 * np.pi * np.e * (variances + 1e-8))\n",
    "            \n",
    "            # Store statistics\n",
    "            features[f'{prefix}_de_{band_name}_mean'] = float(np.mean(de_values))\n",
    "            features[f'{prefix}_de_{band_name}_std'] = float(np.std(de_values))\n",
    "            features[f'{prefix}_de_{band_name}_median'] = float(np.median(de_values))\n",
    "            features[f'{prefix}_de_{band_name}_max'] = float(np.max(de_values))\n",
    "            features[f'{prefix}_de_{band_name}_min'] = float(np.min(de_values))\n",
    "            \n",
    "            # Asymmetry features (frontal asymmetry is important for emotion/seizure)\n",
    "            if n_channels >= 2:\n",
    "                # Calculate hemispheric asymmetry\n",
    "                left_channels = de_values[:n_channels//2]\n",
    "                right_channels = de_values[n_channels//2:]\n",
    "                min_len = min(len(left_channels), len(right_channels))\n",
    "                if min_len > 0:\n",
    "                    asymmetry = left_channels[:min_len] - right_channels[:min_len]\n",
    "                    features[f'{prefix}_de_{band_name}_asymmetry_mean'] = float(np.mean(asymmetry))\n",
    "                    features[f'{prefix}_de_{band_name}_asymmetry_std'] = float(np.std(asymmetry))\n",
    "                \n",
    "        except Exception as e:\n",
    "            print(f\"Error calculating DE for {band_name}: {e}\")\n",
    "    \n",
    "    return features"
   ]
  },
  {
   "cell_type": "markdown",
   "id": "f767c41b",
   "metadata": {},
   "source": [
    "### Propagation"
   ]
  },
  {
   "cell_type": "code",
   "execution_count": 40,
   "id": "15fe2c52",
   "metadata": {
    "execution": {
     "execution_failed": "2025-09-08T21:57:32.020Z"
    },
    "trusted": true
   },
   "outputs": [],
   "source": [
    "def calculate_simple_propagation_features(raw, seizure_start=None, seizure_end=None, prefix=\"seizure\"):\n",
    "    features = {}\n",
    "    \n",
    "    try:\n",
    "        data = raw.get_data()\n",
    "        sfreq = raw.info['sfreq']\n",
    "        n_channels, n_samples = data.shape\n",
    "        \n",
    "        # Apply bandpass filter for seizure activity\n",
    "        data_filtered = mne.filter.filter_data(\n",
    "            data, sfreq, l_freq=3, h_freq=30, verbose=False\n",
    "        )\n",
    "        \n",
    "        # Calculate channel-wise power changes\n",
    "        onset_times = []\n",
    "        \n",
    "        for ch_idx in range(n_channels):\n",
    "            channel_data = data_filtered[ch_idx, :]\n",
    "            \n",
    "            # Calculate envelope\n",
    "            analytic_signal = signal.hilbert(channel_data)\n",
    "            envelope = np.abs(analytic_signal)\n",
    "            \n",
    "            # Simple smoothing\n",
    "            window_samples = max(6, int(0.1 * sfreq))\n",
    "            if window_samples % 2 == 0:\n",
    "                window_samples += 1\n",
    "            envelope_smooth = signal.savgol_filter(\n",
    "                envelope, \n",
    "                window_samples, \n",
    "                min(1, window_samples-1)\n",
    "            )\n",
    "            \n",
    "            # Find the time of maximum activity\n",
    "            if seizure_start is not None and seizure_end is not None:\n",
    "                # Look in seizure window\n",
    "                start_sample = max(0, int(seizure_start * sfreq))\n",
    "                end_sample = min(n_samples, int(seizure_end * sfreq))\n",
    "                if start_sample < end_sample:\n",
    "                    seizure_segment = envelope_smooth[start_sample:end_sample]\n",
    "                    if len(seizure_segment) > 0:\n",
    "                        max_idx = np.argmax(seizure_segment) + start_sample\n",
    "                        onset_times.append(max_idx / sfreq)\n",
    "            else:\n",
    "                # Use entire recording\n",
    "                if len(envelope_smooth) > 0:\n",
    "                    max_idx = np.argmax(envelope_smooth)\n",
    "                    onset_times.append(max_idx / sfreq)\n",
    "        \n",
    "        # Only calculate propagation statistics if we have onset times\n",
    "        if len(onset_times) > 0:\n",
    "            # Calculate delays between channels\n",
    "            onset_times = np.array(onset_times)\n",
    "            sorted_onsets = np.sort(onset_times)\n",
    "            delays = np.diff(sorted_onsets)\n",
    "            \n",
    "            # Simple propagation speed estimate \n",
    "            avg_distance_mm = 1  # 1mm = 1cm\n",
    "            speeds = []\n",
    "            \n",
    "            # Calculate speeds only for positive delays\n",
    "            positive_delays = delays[delays > 0]\n",
    "            if len(positive_delays) > 0:\n",
    "                for delay in positive_delays:\n",
    "                    speed = avg_distance_mm / delay\n",
    "                    speeds.append(speed)\n",
    "            \n",
    "            # Calculate speed statistics only if we have speeds\n",
    "            if len(speeds) > 0:\n",
    "                features[f'{prefix}_mean_propagation_speed'] = float(np.mean(speeds))\n",
    "                features[f'{prefix}_median_propagation_speed'] = float(np.median(speeds))\n",
    "                features[f'{prefix}_std_propagation_speed'] = float(np.std(speeds))\n",
    "                features[f'{prefix}_max_propagation_speed'] = float(np.max(speeds))\n",
    "                features[f'{prefix}_min_propagation_speed'] = float(np.min(speeds))\n",
    "                features[f'{prefix}_num_propagation_events'] = len(speeds)\n",
    "            \n",
    "            # Calculate delay statistics\n",
    "            if len(delays) > 0:\n",
    "                features[f'{prefix}_mean_onset_delay'] = float(np.mean(delays))\n",
    "                features[f'{prefix}_max_onset_delay'] = float(np.max(delays))\n",
    "                \n",
    "    except Exception as e:\n",
    "        print(f\"Error in propagation calculation: {e}\")\n",
    "    \n",
    "    return features"
   ]
  },
  {
   "cell_type": "markdown",
   "id": "50b9ff2d",
   "metadata": {},
   "source": [
    "### Wavelet"
   ]
  },
  {
   "cell_type": "code",
   "execution_count": 41,
   "id": "3e090633",
   "metadata": {
    "execution": {
     "execution_failed": "2025-09-08T21:57:32.020Z"
    },
    "trusted": true
   },
   "outputs": [],
   "source": [
    "def calculate_wavelet_features(data, sfreq, wavelet='db4', levels=5, prefix=\"seizure\"):\n",
    "    features = {}\n",
    "    n_channels = data.shape[0]\n",
    "    \n",
    "    # Store features for each decomposition level\n",
    "    all_channel_features = []\n",
    "    \n",
    "    for ch_idx in range(n_channels):\n",
    "        channel_data = data[ch_idx, :]\n",
    "        \n",
    "        try:\n",
    "            # Perform wavelet decomposition\n",
    "            coeffs = pywt.wavedec(channel_data, wavelet, level=levels)\n",
    "            \n",
    "            # Calculate features for each level\n",
    "            channel_features = []\n",
    "            for level, coeff in enumerate(coeffs):\n",
    "                if len(coeff) > 0:\n",
    "                    # Energy of coefficients\n",
    "                    energy = np.sum(coeff ** 2)\n",
    "                    # Entropy\n",
    "                    entropy = stats.entropy(np.abs(coeff) + 1e-8)\n",
    "                    # Statistical features\n",
    "                    mean_coeff = np.mean(np.abs(coeff))\n",
    "                    std_coeff = np.std(coeff)\n",
    "                    max_coeff = np.max(np.abs(coeff))\n",
    "                    \n",
    "                    channel_features.extend([energy, entropy, mean_coeff, std_coeff, max_coeff])\n",
    "                else:\n",
    "                    channel_features.extend([0.0, 0.0, 0.0, 0.0, 0.0])\n",
    "            \n",
    "            all_channel_features.append(channel_features)\n",
    "            \n",
    "        except Exception as e:\n",
    "            print(f\"Error in wavelet transform for channel {ch_idx}: {e}\")\n",
    "            # Add zeros for failed channel\n",
    "            all_channel_features.append([0.0] * (5 * (levels + 1)))\n",
    "    \n",
    "    # Aggregate across channels\n",
    "    all_channel_features = np.array(all_channel_features)\n",
    "    \n",
    "    # Store aggregated features\n",
    "    feature_names = ['energy', 'entropy', 'mean', 'std', 'max']\n",
    "    for level in range(levels + 1):\n",
    "        for feat_idx, feat_name in enumerate(feature_names):\n",
    "            feat_values = all_channel_features[:, level * 5 + feat_idx]\n",
    "            features[f'{prefix}_wt_level{level}_{feat_name}_mean'] = round(float(np.mean(feat_values)), 12)\n",
    "            features[f'{prefix}_wt_level{level}_{feat_name}_std'] = round(float(np.std(feat_values)), 12)\n",
    "    \n",
    "    # Calculate wavelet packet energy distribution\n",
    "    try:\n",
    "        # Use first channel for packet decomposition (computationally expensive for all)\n",
    "        wp = pywt.WaveletPacket(data[0, :], wavelet, maxlevel=3)\n",
    "        packet_energies = []\n",
    "        for node in wp.get_level(3):\n",
    "            packet_energies.append(np.sum(node.data ** 2))\n",
    "        \n",
    "        if packet_energies:\n",
    "            total_energy = sum(packet_energies)\n",
    "            if total_energy > 0:\n",
    "                normalized_energies = np.array([e/total_energy for e in packet_energies])\n",
    "                features[f'{prefix}_wt_packet_entropy'] = float(stats.entropy(normalized_energies + 1e-8))\n",
    "            else:\n",
    "                features[f'{prefix}_wt_packet_entropy'] = 0.0\n",
    "        else:\n",
    "            features[f'{prefix}_wt_packet_entropy'] = 0.0\n",
    "            \n",
    "    except Exception as e:\n",
    "        print(f\"Error in wavelet packet decomposition: {e}\")\n",
    "    \n",
    "    return features"
   ]
  },
  {
   "cell_type": "markdown",
   "id": "bdc3c8c7",
   "metadata": {},
   "source": [
    "### Time Domain"
   ]
  },
  {
   "cell_type": "code",
   "execution_count": 42,
   "id": "fc39684b",
   "metadata": {
    "execution": {
     "execution_failed": "2025-09-08T21:57:32.020Z"
    },
    "trusted": true
   },
   "outputs": [],
   "source": [
    "def calculate_time_domain_features(data, sfreq, prefix=\"seizure\"):\n",
    "    features = {}\n",
    "    n_channels, n_samples = data.shape\n",
    "    \n",
    "    try:\n",
    "        # Statistical features for each channel\n",
    "        channel_features = {\n",
    "            'mean': np.mean(data, axis=1),\n",
    "            'std': np.std(data, axis=1),\n",
    "            'var': np.var(data, axis=1),\n",
    "            'skewness': stats.skew(data, axis=1),\n",
    "            'kurtosis': stats.kurtosis(data, axis=1),\n",
    "            'rms': np.sqrt(np.mean(data ** 2, axis=1)),\n",
    "            'peak_to_peak': np.ptp(data, axis=1),\n",
    "            'zero_crossings': np.sum(np.diff(np.sign(data), axis=1) != 0, axis=1) / (n_samples / sfreq),  # Rate per second\n",
    "        }\n",
    "        \n",
    "        # Hjorth parameters\n",
    "        # Activity (variance of signal)\n",
    "        activity = (np.var(data, axis=1) * 1e+8)\n",
    "        \n",
    "        # Mobility (standard deviation of first derivative / standard deviation of signal)\n",
    "        first_deriv = np.diff(data, axis=1)\n",
    "        mobility = np.std(first_deriv, axis=1) / (np.std(data, axis=1) + 1e-8)\n",
    "        \n",
    "        # Complexity (mobility of first derivative / mobility of signal)\n",
    "        second_deriv = np.diff(first_deriv, axis=1)\n",
    "        mobility_deriv = np.std(second_deriv, axis=1) / (np.std(first_deriv, axis=1) + 1e-8)\n",
    "        complexity = mobility_deriv / (mobility + 1e-8)\n",
    "        \n",
    "        channel_features['hjorth_activity'] = activity\n",
    "        channel_features['hjorth_mobility'] = mobility\n",
    "        channel_features['hjorth_complexity'] = complexity\n",
    "        \n",
    "        # Line length (sum of absolute differences)\n",
    "        line_length = np.sum(np.abs(np.diff(data, axis=1)), axis=1) / n_samples\n",
    "        channel_features['line_length'] = line_length\n",
    "        \n",
    "        # Non-linear energy\n",
    "        nonlinear_energy = []\n",
    "        for ch in range(n_channels):\n",
    "            if n_samples >= 3:\n",
    "                nle = np.mean(data[ch, 1:-1]**2 - data[ch, :-2] * data[ch, 2:])\n",
    "                nonlinear_energy.append(nle)\n",
    "            else:\n",
    "                nonlinear_energy.append(0.0)\n",
    "        channel_features['nonlinear_energy'] = np.array(nonlinear_energy)\n",
    "        \n",
    "        # Aggregate features across channels\n",
    "        for feat_name, feat_values in channel_features.items():\n",
    "            features[f'{prefix}_time_{feat_name}_mean'] = round(float(np.mean(feat_values)), 12)\n",
    "            features[f'{prefix}_time_{feat_name}_std'] = round(float(np.std(feat_values)), 12)\n",
    "            features[f'{prefix}_time_{feat_name}_max'] = round(float(np.max(feat_values)), 12)\n",
    "            features[f'{prefix}_time_{feat_name}_min'] = round(float(np.min(feat_values)), 12)\n",
    "        \n",
    "    except Exception as e:\n",
    "        print(f\"Error in time-domain feature calculation: {e}\")\n",
    "    \n",
    "    return features"
   ]
  },
  {
   "cell_type": "markdown",
   "id": "ce9f5dd3",
   "metadata": {},
   "source": [
    "### Connectivity"
   ]
  },
  {
   "cell_type": "code",
   "execution_count": 43,
   "id": "1c8dca95",
   "metadata": {
    "execution": {
     "execution_failed": "2025-09-08T21:57:32.020Z"
    },
    "trusted": true
   },
   "outputs": [],
   "source": [
    "def calculate_connectivity_features(raw, fmin=0.4, fmax=50, prefix=\"seizure\"):\n",
    "    features = {}\n",
    "    \n",
    "    try:\n",
    "        data = raw.get_data()\n",
    "        n_channels, n_samples = data.shape\n",
    "        sfreq = raw.info['sfreq']\n",
    "        \n",
    "        # Only calculate if we have multiple channels\n",
    "        if n_channels < 2:\n",
    "            raise ValueError(\"Need at least 2 channels for connectivity\")\n",
    "        \n",
    "        # Reshape data for connectivity calculation (n_epochs, n_channels, n_times)\n",
    "        # Create pseudo-epochs by segmenting the data\n",
    "        epoch_length = int(2 * sfreq)  # 2-second epochs\n",
    "        n_epochs = n_samples // epoch_length\n",
    "        \n",
    "        if n_epochs > 0:\n",
    "            epochs_data = []\n",
    "            for i in range(n_epochs):\n",
    "                start = i * epoch_length\n",
    "                end = start + epoch_length\n",
    "                epochs_data.append(data[:, start:end])\n",
    "            epochs_data = np.array(epochs_data)\n",
    "            \n",
    "            # Calculate spectral connectivity\n",
    "            # Using coherence as the connectivity measure\n",
    "            con = spectral_connectivity_epochs(\n",
    "                epochs_data, method='coh', mode='multitaper',\n",
    "                sfreq=sfreq, fmin=fmin, fmax=fmax,\n",
    "                verbose=False\n",
    "            )\n",
    "            \n",
    "            # Get connectivity matrix (n_channels x n_channels x n_freqs)\n",
    "            con_matrix = con.get_data(output='dense')\n",
    "            \n",
    "            # Average across frequencies\n",
    "            mean_connectivity = np.mean(con_matrix, axis=2)\n",
    "            print(\"Mean connectivity shape:\", mean_connectivity.shape)\n",
    "            print(\"Number of epochs: \", n_epochs)\n",
    "            \n",
    "            # Extract upper triangle (excluding diagonal)\n",
    "            upper_tri = np.triu_indices_from(mean_connectivity, k=1)\n",
    "            connectivity_values = mean_connectivity[upper_tri]\n",
    "            \n",
    "            # Store connectivity statistics\n",
    "            features[f'{prefix}_connectivity_mean'] = np.mean(connectivity_values)\n",
    "            features[f'{prefix}_connectivity_std'] = np.std(connectivity_values)\n",
    "            features[f'{prefix}_connectivity_max'] = np.max(connectivity_values)\n",
    "            features[f'{prefix}_connectivity_min'] = np.min(connectivity_values)\n",
    "            \n",
    "            # Global efficiency (mean of connectivity)\n",
    "            features[f'{prefix}_global_efficiency'] = np.mean(connectivity_values)\n",
    "            \n",
    "            # Node strength (sum of connections for each node)\n",
    "            node_strengths = np.sum(mean_connectivity, axis=0) - 1  # Subtract diagonal\n",
    "            features[f'{prefix}_node_strength_mean'] = float(np.mean(node_strengths))\n",
    "            features[f'{prefix}_node_strength_std'] = float(np.std(node_strengths))\n",
    "            features[f'{prefix}_node_strength_max'] = float(np.max(node_strengths))\n",
    "            \n",
    "            # Clustering coefficient (simplified version)\n",
    "            clustering_coeffs = []\n",
    "            for i in range(n_channels):\n",
    "                neighbors = mean_connectivity[i, :] > 0.01  # Threshold for connection\n",
    "                n_neighbors = np.sum(neighbors) - 1  # Exclude self\n",
    "                if n_neighbors > 1:\n",
    "                    # Count connections between neighbors\n",
    "                    neighbor_indices = np.where(neighbors)[0]\n",
    "                    neighbor_connections = 0\n",
    "                    for j in range(len(neighbor_indices)):\n",
    "                        for k in range(j+1, len(neighbor_indices)):\n",
    "                            if mean_connectivity[neighbor_indices[j], neighbor_indices[k]] > 0.3:\n",
    "                                neighbor_connections += 1\n",
    "                    max_connections = n_neighbors * (n_neighbors - 1) / 2\n",
    "                    if max_connections > 0:\n",
    "                        clustering = neighbor_connections / max_connections\n",
    "                        clustering_coeffs.append(clustering)\n",
    "            \n",
    "            features[f'{prefix}_clustering_coefficient'] = float(np.mean(clustering_coeffs))\n",
    "  \n",
    "        else:\n",
    "            raise ValueError(\"Not enough data for connectivity analysis\")\n",
    "            \n",
    "    except Exception as e:\n",
    "        print(f\"Error in connectivity calculation: {e}\")\n",
    "    \n",
    "    return features"
   ]
  },
  {
   "cell_type": "markdown",
   "id": "14f5c200",
   "metadata": {},
   "source": [
    "### PAC"
   ]
  },
  {
   "cell_type": "code",
   "execution_count": 44,
   "id": "0491ad9f",
   "metadata": {
    "execution": {
     "execution_failed": "2025-09-08T21:57:32.020Z"
    },
    "trusted": true
   },
   "outputs": [],
   "source": [
    "def calculate_pac_features(data, sfreq, prefix=\"seizure\"):\n",
    "    features = {}\n",
    "    \n",
    "    try:\n",
    "        n_channels = data.shape[0]\n",
    "        \n",
    "        # Define phase and amplitude frequency bands\n",
    "        phase_bands = {\n",
    "            'theta': (4, 7),\n",
    "            'alpha': (7, 12)\n",
    "        }\n",
    "        \n",
    "        amplitude_bands = {\n",
    "            'gamma': (30, 50),\n",
    "            'high_gamma': (50, 100)\n",
    "        }\n",
    "        \n",
    "        pac_values = []\n",
    "        \n",
    "        for phase_name, (phase_low, phase_high) in phase_bands.items():\n",
    "            for amp_name, (amp_low, amp_high) in amplitude_bands.items():\n",
    "                \n",
    "                channel_pac = []\n",
    "                for ch in range(min(n_channels, 10)):  # Limit to first 10 channels for speed\n",
    "                    # Extract phase\n",
    "                    phase_filtered = mne.filter.filter_data(\n",
    "                        data[ch:ch+1, :], sfreq, \n",
    "                        l_freq=phase_low, h_freq=phase_high,\n",
    "                        verbose=False\n",
    "                    )\n",
    "                    phase = np.angle(signal.hilbert(phase_filtered[0]))\n",
    "                    \n",
    "                    # Extract amplitude\n",
    "                    amp_filtered = mne.filter.filter_data(\n",
    "                        data[ch:ch+1, :], sfreq,\n",
    "                        l_freq=amp_low, h_freq=amp_high,\n",
    "                        verbose=False\n",
    "                    )\n",
    "                    amplitude = np.abs(signal.hilbert(amp_filtered[0]))\n",
    "                    \n",
    "                    # Calculate PAC using Modulation Index\n",
    "                    n_bins = 18\n",
    "                    phase_bins = np.linspace(-np.pi, np.pi, n_bins + 1)\n",
    "                    amp_by_phase = []\n",
    "                    \n",
    "                    for i in range(n_bins):\n",
    "                        mask = (phase >= phase_bins[i]) & (phase < phase_bins[i+1])\n",
    "                        if np.sum(mask) > 0:\n",
    "                            amp_by_phase.append(np.mean(amplitude[mask]))\n",
    "                        else:\n",
    "                            amp_by_phase.append(0)\n",
    "                    \n",
    "                    # Normalize and calculate entropy\n",
    "                    amp_by_phase = np.array(amp_by_phase)\n",
    "                    if np.sum(amp_by_phase) > 0:\n",
    "                        amp_by_phase = amp_by_phase / np.sum(amp_by_phase)\n",
    "                        # Kullback-Leibler divergence from uniform distribution\n",
    "                        uniform = np.ones(n_bins) / n_bins\n",
    "                        kl_div = np.sum(amp_by_phase * np.log((amp_by_phase + 1e-10) / uniform))\n",
    "                        mi = kl_div / np.log(n_bins)  # Normalized MI\n",
    "                        channel_pac.append(mi)\n",
    "                    else:\n",
    "                        channel_pac.append(0.0)\n",
    "                \n",
    "                if channel_pac:\n",
    "                    pac_value = np.mean(channel_pac)\n",
    "                    features[f'{prefix}_pac_{phase_name}_{amp_name}'] = float(pac_value)\n",
    "                    pac_values.append(pac_value)\n",
    "                else:\n",
    "                    features[f'{prefix}_pac_{phase_name}_{amp_name}'] = 0.0\n",
    "        \n",
    "        # Overall PAC statistics\n",
    "        features[f'{prefix}_pac_mean'] = float(np.mean(pac_values))\n",
    "        features[f'{prefix}_pac_max'] = float(np.max(pac_values))\n",
    "            \n",
    "    except Exception as e:\n",
    "        print(f\"Error in PAC calculation: {e}\")\n",
    "    \n",
    "    return features"
   ]
  },
  {
   "cell_type": "markdown",
   "id": "c63c95e6",
   "metadata": {},
   "source": [
    "### Sample, Permutation, and Approximate Entropy"
   ]
  },
  {
   "cell_type": "code",
   "execution_count": 45,
   "id": "7ec13c63",
   "metadata": {
    "execution": {
     "execution_failed": "2025-09-08T21:57:32.020Z"
    },
    "trusted": true
   },
   "outputs": [],
   "source": [
    "def calculate_entropy_features(data, sfreq, prefix=\"seizures\"):\n",
    "    features = {}\n",
    "    \n",
    "    try:\n",
    "        n_channels = data.shape[0]\n",
    "        \n",
    "        # Sample Entropy\n",
    "        sample_entropies = []\n",
    "        for ch in range(min(n_channels, 10)): \n",
    "            # Downsample for faster computation\n",
    "            downsampled = signal.resample(data[ch, :], min(1000, len(data[ch, :])))\n",
    "            # Simple sample entropy approximation\n",
    "            se = calculate_sample_entropy(downsampled, m=2, r=0.2*np.std(downsampled))\n",
    "            sample_entropies.append(se)\n",
    "        \n",
    "        features[f'{prefix}_sample_entropy_mean'] = float(np.mean(sample_entropies))\n",
    "        features[f'{prefix}_sample_entropy_std'] = float(np.std(sample_entropies))\n",
    "        \n",
    "        # Permutation Entropy\n",
    "        perm_entropies = []\n",
    "        for ch in range(min(n_channels, 10)):\n",
    "            pe = calculate_permutation_entropy(data[ch, :], order=3, delay=1)\n",
    "            perm_entropies.append(pe)\n",
    "        \n",
    "        features[f'{prefix}_permutation_entropy_mean'] = float(np.mean(perm_entropies))\n",
    "        features[f'{prefix}_permutation_entropy_std'] = float(np.std(perm_entropies))\n",
    "        \n",
    "        # Approximate Entropy (simplified)\n",
    "        approx_entropies = []\n",
    "        for ch in range(min(n_channels, 10)):\n",
    "            downsampled = signal.resample(data[ch, :], min(1000, len(data[ch, :])))\n",
    "            ae = calculate_approx_entropy(downsampled, m=2, r=0.2*np.std(downsampled))\n",
    "            approx_entropies.append(ae)\n",
    "        \n",
    "        features[f'{prefix}_approx_entropy_mean'] = float(np.mean(approx_entropies))\n",
    "        features[f'{prefix}_approx_entropy_std'] = float(np.std(approx_entropies))\n",
    "        \n",
    "    except Exception as e:\n",
    "        print(f\"Error in entropy calculation: {e}\")\n",
    "    \n",
    "    return features\n",
    "\n",
    "def calculate_sample_entropy(signal_data, m=2, r=0.2):\n",
    "    \"\"\"Calculate sample entropy\"\"\"\n",
    "    N = len(signal_data)\n",
    "    \n",
    "    def _maxdist(x_i, x_j, m):\n",
    "        return max([abs(ua - va) for ua, va in zip(x_i, x_j)])\n",
    "    \n",
    "    def _phi(m):\n",
    "        patterns = np.array([signal_data[i:i+m] for i in range(N - m + 1)])\n",
    "        C = 0\n",
    "        for i in range(len(patterns)):\n",
    "            for j in range(i+1, len(patterns)):\n",
    "                if _maxdist(patterns[i], patterns[j], m) <= r:\n",
    "                    C += 1\n",
    "        return C\n",
    "    \n",
    "    try:\n",
    "        phi_m = _phi(m)\n",
    "        phi_m1 = _phi(m + 1)\n",
    "        \n",
    "        if phi_m == 0:\n",
    "            return 0\n",
    "        return -np.log(phi_m1 / phi_m) if phi_m1 > 0 else 0\n",
    "    except:\n",
    "        return 0\n",
    "\n",
    "def calculate_permutation_entropy(signal_data, order=3, delay=1):\n",
    "    \"\"\"Calculate permutation entropy\"\"\"\n",
    "    try:\n",
    "        n = len(signal_data)\n",
    "        permutations = []\n",
    "        \n",
    "        for i in range(n - delay * (order - 1)):\n",
    "            indices = [i + j * delay for j in range(order)]\n",
    "            sorted_indices = np.argsort(signal_data[indices])\n",
    "            permutations.append(tuple(sorted_indices))\n",
    "        \n",
    "        # Count occurrences\n",
    "        unique, counts = np.unique(permutations, axis=0, return_counts=True)\n",
    "        probs = counts / len(permutations)\n",
    "        \n",
    "        # Calculate entropy\n",
    "        return -np.sum(probs * np.log(probs + 1e-8))\n",
    "    except:\n",
    "        return 0\n",
    "\n",
    "def calculate_approx_entropy(signal_data, m=2, r=0.2):\n",
    "    \"\"\"Calculate approximate entropy\"\"\"\n",
    "    try:\n",
    "        N = len(signal_data)\n",
    "        \n",
    "        def _maxdist(x_i, x_j, m):\n",
    "            return max([abs(ua - va) for ua, va in zip(x_i, x_j)])\n",
    "        \n",
    "        def _phi(m):\n",
    "            patterns = np.array([signal_data[i:i+m] for i in range(N - m + 1)])\n",
    "            C = np.zeros(N - m + 1)\n",
    "            \n",
    "            for i in range(N - m + 1):\n",
    "                matches = 0\n",
    "                for j in range(N - m + 1):\n",
    "                    if _maxdist(patterns[i], patterns[j], m) <= r:\n",
    "                        matches += 1\n",
    "                C[i] = matches / (N - m + 1)\n",
    "            \n",
    "            return np.mean(np.log(C + 1e-8))\n",
    "        \n",
    "        return _phi(m) - _phi(m + 1)\n",
    "    except:\n",
    "        return 0"
   ]
  },
  {
   "cell_type": "markdown",
   "id": "8a4b881b",
   "metadata": {},
   "source": [
    "### Rhythmic Features"
   ]
  },
  {
   "cell_type": "code",
   "execution_count": 46,
   "id": "49105267",
   "metadata": {
    "execution": {
     "execution_failed": "2025-09-08T21:57:32.020Z"
    },
    "trusted": true
   },
   "outputs": [],
   "source": [
    "def calculate_rhythmic_features(data, sfreq, prefix=\"seizure\"):\n",
    "    \"\"\"Extract rhythmic features for seizure patterns\"\"\"\n",
    "    features = {}\n",
    "    \n",
    "    def bandpass_filter(channel_data, lowcut, highcut, fs):\n",
    "        \"\"\"Apply bandpass filter\"\"\"\n",
    "        nyquist = fs / 2\n",
    "        low = lowcut / nyquist\n",
    "        high = highcut / nyquist\n",
    "        b, a = butter(4, [low, high], btype='band')\n",
    "        return filtfilt(b, a, channel_data)\n",
    "    \n",
    "    n_channels = data.shape[0]\n",
    "    \n",
    "    # Initialize arrays for each feature\n",
    "    theta_powers = []\n",
    "    delta_slow_powers = []\n",
    "    fast_powers = []\n",
    "    spike_rates = []\n",
    "    \n",
    "    for channel_idx in range(n_channels):\n",
    "        channel = data[channel_idx, :]\n",
    "        \n",
    "        # Theta rhythm (5-7 Hz)\n",
    "        theta_filtered = bandpass_filter(channel, 5, 7, sfreq)\n",
    "        theta_power = np.mean(theta_filtered**2)\n",
    "        theta_powers.append(theta_power)\n",
    "        \n",
    "        # Delta slow rhythm (2-5 Hz)\n",
    "        delta_slow_filtered = bandpass_filter(channel, 2, 5, sfreq)\n",
    "        delta_slow_power = np.mean(delta_slow_filtered**2)\n",
    "        delta_slow_powers.append(delta_slow_power)\n",
    "        \n",
    "        # Fast activity (15-25 Hz)\n",
    "        fast_filtered = bandpass_filter(channel, 15, 25, sfreq)\n",
    "        fast_power = np.mean(fast_filtered**2)\n",
    "        fast_powers.append(fast_power)\n",
    "        \n",
    "        # Spike detection\n",
    "        threshold = 3 * np.std(channel)\n",
    "        spikes = np.where(np.abs(channel) > threshold)[0]\n",
    "        spike_rate = len(spikes) / (len(channel) / sfreq)\n",
    "        spike_rates.append(spike_rate)\n",
    "    \n",
    "    print('Storing features...')\n",
    "    # Store features\n",
    "    features[f'{prefix}_rhythmic_theta_power_mean'] = float(np.mean(theta_powers) * 1e+8)\n",
    "    features[f'{prefix}_rhythmic_theta_power_std'] = float(np.std(theta_powers) * 1e+8)\n",
    "    features[f'{prefix}_rhythmic_delta_slow_power_mean'] = float(np.mean(delta_slow_powers) * 1e+8)\n",
    "    features[f'{prefix}_rhythmic_delta_slow_power_std'] = float(np.std(delta_slow_powers) * 1e+8)\n",
    "    features[f'{prefix}_rhythmic_fast_power_mean'] = float(np.mean(fast_powers) * 1e+8)\n",
    "    features[f'{prefix}_rhythmic_fast_power_std'] = float(np.std(fast_powers) * 1e+8)\n",
    "    features[f'{prefix}_rhythmic_spike_rate_mean'] = float(np.mean(spike_rates))\n",
    "    features[f'{prefix}_rhythmic_spike_rate_std'] = float(np.std(spike_rates))\n",
    "    \n",
    "    # Ratios\n",
    "    features[f'{prefix}_rhythmic_theta_delta_ratio'] = float(np.mean(theta_powers) / (np.mean(delta_slow_powers) + 1e-8))\n",
    "    features[f'{prefix}_rhythmic_fast_theta_ratio'] = float(np.mean(fast_powers) / (np.mean(theta_powers) + 1e-8))\n",
    "    \n",
    "    return features"
   ]
  },
  {
   "cell_type": "markdown",
   "id": "b0097497",
   "metadata": {},
   "source": [
    "## Process Single EDF File Function"
   ]
  },
  {
   "cell_type": "code",
   "execution_count": 47,
   "id": "6c6a972b",
   "metadata": {
    "execution": {
     "execution_failed": "2025-09-08T21:57:32.020Z"
    },
    "trusted": true
   },
   "outputs": [],
   "source": [
    "def process_single_edf(\n",
    "                    edf_path, \n",
    "                    seizure_info, \n",
    "                    registration_start,\n",
    "                    registration_end,\n",
    "                    seizure_start,\n",
    "                    seizure_end,\n",
    "                    seizure_start_seconds,\n",
    "                    seizure_end_seconds,\n",
    "                    onset_sec,\n",
    "                    postictal_onset_sec,\n",
    "                    registration_end_seconds,\n",
    "                    postictal_end_sec):\n",
    "    \n",
    "    features = {}\n",
    "    \n",
    "    try:\n",
    "        # Load EDF file\n",
    "        print('Loading edf file...')\n",
    "        raw = mne.io.read_raw_edf(str(edf_path), preload=True, verbose=False)\n",
    "        \n",
    "        # Basic file info\n",
    "        features['file_path'] = str(edf_path)\n",
    "        features['num_channels'] = len(raw.ch_names)\n",
    "        features['sampling_rate'] = raw.info['sfreq']\n",
    "        features['duration_seconds'] = raw.n_times / raw.info['sfreq']\n",
    "\n",
    "        # Add seizure timing info\n",
    "        features['seizure_start_seconds'] = seizure_start_seconds\n",
    "        features['seizure_end_seconds'] = seizure_end_seconds\n",
    "        \n",
    "        # channels available\n",
    "        available_channels = raw.ch_names\n",
    "        print(f'Channels available: {available_channels}')\n",
    "        \n",
    "        # Apply bandpass filter\n",
    "        raw.filter(0.4, 50, fir_design='firwin', verbose=False)\n",
    "\n",
    "        # Get data\n",
    "        sfreq = raw.info['sfreq']\n",
    "        \n",
    "        # Create raw seizure section\n",
    "        seizure_raw = raw.copy().crop(tmin=onset_sec, tmax=postictal_onset_sec)\n",
    "        seizure_data = seizure_raw.get_data()\n",
    "\n",
    "        # Feature extraction functions\n",
    "        de_features = calculate_differential_entropy(seizure_data, sfreq)\n",
    "        features.update(de_features)\n",
    "\n",
    "        entropy_features = calculate_entropy_features(seizure_data, sfreq)\n",
    "        features.update(entropy_features)\n",
    "        \n",
    "        psd_features = extract_psd_features(seizure_raw)\n",
    "        features.update(psd_features)\n",
    "        \n",
    "        psd_regional_features = extract_psd_features_by_region(seizure_raw)\n",
    "        features.update(psd_regional_features)\n",
    "        \n",
    "        wt_features = calculate_wavelet_features(seizure_data, sfreq)\n",
    "        features.update(wt_features)\n",
    "        \n",
    "        time_features = calculate_time_domain_features(seizure_data, sfreq)\n",
    "        features.update(time_features)\n",
    "        \n",
    "        connectivity_features = calculate_connectivity_features(seizure_raw)\n",
    "        features.update(connectivity_features)\n",
    "        \n",
    "        pac_features = calculate_pac_features(seizure_data, sfreq)\n",
    "        features.update(pac_features)\n",
    "    \n",
    "        rhythmic_features = calculate_rhythmic_features(seizure_data, sfreq)\n",
    "        features.update(rhythmic_features)\n",
    "\n",
    "        # Propagation features\n",
    "        propagation_features = calculate_simple_propagation_features(seizure_raw, onset_sec, postictal_onset_sec)\n",
    "        features.update(propagation_features) \n",
    "\n",
    "        # Create raw seizure section\n",
    "        post_ictal_raw = raw.copy().crop(tmin=postictal_onset_sec, tmax=postictal_end_sec)\n",
    "        post_ictal_data = post_ictal_raw.get_data()\n",
    "\n",
    "        post_ictal_psd_features = extract_psd_features(post_ictal_raw, prefix=\"post_ictal\")\n",
    "        features.update(post_ictal_psd_features)\n",
    "        \n",
    "        post_ictal_psd_regional_features = extract_psd_features_by_region(post_ictal_raw, prefix=\"post_ictal\")\n",
    "        features.update(post_ictal_psd_regional_features)\n",
    "        \n",
    "        post_ictal_wt_features = calculate_wavelet_features(post_ictal_data, sfreq, prefix=\"post_ictal\")\n",
    "        features.update(post_ictal_wt_features)\n",
    "        \n",
    "        # Extract comprehensive features\n",
    "        #comprehensive_features = extract_comprehensive_features(raw, seizure_start, seizure_end)\n",
    "        #features.update(comprehensive_features)\n",
    "        \n",
    "        features['processing_success'] = True\n",
    "        features['error_message'] = ''\n",
    "        \n",
    "    except Exception as e:\n",
    "        print(f\"Error processing {edf_path}: {e}\")\n",
    "        features['processing_success'] = False\n",
    "        features['error_message'] = str(e)\n",
    "    \n",
    "    return features"
   ]
  },
  {
   "cell_type": "markdown",
   "id": "5645b995",
   "metadata": {},
   "source": [
    "## Build Comprehensive Dataset"
   ]
  },
  {
   "cell_type": "code",
   "execution_count": 48,
   "id": "c14cc12e",
   "metadata": {
    "execution": {
     "execution_failed": "2025-09-08T21:57:32.020Z"
    },
    "trusted": true
   },
   "outputs": [],
   "source": [
    "def build_comprehensive_dataset(seizures_df, patients_df, non_seizures_df, \n",
    "                              data_root_paths=['data/siena_scalp', 'data/chb-mit']):\n",
    "    all_records = []\n",
    "    \n",
    "    # Convert Polars to pandas for iteration (if needed)\n",
    "    if isinstance(seizures_df, pl.DataFrame):\n",
    "        seizures_pd = seizures_df.to_pandas()\n",
    "        patients_pd = patients_df.to_pandas()\n",
    "        non_seizures_pd = non_seizures_df.to_pandas()\n",
    "    else:\n",
    "        seizures_pd = seizures_df\n",
    "        patients_pd = patients_df\n",
    "        non_seizures_pd = non_seizures_df\n",
    "    \n",
    "    print(f\"Processing {len(seizures_pd)} seizure records...\")\n",
    "    print(\"=\"*60)\n",
    "    \n",
    "    # options for testing\n",
    "    # for idx, seizure_row in tqdm(seizures_pd.iloc[:5].iterrows(), total=5):\n",
    "    # for idx, seizure_row in tqdm(seizures_pd.iterrows(), total=len(seizures_pd)): \n",
    "    \n",
    "    for idx, seizure_row in tqdm(seizures_pd.iterrows(), total=len(seizures_pd)): \n",
    "        record = {}\n",
    "        \n",
    "        # Add all seizure metadata\n",
    "        for col in seizure_row.index:\n",
    "            record[f'{col}'] = seizure_row[col]\n",
    "        \n",
    "        # Find corresponding patient and seizure info\n",
    "        patient_id = seizure_row['patient_id']\n",
    "        patient_info = patients_pd[patients_pd['patient_id'] == patient_id]\n",
    "        registration_start = seizure_row['registration_start_time']\n",
    "        registration_end = seizure_row['registration_end_time']\n",
    "        seizure_start = seizure_row['seizure_start_time']\n",
    "        seizure_end = seizure_row['seizure_end_time']\n",
    "\n",
    "        # Calculate registration and seizure total seconds\n",
    "        registration_start_seconds = registration_start.hour * 3600 + registration_start.minute * 60 + registration_start.second\n",
    "        registration_end_seconds = registration_end.hour * 3600 + registration_end.minute * 60 + registration_end.second\n",
    "        seizure_start_seconds = seizure_start.hour * 3600 + seizure_start.minute * 60 + seizure_start.second\n",
    "        seizure_end_seconds = seizure_end.hour * 3600 + seizure_end.minute * 60 + seizure_end.second\n",
    "        seizure_duration = (seizure_end_seconds - seizure_start_seconds)\n",
    "        edf_file_duration = (registration_end_seconds - registration_start_seconds)\n",
    "\n",
    "        if seizure_start_seconds < registration_start_seconds:\n",
    "            reg_adjusted = (86400 - registration_start_seconds)\n",
    "            onset_sec = (seizure_start_seconds + reg_adjusted)\n",
    "            postictal_onset_sec = (seizure_end_seconds + reg_adjusted)\n",
    "        else:\n",
    "            onset_sec = (seizure_start_seconds - registration_start_seconds)\n",
    "            postictal_onset_sec = (seizure_end_seconds - registration_start_seconds)\n",
    "\n",
    "        postictal_end_sec = (edf_file_duration - 1)\n",
    "\n",
    "        # Find EDF file\n",
    "        file_name = seizure_row['file_name']\n",
    "        edf_path = None\n",
    "        \n",
    "        print(f'Patient id: {patient_id}')\n",
    "        print(f'Edf file: {file_name}')\n",
    "        print(f'Registration start: {registration_start}')\n",
    "        print(f'Registration end: {registration_end}')\n",
    "        print(f'Registration start seconds: {registration_start_seconds}')\n",
    "        print(f'Registration end seconds: {registration_end_seconds}')\n",
    "        print(f'EDF file duration: {edf_file_duration}')\n",
    "        print(f'Seizure start: {seizure_start}')\n",
    "        print(f'Seizure end: {seizure_end}')\n",
    "        print(f'Seizure start seconds: {seizure_start_seconds}')\n",
    "        print(f'Seizure end seconds: {seizure_end_seconds}')\n",
    "        print(f'Seizure duration: {seizure_duration}')\n",
    "        print(f'Seizure onset seconds: {onset_sec}')\n",
    "        print(f'Post-ictal onset seconds: {postictal_onset_sec}')\n",
    "        \n",
    "        if not patient_info.empty:\n",
    "            for col in patient_info.columns:\n",
    "                if col != 'patient_id':  # Avoid duplication\n",
    "                    record[f'{col}'] = patient_info.iloc[0][col]\n",
    "        \n",
    "        for root_path in data_root_paths:\n",
    "            possible_paths = [\n",
    "                os.path.join(root_path, patient_id, file_name),\n",
    "                os.path.join(root_path, patient_id.lower(), file_name),\n",
    "                os.path.join(root_path, patient_id.upper(), file_name),\n",
    "            ]\n",
    "            \n",
    "            for path in possible_paths:\n",
    "                if os.path.exists(path):\n",
    "                    edf_path = path\n",
    "                    break\n",
    "            \n",
    "            if edf_path:\n",
    "                break\n",
    "        \n",
    "        if edf_path:\n",
    "            # Process EDF and extract features - pass the entire row as dict\n",
    "            edf_features = process_single_edf(\n",
    "                                    edf_path, \n",
    "                                    seizure_row.to_dict(),\n",
    "                                    registration_start,\n",
    "                                    registration_end,\n",
    "                                    seizure_start,\n",
    "                                    seizure_end,\n",
    "                                    seizure_start_seconds,\n",
    "                                    seizure_end_seconds,\n",
    "                                    onset_sec,\n",
    "                                    postictal_onset_sec,\n",
    "                                    registration_end_seconds,\n",
    "                                    postictal_end_sec\n",
    "                                    )\n",
    "            record.update(edf_features)\n",
    "        else:\n",
    "            record['processing_success'] = False\n",
    "            record['error_message'] = 'EDF file not found'\n",
    "        \n",
    "        all_records.append(record)\n",
    "    \n",
    "    # Create comprehensive dataframe using Polars\n",
    "    comprehensive_df = pl.DataFrame(all_records)\n",
    "    \n",
    "    # Print summary\n",
    "    print(\"\\n\" + \"=\"*60)\n",
    "    print(\"PROCESSING COMPLETE\")\n",
    "    print(\"=\"*60)\n",
    "    print(f\"Total records: {len(comprehensive_df)}\")\n",
    "    \n",
    "    if 'processing_success' in comprehensive_df.columns:\n",
    "        success_count = comprehensive_df.filter(pl.col('processing_success')).height\n",
    "        print(f\"Successfully processed: {success_count}\")\n",
    "        print(f\"Failed: {len(comprehensive_df) - success_count}\")\n",
    "    \n",
    "    return comprehensive_df"
   ]
  },
  {
   "cell_type": "markdown",
   "id": "91625555",
   "metadata": {},
   "source": [
    "## Fill in Missing Values"
   ]
  },
  {
   "cell_type": "code",
   "execution_count": 49,
   "id": "9472fa9d",
   "metadata": {
    "execution": {
     "execution_failed": "2025-09-08T21:57:32.020Z"
    },
    "trusted": true
   },
   "outputs": [],
   "source": [
    "def fill_missing_values_polars(df):\n",
    "    # Get column types\n",
    "    str_cols = [col for col in df.columns if df[col].dtype == pl.Utf8]\n",
    "    num_cols = [col for col in df.columns if df[col].dtype in [pl.Float32, pl.Float64, pl.Int8, pl.Int16, pl.Int32, pl.Int64]]\n",
    "    \n",
    "    # Fill string columns with \"N/A\"\n",
    "    for col in str_cols:\n",
    "        df = df.with_columns(pl.col(col).fill_null(\"N/A\"))\n",
    "    \n",
    "    # Fill numeric columns with 0\n",
    "    for col in num_cols:\n",
    "        df = df.with_columns(\n",
    "            pl.col(col).fill_null(0).fill_nan(0)\n",
    "        )\n",
    "    \n",
    "    return df"
   ]
  },
  {
   "cell_type": "markdown",
   "id": "0a783dd6",
   "metadata": {},
   "source": [
    "## Main Usage Function"
   ]
  },
  {
   "cell_type": "code",
   "execution_count": 50,
   "id": "5f7ba49f",
   "metadata": {
    "execution": {
     "execution_failed": "2025-09-08T21:57:32.020Z"
    },
    "scrolled": true,
    "trusted": true
   },
   "outputs": [
    {
     "name": "stdout",
     "output_type": "stream",
     "text": [
      "Processing 245 seizure records...\n",
      "============================================================\n"
     ]
    },
    {
     "name": "stderr",
     "output_type": "stream",
     "text": [
      "  0%|          | 0/245 [00:00<?, ?it/s]"
     ]
    },
    {
     "name": "stdout",
     "output_type": "stream",
     "text": [
      "Patient id: chb01\n",
      "Edf file: chb01_03.edf\n",
      "Registration start: 13:43:04\n",
      "Registration end: 14:43:04\n",
      "Registration start seconds: 49384\n",
      "Registration end seconds: 52984\n",
      "EDF file duration: 3600\n",
      "Seizure start: 14:33:00\n",
      "Seizure end: 14:33:40\n",
      "Seizure start seconds: 52380\n",
      "Seizure end seconds: 52420\n",
      "Seizure duration: 40\n",
      "Seizure onset seconds: 2996\n",
      "Post-ictal onset seconds: 3036\n",
      "Loading edf file...\n",
      "Channels available: ['FP1-F7', 'F7-T7', 'T7-P7', 'P7-O1', 'FP1-F3', 'F3-C3', 'C3-P3', 'P3-O1', 'FP2-F4', 'F4-C4', 'C4-P4', 'P4-O2', 'FP2-F8', 'F8-T8', 'T8-P8-0', 'P8-O2', 'FZ-CZ', 'CZ-PZ', 'P7-T7', 'T7-FT9', 'FT9-FT10', 'FT10-T8', 'T8-P8-1']\n",
      "Detected bipolar montage channels\n",
      "Total regional features extracted: 480\n",
      "Mean connectivity shape: (23, 23)\n",
      "Number of epochs:  20\n",
      "Storing features...\n",
      "Detected bipolar montage channels\n"
     ]
    },
    {
     "name": "stderr",
     "output_type": "stream",
     "text": [
      "  0%|          | 1/245 [00:53<3:35:42, 53.04s/it]"
     ]
    },
    {
     "name": "stdout",
     "output_type": "stream",
     "text": [
      "Total regional features extracted: 480\n",
      "Patient id: chb01\n",
      "Edf file: chb01_04.edf\n",
      "Registration start: 14:43:12\n",
      "Registration end: 15:43:12\n",
      "Registration start seconds: 52992\n",
      "Registration end seconds: 56592\n",
      "EDF file duration: 3600\n",
      "Seizure start: 15:07:39\n",
      "Seizure end: 15:08:06\n",
      "Seizure start seconds: 54459\n",
      "Seizure end seconds: 54486\n",
      "Seizure duration: 27\n",
      "Seizure onset seconds: 1467\n",
      "Post-ictal onset seconds: 1494\n",
      "Loading edf file...\n",
      "Channels available: ['FP1-F7', 'F7-T7', 'T7-P7', 'P7-O1', 'FP1-F3', 'F3-C3', 'C3-P3', 'P3-O1', 'FP2-F4', 'F4-C4', 'C4-P4', 'P4-O2', 'FP2-F8', 'F8-T8', 'T8-P8-0', 'P8-O2', 'FZ-CZ', 'CZ-PZ', 'P7-T7', 'T7-FT9', 'FT9-FT10', 'FT10-T8', 'T8-P8-1']\n",
      "Detected bipolar montage channels\n",
      "Total regional features extracted: 480\n",
      "Mean connectivity shape: (23, 23)\n",
      "Number of epochs:  13\n",
      "Storing features...\n",
      "Detected bipolar montage channels\n",
      "Total regional features extracted: 480\n"
     ]
    },
    {
     "name": "stderr",
     "output_type": "stream",
     "text": [
      "  1%|          | 2/245 [02:42<5:48:18, 86.00s/it]"
     ]
    },
    {
     "name": "stdout",
     "output_type": "stream",
     "text": [
      "Patient id: chb01\n",
      "Edf file: chb01_15.edf\n",
      "Registration start: 01:44:44\n",
      "Registration end: 02:44:44\n",
      "Registration start seconds: 6284\n",
      "Registration end seconds: 9884\n",
      "EDF file duration: 3600\n",
      "Seizure start: 02:13:36\n",
      "Seizure end: 02:14:16\n",
      "Seizure start seconds: 8016\n",
      "Seizure end seconds: 8056\n",
      "Seizure duration: 40\n",
      "Seizure onset seconds: 1732\n",
      "Post-ictal onset seconds: 1772\n",
      "Loading edf file...\n",
      "Channels available: ['FP1-F7', 'F7-T7', 'T7-P7', 'P7-O1', 'FP1-F3', 'F3-C3', 'C3-P3', 'P3-O1', 'FP2-F4', 'F4-C4', 'C4-P4', 'P4-O2', 'FP2-F8', 'F8-T8', 'T8-P8-0', 'P8-O2', 'FZ-CZ', 'CZ-PZ', 'P7-T7', 'T7-FT9', 'FT9-FT10', 'FT10-T8', 'T8-P8-1']\n",
      "Detected bipolar montage channels\n",
      "Total regional features extracted: 480\n",
      "Mean connectivity shape: (23, 23)\n",
      "Number of epochs:  20\n",
      "Storing features...\n",
      "Detected bipolar montage channels\n",
      "Total regional features extracted: 480\n"
     ]
    },
    {
     "name": "stderr",
     "output_type": "stream",
     "text": [
      "  1%|          | 3/245 [04:39<6:45:12, 100.46s/it]"
     ]
    },
    {
     "name": "stdout",
     "output_type": "stream",
     "text": [
      "Patient id: chb01\n",
      "Edf file: chb01_16.edf\n",
      "Registration start: 02:44:51\n",
      "Registration end: 03:44:51\n",
      "Registration start seconds: 9891\n",
      "Registration end seconds: 13491\n",
      "EDF file duration: 3600\n",
      "Seizure start: 03:01:46\n",
      "Seizure end: 03:02:37\n",
      "Seizure start seconds: 10906\n",
      "Seizure end seconds: 10957\n",
      "Seizure duration: 51\n",
      "Seizure onset seconds: 1015\n",
      "Post-ictal onset seconds: 1066\n",
      "Loading edf file...\n",
      "Channels available: ['FP1-F7', 'F7-T7', 'T7-P7', 'P7-O1', 'FP1-F3', 'F3-C3', 'C3-P3', 'P3-O1', 'FP2-F4', 'F4-C4', 'C4-P4', 'P4-O2', 'FP2-F8', 'F8-T8', 'T8-P8-0', 'P8-O2', 'FZ-CZ', 'CZ-PZ', 'P7-T7', 'T7-FT9', 'FT9-FT10', 'FT10-T8', 'T8-P8-1']\n",
      "Detected bipolar montage channels\n",
      "Total regional features extracted: 480\n",
      "Mean connectivity shape: (23, 23)\n",
      "Number of epochs:  25\n",
      "Storing features...\n",
      "Detected bipolar montage channels\n",
      "Total regional features extracted: 480\n"
     ]
    },
    {
     "name": "stderr",
     "output_type": "stream",
     "text": [
      "  2%|▏         | 4/245 [08:20<9:53:40, 147.80s/it]"
     ]
    },
    {
     "name": "stdout",
     "output_type": "stream",
     "text": [
      "Patient id: chb01\n",
      "Edf file: chb01_18.edf\n",
      "Registration start: 04:45:06\n",
      "Registration end: 05:45:06\n",
      "Registration start seconds: 17106\n",
      "Registration end seconds: 20706\n",
      "EDF file duration: 3600\n",
      "Seizure start: 05:13:46\n",
      "Seizure end: 05:15:16\n",
      "Seizure start seconds: 18826\n",
      "Seizure end seconds: 18916\n",
      "Seizure duration: 90\n",
      "Seizure onset seconds: 1720\n",
      "Post-ictal onset seconds: 1810\n",
      "Loading edf file...\n",
      "Channels available: ['FP1-F7', 'F7-T7', 'T7-P7', 'P7-O1', 'FP1-F3', 'F3-C3', 'C3-P3', 'P3-O1', 'FP2-F4', 'F4-C4', 'C4-P4', 'P4-O2', 'FP2-F8', 'F8-T8', 'T8-P8-0', 'P8-O2', 'FZ-CZ', 'CZ-PZ', 'P7-T7', 'T7-FT9', 'FT9-FT10', 'FT10-T8', 'T8-P8-1']\n",
      "Detected bipolar montage channels\n",
      "Total regional features extracted: 480\n",
      "Mean connectivity shape: (23, 23)\n",
      "Number of epochs:  45\n",
      "Storing features...\n",
      "Detected bipolar montage channels\n",
      "Total regional features extracted: 480\n"
     ]
    },
    {
     "name": "stderr",
     "output_type": "stream",
     "text": [
      "  2%|▏         | 5/245 [10:03<8:46:51, 131.71s/it]"
     ]
    },
    {
     "name": "stdout",
     "output_type": "stream",
     "text": [
      "Patient id: chb01\n",
      "Edf file: chb01_21.edf\n",
      "Registration start: 07:33:46\n",
      "Registration end: 08:33:46\n",
      "Registration start seconds: 27226\n",
      "Registration end seconds: 30826\n",
      "EDF file duration: 3600\n",
      "Seizure start: 07:39:13\n",
      "Seizure end: 07:40:46\n",
      "Seizure start seconds: 27553\n",
      "Seizure end seconds: 27646\n",
      "Seizure duration: 93\n",
      "Seizure onset seconds: 327\n",
      "Post-ictal onset seconds: 420\n",
      "Loading edf file...\n",
      "Channels available: ['FP1-F7', 'F7-T7', 'T7-P7', 'P7-O1', 'FP1-F3', 'F3-C3', 'C3-P3', 'P3-O1', 'FP2-F4', 'F4-C4', 'C4-P4', 'P4-O2', 'FP2-F8', 'F8-T8', 'T8-P8-0', 'P8-O2', 'FZ-CZ', 'CZ-PZ', 'P7-T7', 'T7-FT9', 'FT9-FT10', 'FT10-T8', 'T8-P8-1']\n",
      "Detected bipolar montage channels\n",
      "Total regional features extracted: 480\n",
      "Mean connectivity shape: (23, 23)\n",
      "Number of epochs:  46\n",
      "Storing features...\n",
      "Detected bipolar montage channels\n",
      "Total regional features extracted: 480\n"
     ]
    },
    {
     "name": "stderr",
     "output_type": "stream",
     "text": [
      "  2%|▏         | 6/245 [13:52<10:56:57, 164.93s/it]"
     ]
    },
    {
     "name": "stdout",
     "output_type": "stream",
     "text": [
      "Patient id: chb01\n",
      "Edf file: chb01_26.edf\n",
      "Registration start: 12:34:22\n",
      "Registration end: 13:13:07\n",
      "Registration start seconds: 45262\n",
      "Registration end seconds: 47587\n",
      "EDF file duration: 2325\n",
      "Seizure start: 13:05:24\n",
      "Seizure end: 13:07:05\n",
      "Seizure start seconds: 47124\n",
      "Seizure end seconds: 47225\n",
      "Seizure duration: 101\n",
      "Seizure onset seconds: 1862\n",
      "Post-ictal onset seconds: 1963\n",
      "Loading edf file...\n",
      "Channels available: ['FP1-F7', 'F7-T7', 'T7-P7', 'P7-O1', 'FP1-F3', 'F3-C3', 'C3-P3', 'P3-O1', 'FP2-F4', 'F4-C4', 'C4-P4', 'P4-O2', 'FP2-F8', 'F8-T8', 'T8-P8-0', 'P8-O2', 'FZ-CZ', 'CZ-PZ', 'P7-T7', 'T7-FT9', 'FT9-FT10', 'FT10-T8', 'T8-P8-1']\n",
      "Detected bipolar montage channels\n",
      "Total regional features extracted: 480\n",
      "Mean connectivity shape: (23, 23)\n",
      "Number of epochs:  50\n",
      "Storing features...\n",
      "Detected bipolar montage channels\n"
     ]
    },
    {
     "name": "stderr",
     "output_type": "stream",
     "text": [
      "  3%|▎         | 7/245 [14:36<8:16:28, 125.16s/it] "
     ]
    },
    {
     "name": "stdout",
     "output_type": "stream",
     "text": [
      "Total regional features extracted: 480\n",
      "Patient id: chb02\n",
      "Edf file: chb02_16.edf\n",
      "Registration start: 09:31:46\n",
      "Registration end: 09:47:45\n",
      "Registration start seconds: 34306\n",
      "Registration end seconds: 35265\n",
      "EDF file duration: 959\n",
      "Seizure start: 09:33:56\n",
      "Seizure end: 09:35:18\n",
      "Seizure start seconds: 34436\n",
      "Seizure end seconds: 34518\n",
      "Seizure duration: 82\n",
      "Seizure onset seconds: 130\n",
      "Post-ictal onset seconds: 212\n",
      "Loading edf file...\n",
      "Channels available: ['FP1-F7', 'F7-T7', 'T7-P7', 'P7-O1', 'FP1-F3', 'F3-C3', 'C3-P3', 'P3-O1', 'FP2-F4', 'F4-C4', 'C4-P4', 'P4-O2', 'FP2-F8', 'F8-T8', 'T8-P8-0', 'P8-O2', 'FZ-CZ', 'CZ-PZ', 'P7-T7', 'T7-FT9', 'FT9-FT10', 'FT10-T8', 'T8-P8-1']\n",
      "Detected bipolar montage channels\n",
      "Total regional features extracted: 480\n",
      "Mean connectivity shape: (23, 23)\n",
      "Number of epochs:  41\n",
      "Storing features...\n",
      "Detected bipolar montage channels\n"
     ]
    },
    {
     "name": "stderr",
     "output_type": "stream",
     "text": [
      "  3%|▎         | 8/245 [15:30<6:45:05, 102.56s/it]"
     ]
    },
    {
     "name": "stdout",
     "output_type": "stream",
     "text": [
      "Total regional features extracted: 480\n",
      "Patient id: chb02\n",
      "Edf file: chb02_16.1.edf\n",
      "Registration start: 10:50:23\n",
      "Registration end: 11:50:23\n",
      "Registration start seconds: 39023\n",
      "Registration end seconds: 42623\n",
      "EDF file duration: 3600\n",
      "Seizure start: 11:39:55\n",
      "Seizure end: 11:41:16\n",
      "Seizure start seconds: 41995\n",
      "Seizure end seconds: 42076\n",
      "Seizure duration: 81\n",
      "Seizure onset seconds: 2972\n",
      "Post-ictal onset seconds: 3053\n",
      "Patient id: chb02\n",
      "Edf file: chb02_19.edf\n",
      "Registration start: 13:50:45\n",
      "Registration end: 14:50:45\n",
      "Registration start seconds: 49845\n",
      "Registration end seconds: 53445\n",
      "EDF file duration: 3600\n",
      "Seizure start: 14:46:54\n",
      "Seizure end: 14:47:03\n",
      "Seizure start seconds: 53214\n",
      "Seizure end seconds: 53223\n",
      "Seizure duration: 9\n",
      "Seizure onset seconds: 3369\n",
      "Post-ictal onset seconds: 3378\n",
      "Loading edf file...\n",
      "Channels available: ['FP1-F7', 'F7-T7', 'T7-P7', 'P7-O1', 'FP1-F3', 'F3-C3', 'C3-P3', 'P3-O1', 'FP2-F4', 'F4-C4', 'C4-P4', 'P4-O2', 'FP2-F8', 'F8-T8', 'T8-P8-0', 'P8-O2', 'FZ-CZ', 'CZ-PZ', 'P7-T7', 'T7-FT9', 'FT9-FT10', 'FT10-T8', 'T8-P8-1']\n",
      "Detected bipolar montage channels\n",
      "Total regional features extracted: 480\n",
      "Mean connectivity shape: (23, 23)\n",
      "Number of epochs:  4\n",
      "Storing features...\n",
      "Detected bipolar montage channels\n"
     ]
    },
    {
     "name": "stderr",
     "output_type": "stream",
     "text": [
      "  4%|▍         | 10/245 [16:01<3:59:33, 61.16s/it]"
     ]
    },
    {
     "name": "stdout",
     "output_type": "stream",
     "text": [
      "Total regional features extracted: 480\n",
      "Patient id: chb03\n",
      "Edf file: chb03_01.edf\n",
      "Registration start: 13:23:36\n",
      "Registration end: 14:23:36\n",
      "Registration start seconds: 48216\n",
      "Registration end seconds: 51816\n",
      "EDF file duration: 3600\n",
      "Seizure start: 13:29:38\n",
      "Seizure end: 13:30:30\n",
      "Seizure start seconds: 48578\n",
      "Seizure end seconds: 48630\n",
      "Seizure duration: 52\n",
      "Seizure onset seconds: 362\n",
      "Post-ictal onset seconds: 414\n",
      "Loading edf file...\n",
      "Channels available: ['FP1-F7', 'F7-T7', 'T7-P7', 'P7-O1', 'FP1-F3', 'F3-C3', 'C3-P3', 'P3-O1', 'FP2-F4', 'F4-C4', 'C4-P4', 'P4-O2', 'FP2-F8', 'F8-T8', 'T8-P8-0', 'P8-O2', 'FZ-CZ', 'CZ-PZ', 'P7-T7', 'T7-FT9', 'FT9-FT10', 'FT10-T8', 'T8-P8-1']\n",
      "Detected bipolar montage channels\n",
      "Total regional features extracted: 480\n",
      "Mean connectivity shape: (23, 23)\n",
      "Number of epochs:  26\n",
      "Storing features...\n",
      "Detected bipolar montage channels\n",
      "Total regional features extracted: 480\n"
     ]
    },
    {
     "name": "stderr",
     "output_type": "stream",
     "text": [
      "  4%|▍         | 11/245 [19:06<6:00:40, 92.48s/it]"
     ]
    },
    {
     "name": "stdout",
     "output_type": "stream",
     "text": [
      "Patient id: chb03\n",
      "Edf file: chb03_02.edf\n",
      "Registration start: 14:23:39\n",
      "Registration end: 15:23:39\n",
      "Registration start seconds: 51819\n",
      "Registration end seconds: 55419\n",
      "EDF file duration: 3600\n",
      "Seizure start: 14:35:50\n",
      "Seizure end: 14:36:55\n",
      "Seizure start seconds: 52550\n",
      "Seizure end seconds: 52615\n",
      "Seizure duration: 65\n",
      "Seizure onset seconds: 731\n",
      "Post-ictal onset seconds: 796\n",
      "Loading edf file...\n",
      "Channels available: ['FP1-F7', 'F7-T7', 'T7-P7', 'P7-O1', 'FP1-F3', 'F3-C3', 'C3-P3', 'P3-O1', 'FP2-F4', 'F4-C4', 'C4-P4', 'P4-O2', 'FP2-F8', 'F8-T8', 'T8-P8-0', 'P8-O2', 'FZ-CZ', 'CZ-PZ', 'P7-T7', 'T7-FT9', 'FT9-FT10', 'FT10-T8', 'T8-P8-1']\n",
      "Detected bipolar montage channels\n",
      "Total regional features extracted: 480\n",
      "Mean connectivity shape: (23, 23)\n",
      "Number of epochs:  32\n",
      "Storing features...\n",
      "Detected bipolar montage channels\n",
      "Total regional features extracted: 480\n"
     ]
    },
    {
     "name": "stderr",
     "output_type": "stream",
     "text": [
      "  5%|▍         | 12/245 [21:53<7:16:17, 112.35s/it]"
     ]
    },
    {
     "name": "stdout",
     "output_type": "stream",
     "text": [
      "Patient id: chb03\n",
      "Edf file: chb03_03.edf\n",
      "Registration start: 15:23:47\n",
      "Registration end: 16:23:47\n",
      "Registration start seconds: 55427\n",
      "Registration end seconds: 59027\n",
      "EDF file duration: 3600\n",
      "Seizure start: 15:30:59\n",
      "Seizure end: 15:32:08\n",
      "Seizure start seconds: 55859\n",
      "Seizure end seconds: 55928\n",
      "Seizure duration: 69\n",
      "Seizure onset seconds: 432\n",
      "Post-ictal onset seconds: 501\n",
      "Loading edf file...\n",
      "Channels available: ['FP1-F7', 'F7-T7', 'T7-P7', 'P7-O1', 'FP1-F3', 'F3-C3', 'C3-P3', 'P3-O1', 'FP2-F4', 'F4-C4', 'C4-P4', 'P4-O2', 'FP2-F8', 'F8-T8', 'T8-P8-0', 'P8-O2', 'FZ-CZ', 'CZ-PZ', 'P7-T7', 'T7-FT9', 'FT9-FT10', 'FT10-T8', 'T8-P8-1']\n",
      "Detected bipolar montage channels\n",
      "Total regional features extracted: 480\n",
      "Mean connectivity shape: (23, 23)\n",
      "Number of epochs:  34\n",
      "Storing features...\n",
      "Detected bipolar montage channels\n",
      "Total regional features extracted: 480\n"
     ]
    },
    {
     "name": "stderr",
     "output_type": "stream",
     "text": [
      "  5%|▌         | 13/245 [24:10<7:40:35, 119.12s/it]"
     ]
    },
    {
     "name": "stdout",
     "output_type": "stream",
     "text": [
      "Patient id: chb03\n",
      "Edf file: chb03_04.edf\n",
      "Registration start: 16:23:54\n",
      "Registration end: 17:23:54\n",
      "Registration start seconds: 59034\n",
      "Registration end seconds: 62634\n",
      "EDF file duration: 3600\n",
      "Seizure start: 17:00:16\n",
      "Seizure end: 17:01:08\n",
      "Seizure start seconds: 61216\n",
      "Seizure end seconds: 61268\n",
      "Seizure duration: 52\n",
      "Seizure onset seconds: 2182\n",
      "Post-ictal onset seconds: 2234\n",
      "Loading edf file...\n",
      "Channels available: ['FP1-F7', 'F7-T7', 'T7-P7', 'P7-O1', 'FP1-F3', 'F3-C3', 'C3-P3', 'P3-O1', 'FP2-F4', 'F4-C4', 'C4-P4', 'P4-O2', 'FP2-F8', 'F8-T8', 'T8-P8-0', 'P8-O2', 'FZ-CZ', 'CZ-PZ', 'P7-T7', 'T7-FT9', 'FT9-FT10', 'FT10-T8', 'T8-P8-1']\n",
      "Detected bipolar montage channels\n",
      "Total regional features extracted: 480\n",
      "Mean connectivity shape: (23, 23)\n",
      "Number of epochs:  26\n",
      "Storing features...\n",
      "Detected bipolar montage channels\n",
      "Total regional features extracted: 480\n"
     ]
    },
    {
     "name": "stderr",
     "output_type": "stream",
     "text": [
      "  6%|▌         | 14/245 [25:26<6:52:33, 107.16s/it]"
     ]
    },
    {
     "name": "stdout",
     "output_type": "stream",
     "text": [
      "Patient id: chb03\n",
      "Edf file: chb03_34.edf\n",
      "Registration start: 01:51:23\n",
      "Registration end: 02:51:23\n",
      "Registration start seconds: 6683\n",
      "Registration end seconds: 10283\n",
      "EDF file duration: 3600\n",
      "Seizure start: 02:24:25\n",
      "Seizure end: 02:25:12\n",
      "Seizure start seconds: 8665\n",
      "Seizure end seconds: 8712\n",
      "Seizure duration: 47\n",
      "Seizure onset seconds: 1982\n",
      "Post-ictal onset seconds: 2029\n",
      "Loading edf file...\n",
      "Channels available: ['FP1-F7', 'F7-T7', 'T7-P7', 'P7-O1', 'FP1-F3', 'F3-C3', 'C3-P3', 'P3-O1', 'FP2-F4', 'F4-C4', 'C4-P4', 'P4-O2', 'FP2-F8', 'F8-T8', 'T8-P8-0', 'P8-O2', 'FZ-CZ', 'CZ-PZ', 'P7-T7', 'T7-FT9', 'FT9-FT10', 'FT10-T8', 'T8-P8-1']\n",
      "Detected bipolar montage channels\n",
      "Total regional features extracted: 480\n",
      "Mean connectivity shape: (23, 23)\n",
      "Number of epochs:  23\n",
      "Storing features...\n",
      "Detected bipolar montage channels\n",
      "Total regional features extracted: 480\n"
     ]
    },
    {
     "name": "stderr",
     "output_type": "stream",
     "text": [
      "  6%|▌         | 15/245 [27:12<6:49:27, 106.82s/it]"
     ]
    },
    {
     "name": "stdout",
     "output_type": "stream",
     "text": [
      "Patient id: chb03\n",
      "Edf file: chb03_35.edf\n",
      "Registration start: 02:51:30\n",
      "Registration end: 03:51:30\n",
      "Registration start seconds: 10290\n",
      "Registration end seconds: 13890\n",
      "EDF file duration: 3600\n",
      "Seizure start: 03:34:42\n",
      "Seizure end: 03:35:46\n",
      "Seizure start seconds: 12882\n",
      "Seizure end seconds: 12946\n",
      "Seizure duration: 64\n",
      "Seizure onset seconds: 2592\n",
      "Post-ictal onset seconds: 2656\n",
      "Loading edf file...\n",
      "Channels available: ['FP1-F7', 'F7-T7', 'T7-P7', 'P7-O1', 'FP1-F3', 'F3-C3', 'C3-P3', 'P3-O1', 'FP2-F4', 'F4-C4', 'C4-P4', 'P4-O2', 'FP2-F8', 'F8-T8', 'T8-P8-0', 'P8-O2', 'FZ-CZ', 'CZ-PZ', 'P7-T7', 'T7-FT9', 'FT9-FT10', 'FT10-T8', 'T8-P8-1']\n",
      "Detected bipolar montage channels\n",
      "Total regional features extracted: 480\n",
      "Mean connectivity shape: (23, 23)\n",
      "Number of epochs:  32\n",
      "Storing features...\n",
      "Detected bipolar montage channels\n"
     ]
    },
    {
     "name": "stderr",
     "output_type": "stream",
     "text": [
      "  7%|▋         | 16/245 [28:25<6:09:45, 96.88s/it] "
     ]
    },
    {
     "name": "stdout",
     "output_type": "stream",
     "text": [
      "Total regional features extracted: 480\n",
      "Patient id: chb03\n",
      "Edf file: chb03_36.edf\n",
      "Registration start: 04:51:45\n",
      "Registration end: 05:51:45\n",
      "Registration start seconds: 17505\n",
      "Registration end seconds: 21105\n",
      "EDF file duration: 3600\n",
      "Seizure start: 05:20:30\n",
      "Seizure end: 05:21:23\n",
      "Seizure start seconds: 19230\n",
      "Seizure end seconds: 19283\n",
      "Seizure duration: 53\n",
      "Seizure onset seconds: 1725\n",
      "Post-ictal onset seconds: 1778\n",
      "Loading edf file...\n",
      "Channels available: ['FP1-F7', 'F7-T7', 'T7-P7', 'P7-O1', 'FP1-F3', 'F3-C3', 'C3-P3', 'P3-O1', 'FP2-F4', 'F4-C4', 'C4-P4', 'P4-O2', 'FP2-F8', 'F8-T8', 'T8-P8-0', 'P8-O2', 'FZ-CZ', 'CZ-PZ', 'P7-T7', 'T7-FT9', 'FT9-FT10', 'FT10-T8', 'T8-P8-1']\n",
      "Detected bipolar montage channels\n",
      "Total regional features extracted: 480\n",
      "Mean connectivity shape: (23, 23)\n",
      "Number of epochs:  26\n",
      "Storing features...\n",
      "Detected bipolar montage channels\n",
      "Total regional features extracted: 480\n"
     ]
    },
    {
     "name": "stderr",
     "output_type": "stream",
     "text": [
      "  7%|▋         | 17/245 [30:00<6:06:23, 96.42s/it]"
     ]
    },
    {
     "name": "stdout",
     "output_type": "stream",
     "text": [
      "Patient id: chb04\n",
      "Edf file: chb04_05.edf\n",
      "Registration start: 10:02:37\n",
      "Registration end: 12:41:33\n",
      "Registration start seconds: 36157\n",
      "Registration end seconds: 45693\n",
      "EDF file duration: 9536\n",
      "Seizure start: 12:12:41\n",
      "Seizure end: 12:13:30\n",
      "Seizure start seconds: 43961\n",
      "Seizure end seconds: 44010\n",
      "Seizure duration: 49\n",
      "Seizure onset seconds: 7804\n",
      "Post-ictal onset seconds: 7853\n",
      "Loading edf file...\n",
      "Channels available: ['FP1-F7', 'F7-T7', 'T7-P7', 'P7-O1', 'FP1-F3', 'F3-C3', 'C3-P3', 'P3-O1', 'FP2-F4', 'F4-C4', 'C4-P4', 'P4-O2', 'FP2-F8', 'F8-T8', 'T8-P8-0', 'P8-O2', 'FZ-CZ', 'CZ-PZ', 'P7-T7', 'T7-FT9', 'FT9-FT10', 'FT10-T8', 'T8-P8-1']\n",
      "Detected bipolar montage channels\n",
      "Total regional features extracted: 480\n",
      "Mean connectivity shape: (23, 23)\n",
      "Number of epochs:  24\n",
      "Storing features...\n",
      "Detected bipolar montage channels\n",
      "Total regional features extracted: 480\n"
     ]
    },
    {
     "name": "stderr",
     "output_type": "stream",
     "text": [
      "  7%|▋         | 18/245 [31:33<6:00:13, 95.21s/it]"
     ]
    },
    {
     "name": "stdout",
     "output_type": "stream",
     "text": [
      "Patient id: chb04\n",
      "Edf file: chb04_08.edf\n",
      "Registration start: 18:53:30\n",
      "Registration end: 22:53:30\n",
      "Registration start seconds: 68010\n",
      "Registration end seconds: 82410\n",
      "EDF file duration: 14400\n",
      "Seizure start: 20:40:56\n",
      "Seizure end: 20:42:47\n",
      "Seizure start seconds: 74456\n",
      "Seizure end seconds: 74567\n",
      "Seizure duration: 111\n",
      "Seizure onset seconds: 6446\n",
      "Post-ictal onset seconds: 6557\n",
      "Loading edf file...\n",
      "Channels available: ['FP1-F7', 'F7-T7', 'T7-P7', 'P7-O1', 'FP1-F3', 'F3-C3', 'C3-P3', 'P3-O1', 'FP2-F4', 'F4-C4', 'C4-P4', 'P4-O2', 'FP2-F8', 'F8-T8', 'T8-P8-0', 'P8-O2', 'FZ-CZ', 'CZ-PZ', 'P7-T7', 'T7-FT9', 'FT9-FT10', 'FT10-T8', 'T8-P8-1', 'ECG']\n",
      "Detected bipolar montage channels\n",
      "Total regional features extracted: 480\n",
      "Mean connectivity shape: (24, 24)\n",
      "Number of epochs:  55\n",
      "Storing features...\n",
      "Detected bipolar montage channels\n",
      "Total regional features extracted: 480\n"
     ]
    },
    {
     "name": "stderr",
     "output_type": "stream",
     "text": [
      "  8%|▊         | 19/245 [38:51<12:22:12, 197.05s/it]"
     ]
    },
    {
     "name": "stdout",
     "output_type": "stream",
     "text": [
      "Patient id: chb04\n",
      "Edf file: chb04_28.edf\n",
      "Registration start: 00:04:47\n",
      "Registration end: 04:05:10\n",
      "Registration start seconds: 287\n",
      "Registration end seconds: 14710\n",
      "EDF file duration: 14423\n",
      "Seizure start: 00:32:46\n",
      "Seizure end: 00:34:28\n",
      "Seizure start seconds: 1966\n",
      "Seizure end seconds: 2068\n",
      "Seizure duration: 102\n",
      "Seizure onset seconds: 1679\n",
      "Post-ictal onset seconds: 1781\n",
      "Loading edf file...\n",
      "Channels available: ['FP1-F7', 'F7-T7', 'T7-P7', 'P7-O1', 'FP1-F3', 'F3-C3', 'C3-P3', 'P3-O1', 'FP2-F4', 'F4-C4', 'C4-P4', 'P4-O2', 'FP2-F8', 'F8-T8', 'T8-P8-0', 'P8-O2', 'FZ-CZ', 'CZ-PZ', 'P7-T7', 'T7-FT9', 'FT9-FT10', 'FT10-T8', 'T8-P8-1', 'ECG']\n",
      "Detected bipolar montage channels\n",
      "Total regional features extracted: 480\n",
      "Mean connectivity shape: (24, 24)\n",
      "Number of epochs:  51\n",
      "Storing features...\n",
      "Detected bipolar montage channels\n",
      "Total regional features extracted: 480\n"
     ]
    },
    {
     "name": "stderr",
     "output_type": "stream",
     "text": [
      "  8%|▊         | 20/245 [59:12<31:22:19, 501.95s/it]"
     ]
    },
    {
     "name": "stdout",
     "output_type": "stream",
     "text": [
      "Patient id: chb04\n",
      "Edf file: chb04_28.edf\n",
      "Registration start: 00:04:47\n",
      "Registration end: 04:05:10\n",
      "Registration start seconds: 287\n",
      "Registration end seconds: 14710\n",
      "EDF file duration: 14423\n",
      "Seizure start: 01:07:49\n",
      "Seizure end: 01:09:45\n",
      "Seizure start seconds: 4069\n",
      "Seizure end seconds: 4185\n",
      "Seizure duration: 116\n",
      "Seizure onset seconds: 3782\n",
      "Post-ictal onset seconds: 3898\n",
      "Loading edf file...\n",
      "Channels available: ['FP1-F7', 'F7-T7', 'T7-P7', 'P7-O1', 'FP1-F3', 'F3-C3', 'C3-P3', 'P3-O1', 'FP2-F4', 'F4-C4', 'C4-P4', 'P4-O2', 'FP2-F8', 'F8-T8', 'T8-P8-0', 'P8-O2', 'FZ-CZ', 'CZ-PZ', 'P7-T7', 'T7-FT9', 'FT9-FT10', 'FT10-T8', 'T8-P8-1', 'ECG']\n",
      "Detected bipolar montage channels\n",
      "Total regional features extracted: 480\n",
      "Mean connectivity shape: (24, 24)\n",
      "Number of epochs:  58\n",
      "Storing features...\n",
      "Detected bipolar montage channels\n",
      "Total regional features extracted: 480\n"
     ]
    },
    {
     "name": "stderr",
     "output_type": "stream",
     "text": [
      "  9%|▊         | 21/245 [1:15:17<39:50:28, 640.31s/it]"
     ]
    },
    {
     "name": "stdout",
     "output_type": "stream",
     "text": [
      "Patient id: chb05\n",
      "Edf file: chb05_06.edf\n",
      "Registration start: 22:21:25\n",
      "Registration end: 23:21:25\n",
      "Registration start seconds: 80485\n",
      "Registration end seconds: 84085\n",
      "EDF file duration: 3600\n",
      "Seizure start: 22:28:22\n",
      "Seizure end: 22:30:17\n",
      "Seizure start seconds: 80902\n",
      "Seizure end seconds: 81017\n",
      "Seizure duration: 115\n",
      "Seizure onset seconds: 417\n",
      "Post-ictal onset seconds: 532\n",
      "Loading edf file...\n",
      "Channels available: ['FP1-F7', 'F7-T7', 'T7-P7', 'P7-O1', 'FP1-F3', 'F3-C3', 'C3-P3', 'P3-O1', 'FP2-F4', 'F4-C4', 'C4-P4', 'P4-O2', 'FP2-F8', 'F8-T8', 'T8-P8-0', 'P8-O2', 'FZ-CZ', 'CZ-PZ', 'P7-T7', 'T7-FT9', 'FT9-FT10', 'FT10-T8', 'T8-P8-1']\n",
      "Detected bipolar montage channels\n",
      "Total regional features extracted: 480\n",
      "Mean connectivity shape: (23, 23)\n",
      "Number of epochs:  57\n",
      "Storing features...\n",
      "Detected bipolar montage channels\n",
      "Total regional features extracted: 480\n"
     ]
    },
    {
     "name": "stderr",
     "output_type": "stream",
     "text": [
      "  9%|▉         | 22/245 [1:18:19<31:10:02, 503.15s/it]"
     ]
    },
    {
     "name": "stdout",
     "output_type": "stream",
     "text": [
      "Patient id: chb05\n",
      "Edf file: chb05_13.edf\n",
      "Registration start: 05:22:15\n",
      "Registration end: 06:22:15\n",
      "Registration start seconds: 19335\n",
      "Registration end seconds: 22935\n",
      "EDF file duration: 3600\n",
      "Seizure start: 05:40:21\n",
      "Seizure end: 05:42:11\n",
      "Seizure start seconds: 20421\n",
      "Seizure end seconds: 20531\n",
      "Seizure duration: 110\n",
      "Seizure onset seconds: 1086\n",
      "Post-ictal onset seconds: 1196\n",
      "Loading edf file...\n",
      "Channels available: ['FP1-F7', 'F7-T7', 'T7-P7', 'P7-O1', 'FP1-F3', 'F3-C3', 'C3-P3', 'P3-O1', 'FP2-F4', 'F4-C4', 'C4-P4', 'P4-O2', 'FP2-F8', 'F8-T8', 'T8-P8-0', 'P8-O2', 'FZ-CZ', 'CZ-PZ', 'P7-T7', 'T7-FT9', 'FT9-FT10', 'FT10-T8', 'T8-P8-1']\n",
      "Detected bipolar montage channels\n",
      "Total regional features extracted: 480\n",
      "Mean connectivity shape: (23, 23)\n",
      "Number of epochs:  55\n",
      "Storing features...\n",
      "Detected bipolar montage channels\n",
      "Total regional features extracted: 480\n"
     ]
    },
    {
     "name": "stderr",
     "output_type": "stream",
     "text": [
      "  9%|▉         | 23/245 [1:21:03<24:46:50, 401.85s/it]"
     ]
    },
    {
     "name": "stdout",
     "output_type": "stream",
     "text": [
      "Patient id: chb05\n",
      "Edf file: chb05_16.edf\n",
      "Registration start: 08:22:35\n",
      "Registration end: 09:22:35\n",
      "Registration start seconds: 30155\n",
      "Registration end seconds: 33755\n",
      "EDF file duration: 3600\n",
      "Seizure start: 09:01:12\n",
      "Seizure end: 09:02:48\n",
      "Seizure start seconds: 32472\n",
      "Seizure end seconds: 32568\n",
      "Seizure duration: 96\n",
      "Seizure onset seconds: 2317\n",
      "Post-ictal onset seconds: 2413\n",
      "Loading edf file...\n",
      "Channels available: ['FP1-F7', 'F7-T7', 'T7-P7', 'P7-O1', 'FP1-F3', 'F3-C3', 'C3-P3', 'P3-O1', 'FP2-F4', 'F4-C4', 'C4-P4', 'P4-O2', 'FP2-F8', 'F8-T8', 'T8-P8-0', 'P8-O2', 'FZ-CZ', 'CZ-PZ', 'P7-T7', 'T7-FT9', 'FT9-FT10', 'FT10-T8', 'T8-P8-1']\n",
      "Detected bipolar montage channels\n",
      "Total regional features extracted: 480\n",
      "Mean connectivity shape: (23, 23)\n",
      "Number of epochs:  48\n",
      "Storing features...\n",
      "Detected bipolar montage channels\n",
      "Total regional features extracted: 480\n"
     ]
    },
    {
     "name": "stderr",
     "output_type": "stream",
     "text": [
      " 10%|▉         | 24/245 [1:22:24<18:45:49, 305.65s/it]"
     ]
    },
    {
     "name": "stdout",
     "output_type": "stream",
     "text": [
      "Patient id: chb05\n",
      "Edf file: chb05_17.edf\n",
      "Registration start: 09:22:42\n",
      "Registration end: 10:22:42\n",
      "Registration start seconds: 33762\n",
      "Registration end seconds: 37362\n",
      "EDF file duration: 3600\n",
      "Seizure start: 10:03:33\n",
      "Seizure end: 10:05:33\n",
      "Seizure start seconds: 36213\n",
      "Seizure end seconds: 36333\n",
      "Seizure duration: 120\n",
      "Seizure onset seconds: 2451\n",
      "Post-ictal onset seconds: 2571\n",
      "Loading edf file...\n",
      "Channels available: ['FP1-F7', 'F7-T7', 'T7-P7', 'P7-O1', 'FP1-F3', 'F3-C3', 'C3-P3', 'P3-O1', 'FP2-F4', 'F4-C4', 'C4-P4', 'P4-O2', 'FP2-F8', 'F8-T8', 'T8-P8-0', 'P8-O2', 'FZ-CZ', 'CZ-PZ', 'P7-T7', 'T7-FT9', 'FT9-FT10', 'FT10-T8', 'T8-P8-1']\n",
      "Detected bipolar montage channels\n",
      "Total regional features extracted: 480\n",
      "Mean connectivity shape: (23, 23)\n",
      "Number of epochs:  60\n",
      "Storing features...\n",
      "Detected bipolar montage channels\n",
      "Total regional features extracted: 480\n"
     ]
    },
    {
     "name": "stderr",
     "output_type": "stream",
     "text": [
      " 10%|█         | 25/245 [1:23:32<14:19:15, 234.34s/it]"
     ]
    },
    {
     "name": "stdout",
     "output_type": "stream",
     "text": [
      "Patient id: chb05\n",
      "Edf file: chb05_22.edf\n",
      "Registration start: 14:23:17\n",
      "Registration end: 15:23:17\n",
      "Registration start seconds: 51797\n",
      "Registration end seconds: 55397\n",
      "EDF file duration: 3600\n",
      "Seizure start: 15:02:25\n",
      "Seizure end: 15:04:22\n",
      "Seizure start seconds: 54145\n",
      "Seizure end seconds: 54262\n",
      "Seizure duration: 117\n",
      "Seizure onset seconds: 2348\n",
      "Post-ictal onset seconds: 2465\n",
      "Loading edf file...\n",
      "Channels available: ['FP1-F7', 'F7-T7', 'T7-P7', 'P7-O1', 'FP1-F3', 'F3-C3', 'C3-P3', 'P3-O1', 'FP2-F4', 'F4-C4', 'C4-P4', 'P4-O2', 'FP2-F8', 'F8-T8', 'T8-P8-0', 'P8-O2', 'FZ-CZ', 'CZ-PZ', 'P7-T7', 'T7-FT9', 'FT9-FT10', 'FT10-T8', 'T8-P8-1']\n",
      "Detected bipolar montage channels\n",
      "Total regional features extracted: 480\n",
      "Mean connectivity shape: (23, 23)\n",
      "Number of epochs:  58\n",
      "Storing features...\n",
      "Detected bipolar montage channels\n",
      "Total regional features extracted: 480\n"
     ]
    },
    {
     "name": "stderr",
     "output_type": "stream",
     "text": [
      " 11%|█         | 26/245 [1:24:55<11:29:45, 188.97s/it]"
     ]
    },
    {
     "name": "stdout",
     "output_type": "stream",
     "text": [
      "Patient id: chb06\n",
      "Edf file: chb06_01.edf\n",
      "Registration start: 19:08:32\n",
      "Registration end: 23:08:59\n",
      "Registration start seconds: 68912\n",
      "Registration end seconds: 83339\n",
      "EDF file duration: 14427\n",
      "Seizure start: 19:37:16\n",
      "Seizure end: 19:37:30\n",
      "Seizure start seconds: 70636\n",
      "Seizure end seconds: 70650\n",
      "Seizure duration: 14\n",
      "Seizure onset seconds: 1724\n",
      "Post-ictal onset seconds: 1738\n",
      "Loading edf file...\n",
      "Channels available: ['FP1-F7', 'F7-T7', 'T7-P7', 'P7-O1', 'FP1-F3', 'F3-C3', 'C3-P3', 'P3-O1', 'FP2-F4', 'F4-C4', 'C4-P4', 'P4-O2', 'FP2-F8', 'F8-T8', 'T8-P8-0', 'P8-O2', 'FZ-CZ', 'CZ-PZ', 'P7-T7', 'T7-FT9', 'FT9-FT10', 'FT10-T8', 'T8-P8-1']\n",
      "Detected bipolar montage channels\n",
      "Total regional features extracted: 480\n",
      "Mean connectivity shape: (23, 23)\n",
      "Number of epochs:  7\n",
      "Storing features...\n",
      "Detected bipolar montage channels\n",
      "Total regional features extracted: 480\n"
     ]
    },
    {
     "name": "stderr",
     "output_type": "stream",
     "text": [
      " 11%|█         | 27/245 [1:38:55<23:16:14, 384.29s/it]"
     ]
    },
    {
     "name": "stdout",
     "output_type": "stream",
     "text": [
      "Patient id: chb06\n",
      "Edf file: chb06_01.edf\n",
      "Registration start: 19:08:32\n",
      "Registration end: 23:08:59\n",
      "Registration start seconds: 68912\n",
      "Registration end seconds: 83339\n",
      "EDF file duration: 14427\n",
      "Seizure start: 21:12:53\n",
      "Seizure end: 21:13:08\n",
      "Seizure start seconds: 76373\n",
      "Seizure end seconds: 76388\n",
      "Seizure duration: 15\n",
      "Seizure onset seconds: 7461\n",
      "Post-ictal onset seconds: 7476\n",
      "Loading edf file...\n",
      "Channels available: ['FP1-F7', 'F7-T7', 'T7-P7', 'P7-O1', 'FP1-F3', 'F3-C3', 'C3-P3', 'P3-O1', 'FP2-F4', 'F4-C4', 'C4-P4', 'P4-O2', 'FP2-F8', 'F8-T8', 'T8-P8-0', 'P8-O2', 'FZ-CZ', 'CZ-PZ', 'P7-T7', 'T7-FT9', 'FT9-FT10', 'FT10-T8', 'T8-P8-1']\n",
      "Detected bipolar montage channels\n",
      "Total regional features extracted: 480\n",
      "Mean connectivity shape: (23, 23)\n",
      "Number of epochs:  7\n",
      "Storing features...\n",
      "Detected bipolar montage channels\n",
      "Total regional features extracted: 480\n"
     ]
    },
    {
     "name": "stderr",
     "output_type": "stream",
     "text": [
      " 11%|█▏        | 28/245 [1:46:35<24:32:16, 407.08s/it]"
     ]
    },
    {
     "name": "stdout",
     "output_type": "stream",
     "text": [
      "Patient id: chb06\n",
      "Edf file: chb06_01.edf\n",
      "Registration start: 19:08:32\n",
      "Registration end: 23:08:59\n",
      "Registration start seconds: 68912\n",
      "Registration end seconds: 83339\n",
      "EDF file duration: 14427\n",
      "Seizure start: 22:53:37\n",
      "Seizure end: 22:53:52\n",
      "Seizure start seconds: 82417\n",
      "Seizure end seconds: 82432\n",
      "Seizure duration: 15\n",
      "Seizure onset seconds: 13505\n",
      "Post-ictal onset seconds: 13520\n",
      "Loading edf file...\n",
      "Channels available: ['FP1-F7', 'F7-T7', 'T7-P7', 'P7-O1', 'FP1-F3', 'F3-C3', 'C3-P3', 'P3-O1', 'FP2-F4', 'F4-C4', 'C4-P4', 'P4-O2', 'FP2-F8', 'F8-T8', 'T8-P8-0', 'P8-O2', 'FZ-CZ', 'CZ-PZ', 'P7-T7', 'T7-FT9', 'FT9-FT10', 'FT10-T8', 'T8-P8-1']\n",
      "Detected bipolar montage channels\n",
      "Total regional features extracted: 480\n",
      "Mean connectivity shape: (23, 23)\n",
      "Number of epochs:  7\n",
      "Storing features...\n",
      "Detected bipolar montage channels\n"
     ]
    },
    {
     "name": "stderr",
     "output_type": "stream",
     "text": [
      " 12%|█▏        | 29/245 [1:47:36<18:11:41, 303.25s/it]"
     ]
    },
    {
     "name": "stdout",
     "output_type": "stream",
     "text": [
      "Total regional features extracted: 480\n",
      "Patient id: chb06\n",
      "Edf file: chb06_04.edf\n",
      "Registration start: 07:09:51\n",
      "Registration end: 10:50:52\n",
      "Registration start seconds: 25791\n",
      "Registration end seconds: 39052\n",
      "EDF file duration: 13261\n",
      "Seizure start: 07:15:18\n",
      "Seizure end: 07:15:38\n",
      "Seizure start seconds: 26118\n",
      "Seizure end seconds: 26138\n",
      "Seizure duration: 20\n",
      "Seizure onset seconds: 327\n",
      "Post-ictal onset seconds: 347\n",
      "Loading edf file...\n",
      "Channels available: ['FP1-F7', 'F7-T7', 'T7-P7', 'P7-O1', 'FP1-F3', 'F3-C3', 'C3-P3', 'P3-O1', 'FP2-F4', 'F4-C4', 'C4-P4', 'P4-O2', 'FP2-F8', 'F8-T8', 'T8-P8-0', 'P8-O2', 'FZ-CZ', 'CZ-PZ', 'P7-T7', 'T7-FT9', 'FT9-FT10', 'FT10-T8', 'T8-P8-1']\n",
      "Detected bipolar montage channels\n",
      "Total regional features extracted: 480\n",
      "Mean connectivity shape: (23, 23)\n",
      "Number of epochs:  10\n",
      "Storing features...\n",
      "Detected bipolar montage channels\n",
      "Total regional features extracted: 480\n"
     ]
    },
    {
     "name": "stderr",
     "output_type": "stream",
     "text": [
      " 12%|█▏        | 30/245 [1:59:15<25:12:16, 422.03s/it]"
     ]
    },
    {
     "name": "stdout",
     "output_type": "stream",
     "text": [
      "Patient id: chb06\n",
      "Edf file: chb06_04.edf\n",
      "Registration start: 07:09:51\n",
      "Registration end: 10:50:52\n",
      "Registration start seconds: 25791\n",
      "Registration end seconds: 39052\n",
      "EDF file duration: 13261\n",
      "Seizure start: 08:53:22\n",
      "Seizure end: 08:53:42\n",
      "Seizure start seconds: 32002\n",
      "Seizure end seconds: 32022\n",
      "Seizure duration: 20\n",
      "Seizure onset seconds: 6211\n",
      "Post-ictal onset seconds: 6231\n",
      "Loading edf file...\n",
      "Channels available: ['FP1-F7', 'F7-T7', 'T7-P7', 'P7-O1', 'FP1-F3', 'F3-C3', 'C3-P3', 'P3-O1', 'FP2-F4', 'F4-C4', 'C4-P4', 'P4-O2', 'FP2-F8', 'F8-T8', 'T8-P8-0', 'P8-O2', 'FZ-CZ', 'CZ-PZ', 'P7-T7', 'T7-FT9', 'FT9-FT10', 'FT10-T8', 'T8-P8-1']\n",
      "Detected bipolar montage channels\n",
      "Total regional features extracted: 480\n",
      "Mean connectivity shape: (23, 23)\n",
      "Number of epochs:  10\n",
      "Storing features...\n",
      "Detected bipolar montage channels\n",
      "Total regional features extracted: 480\n"
     ]
    },
    {
     "name": "stderr",
     "output_type": "stream",
     "text": [
      " 13%|█▎        | 31/245 [2:04:38<23:19:04, 392.26s/it]"
     ]
    },
    {
     "name": "stdout",
     "output_type": "stream",
     "text": [
      "Patient id: chb06\n",
      "Edf file: chb06_09.edf\n",
      "Registration start: 02:51:47\n",
      "Registration end: 06:51:47\n",
      "Registration start seconds: 10307\n",
      "Registration end seconds: 24707\n",
      "EDF file duration: 14400\n",
      "Seizure start: 06:20:07\n",
      "Seizure end: 06:20:23\n",
      "Seizure start seconds: 22807\n",
      "Seizure end seconds: 22823\n",
      "Seizure duration: 16\n",
      "Seizure onset seconds: 12500\n",
      "Post-ictal onset seconds: 12516\n",
      "Loading edf file...\n",
      "Channels available: ['FP1-F7', 'F7-T7', 'T7-P7', 'P7-O1', 'FP1-F3', 'F3-C3', 'C3-P3', 'P3-O1', 'FP2-F4', 'F4-C4', 'C4-P4', 'P4-O2', 'FP2-F8', 'F8-T8', 'T8-P8-0', 'P8-O2', 'FZ-CZ', 'CZ-PZ', 'P7-T7', 'T7-FT9', 'FT9-FT10', 'FT10-T8', 'T8-P8-1']\n",
      "Detected bipolar montage channels\n",
      "Total regional features extracted: 480\n",
      "Mean connectivity shape: (23, 23)\n",
      "Number of epochs:  8\n",
      "Storing features...\n",
      "Detected bipolar montage channels\n",
      "Total regional features extracted: 480\n"
     ]
    },
    {
     "name": "stderr",
     "output_type": "stream",
     "text": [
      " 13%|█▎        | 32/245 [2:06:57<18:42:35, 316.22s/it]"
     ]
    },
    {
     "name": "stdout",
     "output_type": "stream",
     "text": [
      "Patient id: chb06\n",
      "Edf file: chb06_10.edf\n",
      "Registration start: 06:51:54\n",
      "Registration end: 10:51:54\n",
      "Registration start seconds: 24714\n",
      "Registration end seconds: 39114\n",
      "EDF file duration: 14400\n",
      "Seizure start: 09:52:27\n",
      "Seizure end: 09:52:39\n",
      "Seizure start seconds: 35547\n",
      "Seizure end seconds: 35559\n",
      "Seizure duration: 12\n",
      "Seizure onset seconds: 10833\n",
      "Post-ictal onset seconds: 10845\n",
      "Loading edf file...\n",
      "Channels available: ['FP1-F7', 'F7-T7', 'T7-P7', 'P7-O1', 'FP1-F3', 'F3-C3', 'C3-P3', 'P3-O1', 'FP2-F4', 'F4-C4', 'C4-P4', 'P4-O2', 'FP2-F8', 'F8-T8', 'T8-P8-0', 'P8-O2', 'FZ-CZ', 'CZ-PZ', 'P7-T7', 'T7-FT9', 'FT9-FT10', 'FT10-T8', 'T8-P8-1']\n",
      "Detected bipolar montage channels\n",
      "Total regional features extracted: 480\n",
      "Mean connectivity shape: (23, 23)\n",
      "Number of epochs:  6\n",
      "Storing features...\n",
      "Detected bipolar montage channels\n",
      "Total regional features extracted: 480\n"
     ]
    },
    {
     "name": "stderr",
     "output_type": "stream",
     "text": [
      " 13%|█▎        | 33/245 [2:09:36<15:51:00, 269.15s/it]"
     ]
    },
    {
     "name": "stdout",
     "output_type": "stream",
     "text": [
      "Patient id: chb06\n",
      "Edf file: chb06_13.edf\n",
      "Registration start: 18:52:20\n",
      "Registration end: 22:52:20\n",
      "Registration start seconds: 67940\n",
      "Registration end seconds: 82340\n",
      "EDF file duration: 14400\n",
      "Seizure start: 19:00:46\n",
      "Seizure end: 19:00:59\n",
      "Seizure start seconds: 68446\n",
      "Seizure end seconds: 68459\n",
      "Seizure duration: 13\n",
      "Seizure onset seconds: 506\n",
      "Post-ictal onset seconds: 519\n",
      "Loading edf file...\n",
      "Channels available: ['FP1-F7', 'F7-T7', 'T7-P7', 'P7-O1', 'FP1-F3', 'F3-C3', 'C3-P3', 'P3-O1', 'FP2-F4', 'F4-C4', 'C4-P4', 'P4-O2', 'FP2-F8', 'F8-T8', 'T8-P8-0', 'P8-O2', 'FZ-CZ', 'CZ-PZ', 'P7-T7', 'T7-FT9', 'FT9-FT10', 'FT10-T8', 'T8-P8-1']\n",
      "Detected bipolar montage channels\n",
      "Total regional features extracted: 480\n",
      "Mean connectivity shape: (23, 23)\n",
      "Number of epochs:  6\n",
      "Storing features...\n",
      "Detected bipolar montage channels\n",
      "Total regional features extracted: 480\n"
     ]
    },
    {
     "name": "stderr",
     "output_type": "stream",
     "text": [
      " 14%|█▍        | 34/245 [2:30:41<33:17:08, 567.91s/it]"
     ]
    },
    {
     "name": "stdout",
     "output_type": "stream",
     "text": [
      "Patient id: chb06\n",
      "Edf file: chb06_18.edf\n",
      "Registration start: 11:45:55\n",
      "Registration end: 13:58:03\n",
      "Registration start seconds: 42355\n",
      "Registration end seconds: 50283\n",
      "EDF file duration: 7928\n",
      "Seizure start: 14:15:54\n",
      "Seizure end: 14:16:06\n",
      "Seizure start seconds: 51354\n",
      "Seizure end seconds: 51366\n",
      "Seizure duration: 12\n",
      "Seizure onset seconds: 8999\n",
      "Post-ictal onset seconds: 9011\n",
      "Loading edf file...\n",
      "Channels available: ['FP1-F7', 'F7-T7', 'T7-P7', 'P7-O1', 'FP1-F3', 'F3-C3', 'C3-P3', 'P3-O1', 'FP2-F4', 'F4-C4', 'C4-P4', 'P4-O2', 'FP2-F8', 'F8-T8', 'T8-P8-0', 'P8-O2', 'FZ-CZ', 'CZ-PZ', 'P7-T7', 'T7-FT9', 'FT9-FT10', 'FT10-T8', 'T8-P8-1']\n"
     ]
    },
    {
     "name": "stderr",
     "output_type": "stream",
     "text": [
      " 14%|█▍        | 35/245 [2:30:42<23:12:33, 397.87s/it]"
     ]
    },
    {
     "name": "stdout",
     "output_type": "stream",
     "text": [
      "Error processing data/chb-mit\\chb06\\chb06_18.edf: tmax (9011) must be less than or equal to the max time (7927.9961 s)\n",
      "Patient id: chb06\n",
      "Edf file: chb06_24.edf\n",
      "Registration start: 08:23:24\n",
      "Registration end: 12:23:24\n",
      "Registration start seconds: 30204\n",
      "Registration end seconds: 44604\n",
      "EDF file duration: 14400\n",
      "Seizure start: 11:00:11\n",
      "Seizure end: 11:00:27\n",
      "Seizure start seconds: 39611\n",
      "Seizure end seconds: 39627\n",
      "Seizure duration: 16\n",
      "Seizure onset seconds: 9407\n",
      "Post-ictal onset seconds: 9423\n",
      "Loading edf file...\n",
      "Channels available: ['FP1-F7', 'F7-T7', 'T7-P7', 'P7-O1', 'FP1-F3', 'F3-C3', 'C3-P3', 'P3-O1', 'FP2-F4', 'F4-C4', 'C4-P4', 'P4-O2', 'FP2-F8', 'F8-T8', 'T8-P8-0', 'P8-O2', 'FZ-CZ', 'CZ-PZ', 'P7-T7', 'T7-FT9', 'FT9-FT10', 'FT10-T8', 'T8-P8-1']\n",
      "Detected bipolar montage channels\n",
      "Total regional features extracted: 480\n",
      "Mean connectivity shape: (23, 23)\n",
      "Number of epochs:  8\n",
      "Storing features...\n",
      "Detected bipolar montage channels\n",
      "Total regional features extracted: 480\n"
     ]
    },
    {
     "name": "stderr",
     "output_type": "stream",
     "text": [
      " 15%|█▍        | 36/245 [2:35:00<20:39:06, 355.73s/it]"
     ]
    },
    {
     "name": "stdout",
     "output_type": "stream",
     "text": [
      "Patient id: chb07\n",
      "Edf file: chb07_12.edf\n",
      "Registration start: 07:46:22\n",
      "Registration end: 11:46:22\n",
      "Registration start seconds: 27982\n",
      "Registration end seconds: 42382\n",
      "EDF file duration: 14400\n",
      "Seizure start: 09:08:22\n",
      "Seizure end: 09:09:48\n",
      "Seizure start seconds: 32902\n",
      "Seizure end seconds: 32988\n",
      "Seizure duration: 86\n",
      "Seizure onset seconds: 4920\n",
      "Post-ictal onset seconds: 5006\n",
      "Loading edf file...\n",
      "Channels available: ['FP1-F7', 'F7-T7', 'T7-P7', 'P7-O1', 'FP1-F3', 'F3-C3', 'C3-P3', 'P3-O1', 'FP2-F4', 'F4-C4', 'C4-P4', 'P4-O2', 'FP2-F8', 'F8-T8', 'T8-P8-0', 'P8-O2', 'FZ-CZ', 'CZ-PZ', 'P7-T7', 'T7-FT9', 'FT9-FT10', 'FT10-T8', 'T8-P8-1']\n",
      "Detected bipolar montage channels\n",
      "Total regional features extracted: 480\n",
      "Mean connectivity shape: (23, 23)\n",
      "Number of epochs:  43\n",
      "Storing features...\n",
      "Detected bipolar montage channels\n",
      "Total regional features extracted: 480\n"
     ]
    },
    {
     "name": "stderr",
     "output_type": "stream",
     "text": [
      " 15%|█▌        | 37/245 [2:43:16<22:58:53, 397.76s/it]"
     ]
    },
    {
     "name": "stdout",
     "output_type": "stream",
     "text": [
      "Patient id: chb07\n",
      "Edf file: chb07_13.edf\n",
      "Registration start: 11:46:29\n",
      "Registration end: 12:48:35\n",
      "Registration start seconds: 42389\n",
      "Registration end seconds: 46115\n",
      "EDF file duration: 3726\n",
      "Seizure start: 12:41:14\n",
      "Seizure end: 12:42:50\n",
      "Seizure start seconds: 45674\n",
      "Seizure end seconds: 45770\n",
      "Seizure duration: 96\n",
      "Seizure onset seconds: 3285\n",
      "Post-ictal onset seconds: 3381\n",
      "Loading edf file...\n",
      "Channels available: ['FP1-F7', 'F7-T7', 'T7-P7', 'P7-O1', 'FP1-F3', 'F3-C3', 'C3-P3', 'P3-O1', 'FP2-F4', 'F4-C4', 'C4-P4', 'P4-O2', 'FP2-F8', 'F8-T8', 'T8-P8-0', 'P8-O2', 'FZ-CZ', 'CZ-PZ', 'P7-T7', 'T7-FT9', 'FT9-FT10', 'FT10-T8', 'T8-P8-1']\n",
      "Detected bipolar montage channels\n",
      "Total regional features extracted: 480\n",
      "Mean connectivity shape: (23, 23)\n",
      "Number of epochs:  48\n",
      "Storing features...\n",
      "Detected bipolar montage channels\n"
     ]
    },
    {
     "name": "stderr",
     "output_type": "stream",
     "text": [
      " 16%|█▌        | 38/245 [2:43:54<16:40:18, 289.95s/it]"
     ]
    },
    {
     "name": "stdout",
     "output_type": "stream",
     "text": [
      "Total regional features extracted: 480\n",
      "Patient id: chb07\n",
      "Edf file: chb07_19.edf\n",
      "Registration start: 08:12:32\n",
      "Registration end: 12:12:43\n",
      "Registration start seconds: 29552\n",
      "Registration end seconds: 43963\n",
      "EDF file duration: 14411\n",
      "Seizure start: 12:00:20\n",
      "Seizure end: 12:02:43\n",
      "Seizure start seconds: 43220\n",
      "Seizure end seconds: 43363\n",
      "Seizure duration: 143\n",
      "Seizure onset seconds: 13668\n",
      "Post-ictal onset seconds: 13811\n",
      "Loading edf file...\n",
      "Channels available: ['FP1-F7', 'F7-T7', 'T7-P7', 'P7-O1', 'FP1-F3', 'F3-C3', 'C3-P3', 'P3-O1', 'FP2-F4', 'F4-C4', 'C4-P4', 'P4-O2', 'FP2-F8', 'F8-T8', 'T8-P8-0', 'P8-O2', 'FZ-CZ', 'CZ-PZ', 'P7-T7', 'T7-FT9', 'FT9-FT10', 'FT10-T8', 'T8-P8-1']\n",
      "Detected bipolar montage channels\n",
      "Total regional features extracted: 480\n",
      "Mean connectivity shape: (23, 23)\n",
      "Number of epochs:  71\n",
      "Storing features...\n",
      "Detected bipolar montage channels\n"
     ]
    },
    {
     "name": "stderr",
     "output_type": "stream",
     "text": [
      " 16%|█▌        | 39/245 [2:44:50<12:34:52, 219.87s/it]"
     ]
    },
    {
     "name": "stdout",
     "output_type": "stream",
     "text": [
      "Total regional features extracted: 480\n",
      "Patient id: chb08\n",
      "Edf file: chb08_02.edf\n",
      "Registration start: 12:28:57\n",
      "Registration end: 13:28:57\n",
      "Registration start seconds: 44937\n",
      "Registration end seconds: 48537\n",
      "EDF file duration: 3600\n",
      "Seizure start: 13:13:27\n",
      "Seizure end: 13:16:18\n",
      "Seizure start seconds: 47607\n",
      "Seizure end seconds: 47778\n",
      "Seizure duration: 171\n",
      "Seizure onset seconds: 2670\n",
      "Post-ictal onset seconds: 2841\n",
      "Loading edf file...\n",
      "Channels available: ['FP1-F7', 'F7-T7', 'T7-P7', 'P7-O1', 'FP1-F3', 'F3-C3', 'C3-P3', 'P3-O1', 'FP2-F4', 'F4-C4', 'C4-P4', 'P4-O2', 'FP2-F8', 'F8-T8', 'T8-P8-0', 'P8-O2', 'FZ-CZ', 'CZ-PZ', 'P7-T7', 'T7-FT9', 'FT9-FT10', 'FT10-T8', 'T8-P8-1']\n",
      "Detected bipolar montage channels\n",
      "Total regional features extracted: 480\n",
      "Mean connectivity shape: (23, 23)\n",
      "Number of epochs:  85\n",
      "Storing features...\n",
      "Detected bipolar montage channels\n"
     ]
    },
    {
     "name": "stderr",
     "output_type": "stream",
     "text": [
      " 16%|█▋        | 40/245 [2:45:52<9:48:58, 172.38s/it] "
     ]
    },
    {
     "name": "stdout",
     "output_type": "stream",
     "text": [
      "Total regional features extracted: 480\n",
      "Patient id: chb08\n",
      "Edf file: chb08_05.edf\n",
      "Registration start: 15:29:14\n",
      "Registration end: 16:29:14\n",
      "Registration start seconds: 55754\n",
      "Registration end seconds: 59354\n",
      "EDF file duration: 3600\n",
      "Seizure start: 16:16:50\n",
      "Seizure end: 16:20:00\n",
      "Seizure start seconds: 58610\n",
      "Seizure end seconds: 58800\n",
      "Seizure duration: 190\n",
      "Seizure onset seconds: 2856\n",
      "Post-ictal onset seconds: 3046\n",
      "Loading edf file...\n",
      "Channels available: ['FP1-F7', 'F7-T7', 'T7-P7', 'P7-O1', 'FP1-F3', 'F3-C3', 'C3-P3', 'P3-O1', 'FP2-F4', 'F4-C4', 'C4-P4', 'P4-O2', 'FP2-F8', 'F8-T8', 'T8-P8-0', 'P8-O2', 'FZ-CZ', 'CZ-PZ', 'P7-T7', 'T7-FT9', 'FT9-FT10', 'FT10-T8', 'T8-P8-1']\n",
      "Detected bipolar montage channels\n",
      "Total regional features extracted: 480\n",
      "Mean connectivity shape: (23, 23)\n",
      "Number of epochs:  95\n",
      "Storing features...\n",
      "Detected bipolar montage channels\n"
     ]
    },
    {
     "name": "stderr",
     "output_type": "stream",
     "text": [
      " 17%|█▋        | 41/245 [2:46:42<7:40:51, 135.55s/it]"
     ]
    },
    {
     "name": "stdout",
     "output_type": "stream",
     "text": [
      "Total regional features extracted: 480\n",
      "Patient id: chb08\n",
      "Edf file: chb08_11.edf\n",
      "Registration start: 20:37:01\n",
      "Registration end: 21:37:01\n",
      "Registration start seconds: 74221\n",
      "Registration end seconds: 77821\n",
      "EDF file duration: 3600\n",
      "Seizure start: 21:26:49\n",
      "Seizure end: 21:29:03\n",
      "Seizure start seconds: 77209\n",
      "Seizure end seconds: 77343\n",
      "Seizure duration: 134\n",
      "Seizure onset seconds: 2988\n",
      "Post-ictal onset seconds: 3122\n",
      "Loading edf file...\n",
      "Channels available: ['FP1-F7', 'F7-T7', 'T7-P7', 'P7-O1', 'FP1-F3', 'F3-C3', 'C3-P3', 'P3-O1', 'FP2-F4', 'F4-C4', 'C4-P4', 'P4-O2', 'FP2-F8', 'F8-T8', 'T8-P8-0', 'P8-O2', 'FZ-CZ', 'CZ-PZ', 'P7-T7', 'T7-FT9', 'FT9-FT10', 'FT10-T8', 'T8-P8-1']\n",
      "Detected bipolar montage channels\n",
      "Total regional features extracted: 480\n",
      "Mean connectivity shape: (23, 23)\n",
      "Number of epochs:  67\n",
      "Storing features...\n",
      "Detected bipolar montage channels\n"
     ]
    },
    {
     "name": "stderr",
     "output_type": "stream",
     "text": [
      " 17%|█▋        | 42/245 [2:47:31<6:11:13, 109.72s/it]"
     ]
    },
    {
     "name": "stdout",
     "output_type": "stream",
     "text": [
      "Total regional features extracted: 480\n",
      "Patient id: chb08\n",
      "Edf file: chb08_13.edf\n",
      "Registration start: 22:37:16\n",
      "Registration end: 23:37:16\n",
      "Registration start seconds: 81436\n",
      "Registration end seconds: 85036\n",
      "EDF file duration: 3600\n",
      "Seizure start: 23:17:33\n",
      "Seizure end: 23:20:12\n",
      "Seizure start seconds: 83853\n",
      "Seizure end seconds: 84012\n",
      "Seizure duration: 159\n",
      "Seizure onset seconds: 2417\n",
      "Post-ictal onset seconds: 2576\n",
      "Loading edf file...\n",
      "Channels available: ['FP1-F7', 'F7-T7', 'T7-P7', 'P7-O1', 'FP1-F3', 'F3-C3', 'C3-P3', 'P3-O1', 'FP2-F4', 'F4-C4', 'C4-P4', 'P4-O2', 'FP2-F8', 'F8-T8', 'T8-P8-0', 'P8-O2', 'FZ-CZ', 'CZ-PZ', 'P7-T7', 'T7-FT9', 'FT9-FT10', 'FT10-T8', 'T8-P8-1']\n",
      "Detected bipolar montage channels\n",
      "Total regional features extracted: 480\n",
      "Mean connectivity shape: (23, 23)\n",
      "Number of epochs:  79\n",
      "Storing features...\n",
      "Detected bipolar montage channels\n",
      "Total regional features extracted: 480\n"
     ]
    },
    {
     "name": "stderr",
     "output_type": "stream",
     "text": [
      " 18%|█▊        | 43/245 [2:48:51<5:39:16, 100.77s/it]"
     ]
    },
    {
     "name": "stdout",
     "output_type": "stream",
     "text": [
      "Patient id: chb08\n",
      "Edf file: chb08_21.edf\n",
      "Registration start: 06:38:16\n",
      "Registration end: 07:38:16\n",
      "Registration start seconds: 23896\n",
      "Registration end seconds: 27496\n",
      "EDF file duration: 3600\n",
      "Seizure start: 07:13:03\n",
      "Seizure end: 07:17:27\n",
      "Seizure start seconds: 25983\n",
      "Seizure end seconds: 26247\n",
      "Seizure duration: 264\n",
      "Seizure onset seconds: 2087\n",
      "Post-ictal onset seconds: 2351\n",
      "Loading edf file...\n",
      "Channels available: ['FP1-F7', 'F7-T7', 'T7-P7', 'P7-O1', 'FP1-F3', 'F3-C3', 'C3-P3', 'P3-O1', 'FP2-F4', 'F4-C4', 'C4-P4', 'P4-O2', 'FP2-F8', 'F8-T8', 'T8-P8-0', 'P8-O2', 'FZ-CZ', 'CZ-PZ', 'P7-T7', 'T7-FT9', 'FT9-FT10', 'FT10-T8', 'T8-P8-1']\n",
      "Detected bipolar montage channels\n",
      "Total regional features extracted: 480\n",
      "Mean connectivity shape: (23, 23)\n",
      "Number of epochs:  132\n",
      "Storing features...\n",
      "Detected bipolar montage channels\n",
      "Total regional features extracted: 480\n"
     ]
    },
    {
     "name": "stderr",
     "output_type": "stream",
     "text": [
      " 18%|█▊        | 44/245 [2:50:27<5:32:24, 99.23s/it] "
     ]
    },
    {
     "name": "stdout",
     "output_type": "stream",
     "text": [
      "Patient id: chb09\n",
      "Edf file: chb09_06.edf\n",
      "Registration start: 12:21:42\n",
      "Registration end: 16:21:41\n",
      "Registration start seconds: 44502\n",
      "Registration end seconds: 58901\n",
      "EDF file duration: 14399\n",
      "Seizure start: 15:45:33\n",
      "Seizure end: 15:46:37\n",
      "Seizure start seconds: 56733\n",
      "Seizure end seconds: 56797\n",
      "Seizure duration: 64\n",
      "Seizure onset seconds: 12231\n",
      "Post-ictal onset seconds: 12295\n",
      "Loading edf file...\n",
      "Channels available: ['FP1-F7', 'F7-T7', 'T7-P7', 'P7-O1', 'FP1-F3', 'F3-C3', 'C3-P3', 'P3-O1', 'FP2-F4', 'F4-C4', 'C4-P4', 'P4-O2', 'FP2-F8', 'F8-T8', 'T8-P8-0', 'P8-O2', 'FZ-CZ', 'CZ-PZ', 'P7-T7', 'T7-FT9', 'FT9-FT10', 'FT10-T8', 'T8-P8-1', 'VNS']\n",
      "Detected bipolar montage channels\n",
      "Total regional features extracted: 480\n",
      "Mean connectivity shape: (24, 24)\n",
      "Number of epochs:  32\n",
      "Storing features...\n",
      "Detected bipolar montage channels\n",
      "Total regional features extracted: 480\n"
     ]
    },
    {
     "name": "stderr",
     "output_type": "stream",
     "text": [
      " 18%|█▊        | 45/245 [2:53:26<6:51:07, 123.34s/it]"
     ]
    },
    {
     "name": "stdout",
     "output_type": "stream",
     "text": [
      "Patient id: chb09\n",
      "Edf file: chb09_08.edf\n",
      "Registration start: 20:22:17\n",
      "Registration end: 00:22:17\n",
      "Registration start seconds: 73337\n",
      "Registration end seconds: 1337\n",
      "EDF file duration: -72000\n",
      "Seizure start: 21:11:28\n",
      "Seizure end: 21:12:47\n",
      "Seizure start seconds: 76288\n",
      "Seizure end seconds: 76367\n",
      "Seizure duration: 79\n",
      "Seizure onset seconds: 2951\n",
      "Post-ictal onset seconds: 3030\n",
      "Loading edf file...\n",
      "Channels available: ['FP1-F7', 'F7-T7', 'T7-P7', 'P7-O1', 'FP1-F3', 'F3-C3', 'C3-P3', 'P3-O1', 'FP2-F4', 'F4-C4', 'C4-P4', 'P4-O2', 'FP2-F8', 'F8-T8', 'T8-P8-0', 'P8-O2', 'FZ-CZ', 'CZ-PZ', 'P7-T7', 'T7-FT9', 'FT9-FT10', 'FT10-T8', 'T8-P8-1', 'VNS']\n",
      "Detected bipolar montage channels\n",
      "Total regional features extracted: 480\n",
      "Mean connectivity shape: (24, 24)\n",
      "Number of epochs:  39\n",
      "Storing features...\n",
      "Error processing data/chb-mit\\chb09\\chb09_08.edf: tmin (3030) must be less than tmax (-72001)\n"
     ]
    },
    {
     "name": "stderr",
     "output_type": "stream",
     "text": [
      " 19%|█▉        | 46/245 [2:54:03<5:22:44, 97.31s/it] "
     ]
    },
    {
     "name": "stdout",
     "output_type": "stream",
     "text": [
      "Patient id: chb09\n",
      "Edf file: chb09_08.edf\n",
      "Registration start: 20:22:17\n",
      "Registration end: 00:22:17\n",
      "Registration start seconds: 73337\n",
      "Registration end seconds: 1337\n",
      "EDF file duration: -72000\n",
      "Seizure start: 22:55:33\n",
      "Seizure end: 22:56:44\n",
      "Seizure start seconds: 82533\n",
      "Seizure end seconds: 82604\n",
      "Seizure duration: 71\n",
      "Seizure onset seconds: 9196\n",
      "Post-ictal onset seconds: 9267\n",
      "Loading edf file...\n",
      "Channels available: ['FP1-F7', 'F7-T7', 'T7-P7', 'P7-O1', 'FP1-F3', 'F3-C3', 'C3-P3', 'P3-O1', 'FP2-F4', 'F4-C4', 'C4-P4', 'P4-O2', 'FP2-F8', 'F8-T8', 'T8-P8-0', 'P8-O2', 'FZ-CZ', 'CZ-PZ', 'P7-T7', 'T7-FT9', 'FT9-FT10', 'FT10-T8', 'T8-P8-1', 'VNS']\n",
      "Detected bipolar montage channels\n",
      "Total regional features extracted: 480\n",
      "Mean connectivity shape: (24, 24)\n",
      "Number of epochs:  35\n"
     ]
    },
    {
     "name": "stderr",
     "output_type": "stream",
     "text": [
      " 19%|█▉        | 47/245 [2:54:39<4:21:06, 79.12s/it]"
     ]
    },
    {
     "name": "stdout",
     "output_type": "stream",
     "text": [
      "Storing features...\n",
      "Error processing data/chb-mit\\chb09\\chb09_08.edf: tmin (9267) must be less than tmax (-72001)\n",
      "Patient id: chb09\n",
      "Edf file: chb09_19.edf\n",
      "Registration start: 12:34:46\n",
      "Registration end: 14:09:46\n",
      "Registration start seconds: 45286\n",
      "Registration end seconds: 50986\n",
      "EDF file duration: 5700\n",
      "Seizure start: 14:03:05\n",
      "Seizure end: 14:04:07\n",
      "Seizure start seconds: 50585\n",
      "Seizure end seconds: 50647\n",
      "Seizure duration: 62\n",
      "Seizure onset seconds: 5299\n",
      "Post-ictal onset seconds: 5361\n",
      "Loading edf file...\n",
      "Channels available: ['FP1-F7', 'F7-T7', 'T7-P7', 'P7-O1', 'FP1-F3', 'F3-C3', 'C3-P3', 'P3-O1', 'FP2-F4', 'F4-C4', 'C4-P4', 'P4-O2', 'FP2-F8', 'F8-T8', 'T8-P8-0', 'P8-O2', 'FZ-CZ', 'CZ-PZ', 'P7-T7', 'T7-FT9', 'FT9-FT10', 'FT10-T8', 'T8-P8-1', 'VNS']\n",
      "Detected bipolar montage channels\n",
      "Total regional features extracted: 480\n",
      "Mean connectivity shape: (24, 24)\n",
      "Number of epochs:  31\n",
      "Storing features...\n",
      "Detected bipolar montage channels\n"
     ]
    },
    {
     "name": "stderr",
     "output_type": "stream",
     "text": [
      " 20%|█▉        | 48/245 [2:55:28<3:49:38, 69.94s/it]"
     ]
    },
    {
     "name": "stdout",
     "output_type": "stream",
     "text": [
      "Total regional features extracted: 480\n",
      "Patient id: chb10\n",
      "Edf file: chb10_12.edf\n",
      "Registration start: 15:55:00\n",
      "Registration end: 17:55:00\n",
      "Registration start seconds: 57300\n",
      "Registration end seconds: 64500\n",
      "EDF file duration: 7200\n",
      "Seizure start: 17:40:13\n",
      "Seizure end: 17:40:48\n",
      "Seizure start seconds: 63613\n",
      "Seizure end seconds: 63648\n",
      "Seizure duration: 35\n",
      "Seizure onset seconds: 6313\n",
      "Post-ictal onset seconds: 6348\n",
      "Loading edf file...\n",
      "Channels available: ['FP1-F7', 'F7-T7', 'T7-P7', 'P7-O1', 'FP1-F3', 'F3-C3', 'C3-P3', 'P3-O1', 'FP2-F4', 'F4-C4', 'C4-P4', 'P4-O2', 'FP2-F8', 'F8-T8', 'T8-P8-0', 'P8-O2', 'FZ-CZ', 'CZ-PZ', 'P7-T7', 'T7-FT9', 'FT9-FT10', 'FT10-T8', 'T8-P8-1']\n",
      "Detected bipolar montage channels\n",
      "Total regional features extracted: 480\n",
      "Mean connectivity shape: (23, 23)\n",
      "Number of epochs:  17\n",
      "Storing features...\n",
      "Detected bipolar montage channels\n",
      "Total regional features extracted: 480\n"
     ]
    },
    {
     "name": "stderr",
     "output_type": "stream",
     "text": [
      " 20%|██        | 49/245 [2:56:38<3:49:03, 70.12s/it]"
     ]
    },
    {
     "name": "stdout",
     "output_type": "stream",
     "text": [
      "Patient id: chb10\n",
      "Edf file: chb10_20.edf\n",
      "Registration start: 07:56:00\n",
      "Registration end: 09:56:12\n",
      "Registration start seconds: 28560\n",
      "Registration end seconds: 35772\n",
      "EDF file duration: 7212\n",
      "Seizure start: 09:50:48\n",
      "Seizure end: 09:51:58\n",
      "Seizure start seconds: 35448\n",
      "Seizure end seconds: 35518\n",
      "Seizure duration: 70\n",
      "Seizure onset seconds: 6888\n",
      "Post-ictal onset seconds: 6958\n",
      "Loading edf file...\n",
      "Channels available: ['FP1-F7', 'F7-T7', 'T7-P7', 'P7-O1', 'FP1-F3', 'F3-C3', 'C3-P3', 'P3-O1', 'FP2-F4', 'F4-C4', 'C4-P4', 'P4-O2', 'FP2-F8', 'F8-T8', 'T8-P8-0', 'P8-O2', 'FZ-CZ', 'CZ-PZ', 'P7-T7', 'T7-FT9', 'FT9-FT10', 'FT10-T8', 'T8-P8-1']\n",
      "Detected bipolar montage channels\n",
      "Total regional features extracted: 480\n",
      "Mean connectivity shape: (23, 23)\n",
      "Number of epochs:  35\n",
      "Storing features...\n",
      "Detected bipolar montage channels\n"
     ]
    },
    {
     "name": "stderr",
     "output_type": "stream",
     "text": [
      " 20%|██        | 50/245 [2:57:22<3:21:58, 62.15s/it]"
     ]
    },
    {
     "name": "stdout",
     "output_type": "stream",
     "text": [
      "Total regional features extracted: 480\n",
      "Patient id: chb10\n",
      "Edf file: chb10_27.edf\n",
      "Registration start: 22:02:08\n",
      "Registration end: 00:02:26\n",
      "Registration start seconds: 79328\n",
      "Registration end seconds: 146\n",
      "EDF file duration: -79182\n",
      "Seizure start: 22:41:50\n",
      "Seizure end: 22:42:55\n",
      "Seizure start seconds: 81710\n",
      "Seizure end seconds: 81775\n",
      "Seizure duration: 65\n",
      "Seizure onset seconds: 2382\n",
      "Post-ictal onset seconds: 2447\n",
      "Loading edf file...\n",
      "Channels available: ['FP1-F7', 'F7-T7', 'T7-P7', 'P7-O1', 'FP1-F3', 'F3-C3', 'C3-P3', 'P3-O1', 'FP2-F4', 'F4-C4', 'C4-P4', 'P4-O2', 'FP2-F8', 'F8-T8', 'T8-P8-0', 'P8-O2', 'FZ-CZ', 'CZ-PZ', 'P7-T7', 'T7-FT9', 'FT9-FT10', 'FT10-T8', 'T8-P8-1']\n",
      "Detected bipolar montage channels\n",
      "Total regional features extracted: 480\n",
      "Mean connectivity shape: (23, 23)\n",
      "Number of epochs:  32\n"
     ]
    },
    {
     "name": "stderr",
     "output_type": "stream",
     "text": [
      " 21%|██        | 51/245 [2:57:58<2:55:32, 54.29s/it]"
     ]
    },
    {
     "name": "stdout",
     "output_type": "stream",
     "text": [
      "Storing features...\n",
      "Error processing data/chb-mit\\chb10\\chb10_27.edf: tmin (2447) must be less than tmax (-79183)\n",
      "Patient id: chb10\n",
      "Edf file: chb10_30.edf\n",
      "Registration start: 04:03:19\n",
      "Registration end: 06:03:32\n",
      "Registration start seconds: 14599\n",
      "Registration end seconds: 21812\n",
      "EDF file duration: 7213\n",
      "Seizure start: 04:53:40\n",
      "Seizure end: 04:54:38\n",
      "Seizure start seconds: 17620\n",
      "Seizure end seconds: 17678\n",
      "Seizure duration: 58\n",
      "Seizure onset seconds: 3021\n",
      "Post-ictal onset seconds: 3079\n",
      "Loading edf file...\n",
      "Channels available: ['FP1-F7', 'F7-T7', 'T7-P7', 'P7-O1', 'FP1-F3', 'F3-C3', 'C3-P3', 'P3-O1', 'FP2-F4', 'F4-C4', 'C4-P4', 'P4-O2', 'FP2-F8', 'F8-T8', 'T8-P8-0', 'P8-O2', 'FZ-CZ', 'CZ-PZ', 'P7-T7', 'T7-FT9', 'FT9-FT10', 'FT10-T8', 'T8-P8-1']\n",
      "Detected bipolar montage channels\n",
      "Total regional features extracted: 480\n",
      "Mean connectivity shape: (23, 23)\n",
      "Number of epochs:  29\n",
      "Storing features...\n",
      "Detected bipolar montage channels\n",
      "Total regional features extracted: 480\n"
     ]
    },
    {
     "name": "stderr",
     "output_type": "stream",
     "text": [
      " 21%|██        | 52/245 [3:03:29<7:21:21, 137.21s/it]"
     ]
    },
    {
     "name": "stdout",
     "output_type": "stream",
     "text": [
      "Patient id: chb10\n",
      "Edf file: chb10_31.edf\n",
      "Registration start: 06:04:00\n",
      "Registration end: 08:04:21\n",
      "Registration start seconds: 21840\n",
      "Registration end seconds: 29061\n",
      "EDF file duration: 7221\n",
      "Seizure start: 07:07:21\n",
      "Seizure end: 07:08:37\n",
      "Seizure start seconds: 25641\n",
      "Seizure end seconds: 25717\n",
      "Seizure duration: 76\n",
      "Seizure onset seconds: 3801\n",
      "Post-ictal onset seconds: 3877\n",
      "Loading edf file...\n",
      "Channels available: ['FP1-F7', 'F7-T7', 'T7-P7', 'P7-O1', 'FP1-F3', 'F3-C3', 'C3-P3', 'P3-O1', 'FP2-F4', 'F4-C4', 'C4-P4', 'P4-O2', 'FP2-F8', 'F8-T8', 'T8-P8-0', 'P8-O2', 'FZ-CZ', 'CZ-PZ', 'P7-T7', 'T7-FT9', 'FT9-FT10', 'FT10-T8', 'T8-P8-1']\n",
      "Detected bipolar montage channels\n",
      "Total regional features extracted: 480\n",
      "Mean connectivity shape: (23, 23)\n",
      "Number of epochs:  38\n",
      "Storing features...\n",
      "Detected bipolar montage channels\n",
      "Total regional features extracted: 480\n"
     ]
    },
    {
     "name": "stderr",
     "output_type": "stream",
     "text": [
      " 22%|██▏       | 53/245 [3:07:29<8:57:53, 168.09s/it]"
     ]
    },
    {
     "name": "stdout",
     "output_type": "stream",
     "text": [
      "Patient id: chb10\n",
      "Edf file: chb10_38.edf\n",
      "Registration start: 14:33:05\n",
      "Registration end: 16:33:05\n",
      "Registration start seconds: 52385\n",
      "Registration end seconds: 59585\n",
      "EDF file duration: 7200\n",
      "Seizure start: 15:50:03\n",
      "Seizure end: 15:51:32\n",
      "Seizure start seconds: 57003\n",
      "Seizure end seconds: 57092\n",
      "Seizure duration: 89\n",
      "Seizure onset seconds: 4618\n",
      "Post-ictal onset seconds: 4707\n",
      "Loading edf file...\n",
      "Channels available: ['FP1-F7', 'F7-T7', 'T7-P7', 'P7-O1', 'FP1-F3', 'F3-C3', 'C3-P3', 'P3-O1', 'FP2-F4', 'F4-C4', 'C4-P4', 'P4-O2', 'FP2-F8', 'F8-T8', 'T8-P8-0', 'P8-O2', 'FZ-CZ', 'CZ-PZ', 'P7-T7', 'T7-FT9', 'FT9-FT10', 'FT10-T8', 'T8-P8-1']\n",
      "Detected bipolar montage channels\n",
      "Total regional features extracted: 480\n",
      "Mean connectivity shape: (23, 23)\n",
      "Number of epochs:  44\n",
      "Storing features...\n",
      "Detected bipolar montage channels\n",
      "Total regional features extracted: 480\n"
     ]
    },
    {
     "name": "stderr",
     "output_type": "stream",
     "text": [
      " 22%|██▏       | 54/245 [3:11:35<10:10:03, 191.64s/it]"
     ]
    },
    {
     "name": "stdout",
     "output_type": "stream",
     "text": [
      "Patient id: chb10\n",
      "Edf file: chb10_89.edf\n",
      "Registration start: 16:21:55\n",
      "Registration end: 18:21:55\n",
      "Registration start seconds: 58915\n",
      "Registration end seconds: 66115\n",
      "EDF file duration: 7200\n",
      "Seizure start: 16:45:58\n",
      "Seizure end: 16:46:52\n",
      "Seizure start seconds: 60358\n",
      "Seizure end seconds: 60412\n",
      "Seizure duration: 54\n",
      "Seizure onset seconds: 1443\n",
      "Post-ictal onset seconds: 1497\n",
      "Loading edf file...\n",
      "Channels available: ['FP1-F7', 'F7-T7', 'T7-P7', 'P7-O1', 'FP1-F3', 'F3-C3', 'C3-P3', 'P3-O1', 'FP2-F4', 'F4-C4', 'C4-P4', 'P4-O2', 'FP2-F8', 'F8-T8', 'T8-P8-0', 'P8-O2', 'FZ-CZ', 'CZ-PZ', 'P7-T7', 'T7-FT9', 'FT9-FT10', 'FT10-T8', 'T8-P8-1']\n",
      "Detected bipolar montage channels\n",
      "Total regional features extracted: 480\n",
      "Mean connectivity shape: (23, 23)\n",
      "Number of epochs:  27\n",
      "Storing features...\n",
      "Detected bipolar montage channels\n",
      "Total regional features extracted: 480\n"
     ]
    },
    {
     "name": "stderr",
     "output_type": "stream",
     "text": [
      " 22%|██▏       | 55/245 [3:21:38<16:37:35, 315.03s/it]"
     ]
    },
    {
     "name": "stdout",
     "output_type": "stream",
     "text": [
      "Patient id: chb11\n",
      "Edf file: chb11_82.edf\n",
      "Registration start: 21:47:24\n",
      "Registration end: 22:47:24\n",
      "Registration start seconds: 78444\n",
      "Registration end seconds: 82044\n",
      "EDF file duration: 3600\n",
      "Seizure start: 21:52:22\n",
      "Seizure end: 21:52:44\n",
      "Seizure start seconds: 78742\n",
      "Seizure end seconds: 78764\n",
      "Seizure duration: 22\n",
      "Seizure onset seconds: 298\n",
      "Post-ictal onset seconds: 320\n",
      "Loading edf file...\n",
      "Channels available: ['FP1-F7', 'F7-T7', 'T7-P7', 'P7-O1', '--0', 'FP1-F3', 'F3-C3', 'C3-P3', 'P3-O1', '--1', 'FZ-CZ', 'CZ-PZ', '--2', 'FP2-F4', 'F4-C4', 'C4-P4', 'P4-O2', '--3', 'FP2-F8', 'F8-T8', 'T8-P8-0', 'P8-O2', '--4', 'P7-T7', 'T7-FT9', 'FT9-FT10', 'FT10-T8', 'T8-P8-1']\n",
      "Detected bipolar montage channels\n",
      "Total regional features extracted: 480\n",
      "Mean connectivity shape: (28, 28)\n",
      "Number of epochs:  11\n",
      "Storing features...\n",
      "Detected bipolar montage channels\n",
      "Total regional features extracted: 480\n"
     ]
    },
    {
     "name": "stderr",
     "output_type": "stream",
     "text": [
      " 23%|██▎       | 56/245 [3:25:25<15:09:14, 288.65s/it]"
     ]
    },
    {
     "name": "stdout",
     "output_type": "stream",
     "text": [
      "Patient id: chb11\n",
      "Edf file: chb11_92.edf\n",
      "Registration start: 07:48:31\n",
      "Registration end: 08:48:31\n",
      "Registration start seconds: 28111\n",
      "Registration end seconds: 31711\n",
      "EDF file duration: 3600\n",
      "Seizure start: 08:33:26\n",
      "Seizure end: 08:33:58\n",
      "Seizure start seconds: 30806\n",
      "Seizure end seconds: 30838\n",
      "Seizure duration: 32\n",
      "Seizure onset seconds: 2695\n",
      "Post-ictal onset seconds: 2727\n",
      "Loading edf file...\n",
      "Channels available: ['FP1-F7', 'F7-T7', 'T7-P7', 'P7-O1', '--0', 'FP1-F3', 'F3-C3', 'C3-P3', 'P3-O1', '--1', 'FZ-CZ', 'CZ-PZ', '--2', 'FP2-F4', 'F4-C4', 'C4-P4', 'P4-O2', '--3', 'FP2-F8', 'F8-T8', 'T8-P8-0', 'P8-O2', '--4', 'P7-T7', 'T7-FT9', 'FT9-FT10', 'FT10-T8', 'T8-P8-1']\n",
      "Detected bipolar montage channels\n",
      "Total regional features extracted: 480\n",
      "Mean connectivity shape: (28, 28)\n",
      "Number of epochs:  16\n",
      "Storing features...\n",
      "Detected bipolar montage channels\n",
      "Total regional features extracted: 480\n"
     ]
    },
    {
     "name": "stderr",
     "output_type": "stream",
     "text": [
      " 23%|██▎       | 57/245 [3:26:36<11:39:37, 223.29s/it]"
     ]
    },
    {
     "name": "stdout",
     "output_type": "stream",
     "text": [
      "Patient id: chb11\n",
      "Edf file: chb11_99.edf\n",
      "Registration start: 14:49:19\n",
      "Registration end: 15:36:58\n",
      "Registration start seconds: 53359\n",
      "Registration end seconds: 56218\n",
      "EDF file duration: 2859\n",
      "Seizure start: 15:13:33\n",
      "Seizure end: 15:26:05\n",
      "Seizure start seconds: 54813\n",
      "Seizure end seconds: 55565\n",
      "Seizure duration: 752\n",
      "Seizure onset seconds: 1454\n",
      "Post-ictal onset seconds: 2206\n",
      "Loading edf file...\n",
      "Channels available: ['FP1-F7', 'F7-T7', 'T7-P7', 'P7-O1', '--0', 'FP1-F3', 'F3-C3', 'C3-P3', 'P3-O1', '--1', 'FZ-CZ', 'CZ-PZ', '--2', 'FP2-F4', 'F4-C4', 'C4-P4', 'P4-O2', '--3', 'FP2-F8', 'F8-T8', 'T8-P8-0', 'P8-O2', '--4', 'P7-T7', 'T7-FT9', 'FT9-FT10', 'FT10-T8', 'T8-P8-1']\n",
      "Detected bipolar montage channels\n",
      "Total regional features extracted: 480\n",
      "Mean connectivity shape: (28, 28)\n",
      "Number of epochs:  376\n",
      "Storing features...\n",
      "Detected bipolar montage channels\n"
     ]
    },
    {
     "name": "stderr",
     "output_type": "stream",
     "text": [
      " 24%|██▎       | 58/245 [3:28:33<9:56:26, 191.37s/it] "
     ]
    },
    {
     "name": "stdout",
     "output_type": "stream",
     "text": [
      "Total regional features extracted: 480\n",
      "Patient id: chb12\n",
      "Edf file: chb12_06.edf\n",
      "Registration start: 22:44:34\n",
      "Registration end: 23:44:40\n",
      "Registration start seconds: 81874\n",
      "Registration end seconds: 85480\n",
      "EDF file duration: 3606\n",
      "Seizure start: 23:12:19\n",
      "Seizure end: 23:13:20\n",
      "Seizure start seconds: 83539\n",
      "Seizure end seconds: 83600\n",
      "Seizure duration: 61\n",
      "Seizure onset seconds: 1665\n",
      "Post-ictal onset seconds: 1726\n",
      "Loading edf file...\n",
      "Channels available: ['FP1-F7', 'F7-T7', 'T7-P7', 'P7-O1', '--0', 'FP1-F3', 'F3-C3', 'C3-P3', 'P3-O1', '--1', 'FZ-CZ', 'CZ-PZ', '--2', 'FP2-F4', 'F4-C4', 'C4-P4', 'P4-O2', '--3', 'FP2-F8', 'F8-T8', 'T8-P8-0', 'P8-O2', '--4', 'P7-T7', 'T7-FT9', 'FT9-FT10', 'FT10-T8', 'T8-P8-1']\n",
      "Detected bipolar montage channels\n",
      "Total regional features extracted: 480\n",
      "Mean connectivity shape: (28, 28)\n",
      "Number of epochs:  30\n",
      "Storing features...\n",
      "Detected bipolar montage channels\n",
      "Total regional features extracted: 480\n"
     ]
    },
    {
     "name": "stderr",
     "output_type": "stream",
     "text": [
      " 24%|██▍       | 59/245 [3:30:59<9:11:06, 177.78s/it]"
     ]
    },
    {
     "name": "stdout",
     "output_type": "stream",
     "text": [
      "Patient id: chb12\n",
      "Edf file: chb12_06.edf\n",
      "Registration start: 22:44:34\n",
      "Registration end: 23:44:40\n",
      "Registration start seconds: 81874\n",
      "Registration end seconds: 85480\n",
      "EDF file duration: 3606\n",
      "Seizure start: 23:41:29\n",
      "Seizure end: 23:42:01\n",
      "Seizure start seconds: 85289\n",
      "Seizure end seconds: 85321\n",
      "Seizure duration: 32\n",
      "Seizure onset seconds: 3415\n",
      "Post-ictal onset seconds: 3447\n",
      "Loading edf file...\n",
      "Channels available: ['FP1-F7', 'F7-T7', 'T7-P7', 'P7-O1', '--0', 'FP1-F3', 'F3-C3', 'C3-P3', 'P3-O1', '--1', 'FZ-CZ', 'CZ-PZ', '--2', 'FP2-F4', 'F4-C4', 'C4-P4', 'P4-O2', '--3', 'FP2-F8', 'F8-T8', 'T8-P8-0', 'P8-O2', '--4', 'P7-T7', 'T7-FT9', 'FT9-FT10', 'FT10-T8', 'T8-P8-1']\n",
      "Detected bipolar montage channels\n",
      "Total regional features extracted: 480\n",
      "Mean connectivity shape: (28, 28)\n",
      "Number of epochs:  16\n",
      "Storing features...\n",
      "Detected bipolar montage channels\n"
     ]
    },
    {
     "name": "stderr",
     "output_type": "stream",
     "text": [
      " 24%|██▍       | 60/245 [3:31:38<6:59:24, 136.03s/it]"
     ]
    },
    {
     "name": "stdout",
     "output_type": "stream",
     "text": [
      "Total regional features extracted: 480\n",
      "Patient id: chb12\n",
      "Edf file: chb12_08.edf\n",
      "Registration start: 00:46:38\n",
      "Registration end: 01:46:38\n",
      "Registration start seconds: 2798\n",
      "Registration end seconds: 6398\n",
      "EDF file duration: 3600\n",
      "Seizure start: 01:10:24\n",
      "Seizure end: 01:10:37\n",
      "Seizure start seconds: 4224\n",
      "Seizure end seconds: 4237\n",
      "Seizure duration: 13\n",
      "Seizure onset seconds: 1426\n",
      "Post-ictal onset seconds: 1439\n",
      "Loading edf file...\n",
      "Channels available: ['FP1-F7', 'F7-T7', 'T7-P7', 'P7-O1', '--0', 'FP1-F3', 'F3-C3', 'C3-P3', 'P3-O1', '--1', 'FZ-CZ', 'CZ-PZ', '--2', 'FP2-F4', 'F4-C4', 'C4-P4', 'P4-O2', '--3', 'FP2-F8', 'F8-T8', 'T8-P8-0', 'P8-O2', '--4', 'P7-T7', 'T7-FT9', 'FT9-FT10', 'FT10-T8', 'T8-P8-1']\n",
      "Detected bipolar montage channels\n",
      "Total regional features extracted: 480\n",
      "Mean connectivity shape: (28, 28)\n",
      "Number of epochs:  6\n",
      "Storing features...\n",
      "Detected bipolar montage channels\n",
      "Total regional features extracted: 480\n"
     ]
    },
    {
     "name": "stderr",
     "output_type": "stream",
     "text": [
      " 25%|██▍       | 61/245 [3:34:34<7:33:40, 147.94s/it]"
     ]
    },
    {
     "name": "stdout",
     "output_type": "stream",
     "text": [
      "Patient id: chb12\n",
      "Edf file: chb12_08.edf\n",
      "Registration start: 00:46:38\n",
      "Registration end: 01:46:38\n",
      "Registration start seconds: 2798\n",
      "Registration end seconds: 6398\n",
      "EDF file duration: 3600\n",
      "Seizure start: 01:13:09\n",
      "Seizure end: 01:13:32\n",
      "Seizure start seconds: 4389\n",
      "Seizure end seconds: 4412\n",
      "Seizure duration: 23\n",
      "Seizure onset seconds: 1591\n",
      "Post-ictal onset seconds: 1614\n",
      "Loading edf file...\n",
      "Channels available: ['FP1-F7', 'F7-T7', 'T7-P7', 'P7-O1', '--0', 'FP1-F3', 'F3-C3', 'C3-P3', 'P3-O1', '--1', 'FZ-CZ', 'CZ-PZ', '--2', 'FP2-F4', 'F4-C4', 'C4-P4', 'P4-O2', '--3', 'FP2-F8', 'F8-T8', 'T8-P8-0', 'P8-O2', '--4', 'P7-T7', 'T7-FT9', 'FT9-FT10', 'FT10-T8', 'T8-P8-1']\n",
      "Detected bipolar montage channels\n",
      "Total regional features extracted: 480\n",
      "Mean connectivity shape: (28, 28)\n",
      "Number of epochs:  11\n",
      "Storing features...\n",
      "Detected bipolar montage channels\n",
      "Total regional features extracted: 480\n"
     ]
    },
    {
     "name": "stderr",
     "output_type": "stream",
     "text": [
      " 25%|██▌       | 62/245 [3:37:03<7:32:24, 148.33s/it]"
     ]
    },
    {
     "name": "stdout",
     "output_type": "stream",
     "text": [
      "Patient id: chb12\n",
      "Edf file: chb12_08.edf\n",
      "Registration start: 00:46:38\n",
      "Registration end: 01:46:38\n",
      "Registration start seconds: 2798\n",
      "Registration end seconds: 6398\n",
      "EDF file duration: 3600\n",
      "Seizure start: 01:19:15\n",
      "Seizure end: 01:19:35\n",
      "Seizure start seconds: 4755\n",
      "Seizure end seconds: 4775\n",
      "Seizure duration: 20\n",
      "Seizure onset seconds: 1957\n",
      "Post-ictal onset seconds: 1977\n",
      "Loading edf file...\n",
      "Channels available: ['FP1-F7', 'F7-T7', 'T7-P7', 'P7-O1', '--0', 'FP1-F3', 'F3-C3', 'C3-P3', 'P3-O1', '--1', 'FZ-CZ', 'CZ-PZ', '--2', 'FP2-F4', 'F4-C4', 'C4-P4', 'P4-O2', '--3', 'FP2-F8', 'F8-T8', 'T8-P8-0', 'P8-O2', '--4', 'P7-T7', 'T7-FT9', 'FT9-FT10', 'FT10-T8', 'T8-P8-1']\n",
      "Detected bipolar montage channels\n",
      "Total regional features extracted: 480\n",
      "Mean connectivity shape: (28, 28)\n",
      "Number of epochs:  10\n",
      "Storing features...\n",
      "Detected bipolar montage channels\n",
      "Total regional features extracted: 480\n"
     ]
    },
    {
     "name": "stderr",
     "output_type": "stream",
     "text": [
      " 26%|██▌       | 63/245 [3:38:51<6:53:37, 136.36s/it]"
     ]
    },
    {
     "name": "stdout",
     "output_type": "stream",
     "text": [
      "Patient id: chb12\n",
      "Edf file: chb12_08.edf\n",
      "Registration start: 00:46:38\n",
      "Registration end: 01:46:38\n",
      "Registration start seconds: 2798\n",
      "Registration end seconds: 6398\n",
      "EDF file duration: 3600\n",
      "Seizure start: 01:33:16\n",
      "Seizure end: 01:33:42\n",
      "Seizure start seconds: 5596\n",
      "Seizure end seconds: 5622\n",
      "Seizure duration: 26\n",
      "Seizure onset seconds: 2798\n",
      "Post-ictal onset seconds: 2824\n",
      "Loading edf file...\n",
      "Channels available: ['FP1-F7', 'F7-T7', 'T7-P7', 'P7-O1', '--0', 'FP1-F3', 'F3-C3', 'C3-P3', 'P3-O1', '--1', 'FZ-CZ', 'CZ-PZ', '--2', 'FP2-F4', 'F4-C4', 'C4-P4', 'P4-O2', '--3', 'FP2-F8', 'F8-T8', 'T8-P8-0', 'P8-O2', '--4', 'P7-T7', 'T7-FT9', 'FT9-FT10', 'FT10-T8', 'T8-P8-1']\n",
      "Detected bipolar montage channels\n",
      "Total regional features extracted: 480\n",
      "Mean connectivity shape: (28, 28)\n",
      "Number of epochs:  13\n",
      "Storing features...\n",
      "Detected bipolar montage channels\n",
      "Total regional features extracted: 480\n"
     ]
    },
    {
     "name": "stderr",
     "output_type": "stream",
     "text": [
      " 26%|██▌       | 64/245 [3:40:09<5:58:09, 118.72s/it]"
     ]
    },
    {
     "name": "stdout",
     "output_type": "stream",
     "text": [
      "Patient id: chb12\n",
      "Edf file: chb12_09.edf\n",
      "Registration start: 01:46:45\n",
      "Registration end: 02:46:57\n",
      "Registration start seconds: 6405\n",
      "Registration end seconds: 10017\n",
      "EDF file duration: 3612\n",
      "Seizure start: 02:38:07\n",
      "Seizure end: 02:38:39\n",
      "Seizure start seconds: 9487\n",
      "Seizure end seconds: 9519\n",
      "Seizure duration: 32\n",
      "Seizure onset seconds: 3082\n",
      "Post-ictal onset seconds: 3114\n",
      "Loading edf file...\n",
      "Channels available: ['FP1-F7', 'F7-T7', 'T7-P7', 'P7-O1', '--0', 'FP1-F3', 'F3-C3', 'C3-P3', 'P3-O1', '--1', 'FZ-CZ', 'CZ-PZ', '--2', 'FP2-F4', 'F4-C4', 'C4-P4', 'P4-O2', '--3', 'FP2-F8', 'F8-T8', 'T8-P8-0', 'P8-O2', '--4', 'P7-T7', 'T7-FT9', 'FT9-FT10', 'FT10-T8', 'T8-P8-1']\n",
      "Detected bipolar montage channels\n",
      "Total regional features extracted: 480\n",
      "Mean connectivity shape: (28, 28)\n",
      "Number of epochs:  16\n",
      "Storing features...\n",
      "Detected bipolar montage channels\n"
     ]
    },
    {
     "name": "stderr",
     "output_type": "stream",
     "text": [
      " 27%|██▋       | 65/245 [3:41:00<4:55:21, 98.45s/it] "
     ]
    },
    {
     "name": "stdout",
     "output_type": "stream",
     "text": [
      "Total regional features extracted: 480\n",
      "Patient id: chb12\n",
      "Edf file: chb12_09.edf\n",
      "Registration start: 01:46:45\n",
      "Registration end: 02:46:57\n",
      "Registration start seconds: 6405\n",
      "Registration end seconds: 10017\n",
      "EDF file duration: 3612\n",
      "Seizure start: 02:45:08\n",
      "Seizure end: 02:45:40\n",
      "Seizure start seconds: 9908\n",
      "Seizure end seconds: 9940\n",
      "Seizure duration: 32\n",
      "Seizure onset seconds: 3503\n",
      "Post-ictal onset seconds: 3535\n",
      "Loading edf file...\n",
      "Channels available: ['FP1-F7', 'F7-T7', 'T7-P7', 'P7-O1', '--0', 'FP1-F3', 'F3-C3', 'C3-P3', 'P3-O1', '--1', 'FZ-CZ', 'CZ-PZ', '--2', 'FP2-F4', 'F4-C4', 'C4-P4', 'P4-O2', '--3', 'FP2-F8', 'F8-T8', 'T8-P8-0', 'P8-O2', '--4', 'P7-T7', 'T7-FT9', 'FT9-FT10', 'FT10-T8', 'T8-P8-1']\n",
      "Detected bipolar montage channels\n",
      "Total regional features extracted: 480\n",
      "Mean connectivity shape: (28, 28)\n",
      "Number of epochs:  16\n",
      "Storing features...\n",
      "Detected bipolar montage channels\n"
     ]
    },
    {
     "name": "stderr",
     "output_type": "stream",
     "text": [
      " 27%|██▋       | 66/245 [3:41:35<3:56:44, 79.35s/it]"
     ]
    },
    {
     "name": "stdout",
     "output_type": "stream",
     "text": [
      "Total regional features extracted: 480\n",
      "Patient id: chb12\n",
      "Edf file: chb12_10.edf\n",
      "Registration start: 02:47:45\n",
      "Registration end: 03:47:56\n",
      "Registration start seconds: 10065\n",
      "Registration end seconds: 13676\n",
      "EDF file duration: 3611\n",
      "Seizure start: 02:57:38\n",
      "Seizure end: 02:58:10\n",
      "Seizure start seconds: 10658\n",
      "Seizure end seconds: 10690\n",
      "Seizure duration: 32\n",
      "Seizure onset seconds: 593\n",
      "Post-ictal onset seconds: 625\n",
      "Loading edf file...\n",
      "Channels available: ['FP1-F7', 'F7-T7', 'T7-P7', 'P7-O1', '--0', 'FP1-F3', 'F3-C3', 'C3-P3', 'P3-O1', '--1', 'FZ-CZ', 'CZ-PZ', '--2', 'FP2-F4', 'F4-C4', 'C4-P4', 'P4-O2', '--3', 'FP2-F8', 'F8-T8', 'T8-P8-0', 'P8-O2', '--4', 'P7-T7', 'T7-FT9', 'FT9-FT10', 'FT10-T8', 'T8-P8-1']\n",
      "Detected bipolar montage channels\n",
      "Total regional features extracted: 480\n",
      "Mean connectivity shape: (28, 28)\n",
      "Number of epochs:  16\n",
      "Storing features...\n",
      "Detected bipolar montage channels\n",
      "Total regional features extracted: 480\n"
     ]
    },
    {
     "name": "stderr",
     "output_type": "stream",
     "text": [
      " 27%|██▋       | 67/245 [3:45:49<6:30:44, 131.71s/it]"
     ]
    },
    {
     "name": "stdout",
     "output_type": "stream",
     "text": [
      "Patient id: chb12\n",
      "Edf file: chb12_10.edf\n",
      "Registration start: 02:47:45\n",
      "Registration end: 03:47:56\n",
      "Registration start seconds: 10065\n",
      "Registration end seconds: 13676\n",
      "EDF file duration: 3611\n",
      "Seizure start: 03:01:16\n",
      "Seizure end: 03:02:01\n",
      "Seizure start seconds: 10876\n",
      "Seizure end seconds: 10921\n",
      "Seizure duration: 45\n",
      "Seizure onset seconds: 811\n",
      "Post-ictal onset seconds: 856\n",
      "Loading edf file...\n",
      "Channels available: ['FP1-F7', 'F7-T7', 'T7-P7', 'P7-O1', '--0', 'FP1-F3', 'F3-C3', 'C3-P3', 'P3-O1', '--1', 'FZ-CZ', 'CZ-PZ', '--2', 'FP2-F4', 'F4-C4', 'C4-P4', 'P4-O2', '--3', 'FP2-F8', 'F8-T8', 'T8-P8-0', 'P8-O2', '--4', 'P7-T7', 'T7-FT9', 'FT9-FT10', 'FT10-T8', 'T8-P8-1']\n",
      "Detected bipolar montage channels\n",
      "Total regional features extracted: 480\n",
      "Mean connectivity shape: (28, 28)\n",
      "Number of epochs:  22\n",
      "Storing features...\n",
      "Detected bipolar montage channels\n",
      "Total regional features extracted: 480\n"
     ]
    },
    {
     "name": "stderr",
     "output_type": "stream",
     "text": [
      " 28%|██▊       | 68/245 [3:49:28<7:46:14, 158.05s/it]"
     ]
    },
    {
     "name": "stdout",
     "output_type": "stream",
     "text": [
      "Patient id: chb12\n",
      "Edf file: chb12_11.edf\n",
      "Registration start: 03:48:28\n",
      "Registration end: 04:28:59\n",
      "Registration start seconds: 13708\n",
      "Registration end seconds: 16139\n",
      "EDF file duration: 2431\n",
      "Seizure start: 04:06:33\n",
      "Seizure end: 04:07:10\n",
      "Seizure start seconds: 14793\n",
      "Seizure end seconds: 14830\n",
      "Seizure duration: 37\n",
      "Seizure onset seconds: 1085\n",
      "Post-ictal onset seconds: 1122\n",
      "Loading edf file...\n",
      "Channels available: ['FP1-F7', 'F7-T7', 'T7-P7', 'P7-O1', '--0', 'FP1-F3', 'F3-C3', 'C3-P3', 'P3-O1', '--1', 'FZ-CZ', 'CZ-PZ', '--2', 'FP2-F4', 'F4-C4', 'C4-P4', 'P4-O2', '--3', 'FP2-F8', 'F8-T8', 'T8-P8-0', 'P8-O2', '--4', 'P7-T7', 'T7-FT9', 'FT9-FT10', 'FT10-T8', 'T8-P8-1']\n",
      "Detected bipolar montage channels\n",
      "Total regional features extracted: 480\n",
      "Mean connectivity shape: (28, 28)\n",
      "Number of epochs:  18\n",
      "Storing features...\n",
      "Detected bipolar montage channels\n",
      "Total regional features extracted: 480\n"
     ]
    },
    {
     "name": "stderr",
     "output_type": "stream",
     "text": [
      " 28%|██▊       | 69/245 [3:50:55<6:40:43, 136.61s/it]"
     ]
    },
    {
     "name": "stdout",
     "output_type": "stream",
     "text": [
      "Patient id: chb12\n",
      "Edf file: chb12_23.edf\n",
      "Registration start: 12:06:43\n",
      "Registration end: 13:06:43\n",
      "Registration start seconds: 43603\n",
      "Registration end seconds: 47203\n",
      "EDF file duration: 3600\n",
      "Seizure start: 12:10:56\n",
      "Seizure end: 12:12:16\n",
      "Seizure start seconds: 43856\n",
      "Seizure end seconds: 43936\n",
      "Seizure duration: 80\n",
      "Seizure onset seconds: 253\n",
      "Post-ictal onset seconds: 333\n",
      "Loading edf file...\n",
      "Channels available: ['FP1-F7', 'F7-T7', 'T7-P7', 'P7-O1', '--0', 'FP1-F3', 'F3-C3', 'C3-P3', 'P3-O1', '--1', 'FZ-CZ', 'CZ-PZ', '--2', 'FP2-F4', 'F4-C4', 'C4-P4', 'P4-O2', '--3', 'FP2-F8', 'F8-T8', 'T8-P8-0', 'P8-O2', '--4', 'P7-T7', 'T7-FT9', 'FT9-FT10', 'FT10-T8', 'T8-P8-1']\n",
      "Detected bipolar montage channels\n",
      "Total regional features extracted: 480\n",
      "Mean connectivity shape: (28, 28)\n",
      "Number of epochs:  40\n",
      "Storing features...\n",
      "Detected bipolar montage channels\n",
      "Total regional features extracted: 480\n"
     ]
    },
    {
     "name": "stderr",
     "output_type": "stream",
     "text": [
      " 29%|██▊       | 70/245 [3:54:22<7:40:41, 157.95s/it]"
     ]
    },
    {
     "name": "stdout",
     "output_type": "stream",
     "text": [
      "Patient id: chb12\n",
      "Edf file: chb12_23.edf\n",
      "Registration start: 12:06:43\n",
      "Registration end: 13:06:43\n",
      "Registration start seconds: 43603\n",
      "Registration end seconds: 47203\n",
      "EDF file duration: 3600\n",
      "Seizure start: 12:13:48\n",
      "Seizure end: 12:15:25\n",
      "Seizure start seconds: 44028\n",
      "Seizure end seconds: 44125\n",
      "Seizure duration: 97\n",
      "Seizure onset seconds: 425\n",
      "Post-ictal onset seconds: 522\n",
      "Loading edf file...\n",
      "Channels available: ['FP1-F7', 'F7-T7', 'T7-P7', 'P7-O1', '--0', 'FP1-F3', 'F3-C3', 'C3-P3', 'P3-O1', '--1', 'FZ-CZ', 'CZ-PZ', '--2', 'FP2-F4', 'F4-C4', 'C4-P4', 'P4-O2', '--3', 'FP2-F8', 'F8-T8', 'T8-P8-0', 'P8-O2', '--4', 'P7-T7', 'T7-FT9', 'FT9-FT10', 'FT10-T8', 'T8-P8-1']\n",
      "Detected bipolar montage channels\n",
      "Total regional features extracted: 480\n",
      "Mean connectivity shape: (28, 28)\n",
      "Number of epochs:  48\n",
      "Storing features...\n",
      "Detected bipolar montage channels\n",
      "Total regional features extracted: 480\n"
     ]
    },
    {
     "name": "stderr",
     "output_type": "stream",
     "text": [
      " 29%|██▉       | 71/245 [3:57:13<7:49:07, 161.77s/it]"
     ]
    },
    {
     "name": "stdout",
     "output_type": "stream",
     "text": [
      "Patient id: chb12\n",
      "Edf file: chb12_23.edf\n",
      "Registration start: 12:06:43\n",
      "Registration end: 13:06:43\n",
      "Registration start seconds: 43603\n",
      "Registration end seconds: 47203\n",
      "EDF file duration: 3600\n",
      "Seizure start: 12:17:13\n",
      "Seizure end: 12:17:53\n",
      "Seizure start seconds: 44233\n",
      "Seizure end seconds: 44273\n",
      "Seizure duration: 40\n",
      "Seizure onset seconds: 630\n",
      "Post-ictal onset seconds: 670\n",
      "Loading edf file...\n",
      "Channels available: ['FP1-F7', 'F7-T7', 'T7-P7', 'P7-O1', '--0', 'FP1-F3', 'F3-C3', 'C3-P3', 'P3-O1', '--1', 'FZ-CZ', 'CZ-PZ', '--2', 'FP2-F4', 'F4-C4', 'C4-P4', 'P4-O2', '--3', 'FP2-F8', 'F8-T8', 'T8-P8-0', 'P8-O2', '--4', 'P7-T7', 'T7-FT9', 'FT9-FT10', 'FT10-T8', 'T8-P8-1']\n",
      "Detected bipolar montage channels\n",
      "Total regional features extracted: 480\n",
      "Mean connectivity shape: (28, 28)\n",
      "Number of epochs:  20\n",
      "Storing features...\n",
      "Detected bipolar montage channels\n",
      "Total regional features extracted: 480\n"
     ]
    },
    {
     "name": "stderr",
     "output_type": "stream",
     "text": [
      " 29%|██▉       | 72/245 [3:59:37<7:30:35, 156.27s/it]"
     ]
    },
    {
     "name": "stdout",
     "output_type": "stream",
     "text": [
      "Patient id: chb12\n",
      "Edf file: chb12_27.edf\n",
      "Registration start: 16:07:06\n",
      "Registration end: 17:07:06\n",
      "Registration start seconds: 58026\n",
      "Registration end seconds: 61626\n",
      "EDF file duration: 3600\n",
      "Seizure start: 16:22:22\n",
      "Seizure end: 16:22:57\n",
      "Seizure start seconds: 58942\n",
      "Seizure end seconds: 58977\n",
      "Seizure duration: 35\n",
      "Seizure onset seconds: 916\n",
      "Post-ictal onset seconds: 951\n",
      "Loading edf file...\n",
      "Channels available: ['F7-CS2', 'T7-CS2', 'P7-CS2', '--0', 'FP1-CS2', 'F3-CS2', 'C3-CS2', 'P3-CS2', 'O1-CS2', '--1', 'FZ-CS2', 'CZ-CS2', 'PZ-CS2', '--2', 'FP2-CS2', 'F4-CS2', 'C4-CS2', 'P4-CS2', 'O2-CS2', '--3', 'F8-CS2', 'T8-CS2', 'P8-CS2', '--4', 'C2-CS2', 'C6-CS2', 'CP2-CS2', 'CP4-CS2', 'CP6-CS2']\n",
      "Detected bipolar montage channels\n",
      "No channels found for frontal region\n",
      "No channels found for temporal region\n",
      "No channels found for frontotemporal region\n",
      "No channels found for parietal region\n",
      "No channels found for occipital region\n",
      "No channels found for central region\n",
      "No channels found for left region\n",
      "No channels found for right region\n",
      "No channels found for midline region\n",
      "No channels found for cross_hemisphere region\n",
      "No channels found for left_lateral_chain region\n",
      "No channels found for left_parasagittal_chain region\n",
      "No channels found for right_parasagittal_chain region\n",
      "No channels found for right_lateral_chain region\n",
      "No channels found for midline_chain region\n",
      "Total regional features extracted: 0\n",
      "Mean connectivity shape: (29, 29)\n",
      "Number of epochs:  17\n",
      "Storing features...\n",
      "Detected bipolar montage channels\n",
      "No channels found for frontal region\n",
      "No channels found for temporal region\n",
      "No channels found for frontotemporal region\n",
      "No channels found for parietal region\n",
      "No channels found for occipital region\n",
      "No channels found for central region\n",
      "No channels found for left region\n",
      "No channels found for right region\n",
      "No channels found for midline region\n",
      "No channels found for cross_hemisphere region\n",
      "No channels found for left_lateral_chain region\n",
      "No channels found for left_parasagittal_chain region\n",
      "No channels found for right_parasagittal_chain region\n",
      "No channels found for right_lateral_chain region\n",
      "No channels found for midline_chain region\n",
      "Total regional features extracted: 0\n"
     ]
    },
    {
     "name": "stderr",
     "output_type": "stream",
     "text": [
      " 30%|██▉       | 73/245 [4:00:35<6:04:15, 127.07s/it]"
     ]
    },
    {
     "name": "stdout",
     "output_type": "stream",
     "text": [
      "Patient id: chb12\n",
      "Edf file: chb12_27.edf\n",
      "Registration start: 16:07:06\n",
      "Registration end: 17:07:06\n",
      "Registration start seconds: 58026\n",
      "Registration end seconds: 61626\n",
      "EDF file duration: 3600\n",
      "Seizure start: 16:25:23\n",
      "Seizure end: 16:25:50\n",
      "Seizure start seconds: 59123\n",
      "Seizure end seconds: 59150\n",
      "Seizure duration: 27\n",
      "Seizure onset seconds: 1097\n",
      "Post-ictal onset seconds: 1124\n",
      "Loading edf file...\n",
      "Channels available: ['F7-CS2', 'T7-CS2', 'P7-CS2', '--0', 'FP1-CS2', 'F3-CS2', 'C3-CS2', 'P3-CS2', 'O1-CS2', '--1', 'FZ-CS2', 'CZ-CS2', 'PZ-CS2', '--2', 'FP2-CS2', 'F4-CS2', 'C4-CS2', 'P4-CS2', 'O2-CS2', '--3', 'F8-CS2', 'T8-CS2', 'P8-CS2', '--4', 'C2-CS2', 'C6-CS2', 'CP2-CS2', 'CP4-CS2', 'CP6-CS2']\n",
      "Detected bipolar montage channels\n",
      "No channels found for frontal region\n",
      "No channels found for temporal region\n",
      "No channels found for frontotemporal region\n",
      "No channels found for parietal region\n",
      "No channels found for occipital region\n",
      "No channels found for central region\n",
      "No channels found for left region\n",
      "No channels found for right region\n",
      "No channels found for midline region\n",
      "No channels found for cross_hemisphere region\n",
      "No channels found for left_lateral_chain region\n",
      "No channels found for left_parasagittal_chain region\n",
      "No channels found for right_parasagittal_chain region\n",
      "No channels found for right_lateral_chain region\n",
      "No channels found for midline_chain region\n",
      "Total regional features extracted: 0\n",
      "Mean connectivity shape: (29, 29)\n",
      "Number of epochs:  13\n",
      "Storing features...\n",
      "Detected bipolar montage channels\n",
      "No channels found for frontal region\n",
      "No channels found for temporal region\n",
      "No channels found for frontotemporal region\n",
      "No channels found for parietal region\n",
      "No channels found for occipital region\n",
      "No channels found for central region\n",
      "No channels found for left region\n",
      "No channels found for right region\n",
      "No channels found for midline region\n",
      "No channels found for cross_hemisphere region\n",
      "No channels found for left_lateral_chain region\n",
      "No channels found for left_parasagittal_chain region\n",
      "No channels found for right_parasagittal_chain region\n",
      "No channels found for right_lateral_chain region\n",
      "No channels found for midline_chain region\n",
      "Total regional features extracted: 0\n"
     ]
    },
    {
     "name": "stderr",
     "output_type": "stream",
     "text": [
      " 30%|███       | 74/245 [4:01:34<5:03:27, 106.47s/it]"
     ]
    },
    {
     "name": "stdout",
     "output_type": "stream",
     "text": [
      "Patient id: chb12\n",
      "Edf file: chb12_27.edf\n",
      "Registration start: 16:07:06\n",
      "Registration end: 17:07:06\n",
      "Registration start seconds: 58026\n",
      "Registration end seconds: 61626\n",
      "EDF file duration: 3600\n",
      "Seizure start: 16:35:54\n",
      "Seizure end: 16:36:19\n",
      "Seizure start seconds: 59754\n",
      "Seizure end seconds: 59779\n",
      "Seizure duration: 25\n",
      "Seizure onset seconds: 1728\n",
      "Post-ictal onset seconds: 1753\n",
      "Loading edf file...\n",
      "Channels available: ['F7-CS2', 'T7-CS2', 'P7-CS2', '--0', 'FP1-CS2', 'F3-CS2', 'C3-CS2', 'P3-CS2', 'O1-CS2', '--1', 'FZ-CS2', 'CZ-CS2', 'PZ-CS2', '--2', 'FP2-CS2', 'F4-CS2', 'C4-CS2', 'P4-CS2', 'O2-CS2', '--3', 'F8-CS2', 'T8-CS2', 'P8-CS2', '--4', 'C2-CS2', 'C6-CS2', 'CP2-CS2', 'CP4-CS2', 'CP6-CS2']\n",
      "Detected bipolar montage channels\n",
      "No channels found for frontal region\n",
      "No channels found for temporal region\n",
      "No channels found for frontotemporal region\n",
      "No channels found for parietal region\n",
      "No channels found for occipital region\n",
      "No channels found for central region\n",
      "No channels found for left region\n",
      "No channels found for right region\n",
      "No channels found for midline region\n",
      "No channels found for cross_hemisphere region\n",
      "No channels found for left_lateral_chain region\n",
      "No channels found for left_parasagittal_chain region\n",
      "No channels found for right_parasagittal_chain region\n",
      "No channels found for right_lateral_chain region\n",
      "No channels found for midline_chain region\n",
      "Total regional features extracted: 0\n",
      "Mean connectivity shape: (29, 29)\n",
      "Number of epochs:  12\n",
      "Storing features...\n",
      "Detected bipolar montage channels\n",
      "No channels found for frontal region\n",
      "No channels found for temporal region\n",
      "No channels found for frontotemporal region\n",
      "No channels found for parietal region\n",
      "No channels found for occipital region\n",
      "No channels found for central region\n",
      "No channels found for left region\n",
      "No channels found for right region\n",
      "No channels found for midline region\n",
      "No channels found for cross_hemisphere region\n",
      "No channels found for left_lateral_chain region\n",
      "No channels found for left_parasagittal_chain region\n",
      "No channels found for right_parasagittal_chain region\n",
      "No channels found for right_lateral_chain region\n",
      "No channels found for midline_chain region\n",
      "Total regional features extracted: 0\n"
     ]
    },
    {
     "name": "stderr",
     "output_type": "stream",
     "text": [
      " 31%|███       | 75/245 [4:02:21<4:11:03, 88.61s/it] "
     ]
    },
    {
     "name": "stdout",
     "output_type": "stream",
     "text": [
      "Patient id: chb12\n",
      "Edf file: chb12_27.edf\n",
      "Registration start: 16:07:06\n",
      "Registration end: 17:07:06\n",
      "Registration start seconds: 58026\n",
      "Registration end seconds: 61626\n",
      "EDF file duration: 3600\n",
      "Seizure start: 16:39:07\n",
      "Seizure end: 16:39:49\n",
      "Seizure start seconds: 59947\n",
      "Seizure end seconds: 59989\n",
      "Seizure duration: 42\n",
      "Seizure onset seconds: 1921\n",
      "Post-ictal onset seconds: 1963\n",
      "Loading edf file...\n",
      "Channels available: ['F7-CS2', 'T7-CS2', 'P7-CS2', '--0', 'FP1-CS2', 'F3-CS2', 'C3-CS2', 'P3-CS2', 'O1-CS2', '--1', 'FZ-CS2', 'CZ-CS2', 'PZ-CS2', '--2', 'FP2-CS2', 'F4-CS2', 'C4-CS2', 'P4-CS2', 'O2-CS2', '--3', 'F8-CS2', 'T8-CS2', 'P8-CS2', '--4', 'C2-CS2', 'C6-CS2', 'CP2-CS2', 'CP4-CS2', 'CP6-CS2']\n",
      "Detected bipolar montage channels\n",
      "No channels found for frontal region\n",
      "No channels found for temporal region\n",
      "No channels found for frontotemporal region\n",
      "No channels found for parietal region\n",
      "No channels found for occipital region\n",
      "No channels found for central region\n",
      "No channels found for left region\n",
      "No channels found for right region\n",
      "No channels found for midline region\n",
      "No channels found for cross_hemisphere region\n",
      "No channels found for left_lateral_chain region\n",
      "No channels found for left_parasagittal_chain region\n",
      "No channels found for right_parasagittal_chain region\n",
      "No channels found for right_lateral_chain region\n",
      "No channels found for midline_chain region\n",
      "Total regional features extracted: 0\n",
      "Mean connectivity shape: (29, 29)\n",
      "Number of epochs:  21\n",
      "Storing features...\n",
      "Detected bipolar montage channels\n",
      "No channels found for frontal region\n",
      "No channels found for temporal region\n",
      "No channels found for frontotemporal region\n",
      "No channels found for parietal region\n",
      "No channels found for occipital region\n",
      "No channels found for central region\n",
      "No channels found for left region\n",
      "No channels found for right region\n",
      "No channels found for midline region\n",
      "No channels found for cross_hemisphere region\n",
      "No channels found for left_lateral_chain region\n",
      "No channels found for left_parasagittal_chain region\n",
      "No channels found for right_parasagittal_chain region\n",
      "No channels found for right_lateral_chain region\n",
      "No channels found for midline_chain region\n",
      "Total regional features extracted: 0\n"
     ]
    },
    {
     "name": "stderr",
     "output_type": "stream",
     "text": [
      " 31%|███       | 76/245 [4:03:03<3:30:07, 74.60s/it]"
     ]
    },
    {
     "name": "stdout",
     "output_type": "stream",
     "text": [
      "Patient id: chb12\n",
      "Edf file: chb12_27.edf\n",
      "Registration start: 16:07:06\n",
      "Registration end: 17:07:06\n",
      "Registration start seconds: 58026\n",
      "Registration end seconds: 61626\n",
      "EDF file duration: 3600\n",
      "Seizure start: 16:46:54\n",
      "Seizure end: 16:47:46\n",
      "Seizure start seconds: 60414\n",
      "Seizure end seconds: 60466\n",
      "Seizure duration: 52\n",
      "Seizure onset seconds: 2388\n",
      "Post-ictal onset seconds: 2440\n",
      "Loading edf file...\n",
      "Channels available: ['F7-CS2', 'T7-CS2', 'P7-CS2', '--0', 'FP1-CS2', 'F3-CS2', 'C3-CS2', 'P3-CS2', 'O1-CS2', '--1', 'FZ-CS2', 'CZ-CS2', 'PZ-CS2', '--2', 'FP2-CS2', 'F4-CS2', 'C4-CS2', 'P4-CS2', 'O2-CS2', '--3', 'F8-CS2', 'T8-CS2', 'P8-CS2', '--4', 'C2-CS2', 'C6-CS2', 'CP2-CS2', 'CP4-CS2', 'CP6-CS2']\n",
      "Detected bipolar montage channels\n",
      "No channels found for frontal region\n",
      "No channels found for temporal region\n",
      "No channels found for frontotemporal region\n",
      "No channels found for parietal region\n",
      "No channels found for occipital region\n",
      "No channels found for central region\n",
      "No channels found for left region\n",
      "No channels found for right region\n",
      "No channels found for midline region\n",
      "No channels found for cross_hemisphere region\n",
      "No channels found for left_lateral_chain region\n",
      "No channels found for left_parasagittal_chain region\n",
      "No channels found for right_parasagittal_chain region\n",
      "No channels found for right_lateral_chain region\n",
      "No channels found for midline_chain region\n",
      "Total regional features extracted: 0\n",
      "Mean connectivity shape: (29, 29)\n",
      "Number of epochs:  26\n",
      "Storing features...\n",
      "Detected bipolar montage channels\n",
      "No channels found for frontal region\n",
      "No channels found for temporal region\n",
      "No channels found for frontotemporal region\n",
      "No channels found for parietal region\n",
      "No channels found for occipital region\n",
      "No channels found for central region\n",
      "No channels found for left region\n",
      "No channels found for right region\n",
      "No channels found for midline region\n",
      "No channels found for cross_hemisphere region\n",
      "No channels found for left_lateral_chain region\n",
      "No channels found for left_parasagittal_chain region\n",
      "No channels found for right_parasagittal_chain region\n",
      "No channels found for right_lateral_chain region\n",
      "No channels found for midline_chain region\n",
      "Total regional features extracted: 0\n"
     ]
    },
    {
     "name": "stderr",
     "output_type": "stream",
     "text": [
      " 31%|███▏      | 77/245 [4:03:42<2:59:13, 64.01s/it]"
     ]
    },
    {
     "name": "stdout",
     "output_type": "stream",
     "text": [
      "Patient id: chb12\n",
      "Edf file: chb12_27.edf\n",
      "Registration start: 16:07:06\n",
      "Registration end: 17:07:06\n",
      "Registration start seconds: 58026\n",
      "Registration end seconds: 61626\n",
      "EDF file duration: 3600\n",
      "Seizure start: 16:50:47\n",
      "Seizure end: 16:51:35\n",
      "Seizure start seconds: 60647\n",
      "Seizure end seconds: 60695\n",
      "Seizure duration: 48\n",
      "Seizure onset seconds: 2621\n",
      "Post-ictal onset seconds: 2669\n",
      "Loading edf file...\n",
      "Channels available: ['F7-CS2', 'T7-CS2', 'P7-CS2', '--0', 'FP1-CS2', 'F3-CS2', 'C3-CS2', 'P3-CS2', 'O1-CS2', '--1', 'FZ-CS2', 'CZ-CS2', 'PZ-CS2', '--2', 'FP2-CS2', 'F4-CS2', 'C4-CS2', 'P4-CS2', 'O2-CS2', '--3', 'F8-CS2', 'T8-CS2', 'P8-CS2', '--4', 'C2-CS2', 'C6-CS2', 'CP2-CS2', 'CP4-CS2', 'CP6-CS2']\n",
      "Detected bipolar montage channels\n",
      "No channels found for frontal region\n",
      "No channels found for temporal region\n",
      "No channels found for frontotemporal region\n",
      "No channels found for parietal region\n",
      "No channels found for occipital region\n",
      "No channels found for central region\n",
      "No channels found for left region\n",
      "No channels found for right region\n",
      "No channels found for midline region\n",
      "No channels found for cross_hemisphere region\n",
      "No channels found for left_lateral_chain region\n",
      "No channels found for left_parasagittal_chain region\n",
      "No channels found for right_parasagittal_chain region\n",
      "No channels found for right_lateral_chain region\n",
      "No channels found for midline_chain region\n",
      "Total regional features extracted: 0\n",
      "Mean connectivity shape: (29, 29)\n",
      "Number of epochs:  24\n",
      "Storing features...\n",
      "Detected bipolar montage channels\n",
      "No channels found for frontal region\n",
      "No channels found for temporal region\n",
      "No channels found for frontotemporal region\n",
      "No channels found for parietal region\n",
      "No channels found for occipital region\n",
      "No channels found for central region\n",
      "No channels found for left region\n",
      "No channels found for right region\n",
      "No channels found for midline region\n",
      "No channels found for cross_hemisphere region\n",
      "No channels found for left_lateral_chain region\n",
      "No channels found for left_parasagittal_chain region\n",
      "No channels found for right_parasagittal_chain region\n",
      "No channels found for right_lateral_chain region\n",
      "No channels found for midline_chain region\n",
      "Total regional features extracted: 0\n"
     ]
    },
    {
     "name": "stderr",
     "output_type": "stream",
     "text": [
      " 32%|███▏      | 78/245 [4:04:19<2:35:43, 55.95s/it]"
     ]
    },
    {
     "name": "stdout",
     "output_type": "stream",
     "text": [
      "Patient id: chb12\n",
      "Edf file: chb12_28.edf\n",
      "Registration start: 17:07:12\n",
      "Registration end: 18:07:12\n",
      "Registration start seconds: 61632\n",
      "Registration end seconds: 65232\n",
      "EDF file duration: 3600\n",
      "Seizure start: 17:10:13\n",
      "Seizure end: 17:10:47\n",
      "Seizure start seconds: 61813\n",
      "Seizure end seconds: 61847\n",
      "Seizure duration: 34\n",
      "Seizure onset seconds: 181\n",
      "Post-ictal onset seconds: 215\n",
      "Loading edf file...\n",
      "Channels available: ['F7', 'T7', 'P7', '--0', 'FP1', 'F3', 'C3', 'P3', '01', '--1', 'FZ', 'CZ', 'PZ', '--2', 'FP2', 'F4', 'C4', 'P4', 'O2', '--3', 'F8', 'T8', 'P8', 'EKG1-CHIN', 'C2', 'C6', 'CP2', 'CP4', 'CP6']\n",
      "Detected monopolar/standard montage channels\n",
      "Total regional features extracted: 224\n",
      "Mean connectivity shape: (29, 29)\n",
      "Number of epochs:  17\n",
      "Storing features...\n",
      "Detected monopolar/standard montage channels\n",
      "Total regional features extracted: 224\n"
     ]
    },
    {
     "name": "stderr",
     "output_type": "stream",
     "text": [
      " 32%|███▏      | 79/245 [4:07:15<4:14:35, 92.02s/it]"
     ]
    },
    {
     "name": "stdout",
     "output_type": "stream",
     "text": [
      "Patient id: chb12\n",
      "Edf file: chb12_29.edf\n",
      "Registration start: 18:07:19\n",
      "Registration end: 19:07:43\n",
      "Registration start seconds: 65239\n",
      "Registration end seconds: 68863\n",
      "EDF file duration: 3624\n",
      "Seizure start: 18:09:06\n",
      "Seizure end: 18:09:45\n",
      "Seizure start seconds: 65346\n",
      "Seizure end seconds: 65385\n",
      "Seizure duration: 39\n",
      "Seizure onset seconds: 107\n",
      "Post-ictal onset seconds: 146\n",
      "Loading edf file...\n",
      "Channels available: ['F7', 'T7', 'P7', '--0', 'FP1', 'F3', 'C3', 'P3', '01', '--1', 'FZ', 'CZ', 'PZ', '--2', 'FP2', 'F4', 'C4', 'P4', 'O2', '--3', 'F8', 'T8', 'P8', 'EKG1-CHIN', 'C2', 'C6', 'CP2', 'CP4', 'CP6']\n",
      "Detected monopolar/standard montage channels\n",
      "Total regional features extracted: 224\n",
      "Mean connectivity shape: (29, 29)\n",
      "Number of epochs:  19\n",
      "Storing features...\n",
      "Detected monopolar/standard montage channels\n",
      "Total regional features extracted: 224\n"
     ]
    },
    {
     "name": "stderr",
     "output_type": "stream",
     "text": [
      " 33%|███▎      | 80/245 [4:10:13<5:23:59, 117.81s/it]"
     ]
    },
    {
     "name": "stdout",
     "output_type": "stream",
     "text": [
      "Patient id: chb12\n",
      "Edf file: chb12_29.edf\n",
      "Registration start: 18:07:19\n",
      "Registration end: 19:07:43\n",
      "Registration start seconds: 65239\n",
      "Registration end seconds: 68863\n",
      "EDF file duration: 3624\n",
      "Seizure start: 18:16:33\n",
      "Seizure end: 18:17:11\n",
      "Seizure start seconds: 65793\n",
      "Seizure end seconds: 65831\n",
      "Seizure duration: 38\n",
      "Seizure onset seconds: 554\n",
      "Post-ictal onset seconds: 592\n",
      "Loading edf file...\n",
      "Channels available: ['F7', 'T7', 'P7', '--0', 'FP1', 'F3', 'C3', 'P3', '01', '--1', 'FZ', 'CZ', 'PZ', '--2', 'FP2', 'F4', 'C4', 'P4', 'O2', '--3', 'F8', 'T8', 'P8', 'EKG1-CHIN', 'C2', 'C6', 'CP2', 'CP4', 'CP6']\n",
      "Detected monopolar/standard montage channels\n",
      "Total regional features extracted: 224\n",
      "Mean connectivity shape: (29, 29)\n",
      "Number of epochs:  19\n",
      "Storing features...\n",
      "Detected monopolar/standard montage channels\n",
      "Total regional features extracted: 224\n"
     ]
    },
    {
     "name": "stderr",
     "output_type": "stream",
     "text": [
      " 33%|███▎      | 81/245 [4:12:42<5:47:39, 127.19s/it]"
     ]
    },
    {
     "name": "stdout",
     "output_type": "stream",
     "text": [
      "Patient id: chb12\n",
      "Edf file: chb12_29.edf\n",
      "Registration start: 18:07:19\n",
      "Registration end: 19:07:43\n",
      "Registration start seconds: 65239\n",
      "Registration end seconds: 68863\n",
      "EDF file duration: 3624\n",
      "Seizure start: 18:26:42\n",
      "Seizure end: 18:27:18\n",
      "Seizure start seconds: 66402\n",
      "Seizure end seconds: 66438\n",
      "Seizure duration: 36\n",
      "Seizure onset seconds: 1163\n",
      "Post-ictal onset seconds: 1199\n",
      "Loading edf file...\n",
      "Channels available: ['F7', 'T7', 'P7', '--0', 'FP1', 'F3', 'C3', 'P3', '01', '--1', 'FZ', 'CZ', 'PZ', '--2', 'FP2', 'F4', 'C4', 'P4', 'O2', '--3', 'F8', 'T8', 'P8', 'EKG1-CHIN', 'C2', 'C6', 'CP2', 'CP4', 'CP6']\n",
      "Detected monopolar/standard montage channels\n",
      "Total regional features extracted: 224\n",
      "Mean connectivity shape: (29, 29)\n",
      "Number of epochs:  18\n",
      "Storing features...\n",
      "Detected monopolar/standard montage channels\n",
      "Total regional features extracted: 224\n"
     ]
    },
    {
     "name": "stderr",
     "output_type": "stream",
     "text": [
      " 33%|███▎      | 82/245 [4:14:46<5:42:13, 125.97s/it]"
     ]
    },
    {
     "name": "stdout",
     "output_type": "stream",
     "text": [
      "Patient id: chb12\n",
      "Edf file: chb12_29.edf\n",
      "Registration start: 18:07:19\n",
      "Registration end: 19:07:43\n",
      "Registration start seconds: 65239\n",
      "Registration end seconds: 68863\n",
      "EDF file duration: 3624\n",
      "Seizure start: 18:30:44\n",
      "Seizure end: 18:31:30\n",
      "Seizure start seconds: 66644\n",
      "Seizure end seconds: 66690\n",
      "Seizure duration: 46\n",
      "Seizure onset seconds: 1405\n",
      "Post-ictal onset seconds: 1451\n",
      "Loading edf file...\n",
      "Channels available: ['F7', 'T7', 'P7', '--0', 'FP1', 'F3', 'C3', 'P3', '01', '--1', 'FZ', 'CZ', 'PZ', '--2', 'FP2', 'F4', 'C4', 'P4', 'O2', '--3', 'F8', 'T8', 'P8', 'EKG1-CHIN', 'C2', 'C6', 'CP2', 'CP4', 'CP6']\n",
      "Detected monopolar/standard montage channels\n",
      "Total regional features extracted: 224\n",
      "Mean connectivity shape: (29, 29)\n",
      "Number of epochs:  23\n",
      "Storing features...\n",
      "Detected monopolar/standard montage channels\n",
      "Total regional features extracted: 224\n"
     ]
    },
    {
     "name": "stderr",
     "output_type": "stream",
     "text": [
      " 34%|███▍      | 83/245 [4:16:31<5:23:06, 119.67s/it]"
     ]
    },
    {
     "name": "stdout",
     "output_type": "stream",
     "text": [
      "Patient id: chb12\n",
      "Edf file: chb12_29.edf\n",
      "Registration start: 18:07:19\n",
      "Registration end: 19:07:43\n",
      "Registration start seconds: 65239\n",
      "Registration end seconds: 68863\n",
      "EDF file duration: 3624\n",
      "Seizure start: 18:38:43\n",
      "Seizure end: 18:39:20\n",
      "Seizure start seconds: 67123\n",
      "Seizure end seconds: 67160\n",
      "Seizure duration: 37\n",
      "Seizure onset seconds: 1884\n",
      "Post-ictal onset seconds: 1921\n",
      "Loading edf file...\n",
      "Channels available: ['F7', 'T7', 'P7', '--0', 'FP1', 'F3', 'C3', 'P3', '01', '--1', 'FZ', 'CZ', 'PZ', '--2', 'FP2', 'F4', 'C4', 'P4', 'O2', '--3', 'F8', 'T8', 'P8', 'EKG1-CHIN', 'C2', 'C6', 'CP2', 'CP4', 'CP6']\n",
      "Detected monopolar/standard montage channels\n",
      "Total regional features extracted: 224\n",
      "Mean connectivity shape: (29, 29)\n",
      "Number of epochs:  18\n",
      "Storing features...\n",
      "Detected monopolar/standard montage channels\n",
      "Total regional features extracted: 224\n"
     ]
    },
    {
     "name": "stderr",
     "output_type": "stream",
     "text": [
      " 34%|███▍      | 84/245 [4:18:03<4:59:28, 111.61s/it]"
     ]
    },
    {
     "name": "stdout",
     "output_type": "stream",
     "text": [
      "Patient id: chb12\n",
      "Edf file: chb12_29.edf\n",
      "Registration start: 18:07:19\n",
      "Registration end: 19:07:43\n",
      "Registration start seconds: 65239\n",
      "Registration end seconds: 68863\n",
      "EDF file duration: 3624\n",
      "Seizure start: 19:06:36\n",
      "Seizure end: 19:07:03\n",
      "Seizure start seconds: 68796\n",
      "Seizure end seconds: 68823\n",
      "Seizure duration: 27\n",
      "Seizure onset seconds: 3557\n",
      "Post-ictal onset seconds: 3584\n",
      "Loading edf file...\n",
      "Channels available: ['F7', 'T7', 'P7', '--0', 'FP1', 'F3', 'C3', 'P3', '01', '--1', 'FZ', 'CZ', 'PZ', '--2', 'FP2', 'F4', 'C4', 'P4', 'O2', '--3', 'F8', 'T8', 'P8', 'EKG1-CHIN', 'C2', 'C6', 'CP2', 'CP4', 'CP6']\n",
      "Detected monopolar/standard montage channels\n",
      "Total regional features extracted: 224\n",
      "Mean connectivity shape: (29, 29)\n",
      "Number of epochs:  13\n",
      "Storing features...\n",
      "Detected monopolar/standard montage channels\n"
     ]
    },
    {
     "name": "stderr",
     "output_type": "stream",
     "text": [
      " 35%|███▍      | 85/245 [4:18:30<3:49:39, 86.12s/it] "
     ]
    },
    {
     "name": "stdout",
     "output_type": "stream",
     "text": [
      "Total regional features extracted: 224\n",
      "Patient id: chb12\n",
      "Edf file: chb12_33.edf\n",
      "Registration start: 22:09:51\n",
      "Registration end: 23:09:51\n",
      "Registration start seconds: 79791\n",
      "Registration end seconds: 83391\n",
      "EDF file duration: 3600\n",
      "Seizure start: 22:46:16\n",
      "Seizure end: 22:46:37\n",
      "Seizure start seconds: 81976\n",
      "Seizure end seconds: 81997\n",
      "Seizure duration: 21\n",
      "Seizure onset seconds: 2185\n",
      "Post-ictal onset seconds: 2206\n",
      "Loading edf file...\n",
      "Channels available: ['FP1-F7', 'F7-T7', 'T7-P7', 'P7-O1', '--0', 'FP1-F3', 'F3-C3', 'C3-P3', 'P3-O1', '--1', 'FZ-CZ', 'CZ-PZ', '--2', 'FP2-F4', 'F4-C4', 'C4-P4', 'P4-O2', '--3', 'FP2-F8', 'F8-T8', 'T8-P8-0', 'P8-O2', '--4', 'P7-T7', 'T7-FT9', 'FT9-FT10', 'FT10-T8', 'T8-P8-1', 'LOC-ROC']\n",
      "Detected bipolar montage channels\n",
      "Total regional features extracted: 480\n",
      "Mean connectivity shape: (29, 29)\n",
      "Number of epochs:  10\n",
      "Storing features...\n",
      "Detected bipolar montage channels\n",
      "Total regional features extracted: 480\n"
     ]
    },
    {
     "name": "stderr",
     "output_type": "stream",
     "text": [
      " 35%|███▌      | 86/245 [4:20:06<3:56:13, 89.14s/it]"
     ]
    },
    {
     "name": "stdout",
     "output_type": "stream",
     "text": [
      "Patient id: chb12\n",
      "Edf file: chb12_33.edf\n",
      "Registration start: 22:09:51\n",
      "Registration end: 23:09:51\n",
      "Registration start seconds: 79791\n",
      "Registration end seconds: 83391\n",
      "EDF file duration: 3600\n",
      "Seizure start: 22:50:18\n",
      "Seizure end: 22:50:41\n",
      "Seizure start seconds: 82218\n",
      "Seizure end seconds: 82241\n",
      "Seizure duration: 23\n",
      "Seizure onset seconds: 2427\n",
      "Post-ictal onset seconds: 2450\n",
      "Loading edf file...\n",
      "Channels available: ['FP1-F7', 'F7-T7', 'T7-P7', 'P7-O1', '--0', 'FP1-F3', 'F3-C3', 'C3-P3', 'P3-O1', '--1', 'FZ-CZ', 'CZ-PZ', '--2', 'FP2-F4', 'F4-C4', 'C4-P4', 'P4-O2', '--3', 'FP2-F8', 'F8-T8', 'T8-P8-0', 'P8-O2', '--4', 'P7-T7', 'T7-FT9', 'FT9-FT10', 'FT10-T8', 'T8-P8-1', 'LOC-ROC']\n",
      "Detected bipolar montage channels\n",
      "Total regional features extracted: 480\n",
      "Mean connectivity shape: (29, 29)\n",
      "Number of epochs:  11\n",
      "Storing features...\n",
      "Detected bipolar montage channels\n",
      "Total regional features extracted: 480\n"
     ]
    },
    {
     "name": "stderr",
     "output_type": "stream",
     "text": [
      " 36%|███▌      | 87/245 [4:21:20<3:42:27, 84.48s/it]"
     ]
    },
    {
     "name": "stdout",
     "output_type": "stream",
     "text": [
      "Patient id: chb12\n",
      "Edf file: chb12_36.edf\n",
      "Registration start: 01:10:11\n",
      "Registration end: 02:10:11\n",
      "Registration start seconds: 4211\n",
      "Registration end seconds: 7811\n",
      "EDF file duration: 3600\n",
      "Seizure start: 01:21:04\n",
      "Seizure end: 01:21:31\n",
      "Seizure start seconds: 4864\n",
      "Seizure end seconds: 4891\n",
      "Seizure duration: 27\n",
      "Seizure onset seconds: 653\n",
      "Post-ictal onset seconds: 680\n",
      "Loading edf file...\n",
      "Channels available: ['FP1-F7', 'F7-T7', 'T7-P7', 'P7-O1', '--0', 'FP1-F3', 'F3-C3', 'C3-P3', 'P3-O1', '--1', 'FZ-CZ', 'CZ-PZ', '--2', 'FP2-F4', 'F4-C4', 'C4-P4', 'P4-O2', '--3', 'FP2-F8', 'F8-T8', 'T8-P8-0', 'P8-O2', '--4', 'P7-T7', 'T7-FT9', 'FT9-FT10', 'FT10-T8', 'T8-P8-1', 'LOC-ROC']\n",
      "Detected bipolar montage channels\n",
      "Total regional features extracted: 480\n",
      "Mean connectivity shape: (29, 29)\n",
      "Number of epochs:  13\n",
      "Storing features...\n",
      "Detected bipolar montage channels\n",
      "Total regional features extracted: 480\n"
     ]
    },
    {
     "name": "stderr",
     "output_type": "stream",
     "text": [
      " 36%|███▌      | 88/245 [4:24:31<5:04:38, 116.42s/it]"
     ]
    },
    {
     "name": "stdout",
     "output_type": "stream",
     "text": [
      "Patient id: chb12\n",
      "Edf file: chb12_38.edf\n",
      "Registration start: 03:11:04\n",
      "Registration end: 04:11:04\n",
      "Registration start seconds: 11464\n",
      "Registration end seconds: 15064\n",
      "EDF file duration: 3600\n",
      "Seizure start: 03:36:52\n",
      "Seizure end: 03:37:17\n",
      "Seizure start seconds: 13012\n",
      "Seizure end seconds: 13037\n",
      "Seizure duration: 25\n",
      "Seizure onset seconds: 1548\n",
      "Post-ictal onset seconds: 1573\n",
      "Loading edf file...\n",
      "Channels available: ['FP1-F7', 'F7-T7', 'T7-P7', 'P7-O1', '--0', 'FP1-F3', 'F3-C3', 'C3-P3', 'P3-O1', '--1', 'FZ-CZ', 'CZ-PZ', '--2', 'FP2-F4', 'F4-C4', 'C4-P4', 'P4-O2', '--3', 'FP2-F8', 'F8-T8', 'T8-P8-0', 'P8-O2', '--4', 'P7-T7', 'T7-FT9', 'FT9-FT10', 'FT10-T8', 'T8-P8-1', 'LOC-ROC']\n",
      "Detected bipolar montage channels\n",
      "Total regional features extracted: 480\n",
      "Mean connectivity shape: (29, 29)\n",
      "Number of epochs:  12\n",
      "Storing features...\n",
      "Detected bipolar montage channels\n",
      "Total regional features extracted: 480\n"
     ]
    },
    {
     "name": "stderr",
     "output_type": "stream",
     "text": [
      " 36%|███▋      | 89/245 [4:26:53<5:23:08, 124.29s/it]"
     ]
    },
    {
     "name": "stdout",
     "output_type": "stream",
     "text": [
      "Patient id: chb12\n",
      "Edf file: chb12_38.edf\n",
      "Registration start: 03:11:04\n",
      "Registration end: 04:11:04\n",
      "Registration start seconds: 11464\n",
      "Registration end seconds: 15064\n",
      "EDF file duration: 3600\n",
      "Seizure start: 03:57:42\n",
      "Seizure end: 03:58:05\n",
      "Seizure start seconds: 14262\n",
      "Seizure end seconds: 14285\n",
      "Seizure duration: 23\n",
      "Seizure onset seconds: 2798\n",
      "Post-ictal onset seconds: 2821\n",
      "Loading edf file...\n",
      "Channels available: ['FP1-F7', 'F7-T7', 'T7-P7', 'P7-O1', '--0', 'FP1-F3', 'F3-C3', 'C3-P3', 'P3-O1', '--1', 'FZ-CZ', 'CZ-PZ', '--2', 'FP2-F4', 'F4-C4', 'C4-P4', 'P4-O2', '--3', 'FP2-F8', 'F8-T8', 'T8-P8-0', 'P8-O2', '--4', 'P7-T7', 'T7-FT9', 'FT9-FT10', 'FT10-T8', 'T8-P8-1', 'LOC-ROC']\n",
      "Detected bipolar montage channels\n",
      "Total regional features extracted: 480\n",
      "Mean connectivity shape: (29, 29)\n",
      "Number of epochs:  11\n",
      "Storing features...\n",
      "Detected bipolar montage channels\n",
      "Total regional features extracted: 480\n"
     ]
    },
    {
     "name": "stderr",
     "output_type": "stream",
     "text": [
      " 37%|███▋      | 90/245 [4:27:58<4:35:10, 106.52s/it]"
     ]
    },
    {
     "name": "stdout",
     "output_type": "stream",
     "text": [
      "Patient id: chb12\n",
      "Edf file: chb12_38.edf\n",
      "Registration start: 03:11:04\n",
      "Registration end: 04:11:04\n",
      "Registration start seconds: 11464\n",
      "Registration end seconds: 15064\n",
      "EDF file duration: 3600\n",
      "Seizure start: 04:00:30\n",
      "Seizure end: 04:01:13\n",
      "Seizure start seconds: 14430\n",
      "Seizure end seconds: 14473\n",
      "Seizure duration: 43\n",
      "Seizure onset seconds: 2966\n",
      "Post-ictal onset seconds: 3009\n",
      "Loading edf file...\n",
      "Channels available: ['FP1-F7', 'F7-T7', 'T7-P7', 'P7-O1', '--0', 'FP1-F3', 'F3-C3', 'C3-P3', 'P3-O1', '--1', 'FZ-CZ', 'CZ-PZ', '--2', 'FP2-F4', 'F4-C4', 'C4-P4', 'P4-O2', '--3', 'FP2-F8', 'F8-T8', 'T8-P8-0', 'P8-O2', '--4', 'P7-T7', 'T7-FT9', 'FT9-FT10', 'FT10-T8', 'T8-P8-1', 'LOC-ROC']\n",
      "Detected bipolar montage channels\n",
      "Total regional features extracted: 480\n",
      "Mean connectivity shape: (29, 29)\n",
      "Number of epochs:  21\n",
      "Storing features...\n",
      "Detected bipolar montage channels\n"
     ]
    },
    {
     "name": "stderr",
     "output_type": "stream",
     "text": [
      " 37%|███▋      | 91/245 [4:28:49<3:50:07, 89.66s/it] "
     ]
    },
    {
     "name": "stdout",
     "output_type": "stream",
     "text": [
      "Total regional features extracted: 480\n",
      "Patient id: chb12\n",
      "Edf file: chb12_38.edf\n",
      "Registration start: 03:11:04\n",
      "Registration end: 04:11:04\n",
      "Registration start seconds: 11464\n",
      "Registration end seconds: 15064\n",
      "EDF file duration: 3600\n",
      "Seizure start: 04:03:30\n",
      "Seizure end: 04:04:25\n",
      "Seizure start seconds: 14610\n",
      "Seizure end seconds: 14665\n",
      "Seizure duration: 55\n",
      "Seizure onset seconds: 3146\n",
      "Post-ictal onset seconds: 3201\n",
      "Loading edf file...\n",
      "Channels available: ['FP1-F7', 'F7-T7', 'T7-P7', 'P7-O1', '--0', 'FP1-F3', 'F3-C3', 'C3-P3', 'P3-O1', '--1', 'FZ-CZ', 'CZ-PZ', '--2', 'FP2-F4', 'F4-C4', 'C4-P4', 'P4-O2', '--3', 'FP2-F8', 'F8-T8', 'T8-P8-0', 'P8-O2', '--4', 'P7-T7', 'T7-FT9', 'FT9-FT10', 'FT10-T8', 'T8-P8-1', 'LOC-ROC']\n",
      "Detected bipolar montage channels\n",
      "Total regional features extracted: 480\n",
      "Mean connectivity shape: (29, 29)\n",
      "Number of epochs:  27\n",
      "Storing features...\n",
      "Detected bipolar montage channels\n"
     ]
    },
    {
     "name": "stderr",
     "output_type": "stream",
     "text": [
      " 38%|███▊      | 92/245 [4:29:31<3:12:44, 75.58s/it]"
     ]
    },
    {
     "name": "stdout",
     "output_type": "stream",
     "text": [
      "Total regional features extracted: 480\n",
      "Patient id: chb12\n",
      "Edf file: chb12_38.edf\n",
      "Registration start: 03:11:04\n",
      "Registration end: 04:11:04\n",
      "Registration start seconds: 11464\n",
      "Registration end seconds: 15064\n",
      "EDF file duration: 3600\n",
      "Seizure start: 04:07:08\n",
      "Seizure end: 04:07:54\n",
      "Seizure start seconds: 14828\n",
      "Seizure end seconds: 14874\n",
      "Seizure duration: 46\n",
      "Seizure onset seconds: 3364\n",
      "Post-ictal onset seconds: 3410\n",
      "Loading edf file...\n",
      "Channels available: ['FP1-F7', 'F7-T7', 'T7-P7', 'P7-O1', '--0', 'FP1-F3', 'F3-C3', 'C3-P3', 'P3-O1', '--1', 'FZ-CZ', 'CZ-PZ', '--2', 'FP2-F4', 'F4-C4', 'C4-P4', 'P4-O2', '--3', 'FP2-F8', 'F8-T8', 'T8-P8-0', 'P8-O2', '--4', 'P7-T7', 'T7-FT9', 'FT9-FT10', 'FT10-T8', 'T8-P8-1', 'LOC-ROC']\n",
      "Detected bipolar montage channels\n",
      "Total regional features extracted: 480\n",
      "Mean connectivity shape: (29, 29)\n",
      "Number of epochs:  23\n",
      "Storing features...\n",
      "Detected bipolar montage channels\n"
     ]
    },
    {
     "name": "stderr",
     "output_type": "stream",
     "text": [
      " 38%|███▊      | 93/245 [4:30:04<2:38:26, 62.54s/it]"
     ]
    },
    {
     "name": "stdout",
     "output_type": "stream",
     "text": [
      "Total regional features extracted: 480\n",
      "Patient id: chb12\n",
      "Edf file: chb12_42.edf\n",
      "Registration start: 07:11:30\n",
      "Registration end: 08:11:30\n",
      "Registration start seconds: 25890\n",
      "Registration end seconds: 29490\n",
      "EDF file duration: 3600\n",
      "Seizure start: 07:23:09\n",
      "Seizure end: 07:24:00\n",
      "Seizure start seconds: 26589\n",
      "Seizure end seconds: 26640\n",
      "Seizure duration: 51\n",
      "Seizure onset seconds: 699\n",
      "Post-ictal onset seconds: 750\n",
      "Loading edf file...\n",
      "Channels available: ['FP1-F7', 'F7-T7', 'T7-P7', 'P7-O1', '--0', 'FP1-F3', 'F3-C3', 'C3-P3', 'P3-O1', '--1', 'FZ-CZ', 'CZ-PZ', '--2', 'FP2-F4', 'F4-C4', 'C4-P4', 'P4-O2', '--3', 'FP2-F8', 'F8-T8', 'T8-P8-0', 'P8-O2', '--4', 'P7-T7', 'T7-FT9', 'FT9-FT10', 'FT10-T8', 'T8-P8-1', 'LOC-ROC']\n",
      "Detected bipolar montage channels\n",
      "Total regional features extracted: 480\n",
      "Mean connectivity shape: (29, 29)\n",
      "Number of epochs:  25\n",
      "Storing features...\n",
      "Detected bipolar montage channels\n",
      "Total regional features extracted: 480\n"
     ]
    },
    {
     "name": "stderr",
     "output_type": "stream",
     "text": [
      " 38%|███▊      | 94/245 [4:33:07<4:08:26, 98.72s/it]"
     ]
    },
    {
     "name": "stdout",
     "output_type": "stream",
     "text": [
      "Patient id: chb12\n",
      "Edf file: chb12_42.edf\n",
      "Registration start: 07:11:30\n",
      "Registration end: 08:11:30\n",
      "Registration start seconds: 25890\n",
      "Registration end seconds: 29490\n",
      "EDF file duration: 3600\n",
      "Seizure start: 07:27:15\n",
      "Seizure end: 07:27:43\n",
      "Seizure start seconds: 26835\n",
      "Seizure end seconds: 26863\n",
      "Seizure duration: 28\n",
      "Seizure onset seconds: 945\n",
      "Post-ictal onset seconds: 973\n",
      "Loading edf file...\n",
      "Channels available: ['FP1-F7', 'F7-T7', 'T7-P7', 'P7-O1', '--0', 'FP1-F3', 'F3-C3', 'C3-P3', 'P3-O1', '--1', 'FZ-CZ', 'CZ-PZ', '--2', 'FP2-F4', 'F4-C4', 'C4-P4', 'P4-O2', '--3', 'FP2-F8', 'F8-T8', 'T8-P8-0', 'P8-O2', '--4', 'P7-T7', 'T7-FT9', 'FT9-FT10', 'FT10-T8', 'T8-P8-1', 'LOC-ROC']\n",
      "Detected bipolar montage channels\n",
      "Total regional features extracted: 480\n",
      "Mean connectivity shape: (29, 29)\n",
      "Number of epochs:  14\n",
      "Storing features...\n",
      "Detected bipolar montage channels\n",
      "Total regional features extracted: 480\n"
     ]
    },
    {
     "name": "stderr",
     "output_type": "stream",
     "text": [
      " 39%|███▉      | 95/245 [4:35:49<4:54:19, 117.73s/it]"
     ]
    },
    {
     "name": "stdout",
     "output_type": "stream",
     "text": [
      "Patient id: chb12\n",
      "Edf file: chb12_42.edf\n",
      "Registration start: 07:11:30\n",
      "Registration end: 08:11:30\n",
      "Registration start seconds: 25890\n",
      "Registration end seconds: 29490\n",
      "EDF file duration: 3600\n",
      "Seizure start: 07:31:00\n",
      "Seizure end: 07:31:29\n",
      "Seizure start seconds: 27060\n",
      "Seizure end seconds: 27089\n",
      "Seizure duration: 29\n",
      "Seizure onset seconds: 1170\n",
      "Post-ictal onset seconds: 1199\n",
      "Loading edf file...\n",
      "Channels available: ['FP1-F7', 'F7-T7', 'T7-P7', 'P7-O1', '--0', 'FP1-F3', 'F3-C3', 'C3-P3', 'P3-O1', '--1', 'FZ-CZ', 'CZ-PZ', '--2', 'FP2-F4', 'F4-C4', 'C4-P4', 'P4-O2', '--3', 'FP2-F8', 'F8-T8', 'T8-P8-0', 'P8-O2', '--4', 'P7-T7', 'T7-FT9', 'FT9-FT10', 'FT10-T8', 'T8-P8-1', 'LOC-ROC']\n",
      "Detected bipolar montage channels\n",
      "Total regional features extracted: 480\n",
      "Mean connectivity shape: (29, 29)\n",
      "Number of epochs:  14\n",
      "Storing features...\n",
      "Detected bipolar montage channels\n",
      "Total regional features extracted: 480\n"
     ]
    },
    {
     "name": "stderr",
     "output_type": "stream",
     "text": [
      " 39%|███▉      | 96/245 [4:38:19<5:16:41, 127.53s/it]"
     ]
    },
    {
     "name": "stdout",
     "output_type": "stream",
     "text": [
      "Patient id: chb12\n",
      "Edf file: chb12_42.edf\n",
      "Registration start: 07:11:30\n",
      "Registration end: 08:11:30\n",
      "Registration start seconds: 25890\n",
      "Registration end seconds: 29490\n",
      "EDF file duration: 3600\n",
      "Seizure start: 07:39:26\n",
      "Seizure end: 07:39:51\n",
      "Seizure start seconds: 27566\n",
      "Seizure end seconds: 27591\n",
      "Seizure duration: 25\n",
      "Seizure onset seconds: 1676\n",
      "Post-ictal onset seconds: 1701\n",
      "Loading edf file...\n",
      "Channels available: ['FP1-F7', 'F7-T7', 'T7-P7', 'P7-O1', '--0', 'FP1-F3', 'F3-C3', 'C3-P3', 'P3-O1', '--1', 'FZ-CZ', 'CZ-PZ', '--2', 'FP2-F4', 'F4-C4', 'C4-P4', 'P4-O2', '--3', 'FP2-F8', 'F8-T8', 'T8-P8-0', 'P8-O2', '--4', 'P7-T7', 'T7-FT9', 'FT9-FT10', 'FT10-T8', 'T8-P8-1', 'LOC-ROC']\n",
      "Detected bipolar montage channels\n",
      "Total regional features extracted: 480\n",
      "Mean connectivity shape: (29, 29)\n",
      "Number of epochs:  12\n",
      "Storing features...\n",
      "Detected bipolar montage channels\n",
      "Total regional features extracted: 480\n"
     ]
    },
    {
     "name": "stderr",
     "output_type": "stream",
     "text": [
      " 40%|███▉      | 97/245 [4:40:20<5:09:45, 125.58s/it]"
     ]
    },
    {
     "name": "stdout",
     "output_type": "stream",
     "text": [
      "Patient id: chb12\n",
      "Edf file: chb12_42.edf\n",
      "Registration start: 07:11:30\n",
      "Registration end: 08:11:30\n",
      "Registration start seconds: 25890\n",
      "Registration end seconds: 29490\n",
      "EDF file duration: 3600\n",
      "Seizure start: 07:48:23\n",
      "Seizure end: 07:48:46\n",
      "Seizure start seconds: 28103\n",
      "Seizure end seconds: 28126\n",
      "Seizure duration: 23\n",
      "Seizure onset seconds: 2213\n",
      "Post-ictal onset seconds: 2236\n",
      "Loading edf file...\n",
      "Channels available: ['FP1-F7', 'F7-T7', 'T7-P7', 'P7-O1', '--0', 'FP1-F3', 'F3-C3', 'C3-P3', 'P3-O1', '--1', 'FZ-CZ', 'CZ-PZ', '--2', 'FP2-F4', 'F4-C4', 'C4-P4', 'P4-O2', '--3', 'FP2-F8', 'F8-T8', 'T8-P8-0', 'P8-O2', '--4', 'P7-T7', 'T7-FT9', 'FT9-FT10', 'FT10-T8', 'T8-P8-1', 'LOC-ROC']\n",
      "Detected bipolar montage channels\n",
      "Total regional features extracted: 480\n",
      "Mean connectivity shape: (29, 29)\n",
      "Number of epochs:  11\n",
      "Storing features...\n",
      "Detected bipolar montage channels\n",
      "Total regional features extracted: 480\n"
     ]
    },
    {
     "name": "stderr",
     "output_type": "stream",
     "text": [
      " 40%|████      | 98/245 [4:41:48<4:40:06, 114.33s/it]"
     ]
    },
    {
     "name": "stdout",
     "output_type": "stream",
     "text": [
      "Patient id: chb13\n",
      "Edf file: chb13_19.edf\n",
      "Registration start: 09:14:25\n",
      "Registration end: 10:14:25\n",
      "Registration start seconds: 33265\n",
      "Registration end seconds: 36865\n",
      "EDF file duration: 3600\n",
      "Seizure start: 09:49:02\n",
      "Seizure end: 09:49:46\n",
      "Seizure start seconds: 35342\n",
      "Seizure end seconds: 35386\n",
      "Seizure duration: 44\n",
      "Seizure onset seconds: 2077\n",
      "Post-ictal onset seconds: 2121\n",
      "Loading edf file...\n",
      "Channels available: ['FP1-F7', 'F7-T7', 'T7-P7', 'P7-O1', '--0', 'FP1-F3', 'F3-C3', 'C3-P3', 'P3-O1', '--1', 'FZ-CZ', 'CZ-PZ', '--2', 'FP2-F4', 'F4-C4', 'C4-P4', 'P4-O2', '--3', 'FP2-F8', 'F8-T8', 'T8-P8-0', 'P8-O2', '--4', 'P7-T7', 'T7-FT9', 'FT9-FT10', 'FT10-T8', 'T8-P8-1']\n",
      "Detected bipolar montage channels\n",
      "Total regional features extracted: 480\n",
      "Mean connectivity shape: (28, 28)\n",
      "Number of epochs:  22\n",
      "Storing features...\n",
      "Detected bipolar montage channels\n",
      "Total regional features extracted: 480\n"
     ]
    },
    {
     "name": "stderr",
     "output_type": "stream",
     "text": [
      " 40%|████      | 99/245 [4:43:28<4:27:09, 109.79s/it]"
     ]
    },
    {
     "name": "stdout",
     "output_type": "stream",
     "text": [
      "Patient id: chb13\n",
      "Edf file: chb13_21.edf\n",
      "Registration start: 11:14:59\n",
      "Registration end: 12:14:59\n",
      "Registration start seconds: 40499\n",
      "Registration end seconds: 44099\n",
      "EDF file duration: 3600\n",
      "Seizure start: 11:30:33\n",
      "Seizure end: 11:31:43\n",
      "Seizure start seconds: 41433\n",
      "Seizure end seconds: 41503\n",
      "Seizure duration: 70\n",
      "Seizure onset seconds: 934\n",
      "Post-ictal onset seconds: 1004\n",
      "Loading edf file...\n",
      "Channels available: ['FP1-F7', 'F7-T7', 'T7-P7', 'P7-O1', '--0', 'FP1-F3', 'F3-C3', 'C3-P3', 'P3-O1', '--1', 'FZ-CZ', 'CZ-PZ', '--2', 'FP2-F4', 'F4-C4', 'C4-P4', 'P4-O2', '--3', 'FP2-F8', 'F8-T8', 'T8-P8-0', 'P8-O2', '--4', 'P7-T7', 'T7-FT9', 'FT9-FT10', 'FT10-T8', 'T8-P8-1']\n",
      "Detected bipolar montage channels\n",
      "Total regional features extracted: 480\n",
      "Mean connectivity shape: (28, 28)\n",
      "Number of epochs:  35\n",
      "Storing features...\n",
      "Detected bipolar montage channels\n",
      "Total regional features extracted: 480\n"
     ]
    },
    {
     "name": "stderr",
     "output_type": "stream",
     "text": [
      " 41%|████      | 100/245 [4:45:51<4:49:30, 119.80s/it]"
     ]
    },
    {
     "name": "stdout",
     "output_type": "stream",
     "text": [
      "Patient id: chb13\n",
      "Edf file: chb13_40.edf\n",
      "Registration start: 06:17:50\n",
      "Registration end: 07:17:50\n",
      "Registration start seconds: 22670\n",
      "Registration end seconds: 26270\n",
      "EDF file duration: 3600\n",
      "Seizure start: 06:20:12\n",
      "Seizure end: 06:20:43\n",
      "Seizure start seconds: 22812\n",
      "Seizure end seconds: 22843\n",
      "Seizure duration: 31\n",
      "Seizure onset seconds: 142\n",
      "Post-ictal onset seconds: 173\n",
      "Loading edf file...\n",
      "Channels available: ['FP1-F7', 'F7-T7', 'T7-P7', 'P7-O1', '--0', 'FP1-F3', 'F3-C3', 'C3-P3', 'P3-O1', '--1', 'FZ-CZ', 'CZ-PZ', '--2', 'FP2-F4', 'F4-C4', 'C4-P4', 'P4-O2', '--3', 'FP2-F8', 'F8-T8', 'T8-P8', 'P8-O2']\n",
      "Detected bipolar montage channels\n",
      "No channels found for frontotemporal region\n",
      "No channels found for cross_hemisphere region\n",
      "Total regional features extracted: 416\n",
      "Mean connectivity shape: (22, 22)\n",
      "Number of epochs:  15\n",
      "Storing features...\n",
      "Detected bipolar montage channels\n",
      "No channels found for frontotemporal region\n",
      "No channels found for cross_hemisphere region\n",
      "Total regional features extracted: 416\n"
     ]
    },
    {
     "name": "stderr",
     "output_type": "stream",
     "text": [
      " 41%|████      | 101/245 [4:50:28<6:40:46, 166.99s/it]"
     ]
    },
    {
     "name": "stdout",
     "output_type": "stream",
     "text": [
      "Patient id: chb13\n",
      "Edf file: chb13_40.edf\n",
      "Registration start: 06:17:50\n",
      "Registration end: 07:17:50\n",
      "Registration start seconds: 22670\n",
      "Registration end seconds: 26270\n",
      "EDF file duration: 3600\n",
      "Seizure start: 06:26:20\n",
      "Seizure end: 06:27:24\n",
      "Seizure start seconds: 23180\n",
      "Seizure end seconds: 23244\n",
      "Seizure duration: 64\n",
      "Seizure onset seconds: 510\n",
      "Post-ictal onset seconds: 574\n",
      "Loading edf file...\n",
      "Channels available: ['FP1-F7', 'F7-T7', 'T7-P7', 'P7-O1', '--0', 'FP1-F3', 'F3-C3', 'C3-P3', 'P3-O1', '--1', 'FZ-CZ', 'CZ-PZ', '--2', 'FP2-F4', 'F4-C4', 'C4-P4', 'P4-O2', '--3', 'FP2-F8', 'F8-T8', 'T8-P8', 'P8-O2']\n",
      "Detected bipolar montage channels\n",
      "No channels found for frontotemporal region\n",
      "No channels found for cross_hemisphere region\n",
      "Total regional features extracted: 416\n",
      "Mean connectivity shape: (22, 22)\n",
      "Number of epochs:  32\n",
      "Storing features...\n",
      "Detected bipolar montage channels\n",
      "No channels found for frontotemporal region\n",
      "No channels found for cross_hemisphere region\n",
      "Total regional features extracted: 416\n"
     ]
    },
    {
     "name": "stderr",
     "output_type": "stream",
     "text": [
      " 42%|████▏     | 102/245 [4:54:11<7:18:11, 183.86s/it]"
     ]
    },
    {
     "name": "stdout",
     "output_type": "stream",
     "text": [
      "Patient id: chb13\n",
      "Edf file: chb13_55.edf\n",
      "Registration start: 21:20:07\n",
      "Registration end: 22:20:07\n",
      "Registration start seconds: 76807\n",
      "Registration end seconds: 80407\n",
      "EDF file duration: 3600\n",
      "Seizure start: 21:27:45\n",
      "Seizure end: 21:28:05\n",
      "Seizure start seconds: 77265\n",
      "Seizure end seconds: 77285\n",
      "Seizure duration: 20\n",
      "Seizure onset seconds: 458\n",
      "Post-ictal onset seconds: 478\n",
      "Loading edf file...\n",
      "Channels available: ['FP1-F7', 'F7-T7', 'T7-P7', 'P7-O1', '--0', 'FP1-F3', 'F3-C3', 'C3-P3', 'P3-O1', '--1', 'FZ-CZ', 'CZ-PZ', '--2', 'FP2-F4', 'F4-C4', 'C4-P4', 'P4-O2', '--3', 'FP2-F8', 'F8-T8', 'T8-P8-0', 'P8-O2', '--4', 'P7-T7', 'T7-FT9', 'FT9-FT10', 'FT10-T8', 'T8-P8-1']\n",
      "Detected bipolar montage channels\n",
      "Total regional features extracted: 480\n",
      "Mean connectivity shape: (28, 28)\n",
      "Number of epochs:  10\n",
      "Storing features...\n",
      "Detected bipolar montage channels\n",
      "Total regional features extracted: 480\n"
     ]
    },
    {
     "name": "stderr",
     "output_type": "stream",
     "text": [
      " 42%|████▏     | 103/245 [4:56:56<7:01:39, 178.17s/it]"
     ]
    },
    {
     "name": "stdout",
     "output_type": "stream",
     "text": [
      "Patient id: chb13\n",
      "Edf file: chb13_55.edf\n",
      "Registration start: 21:20:07\n",
      "Registration end: 22:20:07\n",
      "Registration start seconds: 76807\n",
      "Registration end seconds: 80407\n",
      "EDF file duration: 3600\n",
      "Seizure start: 22:00:43\n",
      "Seizure end: 22:01:01\n",
      "Seizure start seconds: 79243\n",
      "Seizure end seconds: 79261\n",
      "Seizure duration: 18\n",
      "Seizure onset seconds: 2436\n",
      "Post-ictal onset seconds: 2454\n",
      "Loading edf file...\n",
      "Channels available: ['FP1-F7', 'F7-T7', 'T7-P7', 'P7-O1', '--0', 'FP1-F3', 'F3-C3', 'C3-P3', 'P3-O1', '--1', 'FZ-CZ', 'CZ-PZ', '--2', 'FP2-F4', 'F4-C4', 'C4-P4', 'P4-O2', '--3', 'FP2-F8', 'F8-T8', 'T8-P8-0', 'P8-O2', '--4', 'P7-T7', 'T7-FT9', 'FT9-FT10', 'FT10-T8', 'T8-P8-1']\n",
      "Detected bipolar montage channels\n",
      "Total regional features extracted: 480\n",
      "Mean connectivity shape: (28, 28)\n",
      "Number of epochs:  9\n",
      "Storing features...\n",
      "Detected bipolar montage channels\n",
      "Total regional features extracted: 480\n"
     ]
    },
    {
     "name": "stderr",
     "output_type": "stream",
     "text": [
      " 42%|████▏     | 104/245 [4:58:20<5:52:07, 149.84s/it]"
     ]
    },
    {
     "name": "stdout",
     "output_type": "stream",
     "text": [
      "Patient id: chb13\n",
      "Edf file: chb13_58.edf\n",
      "Registration start: 00:20:28\n",
      "Registration end: 01:20:28\n",
      "Registration start seconds: 1228\n",
      "Registration end seconds: 4828\n",
      "EDF file duration: 3600\n",
      "Seizure start: 01:01:42\n",
      "Seizure end: 01:01:59\n",
      "Seizure start seconds: 3702\n",
      "Seizure end seconds: 3719\n",
      "Seizure duration: 17\n",
      "Seizure onset seconds: 2474\n",
      "Post-ictal onset seconds: 2491\n",
      "Loading edf file...\n",
      "Channels available: ['FP1-F7', 'F7-T7', 'T7-P7', 'P7-O1', '--0', 'FP1-F3', 'F3-C3', 'C3-P3', 'P3-O1', '--1', 'FZ-CZ', 'CZ-PZ', '--2', 'FP2-F4', 'F4-C4', 'C4-P4', 'P4-O2', '--3', 'FP2-F8', 'F8-T8', 'T8-P8-0', 'P8-O2', '--4', 'P7-T7', 'T7-FT9', 'FT9-FT10', 'FT10-T8', 'T8-P8-1']\n",
      "Detected bipolar montage channels\n",
      "Total regional features extracted: 480\n",
      "Mean connectivity shape: (28, 28)\n",
      "Number of epochs:  8\n",
      "Storing features...\n",
      "Detected bipolar montage channels\n",
      "Total regional features extracted: 480\n"
     ]
    },
    {
     "name": "stderr",
     "output_type": "stream",
     "text": [
      " 43%|████▎     | 105/245 [4:59:28<4:52:47, 125.48s/it]"
     ]
    },
    {
     "name": "stdout",
     "output_type": "stream",
     "text": [
      "Patient id: chb13\n",
      "Edf file: chb13_59.edf\n",
      "Registration start: 01:20:34\n",
      "Registration end: 02:20:34\n",
      "Registration start seconds: 4834\n",
      "Registration end seconds: 8434\n",
      "EDF file duration: 3600\n",
      "Seizure start: 02:16:13\n",
      "Seizure end: 02:17:15\n",
      "Seizure start seconds: 8173\n",
      "Seizure end seconds: 8235\n",
      "Seizure duration: 62\n",
      "Seizure onset seconds: 3339\n",
      "Post-ictal onset seconds: 3401\n",
      "Loading edf file...\n",
      "Channels available: ['FP1-F7', 'F7-T7', 'T7-P7', 'P7-O1', '--0', 'FP1-F3', 'F3-C3', 'C3-P3', 'P3-O1', '--1', 'FZ-CZ', 'CZ-PZ', '--2', 'FP2-F4', 'F4-C4', 'C4-P4', 'P4-O2', '--3', 'FP2-F8', 'F8-T8', 'T8-P8-0', 'P8-O2', '--4', 'P7-T7', 'T7-FT9', 'FT9-FT10', 'FT10-T8', 'T8-P8-1']\n",
      "Detected bipolar montage channels\n",
      "Total regional features extracted: 480\n",
      "Mean connectivity shape: (28, 28)\n",
      "Number of epochs:  31\n",
      "Storing features...\n",
      "Detected bipolar montage channels\n"
     ]
    },
    {
     "name": "stderr",
     "output_type": "stream",
     "text": [
      " 43%|████▎     | 106/245 [5:00:00<3:45:48, 97.47s/it] "
     ]
    },
    {
     "name": "stdout",
     "output_type": "stream",
     "text": [
      "Total regional features extracted: 480\n",
      "Patient id: chb13\n",
      "Edf file: chb13_60.edf\n",
      "Registration start: 02:20:41\n",
      "Registration end: 03:20:41\n",
      "Registration start seconds: 8441\n",
      "Registration end seconds: 12041\n",
      "EDF file duration: 3600\n",
      "Seizure start: 02:31:19\n",
      "Seizure end: 02:31:41\n",
      "Seizure start seconds: 9079\n",
      "Seizure end seconds: 9101\n",
      "Seizure duration: 22\n",
      "Seizure onset seconds: 638\n",
      "Post-ictal onset seconds: 660\n",
      "Loading edf file...\n",
      "Channels available: ['FP1-F7', 'F7-T7', 'T7-P7', 'P7-O1', '--0', 'FP1-F3', 'F3-C3', 'C3-P3', 'P3-O1', '--1', 'FZ-CZ', 'CZ-PZ', '--2', 'FP2-F4', 'F4-C4', 'C4-P4', 'P4-O2', '--3', 'FP2-F8', 'F8-T8', 'T8-P8-0', 'P8-O2', '--4', 'P7-T7', 'T7-FT9', 'FT9-FT10', 'FT10-T8', 'T8-P8-1']\n",
      "Detected bipolar montage channels\n",
      "Total regional features extracted: 480\n",
      "Mean connectivity shape: (28, 28)\n",
      "Number of epochs:  11\n",
      "Storing features...\n",
      "Detected bipolar montage channels\n",
      "Total regional features extracted: 480\n"
     ]
    },
    {
     "name": "stderr",
     "output_type": "stream",
     "text": [
      " 44%|████▎     | 107/245 [5:04:16<5:33:10, 144.86s/it]"
     ]
    },
    {
     "name": "stdout",
     "output_type": "stream",
     "text": [
      "Patient id: chb13\n",
      "Edf file: chb13_62.edf\n",
      "Registration start: 04:20:55\n",
      "Registration end: 05:20:55\n",
      "Registration start seconds: 15655\n",
      "Registration end seconds: 19255\n",
      "EDF file duration: 3600\n",
      "Seizure start: 04:35:06\n",
      "Seizure end: 04:36:11\n",
      "Seizure start seconds: 16506\n",
      "Seizure end seconds: 16571\n",
      "Seizure duration: 65\n",
      "Seizure onset seconds: 851\n",
      "Post-ictal onset seconds: 916\n",
      "Loading edf file...\n",
      "Channels available: ['FP1-F7', 'F7-T7', 'T7-P7', 'P7-O1', '--0', 'FP1-F3', 'F3-C3', 'C3-P3', 'P3-O1', '--1', 'FZ-CZ', 'CZ-PZ', '--2', 'FP2-F4', 'F4-C4', 'C4-P4', 'P4-O2', '--3', 'FP2-F8', 'F8-T8', 'T8-P8-0', 'P8-O2', '--4', 'P7-T7', 'T7-FT9', 'FT9-FT10', 'FT10-T8', 'T8-P8-1']\n",
      "Detected bipolar montage channels\n",
      "Total regional features extracted: 480\n",
      "Mean connectivity shape: (28, 28)\n",
      "Number of epochs:  32\n",
      "Storing features...\n",
      "Detected bipolar montage channels\n",
      "Total regional features extracted: 480\n"
     ]
    },
    {
     "name": "stderr",
     "output_type": "stream",
     "text": [
      " 44%|████▍     | 108/245 [5:07:09<5:50:00, 153.29s/it]"
     ]
    },
    {
     "name": "stdout",
     "output_type": "stream",
     "text": [
      "Patient id: chb13\n",
      "Edf file: chb13_62.edf\n",
      "Registration start: 04:20:55\n",
      "Registration end: 05:20:55\n",
      "Registration start seconds: 15655\n",
      "Registration end seconds: 19255\n",
      "EDF file duration: 3600\n",
      "Seizure start: 04:48:01\n",
      "Seizure end: 04:49:06\n",
      "Seizure start seconds: 17281\n",
      "Seizure end seconds: 17346\n",
      "Seizure duration: 65\n",
      "Seizure onset seconds: 1626\n",
      "Post-ictal onset seconds: 1691\n",
      "Loading edf file...\n",
      "Channels available: ['FP1-F7', 'F7-T7', 'T7-P7', 'P7-O1', '--0', 'FP1-F3', 'F3-C3', 'C3-P3', 'P3-O1', '--1', 'FZ-CZ', 'CZ-PZ', '--2', 'FP2-F4', 'F4-C4', 'C4-P4', 'P4-O2', '--3', 'FP2-F8', 'F8-T8', 'T8-P8-0', 'P8-O2', '--4', 'P7-T7', 'T7-FT9', 'FT9-FT10', 'FT10-T8', 'T8-P8-1']\n",
      "Detected bipolar montage channels\n",
      "Total regional features extracted: 480\n",
      "Mean connectivity shape: (28, 28)\n",
      "Number of epochs:  32\n",
      "Storing features...\n",
      "Detected bipolar montage channels\n",
      "Total regional features extracted: 480\n"
     ]
    },
    {
     "name": "stderr",
     "output_type": "stream",
     "text": [
      " 44%|████▍     | 109/245 [5:09:29<5:38:15, 149.23s/it]"
     ]
    },
    {
     "name": "stdout",
     "output_type": "stream",
     "text": [
      "Patient id: chb13\n",
      "Edf file: chb13_62.edf\n",
      "Registration start: 04:20:55\n",
      "Registration end: 05:20:55\n",
      "Registration start seconds: 15655\n",
      "Registration end seconds: 19255\n",
      "EDF file duration: 3600\n",
      "Seizure start: 05:05:19\n",
      "Seizure end: 05:06:16\n",
      "Seizure start seconds: 18319\n",
      "Seizure end seconds: 18376\n",
      "Seizure duration: 57\n",
      "Seizure onset seconds: 2664\n",
      "Post-ictal onset seconds: 2721\n",
      "Loading edf file...\n",
      "Channels available: ['FP1-F7', 'F7-T7', 'T7-P7', 'P7-O1', '--0', 'FP1-F3', 'F3-C3', 'C3-P3', 'P3-O1', '--1', 'FZ-CZ', 'CZ-PZ', '--2', 'FP2-F4', 'F4-C4', 'C4-P4', 'P4-O2', '--3', 'FP2-F8', 'F8-T8', 'T8-P8-0', 'P8-O2', '--4', 'P7-T7', 'T7-FT9', 'FT9-FT10', 'FT10-T8', 'T8-P8-1']\n",
      "Detected bipolar montage channels\n",
      "Total regional features extracted: 480\n",
      "Mean connectivity shape: (28, 28)\n",
      "Number of epochs:  28\n",
      "Storing features...\n",
      "Detected bipolar montage channels\n",
      "Total regional features extracted: 480\n"
     ]
    },
    {
     "name": "stderr",
     "output_type": "stream",
     "text": [
      " 45%|████▍     | 110/245 [5:10:38<4:41:42, 125.21s/it]"
     ]
    },
    {
     "name": "stdout",
     "output_type": "stream",
     "text": [
      "Patient id: chb14\n",
      "Edf file: chb14_03.edf\n",
      "Registration start: 16:35:00\n",
      "Registration end: 17:35:00\n",
      "Registration start seconds: 59700\n",
      "Registration end seconds: 63300\n",
      "EDF file duration: 3600\n",
      "Seizure start: 17:08:06\n",
      "Seizure end: 17:08:20\n",
      "Seizure start seconds: 61686\n",
      "Seizure end seconds: 61700\n",
      "Seizure duration: 14\n",
      "Seizure onset seconds: 1986\n",
      "Post-ictal onset seconds: 2000\n",
      "Loading edf file...\n",
      "Channels available: ['FP1-F7', 'F7-T7', 'T7-P7', 'P7-O1', '--0', 'FP1-F3', 'F3-C3', 'C3-P3', 'P3-O1', '--1', 'FZ-CZ', 'CZ-PZ', '--2', 'FP2-F4', 'F4-C4', 'C4-P4', 'P4-O2', '--3', 'FP2-F8', 'F8-T8', 'T8-P8-0', 'P8-O2', '--4', 'P7-T7', 'T7-FT9', 'FT9-FT10', 'FT10-T8', 'T8-P8-1']\n",
      "Detected bipolar montage channels\n",
      "Total regional features extracted: 480\n",
      "Mean connectivity shape: (28, 28)\n",
      "Number of epochs:  7\n",
      "Storing features...\n",
      "Detected bipolar montage channels\n",
      "Total regional features extracted: 480\n"
     ]
    },
    {
     "name": "stderr",
     "output_type": "stream",
     "text": [
      " 45%|████▌     | 111/245 [5:12:51<4:44:44, 127.50s/it]"
     ]
    },
    {
     "name": "stdout",
     "output_type": "stream",
     "text": [
      "Patient id: chb14\n",
      "Edf file: chb14_04.edf\n",
      "Registration start: 17:35:07\n",
      "Registration end: 18:35:07\n",
      "Registration start seconds: 63307\n",
      "Registration end seconds: 66907\n",
      "EDF file duration: 3600\n",
      "Seizure start: 17:57:59\n",
      "Seizure end: 17:58:19\n",
      "Seizure start seconds: 64679\n",
      "Seizure end seconds: 64699\n",
      "Seizure duration: 20\n",
      "Seizure onset seconds: 1372\n",
      "Post-ictal onset seconds: 1392\n",
      "Loading edf file...\n",
      "Channels available: ['FP1-F7', 'F7-T7', 'T7-P7', 'P7-O1', '--0', 'FP1-F3', 'F3-C3', 'C3-P3', 'P3-O1', '--1', 'FZ-CZ', 'CZ-PZ', '--2', 'FP2-F4', 'F4-C4', 'C4-P4', 'P4-O2', '--3', 'FP2-F8', 'F8-T8', 'T8-P8-0', 'P8-O2', '--4', 'P7-T7', 'T7-FT9', 'FT9-FT10', 'FT10-T8', 'T8-P8-1']\n",
      "Detected bipolar montage channels\n",
      "Total regional features extracted: 480\n",
      "Mean connectivity shape: (28, 28)\n",
      "Number of epochs:  10\n",
      "Storing features...\n",
      "Detected bipolar montage channels\n",
      "Total regional features extracted: 480\n"
     ]
    },
    {
     "name": "stderr",
     "output_type": "stream",
     "text": [
      " 46%|████▌     | 112/245 [5:15:20<4:57:25, 134.17s/it]"
     ]
    },
    {
     "name": "stdout",
     "output_type": "stream",
     "text": [
      "Patient id: chb14\n",
      "Edf file: chb14_04.edf\n",
      "Registration start: 17:35:07\n",
      "Registration end: 18:35:07\n",
      "Registration start seconds: 63307\n",
      "Registration end seconds: 66907\n",
      "EDF file duration: 3600\n",
      "Seizure start: 18:22:04\n",
      "Seizure end: 18:22:26\n",
      "Seizure start seconds: 66124\n",
      "Seizure end seconds: 66146\n",
      "Seizure duration: 22\n",
      "Seizure onset seconds: 2817\n",
      "Post-ictal onset seconds: 2839\n",
      "Loading edf file...\n",
      "Channels available: ['FP1-F7', 'F7-T7', 'T7-P7', 'P7-O1', '--0', 'FP1-F3', 'F3-C3', 'C3-P3', 'P3-O1', '--1', 'FZ-CZ', 'CZ-PZ', '--2', 'FP2-F4', 'F4-C4', 'C4-P4', 'P4-O2', '--3', 'FP2-F8', 'F8-T8', 'T8-P8-0', 'P8-O2', '--4', 'P7-T7', 'T7-FT9', 'FT9-FT10', 'FT10-T8', 'T8-P8-1']\n",
      "Detected bipolar montage channels\n",
      "Total regional features extracted: 480\n",
      "Mean connectivity shape: (28, 28)\n",
      "Number of epochs:  11\n",
      "Storing features...\n",
      "Detected bipolar montage channels\n"
     ]
    },
    {
     "name": "stderr",
     "output_type": "stream",
     "text": [
      " 46%|████▌     | 113/245 [5:16:21<4:06:29, 112.04s/it]"
     ]
    },
    {
     "name": "stdout",
     "output_type": "stream",
     "text": [
      "Total regional features extracted: 480\n",
      "Patient id: chb14\n",
      "Edf file: chb14_06.edf\n",
      "Registration start: 19:35:21\n",
      "Registration end: 20:35:21\n",
      "Registration start seconds: 70521\n",
      "Registration end seconds: 74121\n",
      "EDF file duration: 3600\n",
      "Seizure start: 20:07:12\n",
      "Seizure end: 20:07:26\n",
      "Seizure start seconds: 72432\n",
      "Seizure end seconds: 72446\n",
      "Seizure duration: 14\n",
      "Seizure onset seconds: 1911\n",
      "Post-ictal onset seconds: 1925\n",
      "Loading edf file...\n",
      "Channels available: ['FP1-F7', 'F7-T7', 'T7-P7', 'P7-O1', '--0', 'FP1-F3', 'F3-C3', 'C3-P3', 'P3-O1', '--1', 'FZ-CZ', 'CZ-PZ', '--2', 'FP2-F4', 'F4-C4', 'C4-P4', 'P4-O2', '--3', 'FP2-F8', 'F8-T8', 'T8-P8-0', 'P8-O2', '--4', 'P7-T7', 'T7-FT9', 'FT9-FT10', 'FT10-T8', 'T8-P8-1']\n",
      "Detected bipolar montage channels\n",
      "Total regional features extracted: 480\n",
      "Mean connectivity shape: (28, 28)\n",
      "Number of epochs:  7\n",
      "Storing features...\n",
      "Detected bipolar montage channels\n",
      "Total regional features extracted: 480\n"
     ]
    },
    {
     "name": "stderr",
     "output_type": "stream",
     "text": [
      " 47%|████▋     | 114/245 [5:18:05<3:59:49, 109.85s/it]"
     ]
    },
    {
     "name": "stdout",
     "output_type": "stream",
     "text": [
      "Patient id: chb14\n",
      "Edf file: chb14_11.edf\n",
      "Registration start: 00:35:55\n",
      "Registration end: 01:35:55\n",
      "Registration start seconds: 2155\n",
      "Registration end seconds: 5755\n",
      "EDF file duration: 3600\n",
      "Seizure start: 01:06:33\n",
      "Seizure end: 01:07:14\n",
      "Seizure start seconds: 3993\n",
      "Seizure end seconds: 4034\n",
      "Seizure duration: 41\n",
      "Seizure onset seconds: 1838\n",
      "Post-ictal onset seconds: 1879\n",
      "Loading edf file...\n",
      "Channels available: ['FP1-F7', 'F7-T7', 'T7-P7', 'P7-O1', '--0', 'FP1-F3', 'F3-C3', 'C3-P3', 'P3-O1', '--1', 'FZ-CZ', 'CZ-PZ', '--2', 'FP2-F4', 'F4-C4', 'C4-P4', 'P4-O2', '--3', 'FP2-F8', 'F8-T8', 'T8-P8-0', 'P8-O2', '--4', 'P7-T7', 'T7-FT9', 'FT9-FT10', 'FT10-T8', 'T8-P8-1']\n",
      "Detected bipolar montage channels\n",
      "Total regional features extracted: 480\n",
      "Mean connectivity shape: (28, 28)\n",
      "Number of epochs:  20\n",
      "Storing features...\n",
      "Detected bipolar montage channels\n",
      "Total regional features extracted: 480\n"
     ]
    },
    {
     "name": "stderr",
     "output_type": "stream",
     "text": [
      " 47%|████▋     | 115/245 [5:20:10<4:07:24, 114.18s/it]"
     ]
    },
    {
     "name": "stdout",
     "output_type": "stream",
     "text": [
      "Patient id: chb14\n",
      "Edf file: chb14_17.edf\n",
      "Registration start: 06:36:36\n",
      "Registration end: 07:36:36\n",
      "Registration start seconds: 23796\n",
      "Registration end seconds: 27396\n",
      "EDF file duration: 3600\n",
      "Seizure start: 07:30:35\n",
      "Seizure end: 07:30:55\n",
      "Seizure start seconds: 27035\n",
      "Seizure end seconds: 27055\n",
      "Seizure duration: 20\n",
      "Seizure onset seconds: 3239\n",
      "Post-ictal onset seconds: 3259\n",
      "Loading edf file...\n",
      "Channels available: ['FP1-F7', 'F7-T7', 'T7-P7', 'P7-O1', '--0', 'FP1-F3', 'F3-C3', 'C3-P3', 'P3-O1', '--1', 'FZ-CZ', 'CZ-PZ', '--2', 'FP2-F4', 'F4-C4', 'C4-P4', 'P4-O2', '--3', 'FP2-F8', 'F8-T8', 'T8-P8-0', 'P8-O2', '--4', 'P7-T7', 'T7-FT9', 'FT9-FT10', 'FT10-T8', 'T8-P8-1']\n",
      "Detected bipolar montage channels\n",
      "Total regional features extracted: 480\n",
      "Mean connectivity shape: (28, 28)\n",
      "Number of epochs:  10\n",
      "Storing features...\n",
      "Detected bipolar montage channels\n"
     ]
    },
    {
     "name": "stderr",
     "output_type": "stream",
     "text": [
      " 47%|████▋     | 116/245 [5:20:48<3:16:14, 91.28s/it] "
     ]
    },
    {
     "name": "stdout",
     "output_type": "stream",
     "text": [
      "Total regional features extracted: 480\n",
      "Patient id: chb14\n",
      "Edf file: chb14_18.edf\n",
      "Registration start: 07:36:43\n",
      "Registration end: 08:36:43\n",
      "Registration start seconds: 27403\n",
      "Registration end seconds: 31003\n",
      "EDF file duration: 3600\n",
      "Seizure start: 07:54:02\n",
      "Seizure end: 07:54:24\n",
      "Seizure start seconds: 28442\n",
      "Seizure end seconds: 28464\n",
      "Seizure duration: 22\n",
      "Seizure onset seconds: 1039\n",
      "Post-ictal onset seconds: 1061\n",
      "Loading edf file...\n",
      "Channels available: ['FP1-F7', 'F7-T7', 'T7-P7', 'P7-O1', '--0', 'FP1-F3', 'F3-C3', 'C3-P3', 'P3-O1', '--1', 'FZ-CZ', 'CZ-PZ', '--2', 'FP2-F4', 'F4-C4', 'C4-P4', 'P4-O2', '--3', 'FP2-F8', 'F8-T8', 'T8-P8-0', 'P8-O2', '--4', 'P7-T7', 'T7-FT9', 'FT9-FT10', 'FT10-T8', 'T8-P8-1']\n",
      "Detected bipolar montage channels\n",
      "Total regional features extracted: 480\n",
      "Mean connectivity shape: (28, 28)\n",
      "Number of epochs:  11\n",
      "Storing features...\n",
      "Detected bipolar montage channels\n",
      "Total regional features extracted: 480\n"
     ]
    },
    {
     "name": "stderr",
     "output_type": "stream",
     "text": [
      " 48%|████▊     | 117/245 [5:23:25<3:57:15, 111.22s/it]"
     ]
    },
    {
     "name": "stdout",
     "output_type": "stream",
     "text": [
      "Patient id: chb14\n",
      "Edf file: chb14_27.edf\n",
      "Registration start: 16:37:45\n",
      "Registration end: 17:37:45\n",
      "Registration start seconds: 59865\n",
      "Registration end seconds: 63465\n",
      "EDF file duration: 3600\n",
      "Seizure start: 17:24:58\n",
      "Seizure end: 17:25:14\n",
      "Seizure start seconds: 62698\n",
      "Seizure end seconds: 62714\n",
      "Seizure duration: 16\n",
      "Seizure onset seconds: 2833\n",
      "Post-ictal onset seconds: 2849\n",
      "Loading edf file...\n",
      "Channels available: ['FP1-F7', 'F7-T7', 'T7-P7', 'P7-O1', '--0', 'FP1-F3', 'F3-C3', 'C3-P3', 'P3-O1', '--1', 'FZ-CZ', 'CZ-PZ', '--2', 'FP2-F4', 'F4-C4', 'C4-P4', 'P4-O2', '--3', 'FP2-F8', 'F8-T8', 'T8-P8-0', 'P8-O2', '--4', 'P7-T7', 'T7-FT9', 'FT9-FT10', 'FT10-T8', 'T8-P8-1']\n",
      "Detected bipolar montage channels\n",
      "Total regional features extracted: 480\n",
      "Mean connectivity shape: (28, 28)\n",
      "Number of epochs:  8\n",
      "Storing features...\n",
      "Detected bipolar montage channels\n"
     ]
    },
    {
     "name": "stderr",
     "output_type": "stream",
     "text": [
      " 48%|████▊     | 118/245 [5:24:24<3:22:10, 95.52s/it] "
     ]
    },
    {
     "name": "stdout",
     "output_type": "stream",
     "text": [
      "Total regional features extracted: 480\n",
      "Patient id: chb15\n",
      "Edf file: chb15_06.edf\n",
      "Registration start: 23:24:10\n",
      "Registration end: 00:24:10\n",
      "Registration start seconds: 84250\n",
      "Registration end seconds: 1450\n",
      "EDF file duration: -82800\n",
      "Seizure start: 23:28:42\n",
      "Seizure end: 23:30:47\n",
      "Seizure start seconds: 84522\n",
      "Seizure end seconds: 84647\n",
      "Seizure duration: 125\n",
      "Seizure onset seconds: 272\n",
      "Post-ictal onset seconds: 397\n",
      "Loading edf file...\n",
      "Channels available: ['FP1-F7', 'F7-T7', 'T7-P7', 'P7-O1', '--0', 'FP1-F3', 'F3-C3', 'C3-P3', 'P3-O1', '--1', 'FZ-CZ', 'CZ-PZ', 'PZ-OZ', '--2', 'FP2-F4', 'F4-C4', 'C4-P4', 'P4-O2', '--3', 'FP2-F8', 'F8-T8', 'T8-P8-0', 'P8-O2', '--4', 'P7-T7', 'T7-FT9', 'FT9-FT10', 'FT10-T8', 'T8-P8-1', '--5', 'FC1-Ref', 'FC2-Ref', 'FC5-Ref', 'FC6-Ref', 'CP1-Ref', 'CP2-Ref', 'CP5-Ref', 'CP6-Ref']\n",
      "Detected bipolar montage channels\n",
      "Total regional features extracted: 480\n",
      "Mean connectivity shape: (38, 38)\n",
      "Number of epochs:  62\n",
      "Storing features...\n",
      "Error processing data/chb-mit\\chb15\\chb15_06.edf: tmin (397) must be less than tmax (-82801)\n"
     ]
    },
    {
     "name": "stderr",
     "output_type": "stream",
     "text": [
      " 49%|████▊     | 119/245 [5:24:56<2:40:10, 76.27s/it]"
     ]
    },
    {
     "name": "stdout",
     "output_type": "stream",
     "text": [
      "Patient id: chb15\n",
      "Edf file: chb15_10.edf\n",
      "Registration start: 03:24:38\n",
      "Registration end: 04:24:38\n",
      "Registration start seconds: 12278\n",
      "Registration end seconds: 15878\n",
      "EDF file duration: 3600\n",
      "Seizure start: 03:42:40\n",
      "Seizure end: 03:43:11\n",
      "Seizure start seconds: 13360\n",
      "Seizure end seconds: 13391\n",
      "Seizure duration: 31\n",
      "Seizure onset seconds: 1082\n",
      "Post-ictal onset seconds: 1113\n",
      "Loading edf file...\n",
      "Channels available: ['FP1-F7', 'F7-T7', 'T7-P7', 'P7-O1', '--0', 'FP1-F3', 'F3-C3', 'C3-P3', 'P3-O1', '--1', 'FZ-CZ', 'CZ-PZ', 'PZ-OZ', '--2', 'FP2-F4', 'F4-C4', 'C4-P4', 'P4-O2', '--3', 'FP2-F8', 'F8-T8', 'T8-P8-0', 'P8-O2', '--4', 'P7-T7', 'T7-FT9', 'FT9-FT10', 'FT10-T8', 'T8-P8-1', '--5', 'FC1-Ref', 'FC2-Ref', 'FC5-Ref', 'FC6-Ref', 'CP1-Ref', 'CP2-Ref', 'CP5-Ref', 'CP6-Ref']\n",
      "Detected bipolar montage channels\n",
      "Total regional features extracted: 480\n",
      "Mean connectivity shape: (38, 38)\n",
      "Number of epochs:  15\n",
      "Storing features...\n",
      "Detected bipolar montage channels\n",
      "Total regional features extracted: 480\n"
     ]
    },
    {
     "name": "stderr",
     "output_type": "stream",
     "text": [
      " 49%|████▉     | 120/245 [5:27:00<3:09:06, 90.77s/it]"
     ]
    },
    {
     "name": "stdout",
     "output_type": "stream",
     "text": [
      "Patient id: chb15\n",
      "Edf file: chb15_15.edf\n",
      "Registration start: 08:25:13\n",
      "Registration end: 09:25:13\n",
      "Registration start seconds: 30313\n",
      "Registration end seconds: 33913\n",
      "EDF file duration: 3600\n",
      "Seizure start: 08:51:44\n",
      "Seizure end: 08:54:21\n",
      "Seizure start seconds: 31904\n",
      "Seizure end seconds: 32061\n",
      "Seizure duration: 157\n",
      "Seizure onset seconds: 1591\n",
      "Post-ictal onset seconds: 1748\n",
      "Loading edf file...\n",
      "Channels available: ['FP1-F7', 'F7-T7', 'T7-P7', 'P7-O1', '--0', 'FP1-F3', 'F3-C3', 'C3-P3', 'P3-O1', '--1', 'FZ-CZ', 'CZ-PZ', 'PZ-OZ', '--2', 'FP2-F4', 'F4-C4', 'C4-P4', 'P4-O2', '--3', 'FP2-F8', 'F8-T8', 'T8-P8-0', 'P8-O2', '--4', 'P7-T7', 'T7-FT9', 'FT9-FT10', 'FT10-T8', 'T8-P8-1', '--5', 'FC1-Ref', 'FC2-Ref', 'FC5-Ref', 'FC6-Ref', 'CP1-Ref', 'CP2-Ref', 'CP5-Ref', 'CP6-Ref']\n",
      "Detected bipolar montage channels\n",
      "Total regional features extracted: 480\n",
      "Mean connectivity shape: (38, 38)\n",
      "Number of epochs:  78\n",
      "Storing features...\n",
      "Detected bipolar montage channels\n",
      "Total regional features extracted: 480\n"
     ]
    },
    {
     "name": "stderr",
     "output_type": "stream",
     "text": [
      " 49%|████▉     | 121/245 [5:28:41<3:13:57, 93.85s/it]"
     ]
    },
    {
     "name": "stdout",
     "output_type": "stream",
     "text": [
      "Patient id: chb15\n",
      "Edf file: chb15_17.edf\n",
      "Registration start: 10:25:27\n",
      "Registration end: 11:25:27\n",
      "Registration start seconds: 37527\n",
      "Registration end seconds: 41127\n",
      "EDF file duration: 3600\n",
      "Seizure start: 10:57:32\n",
      "Seizure end: 10:58:07\n",
      "Seizure start seconds: 39452\n",
      "Seizure end seconds: 39487\n",
      "Seizure duration: 35\n",
      "Seizure onset seconds: 1925\n",
      "Post-ictal onset seconds: 1960\n",
      "Loading edf file...\n",
      "Channels available: ['FP1-F7', 'F7-T7', 'T7-P7', 'P7-O1', '--0', 'FP1-F3', 'F3-C3', 'C3-P3', 'P3-O1', '--1', 'FZ-CZ', 'CZ-PZ', 'PZ-OZ', '--2', 'FP2-F4', 'F4-C4', 'C4-P4', 'P4-O2', '--3', 'FP2-F8', 'F8-T8', 'T8-P8-0', 'P8-O2', '--4', 'P7-T7', 'T7-FT9', 'FT9-FT10', 'FT10-T8', 'T8-P8-1', '--5', 'FC1-Ref', 'FC2-Ref', 'FC5-Ref', 'FC6-Ref', 'CP1-Ref', 'CP2-Ref', 'CP5-Ref', 'CP6-Ref']\n",
      "Detected bipolar montage channels\n",
      "Total regional features extracted: 480\n",
      "Mean connectivity shape: (38, 38)\n",
      "Number of epochs:  17\n",
      "Storing features...\n",
      "Detected bipolar montage channels\n",
      "Total regional features extracted: 480\n"
     ]
    },
    {
     "name": "stderr",
     "output_type": "stream",
     "text": [
      " 50%|████▉     | 122/245 [5:30:28<3:20:25, 97.77s/it]"
     ]
    },
    {
     "name": "stdout",
     "output_type": "stream",
     "text": [
      "Patient id: chb15\n",
      "Edf file: chb15_20.edf\n",
      "Registration start: 13:25:48\n",
      "Registration end: 14:25:48\n",
      "Registration start seconds: 48348\n",
      "Registration end seconds: 51948\n",
      "EDF file duration: 3600\n",
      "Seizure start: 13:35:55\n",
      "Seizure end: 13:36:50\n",
      "Seizure start seconds: 48955\n",
      "Seizure end seconds: 49010\n",
      "Seizure duration: 55\n",
      "Seizure onset seconds: 607\n",
      "Post-ictal onset seconds: 662\n",
      "Loading edf file...\n",
      "Channels available: ['FP1-F7', 'F7-T7', 'T7-P7', 'P7-O1', '--0', 'FP1-F3', 'F3-C3', 'C3-P3', 'P3-O1', '--1', 'FZ-CZ', 'CZ-PZ', 'PZ-OZ', '--2', 'FP2-F4', 'F4-C4', 'C4-P4', 'P4-O2', '--3', 'FP2-F8', 'F8-T8', 'T8-P8-0', 'P8-O2', '--4', 'P7-T7', 'T7-FT9', 'FT9-FT10', 'FT10-T8', 'T8-P8-1', '--5', 'FC1-Ref', 'FC2-Ref', 'FC5-Ref', 'FC6-Ref', 'CP1-Ref', 'CP2-Ref', 'CP5-Ref', 'CP6-Ref']\n",
      "Detected bipolar montage channels\n",
      "Total regional features extracted: 480\n",
      "Mean connectivity shape: (38, 38)\n",
      "Number of epochs:  27\n",
      "Storing features...\n",
      "Detected bipolar montage channels\n",
      "Total regional features extracted: 480\n"
     ]
    },
    {
     "name": "stderr",
     "output_type": "stream",
     "text": [
      " 50%|█████     | 123/245 [5:33:14<4:00:34, 118.32s/it]"
     ]
    },
    {
     "name": "stdout",
     "output_type": "stream",
     "text": [
      "Patient id: chb15\n",
      "Edf file: chb15_22.edf\n",
      "Registration start: 15:26:02\n",
      "Registration end: 16:26:02\n",
      "Registration start seconds: 55562\n",
      "Registration end seconds: 59162\n",
      "EDF file duration: 3600\n",
      "Seizure start: 15:38:42\n",
      "Seizure end: 15:42:07\n",
      "Seizure start seconds: 56322\n",
      "Seizure end seconds: 56527\n",
      "Seizure duration: 205\n",
      "Seizure onset seconds: 760\n",
      "Post-ictal onset seconds: 965\n",
      "Loading edf file...\n",
      "Channels available: ['FP1-F7', 'F7-T7', 'T7-P7', 'P7-O1', '--0', 'FP1-F3', 'F3-C3', 'C3-P3', 'P3-O1', '--1', 'FZ-CZ', 'CZ-PZ', 'PZ-OZ', '--2', 'FP2-F4', 'F4-C4', 'C4-P4', 'P4-O2', '--3', 'FP2-F8', 'F8-T8', 'T8-P8-0', 'P8-O2', '--4', 'P7-T7', 'T7-FT9', 'FT9-FT10', 'FT10-T8', 'T8-P8-1', '--5', 'FC1-Ref', 'FC2-Ref', 'FC5-Ref', 'FC6-Ref', 'CP1-Ref', 'CP2-Ref', 'CP5-Ref', 'CP6-Ref']\n",
      "Detected bipolar montage channels\n",
      "Total regional features extracted: 480\n",
      "Mean connectivity shape: (38, 38)\n",
      "Number of epochs:  102\n",
      "Storing features...\n",
      "Detected bipolar montage channels\n",
      "Total regional features extracted: 480\n"
     ]
    },
    {
     "name": "stderr",
     "output_type": "stream",
     "text": [
      " 51%|█████     | 124/245 [5:35:47<4:19:18, 128.59s/it]"
     ]
    },
    {
     "name": "stdout",
     "output_type": "stream",
     "text": [
      "Patient id: chb15\n",
      "Edf file: chb15_28.edf\n",
      "Registration start: 21:27:58\n",
      "Registration end: 22:27:58\n",
      "Registration start seconds: 77278\n",
      "Registration end seconds: 80878\n",
      "EDF file duration: 3600\n",
      "Seizure start: 21:42:34\n",
      "Seizure end: 21:45:44\n",
      "Seizure start seconds: 78154\n",
      "Seizure end seconds: 78344\n",
      "Seizure duration: 190\n",
      "Seizure onset seconds: 876\n",
      "Post-ictal onset seconds: 1066\n",
      "Loading edf file...\n",
      "Channels available: ['FP1-F7', 'F7-T7', 'T7-P7', 'P7-O1', '--0', 'FP1-F3', 'F3-C3', 'C3-P3', 'P3-O1', '--1', 'FZ-CZ', 'CZ-PZ', 'PZ-OZ', '--2', 'FP2-F4', 'F4-C4', 'C4-P4', 'P4-O2', '--3', 'FP2-F8', 'F8-T8', 'T8-P8-0', 'P8-O2', '--4', 'P7-T7', 'T7-FT9', 'FT9-FT10', 'FT10-T8', 'T8-P8-1', '--5', 'FC1-Ref', 'FC2-Ref', 'FC5-Ref', 'FC6-Ref', 'CP1-Ref', 'CP2-Ref', 'CP5-Ref', 'CP6-Ref']\n",
      "Detected bipolar montage channels\n",
      "Total regional features extracted: 480\n",
      "Mean connectivity shape: (38, 38)\n",
      "Number of epochs:  95\n",
      "Storing features...\n",
      "Detected bipolar montage channels\n",
      "Total regional features extracted: 480\n"
     ]
    },
    {
     "name": "stderr",
     "output_type": "stream",
     "text": [
      " 51%|█████     | 125/245 [5:38:30<4:37:51, 138.93s/it]"
     ]
    },
    {
     "name": "stdout",
     "output_type": "stream",
     "text": [
      "Patient id: chb15\n",
      "Edf file: chb15_31.edf\n",
      "Registration start: 00:28:18\n",
      "Registration end: 01:28:18\n",
      "Registration start seconds: 1698\n",
      "Registration end seconds: 5298\n",
      "EDF file duration: 3600\n",
      "Seizure start: 00:57:29\n",
      "Seizure end: 00:59:29\n",
      "Seizure start seconds: 3449\n",
      "Seizure end seconds: 3569\n",
      "Seizure duration: 120\n",
      "Seizure onset seconds: 1751\n",
      "Post-ictal onset seconds: 1871\n",
      "Loading edf file...\n",
      "Channels available: ['FP1-F7', 'F7-T7', 'T7-P7', 'P7-O1', '--0', 'FP1-F3', 'F3-C3', 'C3-P3', 'P3-O1', '--1', 'FZ-CZ', 'CZ-PZ', 'PZ-OZ', '--2', 'FP2-F4', 'F4-C4', 'C4-P4', 'P4-O2', '--3', 'FP2-F8', 'F8-T8', 'T8-P8-0', 'P8-O2', '--4', 'P7-T7', 'T7-FT9', 'FT9-FT10', 'FT10-T8', 'T8-P8-1', '--5', 'FC1-Ref', 'FC2-Ref', 'FC5-Ref', 'FC6-Ref', 'CP1-Ref', 'CP2-Ref', 'CP5-Ref', 'CP6-Ref']\n",
      "Detected bipolar montage channels\n",
      "Total regional features extracted: 480\n",
      "Mean connectivity shape: (38, 38)\n",
      "Number of epochs:  60\n",
      "Storing features...\n",
      "Detected bipolar montage channels\n",
      "Total regional features extracted: 480\n"
     ]
    },
    {
     "name": "stderr",
     "output_type": "stream",
     "text": [
      " 51%|█████▏    | 126/245 [5:40:26<4:22:12, 132.21s/it]"
     ]
    },
    {
     "name": "stdout",
     "output_type": "stream",
     "text": [
      "Patient id: chb15\n",
      "Edf file: chb15_40.edf\n",
      "Registration start: 09:29:21\n",
      "Registration end: 10:29:21\n",
      "Registration start seconds: 34161\n",
      "Registration end seconds: 37761\n",
      "EDF file duration: 3600\n",
      "Seizure start: 09:43:15\n",
      "Seizure end: 09:44:15\n",
      "Seizure start seconds: 34995\n",
      "Seizure end seconds: 35055\n",
      "Seizure duration: 60\n",
      "Seizure onset seconds: 834\n",
      "Post-ictal onset seconds: 894\n",
      "Loading edf file...\n",
      "Channels available: ['FP1-F7', 'F7-T7', 'T7-P7', 'P7-O1', '--0', 'FP1-F3', 'F3-C3', 'C3-P3', 'P3-O1', '--1', 'FZ-CZ', 'CZ-PZ', 'PZ-OZ', '--2', 'FP2-F4', 'F4-C4', 'C4-P4', 'P4-O2', '--3', 'FP2-F8', 'F8-T8', 'T8-P8-0', 'P8-O2', '--4', 'P7-T7', 'T7-FT9', 'FT9-FT10', 'FT10-T8', 'T8-P8-1', '--5', 'FC1-Ref', 'FC2-Ref', 'FC5-Ref', 'FC6-Ref', 'CP1-Ref', 'CP2-Ref', 'CP5-Ref', 'CP6-Ref']\n",
      "Detected bipolar montage channels\n",
      "Total regional features extracted: 480\n",
      "Mean connectivity shape: (38, 38)\n",
      "Number of epochs:  30\n",
      "Storing features...\n",
      "Detected bipolar montage channels\n",
      "Total regional features extracted: 480\n"
     ]
    },
    {
     "name": "stderr",
     "output_type": "stream",
     "text": [
      " 52%|█████▏    | 127/245 [5:43:17<4:42:32, 143.67s/it]"
     ]
    },
    {
     "name": "stdout",
     "output_type": "stream",
     "text": [
      "Patient id: chb15\n",
      "Edf file: chb15_40.edf\n",
      "Registration start: 09:29:21\n",
      "Registration end: 10:29:21\n",
      "Registration start seconds: 34161\n",
      "Registration end seconds: 37761\n",
      "EDF file duration: 3600\n",
      "Seizure start: 10:08:59\n",
      "Seizure end: 10:10:58\n",
      "Seizure start seconds: 36539\n",
      "Seizure end seconds: 36658\n",
      "Seizure duration: 119\n",
      "Seizure onset seconds: 2378\n",
      "Post-ictal onset seconds: 2497\n",
      "Loading edf file...\n",
      "Channels available: ['FP1-F7', 'F7-T7', 'T7-P7', 'P7-O1', '--0', 'FP1-F3', 'F3-C3', 'C3-P3', 'P3-O1', '--1', 'FZ-CZ', 'CZ-PZ', 'PZ-OZ', '--2', 'FP2-F4', 'F4-C4', 'C4-P4', 'P4-O2', '--3', 'FP2-F8', 'F8-T8', 'T8-P8-0', 'P8-O2', '--4', 'P7-T7', 'T7-FT9', 'FT9-FT10', 'FT10-T8', 'T8-P8-1', '--5', 'FC1-Ref', 'FC2-Ref', 'FC5-Ref', 'FC6-Ref', 'CP1-Ref', 'CP2-Ref', 'CP5-Ref', 'CP6-Ref']\n",
      "Detected bipolar montage channels\n",
      "Total regional features extracted: 480\n",
      "Mean connectivity shape: (38, 38)\n",
      "Number of epochs:  59\n",
      "Storing features...\n",
      "Detected bipolar montage channels\n",
      "Total regional features extracted: 480\n"
     ]
    },
    {
     "name": "stderr",
     "output_type": "stream",
     "text": [
      " 52%|█████▏    | 128/245 [5:44:35<4:01:30, 123.85s/it]"
     ]
    },
    {
     "name": "stdout",
     "output_type": "stream",
     "text": [
      "Patient id: chb15\n",
      "Edf file: chb15_40.edf\n",
      "Registration start: 09:29:21\n",
      "Registration end: 10:29:21\n",
      "Registration start seconds: 34161\n",
      "Registration end seconds: 37761\n",
      "EDF file duration: 3600\n",
      "Seizure start: 10:25:23\n",
      "Seizure end: 10:26:26\n",
      "Seizure start seconds: 37523\n",
      "Seizure end seconds: 37586\n",
      "Seizure duration: 63\n",
      "Seizure onset seconds: 3362\n",
      "Post-ictal onset seconds: 3425\n",
      "Loading edf file...\n",
      "Channels available: ['FP1-F7', 'F7-T7', 'T7-P7', 'P7-O1', '--0', 'FP1-F3', 'F3-C3', 'C3-P3', 'P3-O1', '--1', 'FZ-CZ', 'CZ-PZ', 'PZ-OZ', '--2', 'FP2-F4', 'F4-C4', 'C4-P4', 'P4-O2', '--3', 'FP2-F8', 'F8-T8', 'T8-P8-0', 'P8-O2', '--4', 'P7-T7', 'T7-FT9', 'FT9-FT10', 'FT10-T8', 'T8-P8-1', '--5', 'FC1-Ref', 'FC2-Ref', 'FC5-Ref', 'FC6-Ref', 'CP1-Ref', 'CP2-Ref', 'CP5-Ref', 'CP6-Ref']\n",
      "Detected bipolar montage channels\n",
      "Total regional features extracted: 480\n",
      "Mean connectivity shape: (38, 38)\n",
      "Number of epochs:  31\n",
      "Storing features...\n",
      "Detected bipolar montage channels\n"
     ]
    },
    {
     "name": "stderr",
     "output_type": "stream",
     "text": [
      " 53%|█████▎    | 129/245 [5:45:06<3:06:04, 96.24s/it] "
     ]
    },
    {
     "name": "stdout",
     "output_type": "stream",
     "text": [
      "Total regional features extracted: 480\n",
      "Patient id: chb15\n",
      "Edf file: chb15_46.edf\n",
      "Registration start: 15:30:07\n",
      "Registration end: 16:30:07\n",
      "Registration start seconds: 55807\n",
      "Registration end seconds: 59407\n",
      "EDF file duration: 3600\n",
      "Seizure start: 16:25:29\n",
      "Seizure end: 16:27:16\n",
      "Seizure start seconds: 59129\n",
      "Seizure end seconds: 59236\n",
      "Seizure duration: 107\n",
      "Seizure onset seconds: 3322\n",
      "Post-ictal onset seconds: 3429\n",
      "Loading edf file...\n",
      "Channels available: ['FP1-F7', 'F7-T7', 'T7-P7', 'P7-O1', '--0', 'FP1-F3', 'F3-C3', 'C3-P3', 'P3-O1', '--1', 'FZ-CZ', 'CZ-PZ', 'PZ-OZ', '--2', 'FP2-F4', 'F4-C4', 'C4-P4', 'P4-O2', '--3', 'FP2-F8', 'F8-T8', 'T8-P8-0', 'P8-O2', '--4', 'P7-T7', 'T7-FT9', 'FT9-FT10', 'FT10-T8', 'T8-P8-1', '--5', 'FC1-Ref', 'FC2-Ref', 'FC5-Ref', 'FC6-Ref', 'CP1-Ref', 'CP2-Ref', 'CP5-Ref', 'CP6-Ref']\n",
      "Detected bipolar montage channels\n",
      "Total regional features extracted: 480\n",
      "Mean connectivity shape: (38, 38)\n",
      "Number of epochs:  53\n",
      "Storing features...\n",
      "Detected bipolar montage channels\n"
     ]
    },
    {
     "name": "stderr",
     "output_type": "stream",
     "text": [
      " 53%|█████▎    | 130/245 [5:45:40<2:28:43, 77.59s/it]"
     ]
    },
    {
     "name": "stdout",
     "output_type": "stream",
     "text": [
      "Total regional features extracted: 480\n",
      "Patient id: chb15\n",
      "Edf file: chb15_49.edf\n",
      "Registration start: 18:38:05\n",
      "Registration end: 19:38:30\n",
      "Registration start seconds: 67085\n",
      "Registration end seconds: 70710\n",
      "EDF file duration: 3625\n",
      "Seizure start: 18:56:33\n",
      "Seizure end: 18:58:53\n",
      "Seizure start seconds: 68193\n",
      "Seizure end seconds: 68333\n",
      "Seizure duration: 140\n",
      "Seizure onset seconds: 1108\n",
      "Post-ictal onset seconds: 1248\n",
      "Loading edf file...\n",
      "Channels available: ['FP1-F7', 'F7-T7', 'T7-P7', 'P7-O1', '--0', 'FP1-F3', 'F3-C3', 'C3-P3', 'P3-O1', '--1', 'FZ-CZ', 'CZ-PZ', 'PZ-OZ', '--2', 'FP2-F4', 'F4-C4', 'C4-P4', 'P4-O2', '--3', 'FP2-F8', 'F8-T8', 'T8-P8-0', 'P8-O2', '--4', 'P7-T7', 'T7-FT9', 'FT9-FT10', 'FT10-T8', 'T8-P8-1', '--5', 'FC1-Ref', 'FC2-Ref', 'FC5-Ref', 'FC6-Ref', 'CP1-Ref', 'CP2-Ref', 'CP5-Ref', 'CP6-Ref']\n",
      "Detected bipolar montage channels\n",
      "Total regional features extracted: 480\n",
      "Mean connectivity shape: (38, 38)\n",
      "Number of epochs:  70\n",
      "Storing features...\n",
      "Detected bipolar montage channels\n",
      "Total regional features extracted: 480\n"
     ]
    },
    {
     "name": "stderr",
     "output_type": "stream",
     "text": [
      " 53%|█████▎    | 131/245 [5:48:05<3:05:31, 97.65s/it]"
     ]
    },
    {
     "name": "stdout",
     "output_type": "stream",
     "text": [
      "Patient id: chb15\n",
      "Edf file: chb15_52.edf\n",
      "Registration start: 21:39:10\n",
      "Registration end: 22:39:19\n",
      "Registration start seconds: 77950\n",
      "Registration end seconds: 81559\n",
      "EDF file duration: 3609\n",
      "Seizure start: 21:52:08\n",
      "Seizure end: 21:53:19\n",
      "Seizure start seconds: 78728\n",
      "Seizure end seconds: 78799\n",
      "Seizure duration: 71\n",
      "Seizure onset seconds: 778\n",
      "Post-ictal onset seconds: 849\n",
      "Loading edf file...\n",
      "Channels available: ['FP1-F7', 'F7-T7', 'T7-P7', 'P7-O1', '--0', 'FP1-F3', 'F3-C3', 'C3-P3', 'P3-O1', '--1', 'FZ-CZ', 'CZ-PZ', 'PZ-OZ', '--2', 'FP2-F4', 'F4-C4', 'C4-P4', 'P4-O2', '--3', 'FP2-F8', 'F8-T8', 'T8-P8-0', 'P8-O2', '--4', 'P7-T7', 'T7-FT9', 'FT9-FT10', 'FT10-T8', 'T8-P8-1', '--5', 'FC1-Ref', 'FC2-Ref', 'FC5-Ref', 'FC6-Ref', 'CP1-Ref', 'CP2-Ref', 'CP5-Ref', 'CP6-Ref']\n",
      "Detected bipolar montage channels\n",
      "Total regional features extracted: 480\n",
      "Mean connectivity shape: (38, 38)\n",
      "Number of epochs:  35\n",
      "Storing features...\n",
      "Detected bipolar montage channels\n",
      "Total regional features extracted: 480\n"
     ]
    },
    {
     "name": "stderr",
     "output_type": "stream",
     "text": [
      " 54%|█████▍    | 132/245 [5:50:49<3:41:30, 117.61s/it]"
     ]
    },
    {
     "name": "stdout",
     "output_type": "stream",
     "text": [
      "Patient id: chb15\n",
      "Edf file: chb15_54.edf\n",
      "Registration start: 23:39:54\n",
      "Registration end: 00:39:54\n",
      "Registration start seconds: 85194\n",
      "Registration end seconds: 2394\n",
      "EDF file duration: -82800\n",
      "Seizure start: 23:44:17\n",
      "Seizure end: 23:45:12\n",
      "Seizure start seconds: 85457\n",
      "Seizure end seconds: 85512\n",
      "Seizure duration: 55\n",
      "Seizure onset seconds: 263\n",
      "Post-ictal onset seconds: 318\n",
      "Loading edf file...\n",
      "Channels available: ['FP1-F7', 'F7-T7', 'T7-P7', 'P7-O1', '--0', 'FP1-F3', 'F3-C3', 'C3-P3', 'P3-O1', '--1', 'FZ-CZ', 'CZ-PZ', 'PZ-OZ', '--2', 'FP2-F4', 'F4-C4', 'C4-P4', 'P4-O2', '--3', 'FP2-F8', 'F8-T8', 'T8-P8-0', 'P8-O2', '--4', 'P7-T7', 'T7-FT9', 'FT9-FT10', 'FT10-T8', 'T8-P8-1', '--5', 'FC1-Ref', 'FC2-Ref', 'FC5-Ref', 'FC6-Ref', 'CP1-Ref', 'CP2-Ref', 'CP5-Ref', 'CP6-Ref']\n",
      "Detected bipolar montage channels\n",
      "Total regional features extracted: 480\n",
      "Mean connectivity shape: (38, 38)\n",
      "Number of epochs:  27\n"
     ]
    },
    {
     "name": "stderr",
     "output_type": "stream",
     "text": [
      " 54%|█████▍    | 133/245 [5:51:17<2:49:26, 90.77s/it] "
     ]
    },
    {
     "name": "stdout",
     "output_type": "stream",
     "text": [
      "Storing features...\n",
      "Error processing data/chb-mit\\chb15\\chb15_54.edf: tmin (318) must be less than tmax (-82801)\n",
      "Patient id: chb15\n",
      "Edf file: chb15_54.edf\n",
      "Registration start: 23:39:54\n",
      "Registration end: 00:39:54\n",
      "Registration start seconds: 85194\n",
      "Registration end seconds: 2394\n",
      "EDF file duration: -82800\n",
      "Seizure start: 23:53:57\n",
      "Seizure end: 23:56:54\n",
      "Seizure start seconds: 86037\n",
      "Seizure end seconds: 86214\n",
      "Seizure duration: 177\n",
      "Seizure onset seconds: 843\n",
      "Post-ictal onset seconds: 1020\n",
      "Loading edf file...\n",
      "Channels available: ['FP1-F7', 'F7-T7', 'T7-P7', 'P7-O1', '--0', 'FP1-F3', 'F3-C3', 'C3-P3', 'P3-O1', '--1', 'FZ-CZ', 'CZ-PZ', 'PZ-OZ', '--2', 'FP2-F4', 'F4-C4', 'C4-P4', 'P4-O2', '--3', 'FP2-F8', 'F8-T8', 'T8-P8-0', 'P8-O2', '--4', 'P7-T7', 'T7-FT9', 'FT9-FT10', 'FT10-T8', 'T8-P8-1', '--5', 'FC1-Ref', 'FC2-Ref', 'FC5-Ref', 'FC6-Ref', 'CP1-Ref', 'CP2-Ref', 'CP5-Ref', 'CP6-Ref']\n",
      "Detected bipolar montage channels\n",
      "Total regional features extracted: 480\n",
      "Mean connectivity shape: (38, 38)\n",
      "Number of epochs:  88\n",
      "Storing features...\n"
     ]
    },
    {
     "name": "stderr",
     "output_type": "stream",
     "text": [
      " 55%|█████▍    | 134/245 [5:51:51<2:16:14, 73.64s/it]"
     ]
    },
    {
     "name": "stdout",
     "output_type": "stream",
     "text": [
      "Error processing data/chb-mit\\chb15\\chb15_54.edf: tmin (1020) must be less than tmax (-82801)\n",
      "Patient id: chb15\n",
      "Edf file: chb15_54.edf\n",
      "Registration start: 23:39:54\n",
      "Registration end: 00:39:54\n",
      "Registration start seconds: 85194\n",
      "Registration end seconds: 2394\n",
      "EDF file duration: -82800\n",
      "Seizure start: 00:05:18\n",
      "Seizure end: 00:06:29\n",
      "Seizure start seconds: 318\n",
      "Seizure end seconds: 389\n",
      "Seizure duration: 71\n",
      "Seizure onset seconds: 1524\n",
      "Post-ictal onset seconds: 1595\n",
      "Loading edf file...\n",
      "Channels available: ['FP1-F7', 'F7-T7', 'T7-P7', 'P7-O1', '--0', 'FP1-F3', 'F3-C3', 'C3-P3', 'P3-O1', '--1', 'FZ-CZ', 'CZ-PZ', 'PZ-OZ', '--2', 'FP2-F4', 'F4-C4', 'C4-P4', 'P4-O2', '--3', 'FP2-F8', 'F8-T8', 'T8-P8-0', 'P8-O2', '--4', 'P7-T7', 'T7-FT9', 'FT9-FT10', 'FT10-T8', 'T8-P8-1', '--5', 'FC1-Ref', 'FC2-Ref', 'FC5-Ref', 'FC6-Ref', 'CP1-Ref', 'CP2-Ref', 'CP5-Ref', 'CP6-Ref']\n",
      "Detected bipolar montage channels\n",
      "Total regional features extracted: 480\n",
      "Mean connectivity shape: (38, 38)\n",
      "Number of epochs:  35\n"
     ]
    },
    {
     "name": "stderr",
     "output_type": "stream",
     "text": [
      " 55%|█████▌    | 135/245 [5:52:19<1:50:02, 60.03s/it]"
     ]
    },
    {
     "name": "stdout",
     "output_type": "stream",
     "text": [
      "Storing features...\n",
      "Error processing data/chb-mit\\chb15\\chb15_54.edf: tmin (1595) must be less than tmax (-82801)\n",
      "Patient id: chb15\n",
      "Edf file: chb15_54.edf\n",
      "Registration start: 23:39:54\n",
      "Registration end: 00:39:54\n",
      "Registration start seconds: 85194\n",
      "Registration end seconds: 2394\n",
      "EDF file duration: -82800\n",
      "Seizure start: 00:16:13\n",
      "Seizure end: 00:17:24\n",
      "Seizure start seconds: 973\n",
      "Seizure end seconds: 1044\n",
      "Seizure duration: 71\n",
      "Seizure onset seconds: 2179\n",
      "Post-ictal onset seconds: 2250\n",
      "Loading edf file...\n",
      "Channels available: ['FP1-F7', 'F7-T7', 'T7-P7', 'P7-O1', '--0', 'FP1-F3', 'F3-C3', 'C3-P3', 'P3-O1', '--1', 'FZ-CZ', 'CZ-PZ', 'PZ-OZ', '--2', 'FP2-F4', 'F4-C4', 'C4-P4', 'P4-O2', '--3', 'FP2-F8', 'F8-T8', 'T8-P8-0', 'P8-O2', '--4', 'P7-T7', 'T7-FT9', 'FT9-FT10', 'FT10-T8', 'T8-P8-1', '--5', 'FC1-Ref', 'FC2-Ref', 'FC5-Ref', 'FC6-Ref', 'CP1-Ref', 'CP2-Ref', 'CP5-Ref', 'CP6-Ref']\n",
      "Detected bipolar montage channels\n",
      "Total regional features extracted: 480\n",
      "Mean connectivity shape: (38, 38)\n",
      "Number of epochs:  35\n"
     ]
    },
    {
     "name": "stderr",
     "output_type": "stream",
     "text": [
      " 56%|█████▌    | 136/245 [5:52:47<1:31:46, 50.52s/it]"
     ]
    },
    {
     "name": "stdout",
     "output_type": "stream",
     "text": [
      "Storing features...\n",
      "Error processing data/chb-mit\\chb15\\chb15_54.edf: tmin (2250) must be less than tmax (-82801)\n",
      "Patient id: chb15\n",
      "Edf file: chb15_54.edf\n",
      "Registration start: 23:39:54\n",
      "Registration end: 00:39:54\n",
      "Registration start seconds: 85194\n",
      "Registration end seconds: 2394\n",
      "EDF file duration: -82800\n",
      "Seizure start: 00:37:08\n",
      "Seizure end: 00:37:40\n",
      "Seizure start seconds: 2228\n",
      "Seizure end seconds: 2260\n",
      "Seizure duration: 32\n",
      "Seizure onset seconds: 3434\n",
      "Post-ictal onset seconds: 3466\n",
      "Loading edf file...\n",
      "Channels available: ['FP1-F7', 'F7-T7', 'T7-P7', 'P7-O1', '--0', 'FP1-F3', 'F3-C3', 'C3-P3', 'P3-O1', '--1', 'FZ-CZ', 'CZ-PZ', 'PZ-OZ', '--2', 'FP2-F4', 'F4-C4', 'C4-P4', 'P4-O2', '--3', 'FP2-F8', 'F8-T8', 'T8-P8-0', 'P8-O2', '--4', 'P7-T7', 'T7-FT9', 'FT9-FT10', 'FT10-T8', 'T8-P8-1', '--5', 'FC1-Ref', 'FC2-Ref', 'FC5-Ref', 'FC6-Ref', 'CP1-Ref', 'CP2-Ref', 'CP5-Ref', 'CP6-Ref']\n",
      "Detected bipolar montage channels\n",
      "Total regional features extracted: 480\n",
      "Mean connectivity shape: (38, 38)\n",
      "Number of epochs:  16\n",
      "Storing features...\n"
     ]
    },
    {
     "name": "stderr",
     "output_type": "stream",
     "text": [
      " 56%|█████▌    | 137/245 [5:53:14<1:18:12, 43.45s/it]"
     ]
    },
    {
     "name": "stdout",
     "output_type": "stream",
     "text": [
      "Error processing data/chb-mit\\chb15\\chb15_54.edf: tmin (3466) must be less than tmax (-82801)\n",
      "Patient id: chb15\n",
      "Edf file: chb15_62.edf\n",
      "Registration start: 07:41:10\n",
      "Registration end: 08:41:10\n",
      "Registration start seconds: 27670\n",
      "Registration end seconds: 31270\n",
      "EDF file duration: 3600\n",
      "Seizure start: 07:53:41\n",
      "Seizure end: 07:55:29\n",
      "Seizure start seconds: 28421\n",
      "Seizure end seconds: 28529\n",
      "Seizure duration: 108\n",
      "Seizure onset seconds: 751\n",
      "Post-ictal onset seconds: 859\n",
      "Loading edf file...\n",
      "Channels available: ['FP1-F7', 'F7-T7', 'T7-P7', 'P7-O1', '--0', 'FP1-F3', 'F3-C3', 'C3-P3', 'P3-O1', '--1', 'FZ-CZ', 'CZ-PZ', 'PZ-OZ', '--2', 'FP2-F4', 'F4-C4', 'C4-P4', 'P4-O2', '--3', 'FP2-F8', 'F8-T8', 'T8-P8-0', 'P8-O2', '--4', 'P7-T7', 'T7-FT9', 'FT9-FT10', 'FT10-T8', 'T8-P8-1', '--5', 'FC1-Ref', 'FC2-Ref', 'FC5-Ref', 'FC6-Ref', 'CP1-Ref', 'CP2-Ref', 'CP5-Ref', 'CP6-Ref']\n",
      "Detected bipolar montage channels\n",
      "Total regional features extracted: 480\n",
      "Mean connectivity shape: (38, 38)\n",
      "Number of epochs:  54\n",
      "Storing features...\n",
      "Detected bipolar montage channels\n",
      "Total regional features extracted: 480\n"
     ]
    },
    {
     "name": "stderr",
     "output_type": "stream",
     "text": [
      " 56%|█████▋    | 138/245 [5:56:02<2:23:38, 80.54s/it]"
     ]
    },
    {
     "name": "stdout",
     "output_type": "stream",
     "text": [
      "Patient id: chb16\n",
      "Edf file: chb16_10.edf\n",
      "Registration start: 01:40:40\n",
      "Registration end: 02:40:40\n",
      "Registration start seconds: 6040\n",
      "Registration end seconds: 9640\n",
      "EDF file duration: 3600\n",
      "Seizure start: 02:18:50\n",
      "Seizure end: 02:18:59\n",
      "Seizure start seconds: 8330\n",
      "Seizure end seconds: 8339\n",
      "Seizure duration: 9\n",
      "Seizure onset seconds: 2290\n",
      "Post-ictal onset seconds: 2299\n",
      "Loading edf file...\n",
      "Channels available: ['FP1-F7', 'F7-T7', 'T7-P7', 'P7-O1', '--0', 'FP1-F3', 'F3-C3', 'C3-P3', 'P3-O1', '--1', 'FZ-CZ', 'CZ-PZ', '--2', 'FP2-F4', 'F4-C4', 'C4-P4', 'P4-O2', '--3', 'FP2-F8', 'F8-T8', 'T8-P8-0', 'P8-O2', '--4', 'P7-T7', 'T7-FT9', 'FT9-FT10', 'FT10-T8', 'T8-P8-1']\n",
      "Detected bipolar montage channels\n",
      "Total regional features extracted: 480\n",
      "Mean connectivity shape: (28, 28)\n",
      "Number of epochs:  4\n",
      "Storing features...\n",
      "Detected bipolar montage channels\n",
      "Total regional features extracted: 480\n"
     ]
    },
    {
     "name": "stderr",
     "output_type": "stream",
     "text": [
      " 57%|█████▋    | 139/245 [5:57:30<2:26:21, 82.85s/it]"
     ]
    },
    {
     "name": "stdout",
     "output_type": "stream",
     "text": [
      "Patient id: chb16\n",
      "Edf file: chb16_11.edf\n",
      "Registration start: 02:40:47\n",
      "Registration end: 03:40:47\n",
      "Registration start seconds: 9647\n",
      "Registration end seconds: 13247\n",
      "EDF file duration: 3600\n",
      "Seizure start: 02:59:27\n",
      "Seizure end: 02:59:36\n",
      "Seizure start seconds: 10767\n",
      "Seizure end seconds: 10776\n",
      "Seizure duration: 9\n",
      "Seizure onset seconds: 1120\n",
      "Post-ictal onset seconds: 1129\n",
      "Loading edf file...\n",
      "Channels available: ['FP1-F7', 'F7-T7', 'T7-P7', 'P7-O1', '--0', 'FP1-F3', 'F3-C3', 'C3-P3', 'P3-O1', '--1', 'FZ-CZ', 'CZ-PZ', '--2', 'FP2-F4', 'F4-C4', 'C4-P4', 'P4-O2', '--3', 'FP2-F8', 'F8-T8', 'T8-P8-0', 'P8-O2', '--4', 'P7-T7', 'T7-FT9', 'FT9-FT10', 'FT10-T8', 'T8-P8-1']\n",
      "Detected bipolar montage channels\n",
      "Total regional features extracted: 480\n",
      "Mean connectivity shape: (28, 28)\n",
      "Number of epochs:  4\n",
      "Storing features...\n",
      "Detected bipolar montage channels\n",
      "Total regional features extracted: 480\n"
     ]
    },
    {
     "name": "stderr",
     "output_type": "stream",
     "text": [
      " 57%|█████▋    | 140/245 [6:00:01<3:00:55, 103.39s/it]"
     ]
    },
    {
     "name": "stdout",
     "output_type": "stream",
     "text": [
      "Patient id: chb16\n",
      "Edf file: chb16_14.edf\n",
      "Registration start: 05:41:08\n",
      "Registration end: 06:41:08\n",
      "Registration start seconds: 20468\n",
      "Registration end seconds: 24068\n",
      "EDF file duration: 3600\n",
      "Seizure start: 06:12:02\n",
      "Seizure end: 06:12:16\n",
      "Seizure start seconds: 22322\n",
      "Seizure end seconds: 22336\n",
      "Seizure duration: 14\n",
      "Seizure onset seconds: 1854\n",
      "Post-ictal onset seconds: 1868\n",
      "Loading edf file...\n",
      "Channels available: ['FP1-F7', 'F7-T7', 'T7-P7', 'P7-O1', '--0', 'FP1-F3', 'F3-C3', 'C3-P3', 'P3-O1', '--1', 'FZ-CZ', 'CZ-PZ', '--2', 'FP2-F4', 'F4-C4', 'C4-P4', 'P4-O2', '--3', 'FP2-F8', 'F8-T8', 'T8-P8-0', 'P8-O2', '--4', 'P7-T7', 'T7-FT9', 'FT9-FT10', 'FT10-T8', 'T8-P8-1']\n",
      "Detected bipolar montage channels\n",
      "Total regional features extracted: 480\n",
      "Mean connectivity shape: (28, 28)\n",
      "Number of epochs:  7\n",
      "Storing features...\n",
      "Detected bipolar montage channels\n",
      "Total regional features extracted: 480\n"
     ]
    },
    {
     "name": "stderr",
     "output_type": "stream",
     "text": [
      " 58%|█████▊    | 141/245 [6:01:46<3:00:06, 103.90s/it]"
     ]
    },
    {
     "name": "stdout",
     "output_type": "stream",
     "text": [
      "Patient id: chb16\n",
      "Edf file: chb16_16.edf\n",
      "Registration start: 07:41:22\n",
      "Registration end: 08:41:22\n",
      "Registration start seconds: 27682\n",
      "Registration end seconds: 31282\n",
      "EDF file duration: 3600\n",
      "Seizure start: 08:01:36\n",
      "Seizure end: 08:01:42\n",
      "Seizure start seconds: 28896\n",
      "Seizure end seconds: 28902\n",
      "Seizure duration: 6\n",
      "Seizure onset seconds: 1214\n",
      "Post-ictal onset seconds: 1220\n",
      "Loading edf file...\n",
      "Channels available: ['FP1-F7', 'F7-T7', 'T7-P7', 'P7-O1', '--0', 'FP1-F3', 'F3-C3', 'C3-P3', 'P3-O1', '--1', 'FZ-CZ', 'CZ-PZ', '--2', 'FP2-F4', 'F4-C4', 'C4-P4', 'P4-O2', '--3', 'FP2-F8', 'F8-T8', 'T8-P8-0', 'P8-O2', '--4', 'P7-T7', 'T7-FT9', 'FT9-FT10', 'FT10-T8', 'T8-P8-1']\n",
      "Detected bipolar montage channels\n",
      "Total regional features extracted: 480\n",
      "Mean connectivity shape: (28, 28)\n",
      "Number of epochs:  3\n",
      "Storing features...\n",
      "Detected bipolar montage channels\n",
      "Total regional features extracted: 480\n"
     ]
    },
    {
     "name": "stderr",
     "output_type": "stream",
     "text": [
      " 58%|█████▊    | 142/245 [6:04:01<3:14:16, 113.17s/it]"
     ]
    },
    {
     "name": "stdout",
     "output_type": "stream",
     "text": [
      "Patient id: chb16\n",
      "Edf file: chb16_17.edf\n",
      "Registration start: 08:41:29\n",
      "Registration end: 09:41:29\n",
      "Registration start seconds: 31289\n",
      "Registration end seconds: 34889\n",
      "EDF file duration: 3600\n",
      "Seizure start: 08:45:16\n",
      "Seizure end: 08:45:25\n",
      "Seizure start seconds: 31516\n",
      "Seizure end seconds: 31525\n",
      "Seizure duration: 9\n",
      "Seizure onset seconds: 227\n",
      "Post-ictal onset seconds: 236\n",
      "Loading edf file...\n",
      "Channels available: ['FP1-F7', 'F7-T7', 'T7-P7', 'P7-O1', '--0', 'FP1-F3', 'F3-C3', 'C3-P3', 'P3-O1', '--1', 'FZ-CZ', 'CZ-PZ', '--2', 'FP2-F4', 'F4-C4', 'C4-P4', 'P4-O2', '--3', 'FP2-F8', 'F8-T8', 'T8-P8-0', 'P8-O2', '--4', 'P7-T7', 'T7-FT9', 'FT9-FT10', 'FT10-T8', 'T8-P8-1']\n",
      "Detected bipolar montage channels\n",
      "Total regional features extracted: 480\n",
      "Mean connectivity shape: (28, 28)\n",
      "Number of epochs:  4\n",
      "Storing features...\n",
      "Detected bipolar montage channels\n",
      "Total regional features extracted: 480\n"
     ]
    },
    {
     "name": "stderr",
     "output_type": "stream",
     "text": [
      " 58%|█████▊    | 143/245 [6:07:21<3:56:42, 139.24s/it]"
     ]
    },
    {
     "name": "stdout",
     "output_type": "stream",
     "text": [
      "Patient id: chb16\n",
      "Edf file: chb16_17.edf\n",
      "Registration start: 08:41:29\n",
      "Registration end: 09:41:29\n",
      "Registration start seconds: 31289\n",
      "Registration end seconds: 34889\n",
      "EDF file duration: 3600\n",
      "Seizure start: 09:09:43\n",
      "Seizure end: 09:09:49\n",
      "Seizure start seconds: 32983\n",
      "Seizure end seconds: 32989\n",
      "Seizure duration: 6\n",
      "Seizure onset seconds: 1694\n",
      "Post-ictal onset seconds: 1700\n",
      "Loading edf file...\n",
      "Channels available: ['FP1-F7', 'F7-T7', 'T7-P7', 'P7-O1', '--0', 'FP1-F3', 'F3-C3', 'C3-P3', 'P3-O1', '--1', 'FZ-CZ', 'CZ-PZ', '--2', 'FP2-F4', 'F4-C4', 'C4-P4', 'P4-O2', '--3', 'FP2-F8', 'F8-T8', 'T8-P8-0', 'P8-O2', '--4', 'P7-T7', 'T7-FT9', 'FT9-FT10', 'FT10-T8', 'T8-P8-1']\n",
      "Detected bipolar montage channels\n",
      "Total regional features extracted: 480\n",
      "Mean connectivity shape: (28, 28)\n",
      "Number of epochs:  3\n",
      "Storing features...\n",
      "Detected bipolar montage channels\n",
      "Total regional features extracted: 480\n"
     ]
    },
    {
     "name": "stderr",
     "output_type": "stream",
     "text": [
      " 59%|█████▉    | 144/245 [6:09:04<3:36:14, 128.46s/it]"
     ]
    },
    {
     "name": "stdout",
     "output_type": "stream",
     "text": [
      "Patient id: chb16\n",
      "Edf file: chb16_17.edf\n",
      "Registration start: 08:41:29\n",
      "Registration end: 09:41:29\n",
      "Registration start seconds: 31289\n",
      "Registration end seconds: 34889\n",
      "EDF file duration: 3600\n",
      "Seizure start: 09:17:31\n",
      "Seizure end: 09:17:39\n",
      "Seizure start seconds: 33451\n",
      "Seizure end seconds: 33459\n",
      "Seizure duration: 8\n",
      "Seizure onset seconds: 2162\n",
      "Post-ictal onset seconds: 2170\n",
      "Loading edf file...\n",
      "Channels available: ['FP1-F7', 'F7-T7', 'T7-P7', 'P7-O1', '--0', 'FP1-F3', 'F3-C3', 'C3-P3', 'P3-O1', '--1', 'FZ-CZ', 'CZ-PZ', '--2', 'FP2-F4', 'F4-C4', 'C4-P4', 'P4-O2', '--3', 'FP2-F8', 'F8-T8', 'T8-P8-0', 'P8-O2', '--4', 'P7-T7', 'T7-FT9', 'FT9-FT10', 'FT10-T8', 'T8-P8-1']\n",
      "Detected bipolar montage channels\n",
      "Total regional features extracted: 480\n",
      "Mean connectivity shape: (28, 28)\n",
      "Number of epochs:  4\n",
      "Storing features...\n",
      "Detected bipolar montage channels\n",
      "Total regional features extracted: 480\n"
     ]
    },
    {
     "name": "stderr",
     "output_type": "stream",
     "text": [
      " 59%|█████▉    | 145/245 [6:10:25<3:10:27, 114.28s/it]"
     ]
    },
    {
     "name": "stdout",
     "output_type": "stream",
     "text": [
      "Patient id: chb16\n",
      "Edf file: chb16_17.edf\n",
      "Registration start: 08:41:29\n",
      "Registration end: 09:41:29\n",
      "Registration start seconds: 31289\n",
      "Registration end seconds: 34889\n",
      "EDF file duration: 3600\n",
      "Seizure start: 09:36:19\n",
      "Seizure end: 09:36:27\n",
      "Seizure start seconds: 34579\n",
      "Seizure end seconds: 34587\n",
      "Seizure duration: 8\n",
      "Seizure onset seconds: 3290\n",
      "Post-ictal onset seconds: 3298\n",
      "Loading edf file...\n",
      "Channels available: ['FP1-F7', 'F7-T7', 'T7-P7', 'P7-O1', '--0', 'FP1-F3', 'F3-C3', 'C3-P3', 'P3-O1', '--1', 'FZ-CZ', 'CZ-PZ', '--2', 'FP2-F4', 'F4-C4', 'C4-P4', 'P4-O2', '--3', 'FP2-F8', 'F8-T8', 'T8-P8-0', 'P8-O2', '--4', 'P7-T7', 'T7-FT9', 'FT9-FT10', 'FT10-T8', 'T8-P8-1']\n",
      "Detected bipolar montage channels\n",
      "Total regional features extracted: 480\n",
      "Mean connectivity shape: (28, 28)\n",
      "Number of epochs:  4\n",
      "Storing features...\n",
      "Detected bipolar montage channels\n"
     ]
    },
    {
     "name": "stderr",
     "output_type": "stream",
     "text": [
      " 60%|█████▉    | 146/245 [6:10:59<2:28:44, 90.15s/it] "
     ]
    },
    {
     "name": "stdout",
     "output_type": "stream",
     "text": [
      "Total regional features extracted: 480\n",
      "Patient id: chb16\n",
      "Edf file: chb16_18.edf\n",
      "Registration start: 09:41:36\n",
      "Registration end: 10:41:36\n",
      "Registration start seconds: 34896\n",
      "Registration end seconds: 38496\n",
      "EDF file duration: 3600\n",
      "Seizure start: 09:52:03\n",
      "Seizure end: 09:52:11\n",
      "Seizure start seconds: 35523\n",
      "Seizure end seconds: 35531\n",
      "Seizure duration: 8\n",
      "Seizure onset seconds: 627\n",
      "Post-ictal onset seconds: 635\n",
      "Loading edf file...\n",
      "Channels available: ['FP1-F7', 'F7-T7', 'T7-P7', 'P7-O1', '--0', 'FP1-F3', 'F3-C3', 'C3-P3', 'P3-O1', '--1', 'FZ-CZ', 'CZ-PZ', '--2', 'FP2-F4', 'F4-C4', 'C4-P4', 'P4-O2', '--3', 'FP2-F8', 'F8-T8', 'T8-P8', 'P8-O2']\n",
      "Detected bipolar montage channels\n",
      "No channels found for frontotemporal region\n",
      "No channels found for cross_hemisphere region\n",
      "Total regional features extracted: 416\n",
      "Mean connectivity shape: (22, 22)\n",
      "Number of epochs:  4\n",
      "Storing features...\n",
      "Detected bipolar montage channels\n",
      "No channels found for frontotemporal region\n",
      "No channels found for cross_hemisphere region\n",
      "Total regional features extracted: 416\n"
     ]
    },
    {
     "name": "stderr",
     "output_type": "stream",
     "text": [
      " 60%|██████    | 147/245 [6:13:07<2:45:37, 101.41s/it]"
     ]
    },
    {
     "name": "stdout",
     "output_type": "stream",
     "text": [
      "Patient id: chb16\n",
      "Edf file: chb16_18.edf\n",
      "Registration start: 09:41:36\n",
      "Registration end: 10:41:36\n",
      "Registration start seconds: 34896\n",
      "Registration end seconds: 38496\n",
      "EDF file duration: 3600\n",
      "Seizure start: 10:13:25\n",
      "Seizure end: 10:13:32\n",
      "Seizure start seconds: 36805\n",
      "Seizure end seconds: 36812\n",
      "Seizure duration: 7\n",
      "Seizure onset seconds: 1909\n",
      "Post-ictal onset seconds: 1916\n",
      "Loading edf file...\n",
      "Channels available: ['FP1-F7', 'F7-T7', 'T7-P7', 'P7-O1', '--0', 'FP1-F3', 'F3-C3', 'C3-P3', 'P3-O1', '--1', 'FZ-CZ', 'CZ-PZ', '--2', 'FP2-F4', 'F4-C4', 'C4-P4', 'P4-O2', '--3', 'FP2-F8', 'F8-T8', 'T8-P8', 'P8-O2']\n",
      "Detected bipolar montage channels\n",
      "No channels found for frontotemporal region\n",
      "No channels found for cross_hemisphere region\n",
      "Total regional features extracted: 416\n",
      "Mean connectivity shape: (22, 22)\n",
      "Number of epochs:  3\n",
      "Storing features...\n",
      "Detected bipolar montage channels\n",
      "No channels found for frontotemporal region\n",
      "No channels found for cross_hemisphere region\n",
      "Total regional features extracted: 416\n"
     ]
    },
    {
     "name": "stderr",
     "output_type": "stream",
     "text": [
      " 60%|██████    | 148/245 [6:14:13<2:26:49, 90.82s/it] "
     ]
    },
    {
     "name": "stdout",
     "output_type": "stream",
     "text": [
      "Patient id: chb17\n",
      "Edf file: chb17a_03.edf\n",
      "Registration start: 19:47:38\n",
      "Registration end: 20:47:38\n",
      "Registration start seconds: 71258\n",
      "Registration end seconds: 74858\n",
      "EDF file duration: 3600\n",
      "Seizure start: 20:25:40\n",
      "Seizure end: 20:27:10\n",
      "Seizure start seconds: 73540\n",
      "Seizure end seconds: 73630\n",
      "Seizure duration: 90\n",
      "Seizure onset seconds: 2282\n",
      "Post-ictal onset seconds: 2372\n",
      "Loading edf file...\n",
      "Channels available: ['FP1-F7', 'F7-T7', 'T7-P7', 'P7-O1', '--0', 'FP1-F3', 'F3-C3', 'C3-P3', 'P3-O1', '--1', 'FZ-CZ', 'CZ-PZ', '--2', 'FP2-F4', 'F4-C4', 'C4-P4', 'P4-O2', '--3', 'FP2-F8', 'F8-T8', 'T8-P8-0', 'P8-O2', '--4', 'P7-T7', 'T7-FT9', 'FT9-FT10', 'FT10-T8', 'T8-P8-1']\n",
      "Detected bipolar montage channels\n",
      "Total regional features extracted: 480\n",
      "Mean connectivity shape: (28, 28)\n",
      "Number of epochs:  45\n",
      "Storing features...\n",
      "Detected bipolar montage channels\n",
      "Total regional features extracted: 480\n"
     ]
    },
    {
     "name": "stderr",
     "output_type": "stream",
     "text": [
      " 61%|██████    | 149/245 [6:15:38<2:22:22, 88.98s/it]"
     ]
    },
    {
     "name": "stdout",
     "output_type": "stream",
     "text": [
      "Patient id: chb17\n",
      "Edf file: chb17a_04.edf\n",
      "Registration start: 20:47:45\n",
      "Registration end: 21:47:45\n",
      "Registration start seconds: 74865\n",
      "Registration end seconds: 78465\n",
      "EDF file duration: 3600\n",
      "Seizure start: 21:38:10\n",
      "Seizure end: 21:40:05\n",
      "Seizure start seconds: 77890\n",
      "Seizure end seconds: 78005\n",
      "Seizure duration: 115\n",
      "Seizure onset seconds: 3025\n",
      "Post-ictal onset seconds: 3140\n",
      "Loading edf file...\n",
      "Channels available: ['FP1-F7', 'F7-T7', 'T7-P7', 'P7-O1', '--0', 'FP1-F3', 'F3-C3', 'C3-P3', 'P3-O1', '--1', 'FZ-CZ', 'CZ-PZ', '--2', 'FP2-F4', 'F4-C4', 'C4-P4', 'P4-O2', '--3', 'FP2-F8', 'F8-T8', 'T8-P8-0', 'P8-O2', '--4', 'P7-T7', 'T7-FT9', 'FT9-FT10', 'FT10-T8', 'T8-P8-1']\n",
      "Detected bipolar montage channels\n",
      "Total regional features extracted: 480\n",
      "Mean connectivity shape: (28, 28)\n",
      "Number of epochs:  57\n",
      "Storing features...\n",
      "Detected bipolar montage channels\n"
     ]
    },
    {
     "name": "stderr",
     "output_type": "stream",
     "text": [
      " 61%|██████    | 150/245 [6:16:22<1:59:28, 75.45s/it]"
     ]
    },
    {
     "name": "stdout",
     "output_type": "stream",
     "text": [
      "Total regional features extracted: 480\n",
      "Patient id: chb17\n",
      "Edf file: chb17b_63.edf\n",
      "Registration start: 08:00:02\n",
      "Registration end: 09:00:26\n",
      "Registration start seconds: 28802\n",
      "Registration end seconds: 32426\n",
      "EDF file duration: 3624\n",
      "Seizure start: 08:52:18\n",
      "Seizure end: 08:53:46\n",
      "Seizure start seconds: 31938\n",
      "Seizure end seconds: 32026\n",
      "Seizure duration: 88\n",
      "Seizure onset seconds: 3136\n",
      "Post-ictal onset seconds: 3224\n",
      "Loading edf file...\n",
      "Channels available: ['FP1-F7', 'F7-T7', 'T7-P7', 'P7-O1', '--0', 'FP1-F3', 'F3-C3', 'C3-P3', 'P3-O1', '--1', 'FZ-CZ', 'CZ-PZ', '--2', 'FP2-F4', 'F4-C4', 'C4-P4', 'P4-O2', '--3', 'FP2-F8', 'F8-T8', 'T8-P8-0', 'P8-O2', '--4', 'P7-T7', 'T7-FT9', 'FT9-FT10', 'FT10-T8', 'T8-P8-1']\n",
      "Detected bipolar montage channels\n",
      "Total regional features extracted: 480\n",
      "Mean connectivity shape: (28, 28)\n",
      "Number of epochs:  44\n",
      "Storing features...\n",
      "Detected bipolar montage channels\n"
     ]
    },
    {
     "name": "stderr",
     "output_type": "stream",
     "text": [
      " 62%|██████▏   | 151/245 [6:17:04<1:42:28, 65.41s/it]"
     ]
    },
    {
     "name": "stdout",
     "output_type": "stream",
     "text": [
      "Total regional features extracted: 480\n",
      "Patient id: chb18\n",
      "Edf file: chb18_29.edf\n",
      "Registration start: 05:58:59\n",
      "Registration end: 06:58:59\n",
      "Registration start seconds: 21539\n",
      "Registration end seconds: 25139\n",
      "EDF file duration: 3600\n",
      "Seizure start: 06:56:56\n",
      "Seizure end: 06:57:46\n",
      "Seizure start seconds: 25016\n",
      "Seizure end seconds: 25066\n",
      "Seizure duration: 50\n",
      "Seizure onset seconds: 3477\n",
      "Post-ictal onset seconds: 3527\n",
      "Loading edf file...\n",
      "Channels available: ['FP1-F7', 'F7-T7', 'T7-P7', 'P7-O1', '.-0', 'FP1-F3', 'F3-C3', 'C3-P3', 'P3-O1', '.-1', 'FZ-CZ', 'CZ-PZ', '.-2', 'FP2-F4', 'F4-C4', 'C4-P4', 'P4-O2', '.-3', 'FP2-F8', 'F8-T8', 'T8-P8-0', 'P8-O2', '.-4', 'P7-T7', 'T7-FT9', 'FT9-FT10', 'FT10-T8', 'T8-P8-1']\n",
      "Detected bipolar montage channels\n",
      "Total regional features extracted: 480\n",
      "Mean connectivity shape: (28, 28)\n",
      "Number of epochs:  25\n",
      "Storing features...\n",
      "Detected bipolar montage channels\n"
     ]
    },
    {
     "name": "stderr",
     "output_type": "stream",
     "text": [
      " 62%|██████▏   | 152/245 [6:17:33<1:24:27, 54.49s/it]"
     ]
    },
    {
     "name": "stdout",
     "output_type": "stream",
     "text": [
      "Total regional features extracted: 480\n",
      "Patient id: chb18\n",
      "Edf file: chb18_30.edf\n",
      "Registration start: 06:59:06\n",
      "Registration end: 07:59:06\n",
      "Registration start seconds: 25146\n",
      "Registration end seconds: 28746\n",
      "EDF file duration: 3600\n",
      "Seizure start: 07:08:07\n",
      "Seizure end: 07:08:37\n",
      "Seizure start seconds: 25687\n",
      "Seizure end seconds: 25717\n",
      "Seizure duration: 30\n",
      "Seizure onset seconds: 541\n",
      "Post-ictal onset seconds: 571\n",
      "Loading edf file...\n",
      "Channels available: ['FP1-F7', 'F7-T7', 'T7-P7', 'P7-O1', '.-0', 'FP1-F3', 'F3-C3', 'C3-P3', 'P3-O1', '.-1', 'FZ-CZ', 'CZ-PZ', '.-2', 'FP2-F4', 'F4-C4', 'C4-P4', 'P4-O2', '.-3', 'FP2-F8', 'F8-T8', 'T8-P8-0', 'P8-O2', '.-4', 'P7-T7', 'T7-FT9', 'FT9-FT10', 'FT10-T8', 'T8-P8-1']\n",
      "Detected bipolar montage channels\n",
      "Total regional features extracted: 480\n",
      "Mean connectivity shape: (28, 28)\n",
      "Number of epochs:  15\n",
      "Storing features...\n",
      "Detected bipolar montage channels\n",
      "Total regional features extracted: 480\n"
     ]
    },
    {
     "name": "stderr",
     "output_type": "stream",
     "text": [
      " 62%|██████▏   | 153/245 [6:20:19<2:14:51, 87.95s/it]"
     ]
    },
    {
     "name": "stdout",
     "output_type": "stream",
     "text": [
      "Patient id: chb18\n",
      "Edf file: chb18_31.edf\n",
      "Registration start: 10:00:32\n",
      "Registration end: 10:38:26\n",
      "Registration start seconds: 36032\n",
      "Registration end seconds: 38306\n",
      "EDF file duration: 2274\n",
      "Seizure start: 10:35:19\n",
      "Seizure end: 10:36:27\n",
      "Seizure start seconds: 38119\n",
      "Seizure end seconds: 38187\n",
      "Seizure duration: 68\n",
      "Seizure onset seconds: 2087\n",
      "Post-ictal onset seconds: 2155\n",
      "Loading edf file...\n",
      "Channels available: ['FP1-F7', 'F7-T7', 'T7-P7', 'P7-O1', '.-0', 'FP1-F3', 'F3-C3', 'C3-P3', 'P3-O1', '.-1', 'FZ-CZ', 'CZ-PZ', '.-2', 'FP2-F4', 'F4-C4', 'C4-P4', 'P4-O2', '.-3', 'FP2-F8', 'F8-T8', 'T8-P8-0', 'P8-O2', '.-4', 'P7-T7', 'T7-FT9', 'FT9-FT10', 'FT10-T8', 'T8-P8-1']\n",
      "Detected bipolar montage channels\n",
      "Total regional features extracted: 480\n",
      "Mean connectivity shape: (28, 28)\n",
      "Number of epochs:  34\n",
      "Storing features...\n",
      "Detected bipolar montage channels\n"
     ]
    },
    {
     "name": "stderr",
     "output_type": "stream",
     "text": [
      " 63%|██████▎   | 154/245 [6:20:49<1:47:22, 70.79s/it]"
     ]
    },
    {
     "name": "stdout",
     "output_type": "stream",
     "text": [
      "Total regional features extracted: 480\n",
      "Patient id: chb18\n",
      "Edf file: chb18_32.edf\n",
      "Registration start: 11:38:42\n",
      "Registration end: 12:38:42\n",
      "Registration start seconds: 41922\n",
      "Registration end seconds: 45522\n",
      "EDF file duration: 3600\n",
      "Seizure start: 12:10:30\n",
      "Seizure end: 12:11:25\n",
      "Seizure start seconds: 43830\n",
      "Seizure end seconds: 43885\n",
      "Seizure duration: 55\n",
      "Seizure onset seconds: 1908\n",
      "Post-ictal onset seconds: 1963\n",
      "Loading edf file...\n",
      "Channels available: ['FP1-F7', 'F7-T7', 'T7-P7', 'P7-O1', '.-0', 'FP1-F3', 'F3-C3', 'C3-P3', 'P3-O1', '.-1', 'FZ-CZ', 'CZ-PZ', '.-2', 'FP2-F4', 'F4-C4', 'C4-P4', 'P4-O2', '.-3', 'FP2-F8', 'F8-T8', 'T8-P8-0', 'P8-O2', '.-4', 'P7-T7', 'T7-FT9', 'FT9-FT10', 'FT10-T8', 'T8-P8-1']\n",
      "Detected bipolar montage channels\n",
      "Total regional features extracted: 480\n",
      "Mean connectivity shape: (28, 28)\n",
      "Number of epochs:  27\n",
      "Storing features...\n",
      "Detected bipolar montage channels\n",
      "Total regional features extracted: 480\n"
     ]
    },
    {
     "name": "stderr",
     "output_type": "stream",
     "text": [
      " 63%|██████▎   | 155/245 [6:22:08<1:49:41, 73.12s/it]"
     ]
    },
    {
     "name": "stdout",
     "output_type": "stream",
     "text": [
      "Patient id: chb18\n",
      "Edf file: chb18_35.edf\n",
      "Registration start: 08:42:06\n",
      "Registration end: 09:42:06\n",
      "Registration start seconds: 31326\n",
      "Registration end seconds: 34926\n",
      "EDF file duration: 3600\n",
      "Seizure start: 09:18:42\n",
      "Seizure end: 09:19:50\n",
      "Seizure start seconds: 33522\n",
      "Seizure end seconds: 33590\n",
      "Seizure duration: 68\n",
      "Seizure onset seconds: 2196\n",
      "Post-ictal onset seconds: 2264\n",
      "Loading edf file...\n",
      "Channels available: ['FP1-F7', 'F7-T7', 'T7-P7', 'P7-O1', '.-0', 'FP1-F3', 'F3-C3', 'C3-P3', 'P3-O1', '.-1', 'FZ-CZ', 'CZ-PZ', '.-2', 'FP2-F4', 'F4-C4', 'C4-P4', 'P4-O2', '.-3', 'FP2-F8', 'F8-T8', 'T8-P8-0', 'P8-O2', '.-4', 'P7-T7', 'T7-FT9', 'FT9-FT10', 'FT10-T8', 'T8-P8-1']\n",
      "Detected bipolar montage channels\n",
      "Total regional features extracted: 480\n",
      "Mean connectivity shape: (28, 28)\n",
      "Number of epochs:  34\n",
      "Storing features...\n",
      "Detected bipolar montage channels\n",
      "Total regional features extracted: 480\n"
     ]
    },
    {
     "name": "stderr",
     "output_type": "stream",
     "text": [
      " 64%|██████▎   | 156/245 [6:23:36<1:54:57, 77.50s/it]"
     ]
    },
    {
     "name": "stdout",
     "output_type": "stream",
     "text": [
      "Patient id: chb18\n",
      "Edf file: chb18_36.edf\n",
      "Registration start: 08:45:57\n",
      "Registration end: 09:45:57\n",
      "Registration start seconds: 31557\n",
      "Registration end seconds: 35157\n",
      "EDF file duration: 3600\n",
      "Seizure start: 08:53:40\n",
      "Seizure end: 08:54:26\n",
      "Seizure start seconds: 32020\n",
      "Seizure end seconds: 32066\n",
      "Seizure duration: 46\n",
      "Seizure onset seconds: 463\n",
      "Post-ictal onset seconds: 509\n",
      "Loading edf file...\n",
      "Channels available: ['FP1-F7', 'F7-T7', 'T7-P7', 'P7-O1', '.-0', 'FP1-F3', 'F3-C3', 'C3-P3', 'P3-O1', '.-1', 'FZ-CZ', 'CZ-PZ', '.-2', 'FP2-F4', 'F4-C4', 'C4-P4', 'P4-O2', '.-3', 'FP2-F8', 'F8-T8', 'T8-P8-0', 'P8-O2', '.-4', 'P7-T7', 'T7-FT9', 'FT9-FT10', 'FT10-T8', 'T8-P8-1']\n",
      "Detected bipolar montage channels\n",
      "Total regional features extracted: 480\n",
      "Mean connectivity shape: (28, 28)\n",
      "Number of epochs:  23\n",
      "Storing features...\n",
      "Detected bipolar montage channels\n",
      "Total regional features extracted: 480\n"
     ]
    },
    {
     "name": "stderr",
     "output_type": "stream",
     "text": [
      " 64%|██████▍   | 157/245 [6:26:45<2:42:42, 110.94s/it]"
     ]
    },
    {
     "name": "stdout",
     "output_type": "stream",
     "text": [
      "Patient id: chb19\n",
      "Edf file: chb19_28.edf\n",
      "Registration start: 01:09:35\n",
      "Registration end: 02:09:47\n",
      "Registration start seconds: 4175\n",
      "Registration end seconds: 7787\n",
      "EDF file duration: 3612\n",
      "Seizure start: 01:14:34\n",
      "Seizure end: 01:15:52\n",
      "Seizure start seconds: 4474\n",
      "Seizure end seconds: 4552\n",
      "Seizure duration: 78\n",
      "Seizure onset seconds: 299\n",
      "Post-ictal onset seconds: 377\n",
      "Loading edf file...\n",
      "Channels available: ['FP1-F7', 'F7-T7', 'T7-P7', 'P7-O1', '--0', 'FP1-F3', 'F3-C3', 'C3-P3', 'P3-O1', '--1', 'FZ-CZ', 'CZ-PZ', '--2', 'FP2-F4', 'F4-C4', 'C4-P4', 'P4-O2', '--3', 'FP2-F8', 'F8-T8', 'T8-P8-0', 'P8-O2', '--4', 'P7-T7', 'T7-FT9', 'FT9-FT10', 'FT10-T8', 'T8-P8-1']\n",
      "Detected bipolar montage channels\n",
      "Total regional features extracted: 480\n",
      "Mean connectivity shape: (28, 28)\n",
      "Number of epochs:  39\n",
      "Storing features...\n",
      "Detected bipolar montage channels\n",
      "Total regional features extracted: 480\n"
     ]
    },
    {
     "name": "stderr",
     "output_type": "stream",
     "text": [
      " 64%|██████▍   | 158/245 [6:29:32<3:05:10, 127.71s/it]"
     ]
    },
    {
     "name": "stdout",
     "output_type": "stream",
     "text": [
      "Patient id: chb19\n",
      "Edf file: chb19_29.edf\n",
      "Registration start: 07:11:12\n",
      "Registration end: 08:11:12\n",
      "Registration start seconds: 25872\n",
      "Registration end seconds: 29472\n",
      "EDF file duration: 3600\n",
      "Seizure start: 08:00:36\n",
      "Seizure end: 08:01:53\n",
      "Seizure start seconds: 28836\n",
      "Seizure end seconds: 28913\n",
      "Seizure duration: 77\n",
      "Seizure onset seconds: 2964\n",
      "Post-ictal onset seconds: 3041\n",
      "Loading edf file...\n",
      "Channels available: ['FP1-F7', 'F7-T7', 'T7-P7', 'P7-O1', '--0', 'FP1-F3', 'F3-C3', 'C3-P3', 'P3-O1', '--1', 'FZ-CZ', 'CZ-PZ', '--2', 'FP2-F4', 'F4-C4', 'C4-P4', 'P4-O2', '--3', 'FP2-F8', 'F8-T8', 'T8-P8-0', 'P8-O2', '--4', 'P7-T7', 'T7-FT9', 'FT9-FT10', 'FT10-T8', 'T8-P8-1']\n",
      "Detected bipolar montage channels\n",
      "Total regional features extracted: 480\n",
      "Mean connectivity shape: (28, 28)\n",
      "Number of epochs:  38\n",
      "Storing features...\n",
      "Detected bipolar montage channels\n"
     ]
    },
    {
     "name": "stderr",
     "output_type": "stream",
     "text": [
      " 65%|██████▍   | 159/245 [6:30:23<2:30:11, 104.79s/it]"
     ]
    },
    {
     "name": "stdout",
     "output_type": "stream",
     "text": [
      "Total regional features extracted: 480\n",
      "Patient id: chb19\n",
      "Edf file: chb19_30.edf\n",
      "Registration start: 11:12:51\n",
      "Registration end: 12:08:25\n",
      "Registration start seconds: 40371\n",
      "Registration end seconds: 43705\n",
      "EDF file duration: 3334\n",
      "Seizure start: 12:05:30\n",
      "Seizure end: 12:06:51\n",
      "Seizure start seconds: 43530\n",
      "Seizure end seconds: 43611\n",
      "Seizure duration: 81\n",
      "Seizure onset seconds: 3159\n",
      "Post-ictal onset seconds: 3240\n",
      "Loading edf file...\n",
      "Channels available: ['FP1-F7', 'F7-T7', 'T7-P7', 'P7-O1', '--0', 'FP1-F3', 'F3-C3', 'C3-P3', 'P3-O1', '--1', 'FZ-CZ', 'CZ-PZ', '--2', 'FP2-F4', 'F4-C4', 'C4-P4', 'P4-O2', '--3', 'FP2-F8', 'F8-T8', 'T8-P8-0', 'P8-O2', '--4', 'P7-T7', 'T7-FT9', 'FT9-FT10', 'FT10-T8', 'T8-P8-1']\n",
      "Detected bipolar montage channels\n",
      "Total regional features extracted: 480\n",
      "Mean connectivity shape: (28, 28)\n",
      "Number of epochs:  40\n",
      "Storing features...\n",
      "Detected bipolar montage channels\n"
     ]
    },
    {
     "name": "stderr",
     "output_type": "stream",
     "text": [
      " 65%|██████▌   | 160/245 [6:30:53<1:56:50, 82.48s/it] "
     ]
    },
    {
     "name": "stdout",
     "output_type": "stream",
     "text": [
      "Total regional features extracted: 480\n",
      "Patient id: chb20\n",
      "Edf file: chb20_12.edf\n",
      "Registration start: 03:56:53\n",
      "Registration end: 04:56:53\n",
      "Registration start seconds: 14213\n",
      "Registration end seconds: 17813\n",
      "EDF file duration: 3600\n",
      "Seizure start: 03:58:27\n",
      "Seizure end: 03:58:56\n",
      "Seizure start seconds: 14307\n",
      "Seizure end seconds: 14336\n",
      "Seizure duration: 29\n",
      "Seizure onset seconds: 94\n",
      "Post-ictal onset seconds: 123\n",
      "Loading edf file...\n",
      "Channels available: ['FP1-F7', 'F7-T7', 'T7-P7', 'P7-O1', '.-0', 'FP1-F3', 'F3-C3', 'C3-P3', 'P3-O1', '.-1', 'FZ-CZ', 'CZ-PZ', '.-2', 'FP2-F4', 'F4-C4', 'C4-P4', 'P4-O2', '.-3', 'FP2-F8', 'F8-T8', 'T8-P8-0', 'P8-O2', '.-4', 'P7-T7', 'T7-FT9', 'FT9-FT10', 'FT10-T8', 'T8-P8-1']\n",
      "Detected bipolar montage channels\n",
      "Total regional features extracted: 480\n",
      "Mean connectivity shape: (28, 28)\n",
      "Number of epochs:  14\n",
      "Storing features...\n",
      "Detected bipolar montage channels\n",
      "Total regional features extracted: 480\n"
     ]
    },
    {
     "name": "stderr",
     "output_type": "stream",
     "text": [
      " 66%|██████▌   | 161/245 [6:35:43<3:22:39, 144.76s/it]"
     ]
    },
    {
     "name": "stdout",
     "output_type": "stream",
     "text": [
      "Patient id: chb20\n",
      "Edf file: chb20_13.edf\n",
      "Registration start: 04:57:00\n",
      "Registration end: 05:57:00\n",
      "Registration start seconds: 17820\n",
      "Registration end seconds: 21420\n",
      "EDF file duration: 3600\n",
      "Seizure start: 05:21:00\n",
      "Seizure end: 05:21:30\n",
      "Seizure start seconds: 19260\n",
      "Seizure end seconds: 19290\n",
      "Seizure duration: 30\n",
      "Seizure onset seconds: 1440\n",
      "Post-ictal onset seconds: 1470\n",
      "Loading edf file...\n",
      "Channels available: ['FP1-F7', 'F7-T7', 'T7-P7', 'P7-O1', '.-0', 'FP1-F3', 'F3-C3', 'C3-P3', 'P3-O1', '.-1', 'FZ-CZ', 'CZ-PZ', '.-2', 'FP2-F4', 'F4-C4', 'C4-P4', 'P4-O2', '.-3', 'FP2-F8', 'F8-T8', 'T8-P8-0', 'P8-O2', '.-4', 'P7-T7', 'T7-FT9', 'FT9-FT10', 'FT10-T8', 'T8-P8-1']\n",
      "Detected bipolar montage channels\n",
      "Total regional features extracted: 480\n",
      "Mean connectivity shape: (28, 28)\n",
      "Number of epochs:  15\n",
      "Storing features...\n",
      "Detected bipolar montage channels\n",
      "Total regional features extracted: 480\n"
     ]
    },
    {
     "name": "stderr",
     "output_type": "stream",
     "text": [
      " 66%|██████▌   | 162/245 [6:37:51<3:13:15, 139.71s/it]"
     ]
    },
    {
     "name": "stdout",
     "output_type": "stream",
     "text": [
      "Patient id: chb20\n",
      "Edf file: chb20_13.edf\n",
      "Registration start: 04:57:00\n",
      "Registration end: 05:57:00\n",
      "Registration start seconds: 17820\n",
      "Registration end seconds: 21420\n",
      "EDF file duration: 3600\n",
      "Seizure start: 05:38:38\n",
      "Seizure end: 05:39:17\n",
      "Seizure start seconds: 20318\n",
      "Seizure end seconds: 20357\n",
      "Seizure duration: 39\n",
      "Seizure onset seconds: 2498\n",
      "Post-ictal onset seconds: 2537\n",
      "Loading edf file...\n",
      "Channels available: ['FP1-F7', 'F7-T7', 'T7-P7', 'P7-O1', '.-0', 'FP1-F3', 'F3-C3', 'C3-P3', 'P3-O1', '.-1', 'FZ-CZ', 'CZ-PZ', '.-2', 'FP2-F4', 'F4-C4', 'C4-P4', 'P4-O2', '.-3', 'FP2-F8', 'F8-T8', 'T8-P8-0', 'P8-O2', '.-4', 'P7-T7', 'T7-FT9', 'FT9-FT10', 'FT10-T8', 'T8-P8-1']\n",
      "Detected bipolar montage channels\n",
      "Total regional features extracted: 480\n",
      "Mean connectivity shape: (28, 28)\n",
      "Number of epochs:  19\n",
      "Storing features...\n",
      "Detected bipolar montage channels\n",
      "Total regional features extracted: 480\n"
     ]
    },
    {
     "name": "stderr",
     "output_type": "stream",
     "text": [
      " 67%|██████▋   | 163/245 [6:39:14<2:47:31, 122.58s/it]"
     ]
    },
    {
     "name": "stdout",
     "output_type": "stream",
     "text": [
      "Patient id: chb20\n",
      "Edf file: chb20_14.edf\n",
      "Registration start: 05:57:07\n",
      "Registration end: 06:57:07\n",
      "Registration start seconds: 21427\n",
      "Registration end seconds: 25027\n",
      "EDF file duration: 3600\n",
      "Seizure start: 06:29:58\n",
      "Seizure end: 06:30:36\n",
      "Seizure start seconds: 23398\n",
      "Seizure end seconds: 23436\n",
      "Seizure duration: 38\n",
      "Seizure onset seconds: 1971\n",
      "Post-ictal onset seconds: 2009\n",
      "Loading edf file...\n",
      "Channels available: ['FP1-F7', 'F7-T7', 'T7-P7', 'P7-O1', '.-0', 'FP1-F3', 'F3-C3', 'C3-P3', 'P3-O1', '.-1', 'FZ-CZ', 'CZ-PZ', '.-2', 'FP2-F4', 'F4-C4', 'C4-P4', 'P4-O2', '.-3', 'FP2-F8', 'F8-T8', 'T8-P8-0', 'P8-O2', '.-4', 'P7-T7', 'T7-FT9', 'FT9-FT10', 'FT10-T8', 'T8-P8-1']\n",
      "Detected bipolar montage channels\n",
      "Total regional features extracted: 480\n",
      "Mean connectivity shape: (28, 28)\n",
      "Number of epochs:  19\n",
      "Storing features...\n",
      "Detected bipolar montage channels\n",
      "Total regional features extracted: 480\n"
     ]
    },
    {
     "name": "stderr",
     "output_type": "stream",
     "text": [
      " 67%|██████▋   | 164/245 [6:41:09<2:42:36, 120.46s/it]"
     ]
    },
    {
     "name": "stdout",
     "output_type": "stream",
     "text": [
      "Patient id: chb20\n",
      "Edf file: chb20_15.edf\n",
      "Registration start: 06:57:14\n",
      "Registration end: 07:57:14\n",
      "Registration start seconds: 25034\n",
      "Registration end seconds: 28634\n",
      "EDF file duration: 3600\n",
      "Seizure start: 07:03:44\n",
      "Seizure end: 07:04:19\n",
      "Seizure start seconds: 25424\n",
      "Seizure end seconds: 25459\n",
      "Seizure duration: 35\n",
      "Seizure onset seconds: 390\n",
      "Post-ictal onset seconds: 425\n",
      "Loading edf file...\n",
      "Channels available: ['FP1-F7', 'F7-T7', 'T7-P7', 'P7-O1', '.-0', 'FP1-F3', 'F3-C3', 'C3-P3', 'P3-O1', '.-1', 'FZ-CZ', 'CZ-PZ', '.-2', 'FP2-F4', 'F4-C4', 'C4-P4', 'P4-O2', '.-3', 'FP2-F8', 'F8-T8', 'T8-P8-0', 'P8-O2', '.-4', 'P7-T7', 'T7-FT9', 'FT9-FT10', 'FT10-T8', 'T8-P8-1']\n",
      "Detected bipolar montage channels\n",
      "Total regional features extracted: 480\n",
      "Mean connectivity shape: (28, 28)\n",
      "Number of epochs:  17\n",
      "Storing features...\n",
      "Detected bipolar montage channels\n",
      "Total regional features extracted: 480\n"
     ]
    },
    {
     "name": "stderr",
     "output_type": "stream",
     "text": [
      " 67%|██████▋   | 165/245 [6:44:39<3:16:21, 147.27s/it]"
     ]
    },
    {
     "name": "stdout",
     "output_type": "stream",
     "text": [
      "Patient id: chb20\n",
      "Edf file: chb20_15.edf\n",
      "Registration start: 06:57:14\n",
      "Registration end: 07:57:14\n",
      "Registration start seconds: 25034\n",
      "Registration end seconds: 28634\n",
      "EDF file duration: 3600\n",
      "Seizure start: 07:25:23\n",
      "Seizure end: 07:26:12\n",
      "Seizure start seconds: 26723\n",
      "Seizure end seconds: 26772\n",
      "Seizure duration: 49\n",
      "Seizure onset seconds: 1689\n",
      "Post-ictal onset seconds: 1738\n",
      "Loading edf file...\n",
      "Channels available: ['FP1-F7', 'F7-T7', 'T7-P7', 'P7-O1', '.-0', 'FP1-F3', 'F3-C3', 'C3-P3', 'P3-O1', '.-1', 'FZ-CZ', 'CZ-PZ', '.-2', 'FP2-F4', 'F4-C4', 'C4-P4', 'P4-O2', '.-3', 'FP2-F8', 'F8-T8', 'T8-P8-0', 'P8-O2', '.-4', 'P7-T7', 'T7-FT9', 'FT9-FT10', 'FT10-T8', 'T8-P8-1']\n",
      "Detected bipolar montage channels\n",
      "Total regional features extracted: 480\n",
      "Mean connectivity shape: (28, 28)\n",
      "Number of epochs:  24\n",
      "Storing features...\n",
      "Detected bipolar montage channels\n",
      "Total regional features extracted: 480\n"
     ]
    },
    {
     "name": "stderr",
     "output_type": "stream",
     "text": [
      " 68%|██████▊   | 166/245 [6:46:41<3:03:47, 139.59s/it]"
     ]
    },
    {
     "name": "stdout",
     "output_type": "stream",
     "text": [
      "Patient id: chb20\n",
      "Edf file: chb20_16.edf\n",
      "Registration start: 07:57:20\n",
      "Registration end: 08:55:09\n",
      "Registration start seconds: 28640\n",
      "Registration end seconds: 32109\n",
      "EDF file duration: 3469\n",
      "Seizure start: 08:34:26\n",
      "Seizure end: 08:35:01\n",
      "Seizure start seconds: 30866\n",
      "Seizure end seconds: 30901\n",
      "Seizure duration: 35\n",
      "Seizure onset seconds: 2226\n",
      "Post-ictal onset seconds: 2261\n",
      "Loading edf file...\n",
      "Channels available: ['FP1-F7', 'F7-T7', 'T7-P7', 'P7-O1', '.-0', 'FP1-F3', 'F3-C3', 'C3-P3', 'P3-O1', '.-1', 'FZ-CZ', 'CZ-PZ', '.-2', 'FP2-F4', 'F4-C4', 'C4-P4', 'P4-O2', '.-3', 'FP2-F8', 'F8-T8', 'T8-P8-0', 'P8-O2', '.-4', 'P7-T7', 'T7-FT9', 'FT9-FT10', 'FT10-T8', 'T8-P8-1']\n",
      "Detected bipolar montage channels\n",
      "Total regional features extracted: 480\n",
      "Mean connectivity shape: (28, 28)\n",
      "Number of epochs:  17\n",
      "Storing features...\n",
      "Detected bipolar montage channels\n",
      "Total regional features extracted: 480\n"
     ]
    },
    {
     "name": "stderr",
     "output_type": "stream",
     "text": [
      " 68%|██████▊   | 167/245 [6:48:03<2:38:51, 122.20s/it]"
     ]
    },
    {
     "name": "stdout",
     "output_type": "stream",
     "text": [
      "Patient id: chb20\n",
      "Edf file: chb20_68.edf\n",
      "Registration start: 09:45:07\n",
      "Registration end: 10:21:14\n",
      "Registration start seconds: 35107\n",
      "Registration end seconds: 37274\n",
      "EDF file duration: 2167\n",
      "Seizure start: 10:08:20\n",
      "Seizure end: 10:08:59\n",
      "Seizure start seconds: 36500\n",
      "Seizure end seconds: 36539\n",
      "Seizure duration: 39\n",
      "Seizure onset seconds: 1393\n",
      "Post-ictal onset seconds: 1432\n",
      "Loading edf file...\n",
      "Channels available: ['FP1-F7', 'F7-T7', 'T7-P7', 'P7-O1', '.-0', 'FP1-F3', 'F3-C3', 'C3-P3', 'P3-O1', '.-1', 'FZ-CZ', 'CZ-PZ', '.-2', 'FP2-F4', 'F4-C4', 'C4-P4', 'P4-O2', '.-3', 'FP2-F8', 'F8-T8', 'T8-P8-0', 'P8-O2', '.-4', 'P7-T7', 'T7-FT9', 'FT9-FT10', 'FT10-T8', 'T8-P8-1']\n",
      "Detected bipolar montage channels\n",
      "Total regional features extracted: 480\n",
      "Mean connectivity shape: (28, 28)\n",
      "Number of epochs:  19\n",
      "Storing features...\n",
      "Detected bipolar montage channels\n"
     ]
    },
    {
     "name": "stderr",
     "output_type": "stream",
     "text": [
      " 69%|██████▊   | 168/245 [6:49:04<2:13:32, 104.06s/it]"
     ]
    },
    {
     "name": "stdout",
     "output_type": "stream",
     "text": [
      "Total regional features extracted: 480\n",
      "Patient id: chb21\n",
      "Edf file: chb21_19.edf\n",
      "Registration start: 11:59:13\n",
      "Registration end: 12:59:13\n",
      "Registration start seconds: 43153\n",
      "Registration end seconds: 46753\n",
      "EDF file duration: 3600\n",
      "Seizure start: 12:20:41\n",
      "Seizure end: 12:21:37\n",
      "Seizure start seconds: 44441\n",
      "Seizure end seconds: 44497\n",
      "Seizure duration: 56\n",
      "Seizure onset seconds: 1288\n",
      "Post-ictal onset seconds: 1344\n",
      "Loading edf file...\n",
      "Channels available: ['FP1-F7', 'F7-T7', 'T7-P7', 'P7-O1', '--0', 'FP1-F3', 'F3-C3', 'C3-P3', 'P3-O1', '--1', 'FZ-CZ', 'CZ-PZ', '--2', 'FP2-F4', 'F4-C4', 'C4-P4', 'P4-O2', '--3', 'FP2-F8', 'F8-T8', 'T8-P8-0', 'P8-O2', '--4', 'P7-T7', 'T7-FT9', 'FT9-FT10', 'FT10-T8', 'T8-P8-1']\n",
      "Detected bipolar montage channels\n",
      "Total regional features extracted: 480\n",
      "Mean connectivity shape: (28, 28)\n",
      "Number of epochs:  28\n",
      "Storing features...\n",
      "Detected bipolar montage channels\n",
      "Total regional features extracted: 480\n"
     ]
    },
    {
     "name": "stderr",
     "output_type": "stream",
     "text": [
      " 69%|██████▉   | 169/245 [6:51:12<2:20:48, 111.17s/it]"
     ]
    },
    {
     "name": "stdout",
     "output_type": "stream",
     "text": [
      "Patient id: chb21\n",
      "Edf file: chb21_20.edf\n",
      "Registration start: 12:59:20\n",
      "Registration end: 13:49:10\n",
      "Registration start seconds: 46760\n",
      "Registration end seconds: 49750\n",
      "EDF file duration: 2990\n",
      "Seizure start: 13:43:07\n",
      "Seizure end: 13:43:57\n",
      "Seizure start seconds: 49387\n",
      "Seizure end seconds: 49437\n",
      "Seizure duration: 50\n",
      "Seizure onset seconds: 2627\n",
      "Post-ictal onset seconds: 2677\n",
      "Loading edf file...\n",
      "Channels available: ['FP1-F7', 'F7-T7', 'T7-P7', 'P7-O1', '--0', 'FP1-F3', 'F3-C3', 'C3-P3', 'P3-O1', '--1', 'FZ-CZ', 'CZ-PZ', '--2', 'FP2-F4', 'F4-C4', 'C4-P4', 'P4-O2', '--3', 'FP2-F8', 'F8-T8', 'T8-P8-0', 'P8-O2', '--4', 'P7-T7', 'T7-FT9', 'FT9-FT10', 'FT10-T8', 'T8-P8-1']\n",
      "Detected bipolar montage channels\n",
      "Total regional features extracted: 480\n",
      "Mean connectivity shape: (28, 28)\n",
      "Number of epochs:  25\n",
      "Storing features...\n",
      "Detected bipolar montage channels\n"
     ]
    },
    {
     "name": "stderr",
     "output_type": "stream",
     "text": [
      " 69%|██████▉   | 170/245 [6:51:48<1:50:56, 88.76s/it] "
     ]
    },
    {
     "name": "stdout",
     "output_type": "stream",
     "text": [
      "Total regional features extracted: 480\n",
      "Patient id: chb21\n",
      "Edf file: chb21_21.edf\n",
      "Registration start: 15:49:35\n",
      "Registration end: 16:49:35\n",
      "Registration start seconds: 56975\n",
      "Registration end seconds: 60575\n",
      "EDF file duration: 3600\n",
      "Seizure start: 16:22:58\n",
      "Seizure end: 16:24:19\n",
      "Seizure start seconds: 58978\n",
      "Seizure end seconds: 59059\n",
      "Seizure duration: 81\n",
      "Seizure onset seconds: 2003\n",
      "Post-ictal onset seconds: 2084\n",
      "Loading edf file...\n",
      "Channels available: ['FP1-F7', 'F7-T7', 'T7-P7', 'P7-O1', '--0', 'FP1-F3', 'F3-C3', 'C3-P3', 'P3-O1', '--1', 'FZ-CZ', 'CZ-PZ', '--2', 'FP2-F4', 'F4-C4', 'C4-P4', 'P4-O2', '--3', 'FP2-F8', 'F8-T8', 'T8-P8-0', 'P8-O2', '--4', 'P7-T7', 'T7-FT9', 'FT9-FT10', 'FT10-T8', 'T8-P8-1']\n",
      "Detected bipolar montage channels\n",
      "Total regional features extracted: 480\n",
      "Mean connectivity shape: (28, 28)\n",
      "Number of epochs:  40\n",
      "Storing features...\n",
      "Detected bipolar montage channels\n",
      "Total regional features extracted: 480\n"
     ]
    },
    {
     "name": "stderr",
     "output_type": "stream",
     "text": [
      " 70%|██████▉   | 171/245 [6:53:31<1:54:33, 92.88s/it]"
     ]
    },
    {
     "name": "stdout",
     "output_type": "stream",
     "text": [
      "Patient id: chb21\n",
      "Edf file: chb21_22.edf\n",
      "Registration start: 16:49:42\n",
      "Registration end: 17:49:42\n",
      "Registration start seconds: 60582\n",
      "Registration end seconds: 64182\n",
      "EDF file duration: 3600\n",
      "Seizure start: 17:32:15\n",
      "Seizure end: 17:32:27\n",
      "Seizure start seconds: 63135\n",
      "Seizure end seconds: 63147\n",
      "Seizure duration: 12\n",
      "Seizure onset seconds: 2553\n",
      "Post-ictal onset seconds: 2565\n",
      "Loading edf file...\n",
      "Channels available: ['FP1-F7', 'F7-T7', 'T7-P7', 'P7-O1', '--0', 'FP1-F3', 'F3-C3', 'C3-P3', 'P3-O1', '--1', 'FZ-CZ', 'CZ-PZ', '--2', 'FP2-F4', 'F4-C4', 'C4-P4', 'P4-O2', '--3', 'FP2-F8', 'F8-T8', 'T8-P8-0', 'P8-O2', '--4', 'P7-T7', 'T7-FT9', 'FT9-FT10', 'FT10-T8', 'T8-P8-1']\n",
      "Detected bipolar montage channels\n",
      "Total regional features extracted: 480\n",
      "Mean connectivity shape: (28, 28)\n",
      "Number of epochs:  6\n",
      "Storing features...\n",
      "Detected bipolar montage channels\n",
      "Total regional features extracted: 480\n"
     ]
    },
    {
     "name": "stderr",
     "output_type": "stream",
     "text": [
      " 70%|███████   | 172/245 [6:54:42<1:44:57, 86.26s/it]"
     ]
    },
    {
     "name": "stdout",
     "output_type": "stream",
     "text": [
      "Patient id: chb22\n",
      "Edf file: chb22_20.edf\n",
      "Registration start: 17:45:03\n",
      "Registration end: 18:45:03\n",
      "Registration start seconds: 63903\n",
      "Registration end seconds: 67503\n",
      "EDF file duration: 3600\n",
      "Seizure start: 18:41:10\n",
      "Seizure end: 18:42:08\n",
      "Seizure start seconds: 67270\n",
      "Seizure end seconds: 67328\n",
      "Seizure duration: 58\n",
      "Seizure onset seconds: 3367\n",
      "Post-ictal onset seconds: 3425\n",
      "Loading edf file...\n",
      "Channels available: ['FP1-F7', 'F7-T7', 'T7-P7', 'P7-O1', '--0', 'FP1-F3', 'F3-C3', 'C3-P3', 'P3-O1', '--1', 'FZ-CZ', 'CZ-PZ', '--2', 'FP2-F4', 'F4-C4', 'C4-P4', 'P4-O2', '--3', 'FP2-F8', 'F8-T8', 'T8-P8-0', 'P8-O2', '--4', 'P7-T7', 'T7-FT9', 'FT9-FT10', 'FT10-T8', 'T8-P8-1']\n",
      "Detected bipolar montage channels\n",
      "Total regional features extracted: 480\n",
      "Mean connectivity shape: (28, 28)\n",
      "Number of epochs:  29\n",
      "Storing features...\n",
      "Detected bipolar montage channels\n"
     ]
    },
    {
     "name": "stderr",
     "output_type": "stream",
     "text": [
      " 71%|███████   | 173/245 [6:55:13<1:23:48, 69.84s/it]"
     ]
    },
    {
     "name": "stdout",
     "output_type": "stream",
     "text": [
      "Total regional features extracted: 480\n",
      "Patient id: chb22\n",
      "Edf file: chb22_25.edf\n",
      "Registration start: 22:45:37\n",
      "Registration end: 23:45:37\n",
      "Registration start seconds: 81937\n",
      "Registration end seconds: 85537\n",
      "EDF file duration: 3600\n",
      "Seizure start: 23:37:56\n",
      "Seizure end: 23:39:10\n",
      "Seizure start seconds: 85076\n",
      "Seizure end seconds: 85150\n",
      "Seizure duration: 74\n",
      "Seizure onset seconds: 3139\n",
      "Post-ictal onset seconds: 3213\n",
      "Loading edf file...\n",
      "Channels available: ['FP1-F7', 'F7-T7', 'T7-P7', 'P7-O1', '--0', 'FP1-F3', 'F3-C3', 'C3-P3', 'P3-O1', '--1', 'FZ-CZ', 'CZ-PZ', '--2', 'FP2-F4', 'F4-C4', 'C4-P4', 'P4-O2', '--3', 'FP2-F8', 'F8-T8', 'T8-P8-0', 'P8-O2', '--4', 'P7-T7', 'T7-FT9', 'FT9-FT10', 'FT10-T8', 'T8-P8-1']\n",
      "Detected bipolar montage channels\n",
      "Total regional features extracted: 480\n",
      "Mean connectivity shape: (28, 28)\n",
      "Number of epochs:  37\n",
      "Storing features...\n",
      "Detected bipolar montage channels\n"
     ]
    },
    {
     "name": "stderr",
     "output_type": "stream",
     "text": [
      " 71%|███████   | 174/245 [6:55:59<1:13:54, 62.46s/it]"
     ]
    },
    {
     "name": "stdout",
     "output_type": "stream",
     "text": [
      "Total regional features extracted: 480\n",
      "Patient id: chb22\n",
      "Edf file: chb22_38.edf\n",
      "Registration start: 11:47:09\n",
      "Registration end: 12:47:09\n",
      "Registration start seconds: 42429\n",
      "Registration end seconds: 46029\n",
      "EDF file duration: 3600\n",
      "Seizure start: 12:08:12\n",
      "Seizure end: 12:09:24\n",
      "Seizure start seconds: 43692\n",
      "Seizure end seconds: 43764\n",
      "Seizure duration: 72\n",
      "Seizure onset seconds: 1263\n",
      "Post-ictal onset seconds: 1335\n",
      "Loading edf file...\n",
      "Channels available: ['FP1-F7', 'F7-T7', 'T7-P7', 'P7-O1', '--0', 'FP1-F3', 'F3-C3', 'C3-P3', 'P3-O1', '--1', 'FZ-CZ', 'CZ-PZ', '--2', 'FP2-F4', 'F4-C4', 'C4-P4', 'P4-O2', '--3', 'FP2-F8', 'F8-T8', 'T8-P8-0', 'P8-O2', '--4', 'P7-T7', 'T7-FT9', 'FT9-FT10', 'FT10-T8', 'T8-P8-1']\n",
      "Detected bipolar montage channels\n",
      "Total regional features extracted: 480\n",
      "Mean connectivity shape: (28, 28)\n",
      "Number of epochs:  36\n",
      "Storing features...\n",
      "Detected bipolar montage channels\n",
      "Total regional features extracted: 480\n"
     ]
    },
    {
     "name": "stderr",
     "output_type": "stream",
     "text": [
      " 71%|███████▏  | 175/245 [6:58:10<1:36:59, 83.13s/it]"
     ]
    },
    {
     "name": "stdout",
     "output_type": "stream",
     "text": [
      "Patient id: chb23\n",
      "Edf file: chb23_06.edf\n",
      "Registration start: 08:57:57\n",
      "Registration end: 11:02:43\n",
      "Registration start seconds: 32277\n",
      "Registration end seconds: 39763\n",
      "EDF file duration: 7486\n",
      "Seizure start: 10:04:19\n",
      "Seizure end: 10:06:12\n",
      "Seizure start seconds: 36259\n",
      "Seizure end seconds: 36372\n",
      "Seizure duration: 113\n",
      "Seizure onset seconds: 3982\n",
      "Post-ictal onset seconds: 4095\n",
      "Loading edf file...\n",
      "Channels available: ['FP1-F7', 'F7-T7', 'T7-P7', 'P7-O1', 'FP1-F3', 'F3-C3', 'C3-P3', 'P3-O1', 'FP2-F4', 'F4-C4', 'C4-P4', 'P4-O2', 'FP2-F8', 'F8-T8', 'T8-P8-0', 'P8-O2', 'FZ-CZ', 'CZ-PZ', 'P7-T7', 'T7-FT9', 'FT9-FT10', 'FT10-T8', 'T8-P8-1']\n",
      "Detected bipolar montage channels\n",
      "Total regional features extracted: 480\n",
      "Mean connectivity shape: (23, 23)\n",
      "Number of epochs:  56\n",
      "Storing features...\n",
      "Detected bipolar montage channels\n",
      "Total regional features extracted: 480\n"
     ]
    },
    {
     "name": "stderr",
     "output_type": "stream",
     "text": [
      " 72%|███████▏  | 176/245 [7:02:15<2:31:37, 131.85s/it]"
     ]
    },
    {
     "name": "stdout",
     "output_type": "stream",
     "text": [
      "Patient id: chb23\n",
      "Edf file: chb23_08.edf\n",
      "Registration start: 11:48:05\n",
      "Registration end: 14:40:27\n",
      "Registration start seconds: 42485\n",
      "Registration end seconds: 52827\n",
      "EDF file duration: 10342\n",
      "Seizure start: 11:53:30\n",
      "Seizure end: 11:53:50\n",
      "Seizure start seconds: 42810\n",
      "Seizure end seconds: 42830\n",
      "Seizure duration: 20\n",
      "Seizure onset seconds: 325\n",
      "Post-ictal onset seconds: 345\n",
      "Loading edf file...\n",
      "Channels available: ['FP1-F7', 'F7-T7', 'T7-P7', 'P7-O1', 'FP1-F3', 'F3-C3', 'C3-P3', 'P3-O1', 'FP2-F4', 'F4-C4', 'C4-P4', 'P4-O2', 'FP2-F8', 'F8-T8', 'T8-P8-0', 'P8-O2', 'FZ-CZ', 'CZ-PZ', 'P7-T7', 'T7-FT9', 'FT9-FT10', 'FT10-T8', 'T8-P8-1']\n",
      "Detected bipolar montage channels\n",
      "Total regional features extracted: 480\n",
      "Mean connectivity shape: (23, 23)\n",
      "Number of epochs:  10\n",
      "Storing features...\n",
      "Detected bipolar montage channels\n",
      "Total regional features extracted: 480\n"
     ]
    },
    {
     "name": "stderr",
     "output_type": "stream",
     "text": [
      " 72%|███████▏  | 177/245 [7:12:52<5:21:09, 283.37s/it]"
     ]
    },
    {
     "name": "stdout",
     "output_type": "stream",
     "text": [
      "Patient id: chb23\n",
      "Edf file: chb23_08.edf\n",
      "Registration start: 11:48:05\n",
      "Registration end: 14:40:27\n",
      "Registration start seconds: 42485\n",
      "Registration end seconds: 52827\n",
      "EDF file duration: 10342\n",
      "Seizure start: 13:13:09\n",
      "Seizure end: 13:13:56\n",
      "Seizure start seconds: 47589\n",
      "Seizure end seconds: 47636\n",
      "Seizure duration: 47\n",
      "Seizure onset seconds: 5104\n",
      "Post-ictal onset seconds: 5151\n",
      "Loading edf file...\n",
      "Channels available: ['FP1-F7', 'F7-T7', 'T7-P7', 'P7-O1', 'FP1-F3', 'F3-C3', 'C3-P3', 'P3-O1', 'FP2-F4', 'F4-C4', 'C4-P4', 'P4-O2', 'FP2-F8', 'F8-T8', 'T8-P8-0', 'P8-O2', 'FZ-CZ', 'CZ-PZ', 'P7-T7', 'T7-FT9', 'FT9-FT10', 'FT10-T8', 'T8-P8-1']\n",
      "Detected bipolar montage channels\n",
      "Total regional features extracted: 480\n",
      "Mean connectivity shape: (23, 23)\n",
      "Number of epochs:  23\n",
      "Storing features...\n",
      "Detected bipolar montage channels\n",
      "Total regional features extracted: 480\n"
     ]
    },
    {
     "name": "stderr",
     "output_type": "stream",
     "text": [
      " 73%|███████▎  | 178/245 [7:17:55<5:22:48, 289.08s/it]"
     ]
    },
    {
     "name": "stdout",
     "output_type": "stream",
     "text": [
      "Patient id: chb23\n",
      "Edf file: chb23_09.edf\n",
      "Registration start: 14:40:47\n",
      "Registration end: 18:41:13\n",
      "Registration start seconds: 52847\n",
      "Registration end seconds: 67273\n",
      "EDF file duration: 14426\n",
      "Seizure start: 15:24:06\n",
      "Seizure end: 15:25:17\n",
      "Seizure start seconds: 55446\n",
      "Seizure end seconds: 55517\n",
      "Seizure duration: 71\n",
      "Seizure onset seconds: 2599\n",
      "Post-ictal onset seconds: 2670\n",
      "Loading edf file...\n",
      "Channels available: ['FP1-F7', 'F7-T7', 'T7-P7', 'P7-O1', 'FP1-F3', 'F3-C3', 'C3-P3', 'P3-O1', 'FP2-F4', 'F4-C4', 'C4-P4', 'P4-O2', 'FP2-F8', 'F8-T8', 'T8-P8-0', 'P8-O2', 'FZ-CZ', 'CZ-PZ', 'P7-T7', 'T7-FT9', 'FT9-FT10', 'FT10-T8', 'T8-P8-1']\n",
      "Detected bipolar montage channels\n",
      "Total regional features extracted: 480\n",
      "Mean connectivity shape: (23, 23)\n",
      "Number of epochs:  35\n",
      "Storing features...\n",
      "Detected bipolar montage channels\n",
      "Total regional features extracted: 480\n"
     ]
    },
    {
     "name": "stderr",
     "output_type": "stream",
     "text": [
      " 73%|███████▎  | 179/245 [7:31:18<8:07:44, 443.40s/it]"
     ]
    },
    {
     "name": "stdout",
     "output_type": "stream",
     "text": [
      "Patient id: chb23\n",
      "Edf file: chb23_09.edf\n",
      "Registration start: 14:40:47\n",
      "Registration end: 18:41:13\n",
      "Registration start seconds: 52847\n",
      "Registration end seconds: 67273\n",
      "EDF file duration: 14426\n",
      "Seizure start: 16:35:32\n",
      "Seizure end: 16:36:34\n",
      "Seizure start seconds: 59732\n",
      "Seizure end seconds: 59794\n",
      "Seizure duration: 62\n",
      "Seizure onset seconds: 6885\n",
      "Post-ictal onset seconds: 6947\n",
      "Loading edf file...\n",
      "Channels available: ['FP1-F7', 'F7-T7', 'T7-P7', 'P7-O1', 'FP1-F3', 'F3-C3', 'C3-P3', 'P3-O1', 'FP2-F4', 'F4-C4', 'C4-P4', 'P4-O2', 'FP2-F8', 'F8-T8', 'T8-P8-0', 'P8-O2', 'FZ-CZ', 'CZ-PZ', 'P7-T7', 'T7-FT9', 'FT9-FT10', 'FT10-T8', 'T8-P8-1']\n",
      "Detected bipolar montage channels\n",
      "Total regional features extracted: 480\n",
      "Mean connectivity shape: (23, 23)\n",
      "Number of epochs:  31\n",
      "Storing features...\n",
      "Detected bipolar montage channels\n",
      "Total regional features extracted: 480\n"
     ]
    },
    {
     "name": "stderr",
     "output_type": "stream",
     "text": [
      " 73%|███████▎  | 180/245 [7:38:37<7:58:56, 442.11s/it]"
     ]
    },
    {
     "name": "stdout",
     "output_type": "stream",
     "text": [
      "Patient id: chb23\n",
      "Edf file: chb23_09.edf\n",
      "Registration start: 14:40:47\n",
      "Registration end: 18:41:13\n",
      "Registration start seconds: 52847\n",
      "Registration end seconds: 67273\n",
      "EDF file duration: 14426\n",
      "Seizure start: 17:02:12\n",
      "Seizure end: 17:02:39\n",
      "Seizure start seconds: 61332\n",
      "Seizure end seconds: 61359\n",
      "Seizure duration: 27\n",
      "Seizure onset seconds: 8485\n",
      "Post-ictal onset seconds: 8512\n",
      "Loading edf file...\n",
      "Channels available: ['FP1-F7', 'F7-T7', 'T7-P7', 'P7-O1', 'FP1-F3', 'F3-C3', 'C3-P3', 'P3-O1', 'FP2-F4', 'F4-C4', 'C4-P4', 'P4-O2', 'FP2-F8', 'F8-T8', 'T8-P8-0', 'P8-O2', 'FZ-CZ', 'CZ-PZ', 'P7-T7', 'T7-FT9', 'FT9-FT10', 'FT10-T8', 'T8-P8-1']\n",
      "Detected bipolar montage channels\n",
      "Total regional features extracted: 480\n",
      "Mean connectivity shape: (23, 23)\n",
      "Number of epochs:  13\n",
      "Storing features...\n",
      "Detected bipolar montage channels\n",
      "Total regional features extracted: 480\n"
     ]
    },
    {
     "name": "stderr",
     "output_type": "stream",
     "text": [
      " 74%|███████▍  | 181/245 [7:43:58<7:12:43, 405.69s/it]"
     ]
    },
    {
     "name": "stdout",
     "output_type": "stream",
     "text": [
      "Patient id: chb23\n",
      "Edf file: chb23_09.edf\n",
      "Registration start: 14:40:47\n",
      "Registration end: 18:41:13\n",
      "Registration start seconds: 52847\n",
      "Registration end seconds: 67273\n",
      "EDF file duration: 14426\n",
      "Seizure start: 17:20:27\n",
      "Seizure end: 17:21:51\n",
      "Seizure start seconds: 62427\n",
      "Seizure end seconds: 62511\n",
      "Seizure duration: 84\n",
      "Seizure onset seconds: 9580\n",
      "Post-ictal onset seconds: 9664\n",
      "Loading edf file...\n",
      "Channels available: ['FP1-F7', 'F7-T7', 'T7-P7', 'P7-O1', 'FP1-F3', 'F3-C3', 'C3-P3', 'P3-O1', 'FP2-F4', 'F4-C4', 'C4-P4', 'P4-O2', 'FP2-F8', 'F8-T8', 'T8-P8-0', 'P8-O2', 'FZ-CZ', 'CZ-PZ', 'P7-T7', 'T7-FT9', 'FT9-FT10', 'FT10-T8', 'T8-P8-1']\n",
      "Detected bipolar montage channels\n",
      "Total regional features extracted: 480\n",
      "Mean connectivity shape: (23, 23)\n",
      "Number of epochs:  42\n",
      "Storing features...\n",
      "Detected bipolar montage channels\n",
      "Total regional features extracted: 480\n"
     ]
    },
    {
     "name": "stderr",
     "output_type": "stream",
     "text": [
      " 74%|███████▍  | 182/245 [7:48:18<2:42:06, 154.39s/it]\n"
     ]
    },
    {
     "ename": "AttributeError",
     "evalue": "'NoneType' object has no attribute 'hour'",
     "output_type": "error",
     "traceback": [
      "\u001b[1;31m---------------------------------------------------------------------------\u001b[0m",
      "\u001b[1;31mAttributeError\u001b[0m                            Traceback (most recent call last)",
      "Cell \u001b[1;32mIn[50], line 2\u001b[0m\n\u001b[0;32m      1\u001b[0m \u001b[38;5;66;03m# Build comprehensive dataset\u001b[39;00m\n\u001b[1;32m----> 2\u001b[0m comprehensive_df \u001b[38;5;241m=\u001b[39m \u001b[43mbuild_comprehensive_dataset\u001b[49m\u001b[43m(\u001b[49m\n\u001b[0;32m      3\u001b[0m \u001b[43m    \u001b[49m\u001b[43mseizures_df\u001b[49m\u001b[43m,\u001b[49m\u001b[43m \u001b[49m\n\u001b[0;32m      4\u001b[0m \u001b[43m    \u001b[49m\u001b[43mpatients_df\u001b[49m\u001b[43m,\u001b[49m\n\u001b[0;32m      5\u001b[0m \u001b[43m    \u001b[49m\u001b[43mnon_seizures_df\u001b[49m\u001b[43m,\u001b[49m\n\u001b[0;32m      6\u001b[0m \u001b[43m    \u001b[49m\u001b[43mdata_root_paths\u001b[49m\u001b[38;5;241;43m=\u001b[39;49m\u001b[43m[\u001b[49m\n\u001b[0;32m      7\u001b[0m \u001b[43m        \u001b[49m\u001b[38;5;124;43m'\u001b[39;49m\u001b[38;5;124;43mdata/siena_scalp\u001b[39;49m\u001b[38;5;124;43m'\u001b[39;49m\u001b[43m,\u001b[49m\u001b[43m \u001b[49m\n\u001b[0;32m      8\u001b[0m \u001b[43m        \u001b[49m\u001b[38;5;124;43m'\u001b[39;49m\u001b[38;5;124;43mdata/chb-mit\u001b[39;49m\u001b[38;5;124;43m'\u001b[39;49m\u001b[43m,\u001b[49m\n\u001b[0;32m      9\u001b[0m \u001b[43m        \u001b[49m\u001b[43m]\u001b[49m\n\u001b[0;32m     10\u001b[0m \u001b[43m)\u001b[49m\n",
      "Cell \u001b[1;32mIn[48], line 38\u001b[0m, in \u001b[0;36mbuild_comprehensive_dataset\u001b[1;34m(seizures_df, patients_df, non_seizures_df, data_root_paths)\u001b[0m\n\u001b[0;32m     35\u001b[0m seizure_end \u001b[38;5;241m=\u001b[39m seizure_row[\u001b[38;5;124m'\u001b[39m\u001b[38;5;124mseizure_end_time\u001b[39m\u001b[38;5;124m'\u001b[39m]\n\u001b[0;32m     37\u001b[0m \u001b[38;5;66;03m# Calculate registration and seizure total seconds\u001b[39;00m\n\u001b[1;32m---> 38\u001b[0m registration_start_seconds \u001b[38;5;241m=\u001b[39m \u001b[43mregistration_start\u001b[49m\u001b[38;5;241;43m.\u001b[39;49m\u001b[43mhour\u001b[49m \u001b[38;5;241m*\u001b[39m \u001b[38;5;241m3600\u001b[39m \u001b[38;5;241m+\u001b[39m registration_start\u001b[38;5;241m.\u001b[39mminute \u001b[38;5;241m*\u001b[39m \u001b[38;5;241m60\u001b[39m \u001b[38;5;241m+\u001b[39m registration_start\u001b[38;5;241m.\u001b[39msecond\n\u001b[0;32m     39\u001b[0m registration_end_seconds \u001b[38;5;241m=\u001b[39m registration_end\u001b[38;5;241m.\u001b[39mhour \u001b[38;5;241m*\u001b[39m \u001b[38;5;241m3600\u001b[39m \u001b[38;5;241m+\u001b[39m registration_end\u001b[38;5;241m.\u001b[39mminute \u001b[38;5;241m*\u001b[39m \u001b[38;5;241m60\u001b[39m \u001b[38;5;241m+\u001b[39m registration_end\u001b[38;5;241m.\u001b[39msecond\n\u001b[0;32m     40\u001b[0m seizure_start_seconds \u001b[38;5;241m=\u001b[39m seizure_start\u001b[38;5;241m.\u001b[39mhour \u001b[38;5;241m*\u001b[39m \u001b[38;5;241m3600\u001b[39m \u001b[38;5;241m+\u001b[39m seizure_start\u001b[38;5;241m.\u001b[39mminute \u001b[38;5;241m*\u001b[39m \u001b[38;5;241m60\u001b[39m \u001b[38;5;241m+\u001b[39m seizure_start\u001b[38;5;241m.\u001b[39msecond\n",
      "\u001b[1;31mAttributeError\u001b[0m: 'NoneType' object has no attribute 'hour'"
     ]
    }
   ],
   "source": [
    "# Build comprehensive dataset\n",
    "comprehensive_df = build_comprehensive_dataset(\n",
    "    seizures_df, \n",
    "    patients_df,\n",
    "    non_seizures_df,\n",
    "    data_root_paths=[\n",
    "        'data/siena_scalp', \n",
    "        'data/chb-mit',\n",
    "        ]\n",
    ")"
   ]
  },
  {
   "cell_type": "code",
   "execution_count": null,
   "id": "7b8c1b8d",
   "metadata": {
    "execution": {
     "execution_failed": "2025-09-08T21:57:32.020Z"
    },
    "trusted": true
   },
   "outputs": [],
   "source": [
    "# Fill missing values\n",
    "print(\"\\nFilling missing values...\")\n",
    "comprehensive_df = fill_missing_values_polars(comprehensive_df)"
   ]
  },
  {
   "cell_type": "code",
   "execution_count": null,
   "id": "d3c4ad6e-7275-4754-8714-7fd6974be21b",
   "metadata": {
    "execution": {
     "execution_failed": "2025-09-08T21:57:32.020Z"
    },
    "trusted": true
   },
   "outputs": [],
   "source": [
    "comprehensive_df.head()"
   ]
  },
  {
   "cell_type": "markdown",
   "id": "7cc4a3ec",
   "metadata": {},
   "source": [
    "## Export Processed Data"
   ]
  },
  {
   "cell_type": "code",
   "execution_count": null,
   "id": "b3e1fb15",
   "metadata": {
    "execution": {
     "execution_failed": "2025-09-08T21:57:32.020Z"
    },
    "trusted": true
   },
   "outputs": [],
   "source": [
    "# Save to Parquet\n",
    "print(\"\\nSaving results...\")\n",
    "save_to_parquet(comprehensive_df, 'comprehensive_eeg_features.parquet')"
   ]
  },
  {
   "cell_type": "markdown",
   "id": "28605b3d",
   "metadata": {},
   "source": [
    "## Load Processed Data"
   ]
  },
  {
   "cell_type": "code",
   "execution_count": null,
   "id": "9ab25b09",
   "metadata": {
    "execution": {
     "execution_failed": "2025-09-08T21:57:32.021Z"
    },
    "trusted": true
   },
   "outputs": [],
   "source": [
    "# Load processed data set\n",
    "processed_df = pl.read_parquet(\"comprehensive_eeg_features.parquet\")\n",
    "\n",
    "print(f\"Shape: {processed_df.shape}\")\n",
    "print(f\"Columns: {processed_df.columns}\")\n"
   ]
  },
  {
   "cell_type": "code",
   "execution_count": null,
   "id": "e460c12e",
   "metadata": {
    "execution": {
     "execution_failed": "2025-09-08T21:57:32.021Z"
    },
    "trusted": true
   },
   "outputs": [],
   "source": [
    "# Get column names and dtypes\n",
    "for col, dtype in zip(processed_df.columns, processed_df.dtypes):\n",
    "    print(f\"{col}: {dtype}\")\n",
    "\n",
    "# Alternative: as a list of tuples\n",
    "column_info = [(col, dtype) for col, dtype in zip(processed_df.columns, processed_df.dtypes)]\n",
    "\n",
    "# Alternative: as a dictionary\n",
    "column_dtypes = dict(zip(processed_df.columns, processed_df.dtypes))\n",
    "\n",
    "# Display schema (formatted output)\n",
    "print(processed_df.schema)"
   ]
  },
  {
   "cell_type": "markdown",
   "id": "ca0867d9",
   "metadata": {},
   "source": [
    "## Post-Processing"
   ]
  },
  {
   "cell_type": "code",
   "execution_count": null,
   "id": "e01489a2",
   "metadata": {
    "execution": {
     "execution_failed": "2025-09-08T21:57:32.021Z"
    },
    "trusted": true
   },
   "outputs": [],
   "source": [
    "def encode_categoricals(df, output_path='processed_data'):\n",
    "    # Create output directory if it doesn't exist\n",
    "    Path(output_path).mkdir(parents=True, exist_ok=True)\n",
    "    \n",
    "    # Copy dataframe to avoid modifying original\n",
    "    encoded_df = df.clone()\n",
    "    \n",
    "    # Dictionary to store encoding mappings\n",
    "    encoding_mappings = {}\n",
    "    \n",
    "    # Process each column\n",
    "    for col in df.columns:\n",
    "        dtype = df[col].dtype\n",
    "        \n",
    "        # Check if column is string/object type\n",
    "        if dtype == pl.Utf8 or dtype == pl.Object:\n",
    "            # Get unique values and create mapping (starting from 1)\n",
    "            unique_vals = encoded_df[col].unique().drop_nulls().sort()\n",
    "            mapping = {val: i+1 for i, val in enumerate(unique_vals)}\n",
    "            encoding_mappings[col] = mapping\n",
    "            \n",
    "            # Apply the mapping directly\n",
    "            encoded_df = encoded_df.with_columns(\n",
    "                pl.col(col).replace(mapping).alias(col)\n",
    "            )\n",
    "            \n",
    "    # Save mappings to JSON\n",
    "    json_path = Path(output_path) / 'categorical_encodings.json'\n",
    "    with open(json_path, 'w') as f:\n",
    "        json.dump(encoding_mappings, f, indent=2)\n",
    "    \n",
    "    return encoded_df, encoding_mappings"
   ]
  },
  {
   "cell_type": "code",
   "execution_count": null,
   "id": "9a34a27c",
   "metadata": {
    "execution": {
     "execution_failed": "2025-09-08T21:57:32.021Z"
    },
    "trusted": true
   },
   "outputs": [],
   "source": [
    "encoded_df, encoding_mappings = encode_categoricals(processed_df, 'processed_data')"
   ]
  },
  {
   "cell_type": "markdown",
   "id": "d7bf2acf",
   "metadata": {},
   "source": [
    "# Analysis"
   ]
  },
  {
   "cell_type": "code",
   "execution_count": null,
   "id": "a6819b03",
   "metadata": {
    "execution": {
     "execution_failed": "2025-09-08T21:57:32.021Z"
    },
    "trusted": true
   },
   "outputs": [],
   "source": [
    "# Define the plot output path\n",
    "plot_output_path = Path('plot_outputs')\n",
    "\n",
    "# Create directory if it doesn't exist\n",
    "plot_output_path.mkdir(exist_ok=True)\n",
    "print(f\"Directory '{plot_output_path}' is ready.\")"
   ]
  },
  {
   "cell_type": "markdown",
   "id": "e76d5a35",
   "metadata": {},
   "source": [
    "## Plot Numerical Columns"
   ]
  },
  {
   "cell_type": "code",
   "execution_count": null,
   "id": "881ea82c",
   "metadata": {
    "execution": {
     "execution_failed": "2025-09-08T21:57:32.021Z"
    },
    "trusted": true
   },
   "outputs": [],
   "source": [
    "def plot_numerical_distributions(df, output_path=\"plot_outputs\"):\n",
    "    # Create output directory if it doesn't exist\n",
    "    Path(output_path).mkdir(parents=True, exist_ok=True)\n",
    "    \n",
    "    # Get numerical columns\n",
    "    numerical_cols = [col for col in df.columns \n",
    "                     if df[col].dtype in [pl.Int8, pl.Int16, pl.Int32, pl.Int64,\n",
    "                                          pl.UInt8, pl.UInt16, pl.UInt32, pl.UInt64,\n",
    "                                          pl.Float32, pl.Float64]]\n",
    "    \n",
    "    print(f\"Found {len(numerical_cols)} numerical columns to plot\")\n",
    "    \n",
    "    # Plot each numerical column\n",
    "    for i, col in enumerate(numerical_cols):\n",
    "        fig, ax = plt.subplots(figsize=(10, 6))\n",
    "        \n",
    "        # Get the data for this column (remove nulls)\n",
    "        data = df[col].drop_nulls().to_numpy()\n",
    "        \n",
    "        if len(data) > 0:\n",
    "            # Create histogram\n",
    "            ax.hist(data, bins='auto', alpha=0.7, color='steelblue', edgecolor='black')\n",
    "            \n",
    "            # Add labels and title\n",
    "            ax.set_xlabel(col, fontsize=12)\n",
    "            ax.set_ylabel('Frequency', fontsize=12)\n",
    "            ax.set_title(f'Distribution of {col}', fontsize=14, fontweight='bold')\n",
    "            \n",
    "            # Add grid\n",
    "            ax.grid(True, alpha=0.3)\n",
    "            \n",
    "            # Add statistics text box\n",
    "            stats_text = (f'Mean: {np.mean(data):.2e}\\n'\n",
    "                         f'Std: {np.std(data):.2e}\\n'\n",
    "                         f'Min: {np.min(data):.2e}\\n'\n",
    "                         f'Max: {np.max(data):.2e}')\n",
    "            ax.text(0.02, 0.98, stats_text, transform=ax.transAxes, \n",
    "                    verticalalignment='top', \n",
    "                    bbox=dict(boxstyle='round', facecolor='wheat', alpha=0.5))\n",
    "            \n",
    "            # Save the figure\n",
    "            plt.tight_layout()\n",
    "            save_path = Path(output_path) / f'{col}_distribution.png'\n",
    "            plt.savefig(save_path, dpi=300, bbox_inches='tight')\n",
    "            plt.close()\n",
    "            \n",
    "            # Progress indicator\n",
    "            if (i + 1) % 10 == 0:\n",
    "                print(f\"Plotted {i + 1}/{len(numerical_cols)} columns\")\n",
    "        else:\n",
    "            print(f\"Skipped {col} - no non-null values\")\n",
    "            plt.close()\n",
    "    \n",
    "    print(f\"Completed! All {len(numerical_cols)} plots saved to '{output_path}' folder\")"
   ]
  },
  {
   "cell_type": "code",
   "execution_count": null,
   "id": "27a245ad",
   "metadata": {
    "execution": {
     "execution_failed": "2025-09-08T21:57:32.021Z"
    },
    "trusted": true
   },
   "outputs": [],
   "source": [
    "plot_numerical_distributions(processed_df, \"plot_outputs/processed_data_distributions\")"
   ]
  },
  {
   "cell_type": "markdown",
   "id": "e9a42e7d",
   "metadata": {},
   "source": [
    "## Plot Categorical Columns"
   ]
  },
  {
   "cell_type": "code",
   "execution_count": null,
   "id": "4517cfc3",
   "metadata": {
    "execution": {
     "execution_failed": "2025-09-08T21:57:32.021Z"
    },
    "trusted": true
   },
   "outputs": [],
   "source": [
    "def plot_categorical_distributions(df, output_path=\"plot_outputs\", max_categories=50):\n",
    "    # Create output directory if it doesn't exist\n",
    "    Path(output_path).mkdir(parents=True, exist_ok=True)\n",
    "    \n",
    "    # Get categorical, boolean, and string columns\n",
    "    categorical_cols = [col for col in df.columns \n",
    "                       if df[col].dtype in [pl.Utf8, pl.Boolean, pl.Categorical]]\n",
    "    \n",
    "    print(f\"Found {len(categorical_cols)} categorical/boolean/object columns to plot\")\n",
    "    \n",
    "    # Plot each categorical column\n",
    "    for i, col in enumerate(categorical_cols):\n",
    "        fig, ax = plt.subplots(figsize=(12, 6))\n",
    "        \n",
    "        # Calculate value counts\n",
    "        value_counts = df[col].value_counts().sort(by='count', descending=True)\n",
    "        \n",
    "        # Handle null counts\n",
    "        null_count = df[col].null_count()\n",
    "        total_count = len(df)\n",
    "        \n",
    "        # Limit to max_categories if necessary\n",
    "        if len(value_counts) > max_categories:\n",
    "            value_counts = value_counts.head(max_categories)\n",
    "            truncated = True\n",
    "        else:\n",
    "            truncated = False\n",
    "        \n",
    "        if len(value_counts) > 0:\n",
    "            # Extract categories and counts\n",
    "            categories = value_counts[col].to_list()\n",
    "            counts = value_counts['count'].to_list()\n",
    "            \n",
    "            # Convert None to 'NULL' for display\n",
    "            categories = ['NULL' if cat is None else str(cat) for cat in categories]\n",
    "            \n",
    "            # Create bar plot\n",
    "            bars = ax.bar(range(len(categories)), counts, color='steelblue', \n",
    "                          alpha=0.7, edgecolor='black')\n",
    "            \n",
    "            # Customize x-axis\n",
    "            ax.set_xticks(range(len(categories)))\n",
    "            ax.set_xticklabels(categories)\n",
    "            \n",
    "            # Rotate labels if there are many categories\n",
    "            if len(categories) > 10:\n",
    "                plt.xticks(rotation=45, ha='right')\n",
    "            elif len(categories) > 5:\n",
    "                plt.xticks(rotation=30, ha='right')\n",
    "            \n",
    "            # Truncate long labels\n",
    "            current_labels = ax.get_xticklabels()\n",
    "            new_labels = []\n",
    "            for label in current_labels:\n",
    "                text = label.get_text()\n",
    "                if len(text) > 30:\n",
    "                    text = text[:27] + '...'\n",
    "                new_labels.append(text)\n",
    "            ax.set_xticklabels(new_labels)\n",
    "            \n",
    "            # Add value labels on top of bars\n",
    "            for bar, count in zip(bars, counts):\n",
    "                height = bar.get_height()\n",
    "                percentage = (count / total_count) * 100\n",
    "                ax.text(bar.get_x() + bar.get_width()/2., height,\n",
    "                       f'{count}\\n({percentage:.1f}%)',\n",
    "                       ha='center', va='bottom', fontsize=8)\n",
    "            \n",
    "            # Add labels and title\n",
    "            ax.set_xlabel(col, fontsize=12)\n",
    "            ax.set_ylabel('Frequency', fontsize=12)\n",
    "            title = f'Distribution of {col}'\n",
    "            if truncated:\n",
    "                title += f' (Top {max_categories} categories)'\n",
    "            ax.set_title(title, fontsize=14, fontweight='bold')\n",
    "            \n",
    "            # Add grid\n",
    "            ax.grid(True, alpha=0.3, axis='y')\n",
    "            \n",
    "            # Add statistics text box\n",
    "            unique_count = df[col].n_unique()\n",
    "            stats_text = (f'Unique values: {unique_count}\\n'\n",
    "                         f'Total records: {total_count}\\n'\n",
    "                         f'Null values: {null_count} ({(null_count/total_count)*100:.1f}%)')\n",
    "            if truncated:\n",
    "                stats_text += f'\\n(Showing top {max_categories} only)'\n",
    "            \n",
    "            ax.text(0.98, 0.98, stats_text, transform=ax.transAxes, \n",
    "                    verticalalignment='top', horizontalalignment='right',\n",
    "                    bbox=dict(boxstyle='round', facecolor='wheat', alpha=0.5))\n",
    "            \n",
    "            # Adjust layout to prevent label cutoff\n",
    "            plt.tight_layout()\n",
    "            \n",
    "            # Save the figure\n",
    "            save_path = Path(output_path) / f'{col}_distribution.png'\n",
    "            plt.savefig(save_path, dpi=300, bbox_inches='tight')\n",
    "            plt.close()\n",
    "            \n",
    "            # Progress indicator\n",
    "            if (i + 1) % 5 == 0:\n",
    "                print(f\"Plotted {i + 1}/{len(categorical_cols)} columns\")\n",
    "        else:\n",
    "            print(f\"Skipped {col} - no data to plot\")\n",
    "            plt.close()\n",
    "    \n",
    "    print(f\"Completed! All {len(categorical_cols)} plots saved to '{output_path}' folder\")"
   ]
  },
  {
   "cell_type": "code",
   "execution_count": null,
   "id": "0e68a815",
   "metadata": {
    "execution": {
     "execution_failed": "2025-09-08T21:57:32.021Z"
    },
    "trusted": true
   },
   "outputs": [],
   "source": [
    "plot_categorical_distributions(processed_df, \"plot_outputs/processed_data_distributions\")"
   ]
  },
  {
   "cell_type": "markdown",
   "id": "53943fd7",
   "metadata": {},
   "source": [
    "## Correlation Matrix"
   ]
  },
  {
   "cell_type": "code",
   "execution_count": null,
   "id": "ab4e4f78",
   "metadata": {
    "execution": {
     "execution_failed": "2025-09-08T21:57:32.022Z"
    },
    "trusted": true
   },
   "outputs": [],
   "source": [
    "def plot_correlation_matrix(df, output_path):\n",
    "    # Feature lists - empty for manual configuration\n",
    "    features_to_remove = []\n",
    "    features_to_keep = []\n",
    "    key_features = []\n",
    "    target_variables = []\n",
    "    \n",
    "    # Combine features and targets\n",
    "    features_to_analyze = key_features + target_variables\n",
    "    \n",
    "    if len(features_to_analyze) > 1:\n",
    "        plt.figure(figsize=(24, 24))\n",
    "        \n",
    "        # Calculate correlation matrix directly in polars\n",
    "        correlation_matrix = df.select(features_to_analyze).corr()\n",
    "        \n",
    "        # Convert just the correlation matrix to numpy for plotting\n",
    "        corr_array = correlation_matrix.to_numpy()\n",
    "        \n",
    "        # Create mask to highlight target correlations\n",
    "        num_targets = len(target_variables)\n",
    "        mask = np.zeros_like(corr_array)\n",
    "        if num_targets > 0:\n",
    "            mask[:-num_targets, :-num_targets] = True\n",
    "        \n",
    "        # Plot heatmap\n",
    "        sns.heatmap(corr_array, \n",
    "                   annot=True, \n",
    "                   cmap='coolwarm', \n",
    "                   center=0,\n",
    "                   fmt='.2f',\n",
    "                   mask=mask,\n",
    "                   vmin=-1, \n",
    "                   vmax=1,\n",
    "                   xticklabels=features_to_analyze,\n",
    "                   yticklabels=features_to_analyze)\n",
    "        \n",
    "        plt.title('Feature-Target Correlations')\n",
    "        plt.tight_layout()\n",
    "        plt.savefig(f'{output_path}/correlation_matrix.png', bbox_inches='tight')\n",
    "        plt.show()\n",
    "        plt.close()\n",
    "        \n",
    "        # Print sorted correlations with targets\n",
    "        if len(target_variables) > 0:\n",
    "            print(\"\\nCorrelations with targets (sorted):\")\n",
    "            for i, target in enumerate(target_variables):\n",
    "                target_idx = features_to_analyze.index(target)\n",
    "                correlations = [(features_to_analyze[j], corr_array[target_idx, j]) \n",
    "                               for j in range(len(features_to_analyze)) if j != target_idx]\n",
    "                correlations.sort(key=lambda x: abs(x[1]), reverse=True)\n",
    "                \n",
    "                print(f\"\\n{target} correlations:\")\n",
    "                for feat, corr in correlations:\n",
    "                    print(f\"  {feat}: {corr:.3f}\")\n",
    "\n",
    "    return features_to_keep, features_to_remove, key_features"
   ]
  },
  {
   "cell_type": "code",
   "execution_count": null,
   "id": "11e8859a",
   "metadata": {
    "execution": {
     "execution_failed": "2025-09-08T21:57:32.022Z"
    },
    "trusted": true
   },
   "outputs": [],
   "source": [
    "features_to_keep, features_to_remove, key_features = plot_correlation_matrix(processed_df, plot_output_path)"
   ]
  }
 ],
 "metadata": {
  "kaggle": {
   "accelerator": "none",
   "dataSources": [
    {
     "datasetId": 8168099,
     "sourceId": 12997471,
     "sourceType": "datasetVersion"
    }
   ],
   "dockerImageVersionId": 31089,
   "isGpuEnabled": false,
   "isInternetEnabled": true,
   "language": "python",
   "sourceType": "notebook"
  },
  "kernelspec": {
   "display_name": ".venv",
   "language": "python",
   "name": "python3"
  },
  "language_info": {
   "codemirror_mode": {
    "name": "ipython",
    "version": 3
   },
   "file_extension": ".py",
   "mimetype": "text/x-python",
   "name": "python",
   "nbconvert_exporter": "python",
   "pygments_lexer": "ipython3",
   "version": "3.10.11"
  }
 },
 "nbformat": 4,
 "nbformat_minor": 5
}
